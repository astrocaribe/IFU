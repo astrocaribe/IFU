{
 "metadata": {
  "name": "",
  "signature": "sha256:eaf226dd7a811ede1cf8bcf14883a66d3c12372ebbd8ec04d1667d31f2692a02"
 },
 "nbformat": 3,
 "nbformat_minor": 0,
 "worksheets": [
  {
   "cells": [
    {
     "cell_type": "markdown",
     "metadata": {},
     "source": [
      "# 1. Version and Change Log"
     ]
    },
    {
     "cell_type": "markdown",
     "metadata": {},
     "source": [
      "Current Version: 0.2"
     ]
    },
    {
     "cell_type": "markdown",
     "metadata": {},
     "source": [
      "# Change Log\n",
      "------------\n",
      "\n",
      "May 2014\n",
      "========\n",
      "0.1 - Initial verion of routines. Added/tested the following:\n",
      "    * frame_conv()\n",
      "    * wave_conv()\n",
      "    * ifu_add()\n",
      "    * ifu_subtract()\n",
      "    * ifu_multiply()\n",
      "    * ifu_divide()\n",
      "    * ifu_3d_collapse()\n",
      "    * ifu_1d_extract() - Untested\n",
      "\n",
      "June 2014\n",
      "=========\n",
      "0.11 - Combined the basic functions (+, -, *, /) into one function\n",
      "    * Complete and tested\n",
      "    * Needs optimization\n",
      "    \n",
      "06 June 2014\n",
      "============\n",
      "0.2  - Added 3D vs. 1D arithmetic opration to ifu_math()\n",
      "    * updated ifu_math() to support new mode above.\n",
      "    * added Section 6.3.4 to Notebook; test of 3D vs. 1D arithmetic \n",
      "      operation.\n",
      "      \n",
      "10-26 June 2014\n",
      "===============\n",
      "0.21  - Updated ifu_3d_collapse to include sigma clipping\n",
      "        * datacube regions (frames) can now be collapsed using (or omitting)\n",
      "          sigma clipping.\n",
      "        * currently testing sigma clippling functionality\n",
      "        \n",
      "01-09 July 2014\n",
      "===============\n",
      "routines  - Seperated ifu_math() and ifu_3d_collapse() modules into seperate files  \n",
      "        * Fulfils tasks #1 and #2 in routines roadmap; routines now live in scripts folder\n",
      "\n",
      "tests  - Created seperate tests for the above to test independently of development, as well as regression testing.\n",
      "        * Tests now live in tests folder\n",
      "        \n",
      "ifu_3d_collapse() - Continued testing of collapse with clipping option. Not confident of the results; must discuss soon! ** *To what do we change Nans in the data? Surely this will affect sigma clipping calculations?* **\n",
      "        * Note: The Eagle Nebula datacube contains Nans, and must be replaced (currently using numpy.nan_num() to convert Nans to 0.)"
     ]
    },
    {
     "cell_type": "markdown",
     "metadata": {},
     "source": [
      "# 2. Modules"
     ]
    },
    {
     "cell_type": "code",
     "collapsed": false,
     "input": [
      "# Import necessary modules\n",
      "import numpy as np\n",
      "import matplotlib.pyplot as plt\n",
      "import matplotlib.cm as cm\n",
      "from astropy.io import fits\n",
      "from __future__ import print_function"
     ],
     "language": "python",
     "metadata": {},
     "outputs": [
      {
       "output_type": "stream",
       "stream": "stderr",
       "text": [
        "/Users/leblanc/Ureka/python/lib/python2.7/site-packages/Pillow-2.2.1-py2.7-macosx-10.6-x86_64.egg/PIL/_imaging.py:3: UserWarning: Module zmq was already imported from /Users/leblanc/Ureka/python/lib/python2.7/site-packages/zmq/__init__.pyc, but /Users/leblanc/py-lib is being added to sys.path\n"
       ]
      }
     ],
     "prompt_number": 1
    },
    {
     "cell_type": "markdown",
     "metadata": {},
     "source": [
      "# 3. Routines\n",
      "\n",
      "The IFU routines written for this project."
     ]
    },
    {
     "cell_type": "code",
     "collapsed": false,
     "input": [
      "# Add the scripts folder to PYTHONPATH (temporarily) to import into workspace\n",
      "import sys\n",
      "sys.path.append('./scripts/')"
     ],
     "language": "python",
     "metadata": {},
     "outputs": [],
     "prompt_number": 2
    },
    {
     "cell_type": "code",
     "collapsed": false,
     "input": [
      "%cat scripts/ifu_math.py\n",
      "from ifu_math import *"
     ],
     "language": "python",
     "metadata": {},
     "outputs": [
      {
       "output_type": "stream",
       "stream": "stdout",
       "text": [
        "#Global imports\r\n",
        "import numpy as np\r\n",
        "from astropy.io import fits\r\n",
        "\r\n",
        "# Basic ifu math mode\r\n",
        "def ifu_math(array_in, operator, method):\r\n",
        "    \"\"\"\r\n",
        "    Perform basic arithmetic tasks on 3D data using 1D, 2D, or\r\n",
        "    3D data as input.\r\n",
        "    \r\n",
        "    Keyword arguments:\r\n",
        "    array_in  -- The 3D input array.\r\n",
        "    \r\n",
        "    operator  -- The array that is to operate on the input array\r\n",
        "                 (array_in). Can be a scalar, list, image, or\r\n",
        "                 datacube.\r\n",
        "                \r\n",
        "    method    -- Calculation method. Available are add, subtract,\r\n",
        "                 multiply, and divide.\r\n",
        "    \r\n",
        "    \r\n",
        "    Output(s):\r\n",
        "    array_out -- The list, image or cube subtracted output array.\r\n",
        "    \r\n",
        "    Example usage:\r\n",
        "    \r\n",
        "        1. >> ifu_math(cube, 1000., method='subtract')\r\n",
        "        \r\n",
        "        Subtract the scalar value of 1000. from entire cube array.\r\n",
        "        \r\n",
        "        2. >> ifu_math(cube, image, method='subtract')\r\n",
        "        \r\n",
        "        Subtract an image of dimensions [x, y] from a cube array in\r\n",
        "        the wavelength (z) plane. Image dimensions x, y] must match\r\n",
        "        those of the input cube array.\r\n",
        "        \r\n",
        "        3. >> ifu_math(cube1, cube2, method='divide')\r\n",
        "        \r\n",
        "        Divive cube1 array by the contents of cube2 array, value for\r\n",
        "        value. Arrays of both cubes must be identical.\r\n",
        "        \r\n",
        "    \"\"\"    \r\n",
        "    \r\n",
        "    import numpy as np\r\n",
        "    \r\n",
        "    # Check to see if operator is a scalar (int or float); convert to numpy\r\n",
        "    # list to allow shape determination\r\n",
        "    \r\n",
        "    #print()\r\n",
        "    #print(operator, type(operator))\r\n",
        "    #print()\r\n",
        "    \r\n",
        "    if isinstance(operator, np.ndarray):\r\n",
        "        print('(math): The operator dimensions are: {}'.format(np.shape(operator)))\r\n",
        "    else:\r\n",
        "        print('(math): Input operator has been converted to a numpy array.')\r\n",
        "        operator = np.array([operator])\r\n",
        "        print('(math): The operator dimensions are: {}'.format(np.shape(operator)))\r\n",
        "    \r\n",
        "    \r\n",
        "    # Assure that the input array is a cube\r\n",
        "    if array_in.ndim != 3:\r\n",
        "        print('(math): The input array must be a cube (3 dimensions)!')\r\n",
        "        return\r\n",
        "    else:\r\n",
        "        print('(math): Input array has {} dimensions.'.format(array_in.ndim))\r\n",
        "    \r\n",
        "    # ... and check dimensions of input and operator arrays    \r\n",
        "    if operator.ndim == 1 and operator.shape[0] == 1:\r\n",
        "        print('(math): A scalar operation will take place.')\r\n",
        "    elif operator.shape == array_in.shape:\r\n",
        "        print('(math): A 3D/3D operation will take place.')\r\n",
        "    elif operator.ndim == 2 and (operator.shape[0] == array_in.shape[1] and operator.shape[1] == array_in.shape[2]):\r\n",
        "        print('(math): A 3D/2D operation will take place.')\r\n",
        "    elif operator.ndim == 1 and operator.shape[0] > 1:\r\n",
        "        # Create a spectrum 'image' to conduct the basic arithmetic functions\r\n",
        "        print('(math): A 3D/1D operation will take place.')\r\n",
        "        spec_image = np.empty(array_in.shape)\r\n",
        "        for ii in np.arange(array_in.shape[0]):\r\n",
        "            spec_image[ii, :, :] = operator[ii]\r\n",
        "            \r\n",
        "        operator = spec_image\r\n",
        "    else:\r\n",
        "        print('(math): Dimension of input array and operator do not match!')\r\n",
        "    \r\n",
        "    \r\n",
        "    if method == 'add':\r\n",
        "        print('(math): IFU add mode chosen...')\r\n",
        "        array_out = np.add(array_in, operator)            \r\n",
        "    \r\n",
        "    elif method == 'subtract':\r\n",
        "        print('(math): IFU subtract mode chosen...')\r\n",
        "        array_out = np.subtract(array_in, operator)\r\n",
        "    \r\n",
        "    elif method == 'multiply':\r\n",
        "        print('(math): IFU multiply mode chosen...')\r\n",
        "        array_out = np.multiply(array_in, operator)\r\n",
        "    \r\n",
        "    elif method == 'divide':\r\n",
        "        print('(math): IFU divide mode chosen...')\r\n",
        "        array_out = np.divide(array_in, operator)\r\n",
        "        \r\n",
        "    else:\r\n",
        "        print('(math): There has been an input parse error, please check inputs again!')\r\n",
        "        array_out = np.array([])\r\n",
        "    \r\n",
        "    return array_out"
       ]
      }
     ],
     "prompt_number": 3
    },
    {
     "cell_type": "code",
     "collapsed": false,
     "input": [
      "%cat scripts/ifu_3d_collapse.py\n",
      "from ifu_3d_collapse import *"
     ],
     "language": "python",
     "metadata": {},
     "outputs": [
      {
       "output_type": "stream",
       "stream": "stdout",
       "text": [
        "from __future__ import print_function\r\n",
        "import numpy as np\r\n",
        "from astropy.stats.funcs import sigma_clip\r\n",
        "\r\n",
        "import sys\r\n",
        "sys.path.append('./scripts/')\r\n",
        "from ifu_math import *\r\n",
        "\r\n",
        "def arrayCollapse(array_in, method):\r\n",
        "    # Perform an array collapse\r\n",
        "    if method == 'sum':\r\n",
        "        print('(3d_collapse): Sum of extracted slices:')\r\n",
        "        collapsed_array = np.sum(array_in, axis=0)\r\n",
        "            \r\n",
        "    elif method == 'mean':\r\n",
        "        print('(3d_collapse): Mean of extracted slices:')\r\n",
        "        collapsed_array = np.mean(array_in, axis=0)\r\n",
        "    \r\n",
        "    elif method == 'median':\r\n",
        "        print('(3d_collapse): Median of extracted slices:')\r\n",
        "        collapsed_array = np.median(array_in, axis=0)\r\n",
        "        \r\n",
        "    return collapsed_array\r\n",
        "\r\n",
        "def maskedCollapse(array_in, method):\r\n",
        "    import numpy.ma as ma\r\n",
        "    \r\n",
        "    # Perform an array collapse\r\n",
        "    if method == 'sum':\r\n",
        "        print('(3d_collapse): Masked sum of extracted slices:')\r\n",
        "        collapsed_array = ma.sum(array_in, axis=0)\r\n",
        "            \r\n",
        "    elif method == 'mean':\r\n",
        "        print('(3d_collapse): Mean of extracted slices:')\r\n",
        "        collapsed_array = ma.mean(array_in, axis=0)\r\n",
        "    \r\n",
        "    elif method == 'median':\r\n",
        "        print('(3d_collapse): Median of extracted slices:')\r\n",
        "        collapsed_array = ma.extras.median(array_in, axis=0)\r\n",
        "        \r\n",
        "    return collapsed_array.data\r\n",
        "\r\n",
        "\r\n",
        "def ifu_3d_collapse(array_in, sect=[0,0], method='sum', sigma=False):\r\n",
        "    \"\"\"\r\n",
        "    Collapse a slice of a datacube, with a given mode, along the \r\n",
        "    wavelength slice.\r\n",
        "    \r\n",
        "    Keyword arguments:\r\n",
        "    array_in -- The input datacube array.\r\n",
        "    sect     -- The section of the datacube to collapse, in the \r\n",
        "                form of [a, b], where a is the 1st slice boundary,\r\n",
        "                and b is the 2nd + 1 slice boundary.\r\n",
        "    mode     -- The mode of collapse. Available are sum, mean,\r\n",
        "                and median.\r\n",
        "    \"\"\"\r\n",
        "    \r\n",
        "    print('***************** Dev Test *****************')\r\n",
        "    print('(ifu_3d_collapse): Developement test Vr. 0.2')\r\n",
        "    print('***************** Dev Test *****************')\r",
        "\r\n",
        "    \r\n",
        "    # Extract the desired slice...\r\n",
        "    slice_array = array_in[sect[0]:sect[1], :, :]\r\n",
        "        \r\n",
        "    # ... and perform the desired operation, based on input mode.\r\n",
        "    collapsed_array = arrayCollapse(slice_array, method=method)\r\n",
        "    \r\n",
        "    if sigma:\r\n",
        "        ## Subtract the collapsed array from the input datacube\r\n",
        "        #subtracted_array = ifu_math(slice_array, collapsed_array, method='subtract')\r\n",
        "        \r\n",
        "        # Perform sigma-clip on subtracted cube\r\n",
        "        print('(3d_collapse): Clipping data...')\r\n",
        "        clipped = sigma_clip(slice_array, sigma, iters=None, axis=0, copy=True)\r\n",
        "        print()\r\n",
        "        print('(3d_collapse): Array shape:', clipped.shape)\r\n",
        "        \r\n",
        "        \r\n",
        "        #******** INCOMPLETE! CONTINUE HERE! ***********\r\n",
        "        \r\n",
        "        # Compare the clipped sample to determine wether we need to \r\n",
        "        # recalculate the collapse        \r\n",
        "        if np.array_equal(clipped.compressed(), slice_array.flatten()): \r\n",
        "            print('Arrays are exactly the same, no clipping required.')\r\n",
        "        else:\r\n",
        "            # Now that we have the sigma mask, recalculate the collapse...            \r\n",
        "            collapsed_array = maskedCollapse(clipped, method)\r\n",
        "            print(collapsed_array)\r\n",
        "            print('(3d_collapse): Collapsed shape:', collapsed_array.shape)\r\n",
        "            print('(3d_collapse): Original shape:', slice_array.shape)\r\n",
        "\r\n",
        "    \r\n",
        "    print()\r\n",
        "    print('(3d_collapse): Shape of returned array:', collapsed_array.shape)\r\n",
        "    return collapsed_array"
       ]
      }
     ],
     "prompt_number": 4
    },
    {
     "cell_type": "code",
     "collapsed": false,
     "input": [
      "%cat scripts/ifu_utils.py\n",
      "from ifu_utils import *"
     ],
     "language": "python",
     "metadata": {},
     "outputs": [
      {
       "output_type": "stream",
       "stream": "stdout",
       "text": [
        "# Global imports\r\n",
        "import numpy as np\r\n",
        "\r\n",
        "def frame_convert(frame, cals):\r\n",
        "    ''' \r\n",
        "    Convert the frame to a wavelength using a starting value and \r\n",
        "    delta (in microns) specific to the NGC4151_Hband.fits file\r\n",
        "    '''\r\n",
        "    \r\n",
        "    # Calculate the frame conversion\r\n",
        "    wave = (frame - cals[0]) * cals[2] + cals[1]\r\n",
        "    \r\n",
        "    return wave # [format(z, '.3f') for z in wave] #\r\n",
        "\r\n",
        "def wave_convert(wave, cals):\r\n",
        "    '''\r\n",
        "    Convert the wavelength to a frame using a starting value and \r\n",
        "    delta (in microns) specific to the NGC4151_Hband.fits file \r\n",
        "    '''\r\n",
        "    \r\n",
        "    from numpy import round\r\n",
        "    from numpy import int\r\n",
        "\r\n",
        "    # Calculate the wavelength conversion\r\n",
        "    frame = cals[0] + ((wave - cals[1]) / cals[2])\r\n",
        "    \r\n",
        "    frame = np.int(np.round(frame))\r\n",
        "    return frame"
       ]
      }
     ],
     "prompt_number": 5
    },
    {
     "cell_type": "code",
     "collapsed": false,
     "input": [],
     "language": "python",
     "metadata": {},
     "outputs": [],
     "prompt_number": 5
    },
    {
     "cell_type": "code",
     "collapsed": false,
     "input": [],
     "language": "python",
     "metadata": {},
     "outputs": [],
     "prompt_number": 5
    },
    {
     "cell_type": "code",
     "collapsed": false,
     "input": [],
     "language": "python",
     "metadata": {},
     "outputs": [],
     "prompt_number": 5
    },
    {
     "cell_type": "code",
     "collapsed": false,
     "input": [],
     "language": "python",
     "metadata": {},
     "outputs": [],
     "prompt_number": 5
    },
    {
     "cell_type": "markdown",
     "metadata": {},
     "source": [
      "# 4. Frame/Wavelength Conversions\n",
      "\n",
      "Convert between datacube frame and wavelength, based on the CRVAL, CRPIX, and CDELT values from the FITS header."
     ]
    },
    {
     "cell_type": "code",
     "collapsed": false,
     "input": [
      "# Retrieve wavelength transformation values\n",
      "header = fits.getheader('./data/Eagle_final_m96_m93_m83_m65.fits')\n",
      "crpix = header['CRPIX3']\n",
      "crval = header['CRVAL3']\n",
      "cdelt = header['CDELT3']\n",
      "cals = [crpix, crval, cdelt]"
     ],
     "language": "python",
     "metadata": {},
     "outputs": [],
     "prompt_number": 6
    },
    {
     "cell_type": "code",
     "collapsed": false,
     "input": [
      "# Convert a wavelength (in \u00b5m) to a frame (i.e., a datacube slice)\n",
      "print('Frame', wave_convert(.9, cals))"
     ],
     "language": "python",
     "metadata": {},
     "outputs": [
      {
       "output_type": "stream",
       "stream": "stdout",
       "text": [
        "Frame 3501\n"
       ]
      }
     ],
     "prompt_number": 7
    },
    {
     "cell_type": "code",
     "collapsed": false,
     "input": [
      "# Convert a frame to a wavelength (in \u00b5m)\n",
      "\n",
      "#print(frame_convert(np.array([3201]), cals), '\u00b5m')\n",
      "print(frame_convert(3201, cals), '\u00b5m')"
     ],
     "language": "python",
     "metadata": {},
     "outputs": [
      {
       "output_type": "stream",
       "stream": "stdout",
       "text": [
        "0.87 \u00b5m\n"
       ]
      }
     ],
     "prompt_number": 8
    },
    {
     "cell_type": "markdown",
     "metadata": {},
     "source": [
      "# 5. Basic Data Analasis Tasks (+, -, *, / on 1D, 2D, and 3D data)"
     ]
    },
    {
     "cell_type": "markdown",
     "metadata": {},
     "source": [
      "This section will demonstrate some basic tasks that can be performed with ifu_math()."
     ]
    },
    {
     "cell_type": "markdown",
     "metadata": {},
     "source": [
      "### 5.1 Basic Arithmetic\n",
      "\n",
      "First, we generate a cube data array to demonstrate basic arithmetic operations."
     ]
    },
    {
     "cell_type": "code",
     "collapsed": false,
     "input": [
      "# Sample cube array\n",
      "array3D = np.arange(3*3*3).reshape(3, 3, 3)\n",
      "\n",
      "# Verify array\n",
      "print('This is a cube:')\n",
      "print(array3D)"
     ],
     "language": "python",
     "metadata": {},
     "outputs": [
      {
       "output_type": "stream",
       "stream": "stdout",
       "text": [
        "This is a cube:\n",
        "[[[ 0  1  2]\n",
        "  [ 3  4  5]\n",
        "  [ 6  7  8]]\n",
        "\n",
        " [[ 9 10 11]\n",
        "  [12 13 14]\n",
        "  [15 16 17]]\n",
        "\n",
        " [[18 19 20]\n",
        "  [21 22 23]\n",
        "  [24 25 26]]]\n"
       ]
      }
     ],
     "prompt_number": 9
    },
    {
     "cell_type": "markdown",
     "metadata": {},
     "source": [
      "Now, we can do simple arithmetic on an input cube array:\n",
      "\n",
      "i) Add 10 to the entire input array..."
     ]
    },
    {
     "cell_type": "code",
     "collapsed": false,
     "input": [
      "output_array = ifu_math(array3D, 10, method='add')\n",
      "print('Output array shape: ', np.shape(output_array))\n",
      "print()\n",
      "\n",
      "print(output_array)"
     ],
     "language": "python",
     "metadata": {},
     "outputs": [
      {
       "output_type": "stream",
       "stream": "stdout",
       "text": [
        "(math): Input operator has been converted to a numpy array.\n",
        "(math): The operator dimensions are: (1,)\n",
        "(math): Input array has 3 dimensions.\n",
        "(math): A scalar operation will take place.\n",
        "(math): IFU add mode chosen...\n",
        "Output array shape:  (3, 3, 3)\n",
        "\n",
        "[[[10 11 12]\n",
        "  [13 14 15]\n",
        "  [16 17 18]]\n",
        "\n",
        " [[19 20 21]\n",
        "  [22 23 24]\n",
        "  [25 26 27]]\n",
        "\n",
        " [[28 29 30]\n",
        "  [31 32 33]\n",
        "  [34 35 36]]]\n"
       ]
      }
     ],
     "prompt_number": 10
    },
    {
     "cell_type": "markdown",
     "metadata": {},
     "source": [
      "ii) Subtract the central frame of the input array from the entire cube. The resulting central frame should be zero..."
     ]
    },
    {
     "cell_type": "code",
     "collapsed": false,
     "input": [
      "output_array = ifu_math(array3D, array3D[1, :, :], method='subtract')\n",
      "print()\n",
      "\n",
      "print(output_array)"
     ],
     "language": "python",
     "metadata": {},
     "outputs": [
      {
       "output_type": "stream",
       "stream": "stdout",
       "text": [
        "(math): The operator dimensions are: (3, 3)\n",
        "(math): Input array has 3 dimensions.\n",
        "(math): A 3D/2D operation will take place.\n",
        "(math): IFU subtract mode chosen...\n",
        "\n",
        "[[[-9 -9 -9]\n",
        "  [-9 -9 -9]\n",
        "  [-9 -9 -9]]\n",
        "\n",
        " [[ 0  0  0]\n",
        "  [ 0  0  0]\n",
        "  [ 0  0  0]]\n",
        "\n",
        " [[ 9  9  9]\n",
        "  [ 9  9  9]\n",
        "  [ 9  9  9]]]\n"
       ]
      }
     ],
     "prompt_number": 11
    },
    {
     "cell_type": "markdown",
     "metadata": {},
     "source": [
      "iii) Divide the input cube by the last frame of the same cube. The last frame of the resulting cube should be all ones..."
     ]
    },
    {
     "cell_type": "code",
     "collapsed": false,
     "input": [
      "output_array = ifu_math(array3D, array3D[2, :, :], method='divide')\n",
      "print()\n",
      "\n",
      "print(output_array)"
     ],
     "language": "python",
     "metadata": {},
     "outputs": [
      {
       "output_type": "stream",
       "stream": "stdout",
       "text": [
        "(math): The operator dimensions are: (3, 3)\n",
        "(math): Input array has 3 dimensions.\n",
        "(math): A 3D/2D operation will take place.\n",
        "(math): IFU divide mode chosen...\n",
        "\n",
        "[[[0 0 0]\n",
        "  [0 0 0]\n",
        "  [0 0 0]]\n",
        "\n",
        " [[0 0 0]\n",
        "  [0 0 0]\n",
        "  [0 0 0]]\n",
        "\n",
        " [[1 1 1]\n",
        "  [1 1 1]\n",
        "  [1 1 1]]]\n"
       ]
      }
     ],
     "prompt_number": 12
    },
    {
     "cell_type": "markdown",
     "metadata": {},
     "source": [
      "**Note:** The first two frames show zeros, as interger division is taking place."
     ]
    },
    {
     "cell_type": "markdown",
     "metadata": {},
     "source": [
      "### 5.2 Basic Cube Slice Extraction"
     ]
    },
    {
     "cell_type": "code",
     "collapsed": false,
     "input": [
      "# Create a 3*3*10 datacube\n",
      "# np.arange(x) creates a list from 0-x\n",
      "cube = np.arange(3*3*10).reshape(10, 3, 3)\n",
      "\n",
      "# Verify cube\n",
      "print(cube)"
     ],
     "language": "python",
     "metadata": {},
     "outputs": [
      {
       "output_type": "stream",
       "stream": "stdout",
       "text": [
        "[[[ 0  1  2]\n",
        "  [ 3  4  5]\n",
        "  [ 6  7  8]]\n",
        "\n",
        " [[ 9 10 11]\n",
        "  [12 13 14]\n",
        "  [15 16 17]]\n",
        "\n",
        " [[18 19 20]\n",
        "  [21 22 23]\n",
        "  [24 25 26]]\n",
        "\n",
        " [[27 28 29]\n",
        "  [30 31 32]\n",
        "  [33 34 35]]\n",
        "\n",
        " [[36 37 38]\n",
        "  [39 40 41]\n",
        "  [42 43 44]]\n",
        "\n",
        " [[45 46 47]\n",
        "  [48 49 50]\n",
        "  [51 52 53]]\n",
        "\n",
        " [[54 55 56]\n",
        "  [57 58 59]\n",
        "  [60 61 62]]\n",
        "\n",
        " [[63 64 65]\n",
        "  [66 67 68]\n",
        "  [69 70 71]]\n",
        "\n",
        " [[72 73 74]\n",
        "  [75 76 77]\n",
        "  [78 79 80]]\n",
        "\n",
        " [[81 82 83]\n",
        "  [84 85 86]\n",
        "  [87 88 89]]]\n"
       ]
      }
     ],
     "prompt_number": 13
    },
    {
     "cell_type": "code",
     "collapsed": false,
     "input": [
      "# Extract a slice (3 frames) from the original datacube\n",
      "# Note that Python [end] indexing is +1; in example below, [0, 3]\n",
      "# extracts frames 0, 1, and 2.\n",
      "ifu_3d_collapse(cube, sect=[0, 3], method='sum', sigma=False)"
     ],
     "language": "python",
     "metadata": {},
     "outputs": [
      {
       "output_type": "stream",
       "stream": "stdout",
       "text": [
        "***************** Dev Test *****************\n",
        "(ifu_3d_collapse): Developement test Vr. 0.2\n",
        "***************** Dev Test *****************\n",
        "(3d_collapse): Sum of extracted slices:\n",
        "\n",
        "(3d_collapse): Shape of returned array: (3, 3)\n"
       ]
      },
      {
       "metadata": {},
       "output_type": "pyout",
       "prompt_number": 14,
       "text": [
        "array([[27, 30, 33],\n",
        "       [36, 39, 42],\n",
        "       [45, 48, 51]])"
       ]
      }
     ],
     "prompt_number": 14
    },
    {
     "cell_type": "markdown",
     "metadata": {},
     "source": [
      "# 6. Datacube Tests"
     ]
    },
    {
     "cell_type": "code",
     "collapsed": false,
     "input": [
      "# Setup inline plotting\n",
      "%matplotlib inline"
     ],
     "language": "python",
     "metadata": {},
     "outputs": [],
     "prompt_number": 15
    },
    {
     "cell_type": "code",
     "collapsed": false,
     "input": [
      "# Import datacube, and print it's shape (frame, y, x)\n",
      "datacube = fits.getdata('./data/Eagle_final_m96_m93_m83_m65.fits')\n",
      "datacube.shape"
     ],
     "language": "python",
     "metadata": {},
     "outputs": [
      {
       "metadata": {},
       "output_type": "pyout",
       "prompt_number": 16,
       "text": [
        "(6000, 26, 143)"
       ]
      }
     ],
     "prompt_number": 16
    },
    {
     "cell_type": "markdown",
     "metadata": {},
     "source": [
      "## 6.1 Single Cube Slice\n",
      "\n",
      "Display a single slice from the datacube..."
     ]
    },
    {
     "cell_type": "code",
     "collapsed": false,
     "input": [
      "# Test a sample of the input datacube, looking at one frame, 3358 (.8857 \u00b5m)\n",
      "fig, ax = plt.subplots(figsize=(12, 16))\n",
      "data = datacube[3358, :, :]\n",
      "ax.imshow(data, cmap=cm.hot, vmin=-10, vmax=10, interpolation='nearest')\n",
      "ax.set_title('Before np.nan_num')\n",
      "\n",
      "# Convert the Nan values in array to 0\n",
      "data = np.nan_to_num(data)\n",
      "print('Pixel Min/Max: ', data.min(), data.max())\n",
      "\n",
      "# Save both a pdf and fits file of the 2d image\n",
      "fig.savefig('2d_Eagle.pdf')\n",
      "fits.writeto('./data/2d_Eagle.fits', data, clobber=True)"
     ],
     "language": "python",
     "metadata": {},
     "outputs": [
      {
       "output_type": "stream",
       "stream": "stdout",
       "text": [
        "Pixel Min/Max:  -217.493 1489.22\n",
        "WARNING"
       ]
      },
      {
       "output_type": "stream",
       "stream": "stdout",
       "text": [
        ": Overwriting existing file './data/2d_Eagle.fits'. [astropy.io.fits.file]\n"
       ]
      },
      {
       "metadata": {},
       "output_type": "display_data",
       "png": "[encoded data removed]",
       "text": [
        "<matplotlib.figure.Figure at 0x10dae7c10>"
       ]
      }
     ],
     "prompt_number": 17
    },
    {
     "cell_type": "code",
     "collapsed": false,
     "input": [
      "# Test a sample of the input datacube, looking at one frame, 3358 (.8857 \u00b5m)\n",
      "fig, ax = plt.subplots(figsize=(12, 16))\n",
      "ax.imshow(data, cmap=cm.hot, vmin=-10, vmax=10, interpolation='nearest')\n",
      "ax.set_title('After np.nan_num')"
     ],
     "language": "python",
     "metadata": {},
     "outputs": [
      {
       "metadata": {},
       "output_type": "pyout",
       "prompt_number": 18,
       "text": [
        "<matplotlib.text.Text at 0x10de5e7d0>"
       ]
      },
      {
       "metadata": {},
       "output_type": "display_data",
       "png": "[encoded data removed]",
       "text": [
        "<matplotlib.figure.Figure at 0x10dae51d0>"
       ]
      }
     ],
     "prompt_number": 18
    },
    {
     "cell_type": "markdown",
     "metadata": {},
     "source": [
      "## 6.2 Collpased Slice\n",
      "\n",
      "Display a collapsed slice, given an input mode (median and mean), using the same image display limits in 5.1 (vmin=-10, vmax=10)...  \n",
      "Let's see if there are any differences without and with sigma clipping...  \n",
      "By setting the 'sigma' keyword to 0 or False, no sigma clipping will be applied."
     ]
    },
    {
     "cell_type": "markdown",
     "metadata": {},
     "source": [
      "### 6.2.1 Median (w/ and w/o sigma clipping)"
     ]
    },
    {
     "cell_type": "code",
     "collapsed": false,
     "input": [
      "# Display the median of the selected slice...\n",
      "fig, (ax1, ax2) = plt.subplots(2, 1, figsize=(12, 6))\n",
      "\n",
      "# Remove Nans from data before processing...\n",
      "data = np.nan_to_num(datacube)\n",
      "\n",
      "collapsed_cube = ifu_3d_collapse(data, sect=[3341, 3371], method='median')\n",
      "ax1.imshow(collapsed_cube, cmap=cm.hot, vmin=-10, vmax=10, interpolation='nearest')\n",
      "ax1.set_title('Median, no sigma clipping')\n",
      "print('Min/max: ', collapsed_cube.min(), collapsed_cube.max())\n",
      "print()\n",
      "\n",
      "collapsed_cube = ifu_3d_collapse(data, sect=[3341, 3371], method='median', sigma=10)\n",
      "ax2.imshow(collapsed_cube, cmap=cm.hot, vmin=-10, vmax=10, interpolation='nearest')\n",
      "ax2.set_title('Median, sigma clipping')\n",
      "print('Min/max: ', collapsed_cube.min(), collapsed_cube.max())\n",
      "print()"
     ],
     "language": "python",
     "metadata": {},
     "outputs": [
      {
       "output_type": "stream",
       "stream": "stdout",
       "text": [
        "***************** Dev Test *****************\n",
        "(ifu_3d_collapse): Developement test Vr. 0.2\n",
        "***************** Dev Test *****************\n",
        "(3d_collapse): Median of extracted slices:\n",
        "\n",
        "(3d_collapse): Shape of returned array: (26, 143)\n",
        "Min/max:  -16.1032 8.12896\n",
        "\n",
        "***************** Dev Test *****************\n",
        "(ifu_3d_collapse): Developement test Vr. 0.2\n",
        "***************** Dev Test *****************\n",
        "(3d_collapse): Median of extracted slices:\n",
        "(3d_collapse): Clipping data...\n",
        "\n",
        "(3d_collapse): Array shape: (30, 26, 143)\n",
        "Arrays are exactly the same, no clipping required."
       ]
      },
      {
       "output_type": "stream",
       "stream": "stdout",
       "text": [
        "\n",
        "\n",
        "(3d_collapse): Shape of returned array: (26, 143)\n",
        "Min/max:  -16.1032 8.12896\n",
        "\n"
       ]
      },
      {
       "metadata": {},
       "output_type": "display_data",
       "png": "[encoded data removed]",
       "text": [
        "<matplotlib.figure.Figure at 0x11f3a2590>"
       ]
      }
     ],
     "prompt_number": 35
    },
    {
     "cell_type": "code",
     "collapsed": false,
     "input": [],
     "language": "python",
     "metadata": {},
     "outputs": []
    },
    {
     "cell_type": "markdown",
     "metadata": {},
     "source": [
      "### 6.2.2 Mean (w/ and w/o sigma clipping)"
     ]
    },
    {
     "cell_type": "code",
     "collapsed": false,
     "input": [
      "# Display the median of the selected slice...\n",
      "fig, (ax1, ax2) = plt.subplots(2, 1, figsize=(12, 6))\n",
      "\n",
      "# Remove Nans from data before processing...\n",
      "data = np.nan_to_num(datacube)\n",
      "\n",
      "# No clipping...\n",
      "collapsed_cube = ifu_3d_collapse(data, sect=[3341, 3371], method='mean')\n",
      "ax1.imshow(collapsed_cube, cmap=cm.hot, vmin=-10, vmax=10, interpolation='nearest')\n",
      "ax1.set_title('Mean, no sigma clipping')\n",
      "print('Min/max: ', collapsed_cube.min(), collapsed_cube.max())\n",
      "print()\n",
      "\n",
      "\n",
      "# Clipped...\n",
      "collapsed_cube = ifu_3d_collapse(data, sect=[3341, 3371], method='mean', sigma=1.9)\n",
      "ax2.imshow(collapsed_cube, cmap=cm.hot, vmin=-10, vmax=10, interpolation='nearest')\n",
      "ax2.set_title('Mean, sigma clipping')\n",
      "print('Min/max: ', collapsed_cube.min(), collapsed_cube.max())\n",
      "print()"
     ],
     "language": "python",
     "metadata": {},
     "outputs": [
      {
       "output_type": "stream",
       "stream": "stdout",
       "text": [
        "***************** Dev Test *****************\n",
        "(ifu_3d_collapse): Developement test Vr. 0.2\n",
        "***************** Dev Test *****************\n",
        "(3d_collapse): Mean of extracted slices:\n",
        "\n",
        "(3d_collapse): Shape of returned array: (26, 143)\n",
        "Min/max:  -65.3671 487.911\n",
        "\n",
        "***************** Dev Test *****************\n",
        "(ifu_3d_collapse): Developement test Vr. 0.2\n",
        "***************** Dev Test *****************\n",
        "(3d_collapse): Mean of extracted slices:\n",
        "(3d_collapse): Clipping data...\n",
        "\n"
       ]
      },
      {
       "output_type": "stream",
       "stream": "stdout",
       "text": [
        "(3d_collapse): Array shape: (30, 26, 143)\n",
        "(3d_collapse): Mean of extracted slices:\n",
        "[[  0.00000000e+00   0.00000000e+00   0.00000000e+00 ...,   0.00000000e+00\n",
        "    0.00000000e+00   0.00000000e+00]\n",
        " [  3.10267685e-16  -1.65673583e+00  -7.17500246e-01 ...,   2.03825302e+00\n",
        "    0.00000000e+00   0.00000000e+00]\n",
        " [ -6.96958517e-15   1.49264746e+00   1.38440644e+00 ...,   1.33617099e+00\n",
        "    0.00000000e+00   0.00000000e+00]\n",
        " ..., \n",
        " [  0.00000000e+00   0.00000000e+00   0.00000000e+00 ...,   1.77258722e+00\n",
        "    2.29775837e+00  -2.12240248e+00]\n",
        " [  0.00000000e+00   0.00000000e+00   0.00000000e+00 ...,  -4.49300043e+00\n",
        "   -1.57679419e-01   2.34159537e+00]\n",
        " [  0.00000000e+00   0.00000000e+00   0.00000000e+00 ...,   0.00000000e+00\n",
        "    0.00000000e+00   0.00000000e+00]]\n",
        "(3d_collapse): Collapsed shape: (26, 143)\n",
        "(3d_collapse): Original shape: (30, 26, 143)\n",
        "\n",
        "(3d_collapse): Shape of returned array: (26, 143)\n",
        "Min/max:  -12.7364428711 8.51917230515\n",
        "\n"
       ]
      },
      {
       "metadata": {},
       "output_type": "display_data",
       "png": "[encoded data removed]",
       "text": [
        "<matplotlib.figure.Figure at 0x11ef8e410>"
       ]
      }
     ],
     "prompt_number": 30
    },
    {
     "cell_type": "markdown",
     "metadata": {},
     "source": [
      "### 6.2.3 Sum (w/ and w/o sigma clipping)"
     ]
    },
    {
     "cell_type": "code",
     "collapsed": false,
     "input": [
      "# Display the median of the selected slice...\n",
      "fig, (ax1, ax2) = plt.subplots(2, 1, figsize=(12, 6))\n",
      "\n",
      "# Remove Nans from data before processing...\n",
      "data = np.nan_to_num(datacube)\n",
      "\n",
      "collapsed_cube = ifu_3d_collapse(data, sect=[3341, 3371], method='sum')\n",
      "ax1.imshow(collapsed_cube/100., cmap=cm.hot, vmin=-10, vmax=10, interpolation='nearest')\n",
      "ax1.set_title('Sum, no sigma clipping')\n",
      "print('Min/max: ', collapsed_cube.min(), collapsed_cube.max())\n",
      "print()\n",
      "\n",
      "collapsed_cube = ifu_3d_collapse(data, sect=[3341, 3371], method='sum', sigma=2.)\n",
      "ax2.imshow(collapsed_cube/1000., cmap=cm.hot, vmin=-10, vmax=10, interpolation='nearest')\n",
      "ax2.set_title('Sum, sigma clipping')\n",
      "print('Min/max: ', collapsed_cube.min(), collapsed_cube.max())\n",
      "print()"
     ],
     "language": "python",
     "metadata": {},
     "outputs": [
      {
       "output_type": "stream",
       "stream": "stdout",
       "text": [
        "***************** Dev Test *****************\n",
        "(ifu_3d_collapse): Developement test Vr. 0.2\n",
        "***************** Dev Test *****************\n",
        "(3d_collapse): Sum of extracted slices:\n",
        "\n",
        "(3d_collapse): Shape of returned array: (26, 143)\n",
        "Min/max:  -1961.01 14637.3\n",
        "\n",
        "***************** Dev Test *****************\n",
        "(ifu_3d_collapse): Developement test Vr. 0.2\n",
        "***************** Dev Test *****************\n",
        "(3d_collapse): Sum of extracted slices:\n",
        "(3d_collapse): Clipping data...\n",
        "\n"
       ]
      },
      {
       "output_type": "stream",
       "stream": "stdout",
       "text": [
        "(3d_collapse): Array shape: (30, 26, 143)\n",
        "(3d_collapse): Masked sum of extracted slices:\n",
        "[[  0.00000000e+00   0.00000000e+00   0.00000000e+00 ...,   0.00000000e+00\n",
        "    0.00000000e+00   0.00000000e+00]\n",
        " [  1.10467191e-14  -1.62867700e+03  -1.58478422e+01 ...,   5.09563255e+01\n",
        "    0.00000000e+00   0.00000000e+00]\n",
        " [ -1.11563536e-13   4.18185883e+01  -4.75114727e+00 ...,   3.20681038e+01\n",
        "    0.00000000e+00   0.00000000e+00]\n",
        " ..., \n",
        " [  0.00000000e+00   0.00000000e+00   0.00000000e+00 ...,   5.14050293e+01\n",
        "    6.43372345e+01  -5.51824646e+01]\n",
        " [  0.00000000e+00   0.00000000e+00   0.00000000e+00 ...,  -1.30297012e+02\n",
        "   -1.01144199e+01   5.37601700e+01]\n",
        " [  0.00000000e+00   0.00000000e+00   0.00000000e+00 ...,   0.00000000e+00\n",
        "    0.00000000e+00   0.00000000e+00]]\n",
        "(3d_collapse): Collapsed shape: (26, 143)\n",
        "(3d_collapse): Original shape: (30, 26, 143)\n",
        "\n",
        "(3d_collapse): Shape of returned array: (26, 143)\n",
        "Min/max:  -1628.68 214.363\n",
        "\n"
       ]
      },
      {
       "metadata": {},
       "output_type": "display_data",
       "png": "[encoded data removed]",
       "text": [
        "<matplotlib.figure.Figure at 0x11f390210>"
       ]
      }
     ],
     "prompt_number": 31
    },
    {
     "cell_type": "code",
     "collapsed": false,
     "input": [],
     "language": "python",
     "metadata": {},
     "outputs": []
    },
    {
     "cell_type": "markdown",
     "metadata": {},
     "source": [
      "## 6.3 Combined IFU Basic Arithmetic Function\n",
      "---------------------------------------------\n",
      "\n",
      "It was suggested that the above basic arithmetic functions (add, subtract, multiply, divide)\n",
      "be combined into one function for easier use. There was also clarification (and a slight \n",
      "expansion) of the capabilities of this function. Below are the modes that can currently be \n",
      "performed with the combined math function on an input datacube, ifu_math():\n",
      "\n",
      "* The following basic arithmetic functions on an input datacube array:\n",
      "    * Add\n",
      "    * Subtract\n",
      "    * Multiply\n",
      "    * Divide\n",
      "\n",
      "\n",
      "* Supported input and functionality of above modes:\n",
      "    1. A **scalar** operator. The operation is computed on all the elements of the datacube array.\n",
      "    2. An **image** operator. The operation is computed on the elements of the datacube array \n",
      "        **in the z-plane**, assuming that the (x, y) dimensions of both the datacube and image \n",
      "        arrays are equal.\n",
      "    3. A **cube** operator. The operator is computed on all the elements of the datacube array, \n",
      "        element for element, assuming that **the dimensions of both the input datacube and the \n",
      "        operator cube arrays are equal**.\n",
      "        \n",
      "Below are examples of each of the supported modes:"
     ]
    },
    {
     "cell_type": "code",
     "collapsed": false,
     "input": [
      "# Read in an image and 2 datacubes for examples\n",
      "image_file = './data/2d_Eagle.fits'\n",
      "cube_file = './data/Eagle_final_m96_m93_m83_m65.fits'\n",
      "\n",
      "# Display basic information about above arrays\n",
      "print(fits.info(image_file))\n",
      "print()\n",
      "print(fits.info(cube_file))\n",
      "\n",
      "# Store arrays in seperate variables\n",
      "image = fits.getdata(image_file)\n",
      "cube = fits.getdata(cube_file)"
     ],
     "language": "python",
     "metadata": {},
     "outputs": []
    },
    {
     "cell_type": "markdown",
     "metadata": {},
     "source": [
      "### 6.3.1 Scalar Arithmetic\n",
      "Perform scalar arithmetic on an input datacube array. For this example, normalize the input datacube by the maximum value of said datacube..."
     ]
    },
    {
     "cell_type": "code",
     "collapsed": false,
     "input": [
      "# Datacube array min/max values\n",
      "cube = np.nan_to_num(cube)\n",
      "print('Datacube min/max: {}, {}'.format(cube.min(), cube.max()))\n",
      "\n",
      "# Normalize input cube to the maximum value of the entire cube\n",
      "output_array = ifu_math(cube, cube.max(), method='divide')\n",
      "\n",
      "print()\n",
      "print('Output array min/max:')\n",
      "print(output_array[3358, :, :].min(), output_array[3358, :, :].max())"
     ],
     "language": "python",
     "metadata": {},
     "outputs": []
    },
    {
     "cell_type": "code",
     "collapsed": false,
     "input": [
      "# Original and output datacubes at frame 3358\n",
      "fig, (ax1, ax2) = plt.subplots(2, 1, figsize=(12, 6))\n",
      "\n",
      "ax1.imshow(cube[3358, :, :], cmap=cm.hot, vmin=-10, vmax=10, interpolation='nearest')\n",
      "ax1.set_title('Before normalization. Limits [-10, 10] Frame: 3358')\n",
      "\n",
      "ax2.imshow(output_array[3358, :, :], cmap=cm.hot, vmin=-0.001, vmax=0.005, interpolation='nearest')\n",
      "ax2.set_title('After normalization. Limits [-0.001, 0.005] Frame: 3358')"
     ],
     "language": "python",
     "metadata": {},
     "outputs": []
    },
    {
     "cell_type": "markdown",
     "metadata": {},
     "source": [
      "### 6.3.2 3D vs. 2D Arithmetic\n",
      "Perform a 3D/2D operation (datacube vs. image). In this example, subtract an image (frme 3358 from datacube) \n",
      "from every frame of an input datacube. Planar dimensions (x, y) **MUST** be the same for both the datacube \n",
      "and image... "
     ]
    },
    {
     "cell_type": "code",
     "collapsed": false,
     "input": [
      "# Read in an image and 2 datacubes for examples\n",
      "image_file = './data/2d_Eagle.fits'\n",
      "cube_file = './data/Eagle_final_m96_m93_m83_m65.fits'\n",
      "\n",
      "# Display basic information about above arrays\n",
      "print(fits.info(image_file))\n",
      "print()\n",
      "print(fits.info(cube_file))\n",
      "\n",
      "# Store arrays in seperate variables\n",
      "image = fits.getdata(image_file)\n",
      "cube = fits.getdata(cube_file)"
     ],
     "language": "python",
     "metadata": {},
     "outputs": []
    },
    {
     "cell_type": "markdown",
     "metadata": {},
     "source": [
      "Subtracting the image (frame 3358 of the input datacube) from the datacube should result in \n",
      "a zeroed array at frame 3358 of the resulting datacube. Let's check... "
     ]
    },
    {
     "cell_type": "code",
     "collapsed": false,
     "input": [
      "# Datacube array min/max values\n",
      "cube = np.nan_to_num(cube)\n",
      "print('Datacube min/max: {}, {}'.format(cube.min(), cube.max()))\n",
      "\n",
      "# Normalize input cube to the maximum value of the entire cube\n",
      "output_array = ifu_math(cube, image, method='subtract')\n",
      "\n",
      "print()\n",
      "print('Output array min/max:')\n",
      "print(output_array[3358, :, :].min(), output_array[3358, :, :].max())"
     ],
     "language": "python",
     "metadata": {},
     "outputs": []
    },
    {
     "cell_type": "markdown",
     "metadata": {},
     "source": [
      "So far so good... Let's display the before/after as before..."
     ]
    },
    {
     "cell_type": "code",
     "collapsed": false,
     "input": [
      "# Original and output datacubes at frame 3358\n",
      "fig, (ax1, ax2) = plt.subplots(2, 1, figsize=(12, 6))\n",
      "\n",
      "ax1.imshow(cube[3358, :, :], cmap=cm.hot, vmin=-10, vmax=10, interpolation='nearest')\n",
      "ax1.set_title('Before subtraction. Limits [-10, 10] Frame: 3358')\n",
      "\n",
      "ax2.imshow(output_array[3358, :, :], cmap=cm.hot, vmin=-10, vmax=10, interpolation='nearest')\n",
      "ax2.set_title('After subtraction. Limits [-10, 10] Frame: 3358')"
     ],
     "language": "python",
     "metadata": {},
     "outputs": []
    },
    {
     "cell_type": "markdown",
     "metadata": {},
     "source": [
      "That worked! Now let's try another random frame to see if the subtraction really worked..."
     ]
    },
    {
     "cell_type": "code",
     "collapsed": false,
     "input": [
      "# Output datacube array at frame 3000\n",
      "fig, ax = plt.subplots(figsize=(12, 3))\n",
      "\n",
      "ax.imshow(output_array[3000, :, :], cmap=cm.hot, vmin=-10, vmax=10, interpolation='nearest')\n",
      "ax.set_title('After subtraction. Limits [-10, 10] Frame: 3000')"
     ],
     "language": "python",
     "metadata": {},
     "outputs": []
    },
    {
     "cell_type": "markdown",
     "metadata": {},
     "source": [
      "That seems to have worked as well! The orange regions (e.g., top-left, bottom-right) are zeroed out due to \n",
      "the Nans here replaced by zeroes."
     ]
    },
    {
     "cell_type": "code",
     "collapsed": false,
     "input": [],
     "language": "python",
     "metadata": {},
     "outputs": []
    },
    {
     "cell_type": "markdown",
     "metadata": {},
     "source": [
      "### 6.3.3 3D vs. 3D Arithmetic\n",
      "Perform a 3D/3D operation (datacube vs. datacube). In this example, multiply an input datacube \n",
      "by a mask datacube. Dimensions for both datacubes (array_input and operator) **MUST** be the same..."
     ]
    },
    {
     "cell_type": "code",
     "collapsed": false,
     "input": [
      "# Read in datacube\n",
      "cube_file = './data/Eagle_final_m96_m93_m83_m65.fits'\n",
      "print(fits.info(cube_file))\n",
      "cube = fits.getdata(cube_file)\n",
      "\n",
      "# Create a mask datacube as the input operator\n",
      "mask_array = np.ones(6000*26*143).reshape(6000, 26, 143)\n",
      "print()\n",
      "print('Mask array dimensions:')\n",
      "print(mask_array.shape)\n",
      "\n",
      "# Generate a mask image every 4 frames\n",
      "x = np.arange(mask_array.shape[1])\n",
      "mask_array[::3, :, 65:75] = 0\n",
      "mask_array[::3, 10:15, :] = 0"
     ],
     "language": "python",
     "metadata": {},
     "outputs": []
    },
    {
     "cell_type": "code",
     "collapsed": false,
     "input": [
      "# Output mask array at frame 3358 and 3360 as a sample\n",
      "fig, (ax1, ax2) = plt.subplots(2, 1, figsize=(12, 6))\n",
      "\n",
      "ax1.imshow(mask_array[3358, :, :], cmap=cm.hot, vmin=-1, vmax=1, interpolation='nearest')\n",
      "ax1.set_title('Mask image at frame 3558')\n",
      "\n",
      "ax2.imshow(mask_array[3360, :, :], cmap=cm.hot, vmin=-1, vmax=1, interpolation='nearest')\n",
      "ax2.set_title('Mask image at frame 3360')"
     ],
     "language": "python",
     "metadata": {},
     "outputs": []
    },
    {
     "cell_type": "code",
     "collapsed": false,
     "input": [
      "# Multiply the cube by the mask...\n",
      "output_array = ifu_math(cube, mask_array, method='multiply')\n",
      "\n",
      "# Display the same two frames of the output array...\n",
      "fig, (ax1, ax2) = plt.subplots(2, 1, figsize=(12, 6))\n",
      "\n",
      "ax1.imshow(output_array[3358, :, :], cmap=cm.hot, vmin=-10, vmax=10, interpolation='nearest')\n",
      "ax1.set_title('Mask image at frame 3558')\n",
      "\n",
      "ax2.imshow(output_array[3360, :, :], cmap=cm.hot, vmin=-10, vmax=10, interpolation='nearest')\n",
      "ax2.set_title('Mask image at frame 3360')"
     ],
     "language": "python",
     "metadata": {},
     "outputs": []
    },
    {
     "cell_type": "markdown",
     "metadata": {},
     "source": [
      "### 6.3.4 3D vs. 1D Arithmetic\n",
      "Perform a 3D/1D operation (datacube vs. 1D array, e.g., a spectrum). In this example, subtract an \n",
      "input spectrum from a datacube for each wavelength frame. Dimension of the input spectrum **MUST** \n",
      "match the wavelength solution dimension (z-space).\n",
      "\n",
      "*Note:* This will function as a 3D vs. 3D arithmetic operation; the input spectrum is converted \n",
      "into a datacube of equal dimensions as the input datacube, with each frame having the value of \n",
      "its corresponding wavelength flux value."
     ]
    },
    {
     "cell_type": "code",
     "collapsed": false,
     "input": [
      "# Read in datacube, and replace Nans w/ 0\n",
      "cube_file = './data/Eagle_final_m96_m93_m83_m65.fits'\n",
      "print(fits.info(cube_file))\n",
      "print()\n",
      "cube = fits.getdata(cube_file)\n",
      "cube = np.nan_to_num(cube)\n",
      "print('Cube min/max: ({}, {})'.format(cube.min(), cube.max()))\n",
      "\n",
      "# Extract a spectrum from the source near the center of cube\n",
      "# (in z-space), for ONE pixel (or spaxel)\n",
      "spectrum = cube[:, 9, 75]\n",
      "print('Spectrum min/max: ({}, {})'.format(spectrum.min(), spectrum.max()))\n",
      "\n",
      "# Display spectrum\n",
      "fig, (ax1, ax2) = plt.subplots(2, 1, figsize=(12, 6))\n",
      "\n",
      "# Entire spectrum...\n",
      "ax1.plot(spectrum)\n",
      "ax1.set_title('Entire spectrum')\n",
      "\n",
      "# ...and zoomed in around frame 3358, for example\n",
      "ax2.plot(spectrum)\n",
      "ax2.set_xlim(3341, 3371)\n",
      "ax2.set_ylim(-10, 30)\n",
      "ax2.set_title('Spectrum Range Frames: 3341-3371')"
     ],
     "language": "python",
     "metadata": {},
     "outputs": []
    },
    {
     "cell_type": "code",
     "collapsed": false,
     "input": [
      "# Subtract the spectrum from the cube, i.e., subtract every spectral value from\n",
      "# every frame in the cube.\n",
      "output_array = ifu_math(cube, spectrum, method='subtract')\n",
      "\n",
      "# Display a few frames of the output_array...\n",
      "fig, (ax1, ax2, ax3) = plt.subplots(3, 1, figsize=(12, 9))\n",
      "\n",
      "ax1.imshow(output_array[3358, :, :], cmap=cm.hot, vmin=-10, vmax=10, interpolation='nearest')\n",
      "ax1.set_title('Spectrum Subtracted, Frame: 3358')\n",
      "\n",
      "ax2.imshow(output_array[1000, :, :], cmap=cm.hot, vmin=-10, vmax=10, interpolation='nearest')\n",
      "ax2.set_title('Spectrum Subtracted, Frame: 1000')\n",
      "\n",
      "ax3.imshow(output_array[5000, :, :], cmap=cm.hot, vmin=-10, vmax=10, interpolation='nearest')\n",
      "ax3.set_title('Spectrum Subtracted, Frame: 5000')"
     ],
     "language": "python",
     "metadata": {},
     "outputs": []
    },
    {
     "cell_type": "markdown",
     "metadata": {},
     "source": [
      "No crashes, and the results look credible! Let's compare with the original datacube for each frame..."
     ]
    },
    {
     "cell_type": "code",
     "collapsed": false,
     "input": [
      "# Display a few frames of the original datacube...\n",
      "fig, (ax1, ax2, ax3) = plt.subplots(3, 1, figsize=(12, 9))\n",
      "\n",
      "ax1.imshow(cube[3358, :, :], cmap=cm.hot, vmin=-10, vmax=10, interpolation='nearest')\n",
      "ax1.set_title('Original Datacube, Frame: 3358')\n",
      "\n",
      "ax2.imshow(cube[1000, :, :], cmap=cm.hot, vmin=-10, vmax=10, interpolation='nearest')\n",
      "ax2.set_title('Original Datacube, Frame: 1000')\n",
      "\n",
      "ax3.imshow(cube[5000, :, :], cmap=cm.hot, vmin=-10, vmax=10, interpolation='nearest')\n",
      "ax3.set_title('Original Datacube, Frame: 5000')"
     ],
     "language": "python",
     "metadata": {},
     "outputs": []
    },
    {
     "cell_type": "code",
     "collapsed": false,
     "input": [],
     "language": "python",
     "metadata": {},
     "outputs": []
    },
    {
     "cell_type": "markdown",
     "metadata": {},
     "source": [
      "7. Sigma Clip Test\n",
      "==================\n",
      "\n",
      "This section is to test the sigma clipping functionality of ifu_3d_collapse() function."
     ]
    },
    {
     "cell_type": "code",
     "collapsed": false,
     "input": [
      "# Setup inline plotting environment\n",
      "%matplotlib inline"
     ],
     "language": "python",
     "metadata": {},
     "outputs": [],
     "prompt_number": 1
    },
    {
     "cell_type": "code",
     "collapsed": false,
     "input": [
      "# Import global modules\n",
      "import numpy as np\n",
      "from astropy.stats.funcs import sigma_clip\n",
      "import matplotlib.pyplot as plt\n",
      "import matplotlib.cm as cm\n",
      "from __future__ import print_function"
     ],
     "language": "python",
     "metadata": {},
     "outputs": [],
     "prompt_number": 2
    },
    {
     "cell_type": "markdown",
     "metadata": {},
     "source": [
      "### 7.1 Generate sample"
     ]
    },
    {
     "cell_type": "code",
     "collapsed": false,
     "input": [
      "# Generate an image (2D) of random numbers given mu, sigma\n",
      "mu, sigma = 0, 15\n",
      "image = np.random.normal(loc=mu, scale=sigma, size=(20, 20))\n",
      "\n",
      "# Display the image w/ a colorbar\n",
      "sample = image\n",
      "fig, (ax, a_hist) = plt.subplots(1, 2, figsize=(18, 6))\n",
      "cax = ax.imshow(sample, cmap=cm.hot, interpolation='nearest')\n",
      "ax.set_xlabel('x')\n",
      "ax.set_ylabel('y')\n",
      "ax.set_title('$\\mu$={}, $\\sigma$={}, sample={}'.format(mu, sigma, image.size))\n",
      "fig.colorbar(cax, ax=ax)\n",
      "\n",
      "# Retrieve image plotting limits for later use\n",
      "im_min, im_max = cax.get_clim()\n",
      "\n",
      "\n",
      "# Set the number of bins based on binsize\n",
      "sample_min, sample_max = np.min(sample), np.max(sample)\n",
      "binsize = 1\n",
      "num_bins = np.int(np.floor((sample_max - sample_min) / binsize))\n",
      "\n",
      "print('{} bins needed based on input binsize of {}.'.format(num_bins, binsize))\n",
      "print('Sample min/max: [{} / {}]'.format(sample_min, sample_max))\n",
      "\n",
      "# Plot a histogram of the sample\n",
      "n, bins, patches = a_hist.hist(sample.flatten(), num_bins, lw=2., color='green')\n",
      "a_hist.set_xlabel('Sample')\n",
      "a_hist.set_ylabel('Frequency')\n",
      "a_hist.set_title('Full Sample')\n",
      "\n",
      "# Get histogram limits to include below\n",
      "hist_lim = a_hist.get_xlim()"
     ],
     "language": "python",
     "metadata": {},
     "outputs": [
      {
       "output_type": "stream",
       "stream": "stdout",
       "text": [
        "88 bins needed based on input binsize of 1.\n",
        "Sample min/max: [-45.747549692 / 43.2178876365]\n"
       ]
      },
      {
       "metadata": {},
       "output_type": "display_data",
       "png": "[encoded data removed]",
       "text": [
        "<matplotlib.figure.Figure at 0x10a70c850>"
       ]
      }
     ],
     "prompt_number": 3
    },
    {
     "cell_type": "markdown",
     "metadata": {},
     "source": [
      "### 7.2 Apply Sigma Clipping"
     ]
    },
    {
     "cell_type": "code",
     "collapsed": false,
     "input": [
      "# Perform a sigma clip, given a sigma limit. > 3 should return the same array\n",
      "clipped_sample = sigma_clip(sample, sig=1, iters=None, copy=True)\n",
      "\n",
      "# Display clipped sample image\n",
      "fig, (ax1, ax2) = plt.subplots(1, 2, figsize=(18, 9))\n",
      "cax1 = ax1.imshow(sample, cmap=cm.hot, interpolation='nearest')\n",
      "ax1.set_title('Original Sample')\n",
      "fig.colorbar(cax1, ax=ax1, shrink=0.73)\n",
      "\n",
      "cax2 = ax2.imshow(clipped_sample, cmap=cm.hot, interpolation='nearest', vmin=im_min, vmax=im_max)\n",
      "ax2.set_title('Sigma Clipped Sample')\n",
      "fig.colorbar(cax2, ax=ax2, shrink=0.73)\n",
      "\n",
      "# Generate a new array without the clipped values...\n",
      "clipped_array = clipped_sample.compressed()\n",
      "        \n",
      "# Check for sample/clipped sample parity...\n",
      "if np.array_equal(sample.flatten(), clipped_array): \n",
      "    print('Arrays are exactly the same, no clipping occured!')\n",
      "else:\n",
      "    print('Clipping occured.')"
     ],
     "language": "python",
     "metadata": {},
     "outputs": [
      {
       "output_type": "stream",
       "stream": "stdout",
       "text": [
        "Clipping occured.\n"
       ]
      },
      {
       "metadata": {},
       "output_type": "display_data",
       "png": "[encoded data removed]",
       "text": [
        "<matplotlib.figure.Figure at 0x10a720050>"
       ]
      }
     ],
     "prompt_number": 4
    },
    {
     "cell_type": "markdown",
     "metadata": {},
     "source": [
      "### 7.3 Display Clipped Image/Histogram"
     ]
    },
    {
     "cell_type": "code",
     "collapsed": false,
     "input": [
      "# Display the clipped image w/ a colorbar\n",
      "fig, (ax, a_hist) = plt.subplots(1, 2, figsize=(18, 6))\n",
      "cax = ax.imshow(clipped_sample.filled(fill_value=np.nan), cmap=cm.hot, interpolation='nearest', \n",
      "                vmin=im_min, vmax=im_max)\n",
      "ax.set_xlabel('x')\n",
      "ax.set_ylabel('y')\n",
      "ax.set_title('$\\mu$={}, $\\sigma$={}, sample={}'.format(mu, sigma, clipped_array.size))\n",
      "fig.colorbar(cax, ax=ax)\n",
      "\n",
      "# Set the number of bins based on binsize\n",
      "sample_min, sample_max = np.min(clipped_array), np.max(clipped_array)\n",
      "binsize = binsize\n",
      "num_bins = np.int(np.floor((sample_max - sample_min) / binsize))\n",
      "\n",
      "print('{} bins needed based on input binsize of {}.'.format(num_bins, binsize))\n",
      "print('Sample min/max: [{} / {}]'.format(sample_min, sample_max))\n",
      "\n",
      "# Plot a histogram of the sample\n",
      "n, bins, patches = a_hist.hist(clipped_array, num_bins, lw=2., color='cyan')\n",
      "a_hist.set_xlim(hist_lim)\n",
      "a_hist.set_xlabel('Sample')\n",
      "a_hist.set_ylabel('Frequency')\n",
      "a_hist.set_title('Clipped Sample')"
     ],
     "language": "python",
     "metadata": {},
     "outputs": [
      {
       "output_type": "stream",
       "stream": "stdout",
       "text": [
        "29 bins needed based on input binsize of 1.\n",
        "Sample min/max: [-14.0439046014 / 15.684914168]\n"
       ]
      },
      {
       "metadata": {},
       "output_type": "pyout",
       "prompt_number": 5,
       "text": [
        "<matplotlib.text.Text at 0x10b94e950>"
       ]
      },
      {
       "metadata": {},
       "output_type": "display_data",
       "png": "[encoded data removed]",
       "text": [
        "<matplotlib.figure.Figure at 0x10af98210>"
       ]
      }
     ],
     "prompt_number": 5
    },
    {
     "cell_type": "markdown",
     "metadata": {},
     "source": [
      "### 7.4 Selecting/Displaying Good/Bad Data"
     ]
    },
    {
     "cell_type": "code",
     "collapsed": false,
     "input": [
      "good = clipped_sample.data[~clipped_sample.mask]\n",
      "bad = clipped_sample.data[clipped_sample.mask]\n",
      "\n",
      "print('Retained Data, {} items:'.format(len(good)))\n",
      "print(good)\n",
      "print()\n",
      "print('Rejected Data, {} items:'.format(len(bad)))\n",
      "print(bad)"
     ],
     "language": "python",
     "metadata": {},
     "outputs": [
      {
       "output_type": "stream",
       "stream": "stdout",
       "text": [
        "Retained Data, 277 items:\n",
        "[ 14.93346082  13.1931653  -11.35046008   2.19475391  12.69964692\n",
        "  -7.9825196   -7.68859044  -7.81119359   7.35857785  13.91628995\n",
        "  -9.32004339   7.34636273  -1.80549442  -3.36554562  -7.05664659\n",
        "   3.32812146   6.26555887  -8.64700011   4.37310863   6.81325492\n",
        "  -2.53624633   9.32571224 -10.12200223   7.1088702    1.12059725\n",
        "  -3.85736651  14.662753     3.40885672  13.85166619   9.38569619\n",
        "   6.73684336   0.09249159  13.53215299  11.6750533    6.87768235\n",
        "  -5.72805636  -0.28283181   2.65097493 -12.15364195   9.09694085\n",
        "  -2.63023891   1.09401637  -0.25436243  -7.92204065  -6.83872568\n",
        "   2.93774434  12.83629727  -4.69897517   7.06670298   3.00566683\n",
        "   5.99691918  -6.56563168  10.39205591 -11.02977505  10.58940285\n",
        "  12.91881577   5.13328966   6.78753955   7.30181183  -1.04330988\n",
        "   6.59814238  -4.72659098  14.39147615   8.62329224  -2.21518968\n",
        "  -8.7044034    0.61024148  -3.61497822  -0.57928187  -2.83613506\n",
        "   1.22282589  15.68491417  11.81341175   4.71879666  12.44093796\n",
        "   7.58959986  -6.55902777  15.62896141  -8.30345579   5.77872427\n",
        "   1.75396288  -9.85916878  11.91267335 -14.0439046   -3.43333044\n",
        "  13.20934962  -6.60727352  10.50615107  -1.65852962 -10.73405109\n",
        "  -8.63690081  -3.0142294    6.28403688  10.75504552 -12.20646587\n",
        "   1.7610662   -8.7062731   -7.75023058  -0.09650126  -4.25061864\n",
        "  14.32797497   2.4247883   -9.45220635  10.2917391    4.35362184\n",
        "  10.00612542  15.39978262  11.302715    -0.22510715   1.70864889\n",
        "   5.08949833  -9.77188124  -5.82374774  -8.33984071   4.04889938\n",
        "   2.12127816  10.52615073  12.08908318  -8.68645215  -1.51336372\n",
        "  -3.2854739   -8.27233663   4.02802155  12.08805175   4.78901574\n",
        "  -0.1910915   15.20281622   6.92157768  11.92343961   3.95974858\n",
        "   4.87308816  11.55243418   0.24330622 -13.01718874   1.1949338\n",
        "  -2.35639032  -6.62744359   2.14587411   8.185547    14.26893318\n",
        "  -1.79956144 -13.61128159  15.30596439   3.58774529   7.42246495\n",
        "  -1.35528452   1.73983254 -13.17084845  -2.78016697  -5.42285657\n",
        "  14.57264625  13.868451     0.43103084  -9.6242257    5.04176055\n",
        "  -5.76677078   0.55090491   9.91603088  10.33215435  -9.17695521\n",
        " -12.96907963  -1.44913441   4.43032313  10.97294732  -0.68443082\n",
        " -11.92983968   8.22162462   8.78445708  -1.57504136  -6.02313492\n",
        "   9.79669159   9.45365953  -4.69553573   2.6340665   15.01357817\n",
        "   6.58662701  -9.0605106    1.10960246  -0.25237691  15.66517759\n",
        "   4.73420953   7.21448154   8.21643002 -13.36308206  -0.54427743\n",
        "  -7.27159328  -9.77407082  -1.81949888  -3.89032357   2.04566033\n",
        " -12.63714034  -8.25309698  -8.65472294  -3.16470455 -10.30997986\n",
        "   9.40558853  -6.60707102   5.22776327  14.69743531   6.65197337\n",
        "   4.7037519   13.10990915 -13.27830349  -5.68792955   2.98448333\n",
        "   5.48614255  -7.45804485  -5.97941795  -6.3809685    7.96140988\n",
        "  -0.50176951  -3.85106605   0.76157988   6.70588106  -4.66338235\n",
        "  12.22434806  -9.14139436  -3.52541815   7.42048361   6.42692085\n",
        "   3.27623896   4.62882579  14.21743513  -5.08958333   6.44926851\n",
        "  -0.27682376  -1.12176252  -8.87260442  -6.30278477  -5.65162452\n",
        "  -2.02505196  15.31695847  13.46016614   4.80243957  12.50172995\n",
        "   0.68711097  -8.96959641   0.54230729 -13.6145322   12.56713719\n",
        "  12.20389397   3.94693872  -1.69673335 -13.48089082  10.52779787\n",
        "  10.44681233   8.64022988 -10.48577254 -12.12073287  -2.52871153\n",
        " -13.19154146  -0.27252233  -5.26969217 -10.0347933  -12.18798841\n",
        "  12.27253386  -7.27532539   1.91887938   3.06046042 -11.22189257\n",
        "  -8.10365358   2.17459598  11.1480824    7.62761734  -4.60248486\n",
        "   9.69567076   7.94483639   1.08535304   4.33627911   2.63059994\n",
        "  -2.7395511    5.96790595 -11.21376171  11.0426242    0.81122148\n",
        "  -3.5464048   -5.04587843]\n",
        "\n",
        "Rejected Data, 123 items:\n",
        "[-26.48148402 -19.28727052  18.64265062  18.98889053 -15.94481718\n",
        " -17.33852228 -28.97801484  19.36752889 -14.63799692 -21.96867441\n",
        "  29.90118609  18.41287375  20.22175829 -22.05423121 -14.9339788\n",
        "  16.61714114 -16.0137911  -26.73375656  19.74602428  34.33685215\n",
        " -18.38634468 -33.92908631 -20.94231728 -17.00173384  27.10819651\n",
        " -18.27076737 -19.94021229 -22.38362825 -38.63194904 -42.10805167\n",
        " -15.2423479  -14.5168814   25.19207206  31.80890667 -26.67415606\n",
        "  40.73325814  17.94025074 -20.68435544  17.10909259 -25.01149489\n",
        " -15.45452457  20.58135802 -15.9086993   17.3706103  -14.90933615\n",
        " -26.03359163  19.68726461 -21.67720153 -15.51376372 -17.74919985\n",
        "  18.43796054 -19.88789534  20.05804699 -35.7653126   33.83458862\n",
        " -14.41675476 -22.61618935 -21.5743207   24.86304304 -16.42838107\n",
        " -14.24371812  16.27030458 -41.81616886 -20.42211345  23.23317899\n",
        " -32.18632034 -27.43725306  26.49341211  16.9807126  -23.17516833\n",
        "  16.7428705  -20.31231825  26.55307043  23.09630649  16.06222852\n",
        " -17.05685757  16.74122692 -20.09020949 -27.41877159  30.89584591\n",
        " -22.45035221  23.11802101 -19.15322825  35.99641129  32.88597454\n",
        "  16.57544097 -17.89973684  20.58478738 -16.04052955  18.19994683\n",
        "  28.55442266 -20.46826016 -17.97723174  20.05464454 -33.87931664\n",
        " -15.67717081  23.18052448  22.50848499  28.01843844 -45.74754969\n",
        " -30.90338785  43.21788764 -14.68777918 -17.94802957  23.69854206\n",
        "  29.1875252  -19.72082517  27.23338766 -20.66827005  31.37649125\n",
        " -14.28564167  20.72565036  20.07865329 -14.26823044 -17.91615889\n",
        " -30.19108367  17.19970193 -33.2204197   21.69149715  23.99732163\n",
        " -32.25194637  27.19523351  21.47397566]\n"
       ]
      }
     ],
     "prompt_number": 6
    },
    {
     "cell_type": "code",
     "collapsed": false,
     "input": [
      "test = clipped_sample.nonzero()\n",
      "boosted = np.copy(sample)\n",
      "boosted[test] = boosted[test]*100\n",
      "\n",
      "print('Original Data:')\n",
      "print(clipped_sample[0, :].data)\n",
      "print()\n",
      "print('Clipped Data:')\n",
      "print(clipped_sample[0, :])\n",
      "print()\n",
      "print('Boosted Data (only to non-clipped):')\n",
      "print(boosted[0, :])\n",
      "print()"
     ],
     "language": "python",
     "metadata": {},
     "outputs": [
      {
       "output_type": "stream",
       "stream": "stdout",
       "text": [
        "Original Data:\n",
        "[ 14.93346082  13.1931653  -11.35046008   2.19475391 -26.48148402\n",
        " -19.28727052  18.64265062  12.69964692  -7.9825196   18.98889053\n",
        "  -7.68859044  -7.81119359 -15.94481718   7.35857785 -17.33852228\n",
        "  13.91628995 -28.97801484  19.36752889  -9.32004339 -14.63799692]\n",
        "\n",
        "Clipped Data:\n",
        "[14.933460817402418 13.193165301853153 -11.350460083391667\n",
        " 2.194753912646895 -- -- -- 12.699646920786922 -7.982519597161267 --\n",
        " -7.688590436450821 -7.811193586269109 -- 7.35857784863084 --\n",
        " 13.916289952510082 -- -- -9.320043385024777 --]\n",
        "\n",
        "Boosted Data (only to non-clipped):\n",
        "[ 1493.34608174  1319.31653019 -1135.04600834   219.47539126   -26.48148402\n",
        "   -19.28727052    18.64265062  1269.96469208  -798.25195972    18.98889053\n",
        "  -768.85904365  -781.11935863   -15.94481718   735.85778486   -17.33852228\n",
        "  1391.62899525   -28.97801484    19.36752889  -932.0043385    -14.63799692]\n",
        "\n"
       ]
      }
     ],
     "prompt_number": 7
    },
    {
     "cell_type": "markdown",
     "metadata": {},
     "source": [
      "### 7.5 Generate an array w/o clipped values (omitting clipped values?)\n",
      "\n",
      "As an example, amplify only the retained values after sigma clipping...  \n",
      "Here, I am only trying to boost the pixels that have been retained after the sigma clip procedure."
     ]
    },
    {
     "cell_type": "code",
     "collapsed": false,
     "input": [
      "#amped_array = 100 * clipped_sample[~clipped_sample.mask].data\n",
      "test = clipped_sample.nonzero()\n",
      "amped_array = clipped_sample.data[np.array(sample)] * 100.\n",
      "\n",
      "\n",
      "print(clipped_sample.min(), clipped_sample.max())\n",
      "print(amped_array.min(), amped_array.max())\n",
      "print(sample.min(), sample.max())\n",
      "print()\n",
      "print(type(amped_array), amped_array.shape)"
     ],
     "language": "python",
     "metadata": {},
     "outputs": []
    },
    {
     "cell_type": "code",
     "collapsed": false,
     "input": [
      "slc = 0\n",
      "print('Original Sample:')\n",
      "print(sample[slc, :])\n",
      "print()\n",
      "print('Clipped Array:')\n",
      "print(clipped_sample[slc, :])\n",
      "print()\n",
      "print('Clipped Array Mask:')\n",
      "print(clipped_sample.mask[slc, :])\n",
      "print()\n",
      "print('Amped Array:')\n",
      "print(amped_array[slc, :])"
     ],
     "language": "python",
     "metadata": {},
     "outputs": []
    },
    {
     "cell_type": "code",
     "collapsed": false,
     "input": [
      "test = clipped_sample\n",
      "print(test.count())\n",
      "\n",
      "#for ii in clipped_sample.mask:\n",
      "#    print(ii)\n",
      "#    if isTrue:\n",
      "#        amped_array[isTrue] = clipped_sample.data[isTrue]\n",
      "#    else:\n",
      "#        amped_array[isTrue] = clipped_sample.data[isTrue] * 100"
     ],
     "language": "python",
     "metadata": {},
     "outputs": []
    },
    {
     "cell_type": "code",
     "collapsed": false,
     "input": [
      "print(clipped_sample.mask.flatten())"
     ],
     "language": "python",
     "metadata": {},
     "outputs": []
    },
    {
     "cell_type": "code",
     "collapsed": false,
     "input": [],
     "language": "python",
     "metadata": {},
     "outputs": []
    },
    {
     "cell_type": "code",
     "collapsed": false,
     "input": [
      "sett = np.array(test)\n",
      "print(sett)\n",
      "pos = 0\n",
      "sett[0, pos], sett[1, pos]\n",
      "print()\n",
      "print(clipped_sample.data[sett])"
     ],
     "language": "python",
     "metadata": {},
     "outputs": []
    },
    {
     "cell_type": "markdown",
     "metadata": {},
     "source": [
      "# Development Log\n",
      "-----------------\n",
      "\n",
      "June 3, 2014\n",
      "------------\n",
      "\n",
      "1. ~~Combine the basic arithmetic operarions of ifu_x() (add, subtract, multiply, divide) \n",
      "    into one function, ifu_math().~~\n",
      "2. ~~Include smart dimensioning into the logic to determine if operations are between \n",
      "    datacube vs. scalar, image, or cube (3D vs. constant, 2D, or 3D).~~\n",
      "3. ~~Script collapsing a region of an input datacube using:~~\n",
      "    * ~~sum~~\n",
      "    * ~~mean~~\n",
      "    * ~~median~~\n",
      "        \n",
      "        \n",
      "June 10, 2014\n",
      "-------------\n",
      "\n",
      "1. ~~Complete the 3D vs. 3D basic arithmetic operation test in Section **6.3.3** above.~~\n",
      "2. ~~Script into ifu_math() the ability to subtract a 1D spectrum from the entire input \n",
      "    datacube (3D vs. 1D) in the z-dimension (per wavelength).~~\n",
      "3. Ensure that for 3D vs. 3D arithmetic that:  \n",
      "    * ~~array dimensions are the same.~~\n",
      "    * wavelength solutions are the same for both datacubes (for later discussion)\n",
      "4. ~~Change \"mode\" keyword in ifu_3d_collapse() to \"method\" to prevent confusion.~~\n",
      "5. ~~Implement the following methods and changes to ifu_3d_collapse:~~\n",
      "    * ~~Two additional options; one for wether sigma clipping is desired \n",
      "        (DEFAULT, sigma_clip=False), and another to accept a threshold for sigma \n",
      "        clipping (DEFAULT, sigma_thres=0.)~~\n",
      "    * ~~sum~~\n",
      "    * ~~median~~\n",
      "    * ~~mean~~\n",
      "6. Task #2-2: **Extract 1D spectral traces using user-defined regions or values**\n",
      "        * See region3d option in DS9 Vr. 7.0 and above for some reference\n",
      "        * Investigate selecting/creating shapes in Python...\n",
      "        \n",
      "        \n",
      "June 26, 2014\n",
      "-------------\n",
      "\n",
      "1. Development Notebook rewritten to seperate tests from the rest of the code\n",
      "    * Tests are can now be run independent of the routines\n",
      "    * Done for both ifu_math() and ifu_3d_collapse() modules\n",
      "2. Added sigma clipping capability to ifu_3d_collapse() routine.\n",
      "    * Currently being tested.\n",
      "    * Use both Eagle_Nebula (from Susan) and NGC_4151 (from Tracy)\n",
      "3. Use imported ifu_math() and ifu_3d_collapse() routines instead of the Notebook\n",
      "    defined.\n",
      "4. Convert the IFU_routines Notebook to function more like a support manual w/ use\n",
      "    case examples."
     ]
    },
    {
     "cell_type": "markdown",
     "metadata": {},
     "source": [
      "Scratch\n",
      "======="
     ]
    },
    {
     "cell_type": "code",
     "collapsed": false,
     "input": [],
     "language": "python",
     "metadata": {},
     "outputs": []
    },
    {
     "cell_type": "code",
     "collapsed": false,
     "input": [],
     "language": "python",
     "metadata": {},
     "outputs": []
    },
    {
     "cell_type": "code",
     "collapsed": false,
     "input": [
      "def ifu_add(array_in, x):\n",
      "    \"\"\"\n",
      "    Add a scalar value to an input array (list, image, \n",
      "    or cube).\n",
      "    \n",
      "    Keyword arguments:\n",
      "    array_in  -- The input array. Can be a list, image, \n",
      "                 or cube.\n",
      "    \n",
      "    Output(s):\n",
      "    array_out -- The list, image, or cube added output \n",
      "                 array.\n",
      "    \n",
      "    Example usage:\n",
      "    \n",
      "        >> ifu_add(image, 100)\n",
      "        \n",
      "        Add the scalar value 100 to image.\n",
      "    \"\"\"\n",
      "    import numpy as np\n",
      "        \n",
      "    # Add x to the input array, and return the result.\n",
      "    array_out = np.add(array_in, x)\n",
      "    \n",
      "    return array_out"
     ],
     "language": "python",
     "metadata": {},
     "outputs": []
    },
    {
     "cell_type": "code",
     "collapsed": false,
     "input": [
      "def ifu_subtract(array_in, x):\n",
      "    \"\"\"\n",
      "    Subtract a scalar value from an input array (list, image, \n",
      "    or cube).\n",
      "    \n",
      "    Keyword arguments:\n",
      "    array_in  -- The input array. Can be a list, image, or \n",
      "                 cube.\n",
      "    \n",
      "    Output(s):\n",
      "    array_out -- The list, image or cube subtracted output array.\n",
      "    \n",
      "    Example usage:\n",
      "    \n",
      "        >> ifu_subtract(image, 59)\n",
      "        \n",
      "        Subtract the scalar value 59 to image. image can be a \n",
      "        list, image or cube.\n",
      "    \"\"\"\n",
      "\n",
      "    import numpy as np\n",
      "    \n",
      "    # Subtract x from the input array and return the result.\n",
      "    array_out = np.subtract(array_in, x)\n",
      "    \n",
      "    return array_out"
     ],
     "language": "python",
     "metadata": {},
     "outputs": []
    },
    {
     "cell_type": "code",
     "collapsed": false,
     "input": [
      "def ifu_multiply(array_in, x):\n",
      "    \"\"\"\n",
      "    Multiply an input array (list, image, or cube) by a scalar.\n",
      "    \n",
      "    Keyword arguments:\n",
      "    array_in -- The input array. Can be a list, image, or cube.\n",
      "    \n",
      "    Output(s):\n",
      "    array_out -- The resulting list, image, or cube array.\n",
      "    \n",
      "    Example usage:\n",
      "    \n",
      "        >> ifu_multiply(image, 3.5)\n",
      "        \n",
      "        Multiply input image array by 3.5.\n",
      "    \"\"\"\n",
      "    import numpy as np\n",
      "    \n",
      "    # Multiply input array by scalar x.\n",
      "    array_out = np.multiply(array_in, x)\n",
      "    \n",
      "    return array_out"
     ],
     "language": "python",
     "metadata": {},
     "outputs": []
    },
    {
     "cell_type": "code",
     "collapsed": false,
     "input": [
      "def ifu_divide(array_in, x):\n",
      "    \"\"\"\n",
      "    Divide an input array (list, image, or cube) by a scalar.\n",
      "    \n",
      "    Keyword arguments:\n",
      "    array_in -- The input array. Can be a list, image, or cube.\n",
      "    \n",
      "    Output(s):\n",
      "    array_out -- The resulting list, image, or cube array.\n",
      "    \n",
      "    Example usage:\n",
      "    \n",
      "        >> ifu_divide(image, 2.0)\n",
      "        \n",
      "        Divide input image array by 2.0.\n",
      "    \"\"\"\n",
      "    import numpy as np\n",
      "    \n",
      "    # Divide array by scalar x\n",
      "    array_out = np.divide(array_in, x)\n",
      "    \n",
      "    return array_out"
     ],
     "language": "python",
     "metadata": {},
     "outputs": []
    },
    {
     "cell_type": "code",
     "collapsed": false,
     "input": [],
     "language": "python",
     "metadata": {},
     "outputs": []
    },
    {
     "cell_type": "code",
     "collapsed": false,
     "input": [
      "infile = './data/NGC4151_Hband.fits'\n",
      "print(fits.info(infile))\n",
      "print()\n",
      "\n",
      "ngcCube = fits.getdata(infile, 1)"
     ],
     "language": "python",
     "metadata": {},
     "outputs": []
    },
    {
     "cell_type": "code",
     "collapsed": false,
     "input": [
      "# Read in crpix, crval, and cdelt valuesfrom the header.\n",
      "# Convert crpix and crdelt values from angstroms to microns\n",
      "header = fits.getheader('./data/NGC4151_Hband.fits', ext=1)\n",
      "crpix = header['CRPIX3']\n",
      "crval = header['CRVAL3']/1.e4\n",
      "cdelt = header['CDELT3']/1.e4\n",
      "\n",
      "print(crpix, crval, cdelt)\n",
      "\n",
      "cals = [crpix, crval, cdelt]\n",
      "\n",
      "print(wave_convert(1.6478, cals))\n",
      "print(wave_convert(1.65, cals))\n",
      "print(frame_convert(0, cals))\n",
      "print(frame_convert(2040, cals))"
     ],
     "language": "python",
     "metadata": {},
     "outputs": []
    },
    {
     "cell_type": "code",
     "collapsed": false,
     "input": [
      "# Print one frame in NGC4151\n",
      "fig, ((ax1, ax2), (ax3, ax4)) = plt.subplots(2, 2, figsize=(12, 12), sharex=True, sharey=True)\n",
      "\n",
      "ax1.imshow(ngcCube[1071, :, :], vmin=-10, vmax=100, cmap=cm.hot, interpolation='nearest')\n",
      "ax1.set_title('Frame 1071 (1.6478 $\\mu m$)')\n",
      "\n",
      "ax2.imshow(ngcCube[1084, :, :], vmin=-10, vmax=100, cmap=cm.hot, interpolation='nearest')\n",
      "ax2.set_title('Frame 1084 (1.65 $\\mu m$)')\n",
      "\n",
      "collapsed = ifu_3d_collapse(ngcCube, sect=[1071, 1084], method='mean')\n",
      "ax3.imshow(collapsed, vmin=-10, vmax=100, cmap=cm.hot, interpolation='nearest')\n",
      "ax3.set_title('Mean colapse (1.6478 - 1.65 $\\mu m$)')\n",
      "\n",
      "collapsed = ifu_3d_collapse(ngcCube, sect=[1071, 1084], method='median')\n",
      "ax4.imshow(collapsed, vmin=-10, vmax=100, cmap=cm.hot, interpolation='nearest')\n",
      "ax4.set_title('Median colapse (1.6478 - 1.65 $\\mu m$)')"
     ],
     "language": "python",
     "metadata": {},
     "outputs": []
    },
    {
     "cell_type": "markdown",
     "metadata": {},
     "source": [
      "# Recreate a 1.644 \u00b5m continuum-subtracted image of NGC4151"
     ]
    },
    {
     "cell_type": "code",
     "collapsed": false,
     "input": [
      "# Spectrum of central pixel (trim off the edges)\n",
      "spectrum = ngcCube[100:1900, 30, 30]\n",
      "\n",
      "# Plot spectrum\n",
      "fig, ax = plt.subplots(figsize=(10, 10))\n",
      "ax.set_xlim(1.45, 1.80)\n",
      "ax.set_ylim(-200, 1200)\n",
      "\n",
      "# Convert the frame numbers to wavelengths\n",
      "frame_range = np.arange(len(spectrum))\n",
      "wave_range = frame_convert(frame_range, cals)\n",
      "\n",
      "#compute an estimate for the continuum\n",
      "p = np.polyfit(wave_range, spectrum, 1)\n",
      "print('Gradient and y-intercept:')\n",
      "print(p)\n",
      "y = p[0] * wave_range + p[1]\n",
      "    \n",
      "#compute continuum-subtracted spectrum\n",
      "z = spectrum - y\n",
      "\n",
      "# Plot from wavelengths ~1.49 - 1.78\u00b5m\n",
      "ax.plot(wave_range, spectrum, color='red')\n",
      "ax.plot(wave_range, y, ls='--', color='black')\n",
      "ax.plot(wave_range, z, color='blue')\n",
      "\n",
      "ax_twin = ax.twiny()\n",
      "ax_twin.set_xticks(frame_range[::500], minor=)"
     ],
     "language": "python",
     "metadata": {},
     "outputs": []
    },
    {
     "cell_type": "code",
     "collapsed": false,
     "input": [
      "print(wave_convert(1.49, cals))\n",
      "print(wave_convert(1.77, cals))"
     ],
     "language": "python",
     "metadata": {},
     "outputs": []
    },
    {
     "cell_type": "code",
     "collapsed": false,
     "input": [
      "print(frame_convert(100, cals))\n",
      "print(frame_convert(1900, cals))"
     ],
     "language": "python",
     "metadata": {},
     "outputs": []
    },
    {
     "cell_type": "code",
     "collapsed": false,
     "input": [
      "x, y = 30, 40"
     ],
     "language": "python",
     "metadata": {},
     "outputs": []
    },
    {
     "cell_type": "code",
     "collapsed": false,
     "input": [
      "a = x\n",
      "print(a)\n",
      "a = 20\n",
      "print(a, x)\n",
      "x = 50\n",
      "print(a, x)"
     ],
     "language": "python",
     "metadata": {},
     "outputs": []
    },
    {
     "cell_type": "code",
     "collapsed": false,
     "input": [],
     "language": "python",
     "metadata": {},
     "outputs": []
    }
   ],
   "metadata": {}
  }
 ]
}