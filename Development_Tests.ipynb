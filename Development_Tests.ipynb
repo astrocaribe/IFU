{
 "metadata": {
  "name": "",
  "signature": "sha256:d0b5ff5bcd64b005604ff94b444e0a8e4cde863b70cfe1c96f117f05b80d5eca"
 },
 "nbformat": 3,
 "nbformat_minor": 0,
 "worksheets": [
  {
   "cells": [
    {
     "cell_type": "code",
     "collapsed": false,
     "input": [
      "from __future__ import print_function"
     ],
     "language": "python",
     "metadata": {},
     "outputs": [],
     "prompt_number": 44
    },
    {
     "cell_type": "code",
     "collapsed": false,
     "input": [],
     "language": "python",
     "metadata": {},
     "outputs": [],
     "prompt_number": 1
    },
    {
     "cell_type": "code",
     "collapsed": false,
     "input": [],
     "language": "python",
     "metadata": {},
     "outputs": [],
     "prompt_number": 40
    },
    {
     "cell_type": "code",
     "collapsed": false,
     "input": [
      "x = 10\n",
      "print(type(x))\n",
      "y = np.array([x])\n",
      "print(type(y))\n",
      "print()\n",
      "\n",
      "print('Shape: ', y.shape)\n",
      "\n",
      "if y.shape == (1,): print(\"It's TRUE!!!\")"
     ],
     "language": "python",
     "metadata": {},
     "outputs": [
      {
       "output_type": "stream",
       "stream": "stdout",
       "text": [
        "<type 'int'>\n",
        "<type 'numpy.ndarray'>\n",
        "\n",
        "Shape:  (1,)\n",
        "It's TRUE!!!\n"
       ]
      }
     ],
     "prompt_number": 48
    },
    {
     "cell_type": "code",
     "collapsed": false,
     "input": [
      "test = ifu_math(array1D, 10., 'add')\n",
      "type(test)"
     ],
     "language": "python",
     "metadata": {},
     "outputs": [
      {
       "output_type": "stream",
       "stream": "stdout",
       "text": [
        "The operator dimensions are: (1,)\n",
        "IFU add mode chosen:\n"
       ]
      },
      {
       "metadata": {},
       "output_type": "pyout",
       "prompt_number": 36,
       "text": [
        "numpy.ndarray"
       ]
      }
     ],
     "prompt_number": 36
    },
    {
     "cell_type": "code",
     "collapsed": false,
     "input": [
      "type(10.)"
     ],
     "language": "python",
     "metadata": {},
     "outputs": [
      {
       "metadata": {},
       "output_type": "pyout",
       "prompt_number": 6,
       "text": [
        "float"
       ]
      }
     ],
     "prompt_number": 6
    },
    {
     "cell_type": "code",
     "collapsed": false,
     "input": [],
     "language": "python",
     "metadata": {},
     "outputs": []
    },
    {
     "cell_type": "code",
     "collapsed": false,
     "input": [
      "import matplotlib.pyplot as plt\n",
      "\n",
      "test_image = np.arange(5*5).reshape(5, 5)\n",
      "test_cube = np.arange(10*5*5).reshape(10,5,5)\n",
      "\n",
      "fig, ax = plt.subplots(figsize=(3, 3))\n",
      "ax.imshow(test_image, vmin=0, vmax=250, interpolation='nearest')\n",
      "\n",
      "fig, ax = plt.subplots(figsize=(3, 3))\n",
      "ax.imshow(test_cube[9, :, :], vmin=0, vmax=250, interpolation='nearest')\n",
      "\n",
      "final = test_cube - test_image\n",
      "print(test_image.shape)\n",
      "print(test_cube.shape)\n",
      "print(final.shape)\n",
      "\n",
      "print('Test Image')\n",
      "print(test_image)\n",
      "print('Test Cube')\n",
      "print(test_cube)\n",
      "print('Final')\n",
      "print(final)\n",
      "\n",
      "fig, ax = plt.subplots(figsize=(3, 3))\n",
      "ax.imshow(final[9, :, :], vmin=0, vmax=250, interpolation='nearest')"
     ],
     "language": "python",
     "metadata": {},
     "outputs": [
      {
       "output_type": "stream",
       "stream": "stdout",
       "text": [
        "(5, 5)\n",
        "(10, 5, 5)\n",
        "(10, 5, 5)\n",
        "Test Image\n",
        "[[ 0  1  2  3  4]\n",
        " [ 5  6  7  8  9]\n",
        " [10 11 12 13 14]\n",
        " [15 16 17 18 19]\n",
        " [20 21 22 23 24]]\n",
        "Test Cube\n",
        "[[[  0   1   2   3   4]\n",
        "  [  5   6   7   8   9]\n",
        "  [ 10  11  12  13  14]\n",
        "  [ 15  16  17  18  19]\n",
        "  [ 20  21  22  23  24]]\n",
        "\n",
        " [[ 25  26  27  28  29]\n",
        "  [ 30  31  32  33  34]\n",
        "  [ 35  36  37  38  39]\n",
        "  [ 40  41  42  43  44]\n",
        "  [ 45  46  47  48  49]]\n",
        "\n",
        " [[ 50  51  52  53  54]\n",
        "  [ 55  56  57  58  59]\n",
        "  [ 60  61  62  63  64]\n",
        "  [ 65  66  67  68  69]\n",
        "  [ 70  71  72  73  74]]\n",
        "\n",
        " [[ 75  76  77  78  79]\n",
        "  [ 80  81  82  83  84]\n",
        "  [ 85  86  87  88  89]\n",
        "  [ 90  91  92  93  94]\n",
        "  [ 95  96  97  98  99]]\n",
        "\n",
        " [[100 101 102 103 104]\n",
        "  [105 106 107 108 109]\n",
        "  [110 111 112 113 114]\n",
        "  [115 116 117 118 119]\n",
        "  [120 121 122 123 124]]\n",
        "\n",
        " [[125 126 127 128 129]\n",
        "  [130 131 132 133 134]\n",
        "  [135 136 137 138 139]\n",
        "  [140 141 142 143 144]\n",
        "  [145 146 147 148 149]]\n",
        "\n",
        " [[150 151 152 153 154]\n",
        "  [155 156 157 158 159]\n",
        "  [160 161 162 163 164]\n",
        "  [165 166 167 168 169]\n",
        "  [170 171 172 173 174]]\n",
        "\n",
        " [[175 176 177 178 179]\n",
        "  [180 181 182 183 184]\n",
        "  [185 186 187 188 189]\n",
        "  [190 191 192 193 194]\n",
        "  [195 196 197 198 199]]\n",
        "\n",
        " [[200 201 202 203 204]\n",
        "  [205 206 207 208 209]\n",
        "  [210 211 212 213 214]\n",
        "  [215 216 217 218 219]\n",
        "  [220 221 222 223 224]]\n",
        "\n",
        " [[225 226 227 228 229]\n",
        "  [230 231 232 233 234]\n",
        "  [235 236 237 238 239]\n",
        "  [240 241 242 243 244]\n",
        "  [245 246 247 248 249]]]\n",
        "Final\n",
        "[[[  0   0   0   0   0]\n",
        "  [  0   0   0   0   0]\n",
        "  [  0   0   0   0   0]\n",
        "  [  0   0   0   0   0]\n",
        "  [  0   0   0   0   0]]\n",
        "\n",
        " [[ 25  25  25  25  25]\n",
        "  [ 25  25  25  25  25]\n",
        "  [ 25  25  25  25  25]\n",
        "  [ 25  25  25  25  25]\n",
        "  [ 25  25  25  25  25]]\n",
        "\n",
        " [[ 50  50  50  50  50]\n",
        "  [ 50  50  50  50  50]\n",
        "  [ 50  50  50  50  50]\n",
        "  [ 50  50  50  50  50]\n",
        "  [ 50  50  50  50  50]]\n",
        "\n",
        " [[ 75  75  75  75  75]\n",
        "  [ 75  75  75  75  75]\n",
        "  [ 75  75  75  75  75]\n",
        "  [ 75  75  75  75  75]\n",
        "  [ 75  75  75  75  75]]\n",
        "\n",
        " [[100 100 100 100 100]\n",
        "  [100 100 100 100 100]\n",
        "  [100 100 100 100 100]\n",
        "  [100 100 100 100 100]\n",
        "  [100 100 100 100 100]]\n",
        "\n",
        " [[125 125 125 125 125]\n",
        "  [125 125 125 125 125]\n",
        "  [125 125 125 125 125]\n",
        "  [125 125 125 125 125]\n",
        "  [125 125 125 125 125]]\n",
        "\n",
        " [[150 150 150 150 150]\n",
        "  [150 150 150 150 150]\n",
        "  [150 150 150 150 150]\n",
        "  [150 150 150 150 150]\n",
        "  [150 150 150 150 150]]\n",
        "\n",
        " [[175 175 175 175 175]\n",
        "  [175 175 175 175 175]\n",
        "  [175 175 175 175 175]\n",
        "  [175 175 175 175 175]\n",
        "  [175 175 175 175 175]]\n",
        "\n",
        " [[200 200 200 200 200]\n",
        "  [200 200 200 200 200]\n",
        "  [200 200 200 200 200]\n",
        "  [200 200 200 200 200]\n",
        "  [200 200 200 200 200]]\n",
        "\n",
        " [[225 225 225 225 225]\n",
        "  [225 225 225 225 225]\n",
        "  [225 225 225 225 225]\n",
        "  [225 225 225 225 225]\n",
        "  [225 225 225 225 225]]]\n"
       ]
      },
      {
       "metadata": {},
       "output_type": "pyout",
       "prompt_number": 59,
       "text": [
        "<matplotlib.image.AxesImage at 0x14094b9d0>"
       ]
      },
      {
       "metadata": {},
       "output_type": "display_data",
       "png": "[encoded data removed]",
       "text": [
        "<matplotlib.figure.Figure at 0x14094d810>"
       ]
      },
      {
       "metadata": {},
       "output_type": "display_data",
       "png": "[encoded data removed]",
       "text": [
        "<matplotlib.figure.Figure at 0x14e983dd0>"
       ]
      },
      {
       "metadata": {},
       "output_type": "display_data",
       "png": "[encoded data removed]",
       "text": [
        "<matplotlib.figure.Figure at 0x1406d9d50>"
       ]
      }
     ],
     "prompt_number": 59
    },
    {
     "cell_type": "code",
     "collapsed": false,
     "input": [],
     "language": "python",
     "metadata": {},
     "outputs": []
    },
    {
     "cell_type": "code",
     "collapsed": false,
     "input": [],
     "language": "python",
     "metadata": {},
     "outputs": []
    },
    {
     "cell_type": "markdown",
     "metadata": {},
     "source": [
      "# Nosetests"
     ]
    },
    {
     "cell_type": "code",
     "collapsed": false,
     "input": [
      "%%file ifu_tests.py\n",
      "#Global imports\n",
      "import numpy as np\n",
      "from astropy.io import fits\n",
      "\n",
      "# Basic ifu math mode\n",
      "def ifu_math(array_in, operator, method):\n",
      "    \n",
      "    import numpy as np\n",
      "    \n",
      "    # Check to see if operator is a scalar (int or float); convert to numpy\n",
      "    # list to allow shape determination\n",
      "    if type(operator) == int or type(operator) == float: operator = np.array([operator])\n",
      "    op_shape = np.shape(operator)\n",
      "    print('The operator dimensions are: {}'.format(op_shape))\n",
      "    \n",
      "    if method == 'add':\n",
      "        print('IFU add mode chosen:')\n",
      "        array_out = np.add(array_in, operator)\n",
      "    \n",
      "    elif method == 'subtract':\n",
      "        print('IFU subtract mode chosen:')\n",
      "        array_out = np.subtract(array_in, operator)\n",
      "    \n",
      "    elif method == 'multiply':\n",
      "        print('IFU multiply mode chosen:')\n",
      "        array_out = np.multiply(array_in, operator)\n",
      "    \n",
      "    elif method == 'divide':\n",
      "        print('IFU divide mode chosen:')\n",
      "        array_out = np.divide(array_in, operator)\n",
      "        \n",
      "    else:\n",
      "        print('There has been an input parse error, please check inputs again!')\n",
      "        array_out = np.array([])\n",
      "    \n",
      "    return array_out\n",
      "\n",
      "\n",
      "\n",
      "# ****************** Tests ******************\n",
      "\n",
      "# Addition tests\n",
      "def test_1(): # test handling scalar as input (int)   \n",
      "    result = ifu_math(array1D, 10, 'add')\n",
      "    assert type(result) == np.ndarray\n",
      "    \n",
      "def test_2(): # test handling scalar as input (float)   \n",
      "    result = ifu_math(array1D, 5., 'add')\n",
      "    assert type(result) == np.ndarray\n",
      "    \n",
      "# Subtraction tests\n",
      "def test_3(): # test handling scalar as input (int)   \n",
      "    result = ifu_math(array1D, 10, 'subtract')\n",
      "    assert type(result) == np.ndarray\n",
      "    \n",
      "def test_4(): # test handling scalar as input (float)   \n",
      "    result = ifu_math(array1D, 5., 'subtract')\n",
      "    assert type(result) == np.ndarray\n",
      "\n",
      "# Multiplication tests\n",
      "def test_5(): # test handling scalar as input (int)   \n",
      "    result = ifu_math(array1D, 10, 'multiply')\n",
      "    assert type(result) == np.ndarray\n",
      "    \n",
      "def test_6(): # test handling scalar as input (float)   \n",
      "    result = ifu_math(array1D, 5., 'multiply')\n",
      "    assert type(result) == np.ndarray\n",
      "\n",
      "# Division tests\n",
      "def test_7(): # test handling scalar as input (int)   \n",
      "    result = ifu_math(array1D, 10, 'divide')\n",
      "    assert type(result) == np.ndarray\n",
      "    \n",
      "def test_8(): # test handling scalar as input (float)   \n",
      "    result = ifu_math(array1D, 5., 'divide')\n",
      "    assert type(result) == np.ndarray\n",
      "    \n",
      "# Blind tests\n",
      "# Dummy mode test\n",
      "def test_9(): # test handling scalar as input (float)   \n",
      "    result = ifu_math(array1D, 5., 'dummy')\n",
      "    assert type(result) == np.ndarray\n",
      "\n",
      "# Dummy operator test\n",
      "def test_10(): # test handling scalar as input (float)   \n",
      "    result = ifu_math(array1D, 'r', 'add')\n",
      "    assert type(result) == np.ndarray\n",
      "    \n",
      "# Multi-dimension tests\n",
      "def test_11():\n",
      "    result = ifu_math(cube, image, 'subtract')\n",
      "    print('Type: ', type(result))\n",
      "    assert type(result) == np.ndarray\n",
      "\n",
      "    \n",
      "# ****************** Tests ******************\n",
      "    \n",
      "array1D = np.arange(10)\n",
      "array2D = np.arange(3*3).reshape(3, 3)\n",
      "array3D = np.arange(3*3*3).reshape(3, 3, 3)\n",
      "\n",
      "image_file = './data/2d_Eagle.fits'\n",
      "cube_file = './data/Eagle_final_m96_m93_m83_m65.fits'\n",
      "\n",
      "image = fits.getdata(image_file)\n",
      "cube = fits.getdata(cube_file)"
     ],
     "language": "python",
     "metadata": {},
     "outputs": [
      {
       "output_type": "stream",
       "stream": "stdout",
       "text": [
        "Overwriting ifu_tests.py\n"
       ]
      }
     ],
     "prompt_number": 16
    },
    {
     "cell_type": "code",
     "collapsed": false,
     "input": [
      "!nosetests ifu_tests.py"
     ],
     "language": "python",
     "metadata": {},
     "outputs": [
      {
       "output_type": "stream",
       "stream": "stdout",
       "text": [
        "........."
       ]
      },
      {
       "output_type": "stream",
       "stream": "stdout",
       "text": [
        "F"
       ]
      },
      {
       "output_type": "stream",
       "stream": "stdout",
       "text": [
        ".\r\n",
        "======================================================================\r\n",
        "FAIL: ifu_tests.test_10\r\n",
        "----------------------------------------------------------------------\r\n",
        "Traceback (most recent call last):\r\n",
        "  File \"/Users/leblanc/Ureka/python/lib/python2.7/site-packages/nose/case.py\", line 197, in runTest\r\n",
        "    self.test(*self.arg)\r\n",
        "  File \"/Users/leblanc/Documents/Dropbox/stsci/IFU/ifu_tests.py\", line 87, in test_10\r\n",
        "    assert type(result) == np.ndarray\r\n",
        "AssertionError: \r\n",
        "-------------------- >> begin captured stdout << ---------------------\r\n",
        "The operator dimensions are: ()\r\n",
        "IFU add mode chosen:\r\n",
        "\r\n",
        "--------------------- >> end captured stdout << ----------------------\r\n",
        "\r\n",
        "----------------------------------------------------------------------\r\n",
        "Ran 11 tests in 0.556s\r\n",
        "\r\n",
        "FAILED (failures=1)\r\n"
       ]
      }
     ],
     "prompt_number": 17
    },
    {
     "cell_type": "code",
     "collapsed": false,
     "input": [],
     "language": "python",
     "metadata": {},
     "outputs": []
    },
    {
     "cell_type": "markdown",
     "metadata": {},
     "source": [
      "# Independent testing"
     ]
    },
    {
     "cell_type": "code",
     "collapsed": false,
     "input": [
      "%pylab inline"
     ],
     "language": "python",
     "metadata": {},
     "outputs": [
      {
       "output_type": "stream",
       "stream": "stdout",
       "text": [
        "Populating the interactive namespace from numpy and matplotlib\n"
       ]
      },
      {
       "output_type": "stream",
       "stream": "stderr",
       "text": [
        "/Users/leblanc/Ureka/python/lib/python2.7/site-packages/Pillow-2.2.1-py2.7-macosx-10.6-x86_64.egg/PIL/_imaging.py:3: UserWarning: Module zmq was already imported from /Users/leblanc/Ureka/python/lib/python2.7/site-packages/zmq/__init__.pyc, but /Users/leblanc/py-lib is being added to sys.path\n"
       ]
      }
     ],
     "prompt_number": 1
    },
    {
     "cell_type": "code",
     "collapsed": false,
     "input": [
      "import ifu_tests as ifut\n",
      "import numpy as np\n",
      "from astropy.io import fits\n",
      "import matplotlib.pyplot as plt\n",
      "from matplotlib import cm\n",
      "from __future__ import print_function\n",
      "\n",
      "array1D = np.arange(10)\n",
      "\n",
      "image_file = './data/2d_Eagle.fits'\n",
      "cube_file = './data/Eagle_final_m96_m93_m83_m65.fits'\n",
      "\n",
      "image = fits.getdata(image_file)\n",
      "cube = fits.getdata(cube_file)\n",
      "print('Image dimensions: ', image.shape)\n",
      "print('Cube dimensions: ', cube.shape)\n",
      "print()\n",
      "\n",
      "test = ifut.ifu_math(cube, image, 'subtract')\n",
      "print()\n",
      "print(type(test))\n",
      "print(test.shape)\n",
      "\n",
      "# Input image\n",
      "fig, ax = plt.subplots(figsize=(12, 16))\n",
      "ax.imshow(image, vmin=-10, vmax=10, cmap=cm.hot, interpolation='nearest')"
     ],
     "language": "python",
     "metadata": {},
     "outputs": [
      {
       "output_type": "stream",
       "stream": "stdout",
       "text": [
        "Image dimensions:  (26, 143)\n",
        "Cube dimensions:  (6000, 26, 143)\n",
        "\n",
        "The operator dimensions are: (26, 143)\n",
        "IFU subtract mode chosen:\n",
        "\n"
       ]
      },
      {
       "output_type": "stream",
       "stream": "stdout",
       "text": [
        "<type 'numpy.ndarray'>\n",
        "(6000, 26, 143)\n"
       ]
      },
      {
       "metadata": {},
       "output_type": "pyout",
       "prompt_number": 48,
       "text": [
        "<matplotlib.image.AxesImage at 0x10b781ad0>"
       ]
      },
      {
       "metadata": {},
       "output_type": "display_data",
       "png": "[encoded data removed]",
       "text": [
        "<matplotlib.figure.Figure at 0x13efbfc50>"
       ]
      }
     ],
     "prompt_number": 48
    },
    {
     "cell_type": "code",
     "collapsed": false,
     "input": [
      "# input cube\n",
      "data = np.nan_to_num(cube[3358, :, :])\n",
      "fig, ax = plt.subplots(figsize=(12, 16))\n",
      "ax.imshow(data, vmin=-10, vmax=10, cmap=cm.hot, interpolation='nearest')"
     ],
     "language": "python",
     "metadata": {},
     "outputs": [
      {
       "metadata": {},
       "output_type": "pyout",
       "prompt_number": 51,
       "text": [
        "<matplotlib.image.AxesImage at 0x14e4d0110>"
       ]
      },
      {
       "metadata": {},
       "output_type": "display_data",
       "png": "[encoded data removed]",
       "text": [
        "<matplotlib.figure.Figure at 0x1406b6f50>"
       ]
      }
     ],
     "prompt_number": 51
    },
    {
     "cell_type": "code",
     "collapsed": false,
     "input": [
      "fig, ax = plt.subplots(figsize=(12, 16))\n",
      "test_image = test[3358, :, :]\n",
      "ax.imshow(test_image, vmin=-10, vmax=10, cmap=cm.hot, interpolation='nearest')"
     ],
     "language": "python",
     "metadata": {},
     "outputs": [
      {
       "metadata": {},
       "output_type": "pyout",
       "prompt_number": 49,
       "text": [
        "<matplotlib.image.AxesImage at 0x108a32610>"
       ]
      },
      {
       "metadata": {},
       "output_type": "display_data",
       "png": "[encoded data removed]",
       "text": [
        "<matplotlib.figure.Figure at 0x1406b60d0>"
       ]
      }
     ],
     "prompt_number": 49
    },
    {
     "cell_type": "code",
     "collapsed": false,
     "input": [],
     "language": "python",
     "metadata": {},
     "outputs": []
    }
   ],
   "metadata": {}
  }
 ]
}