{
 "metadata": {
  "name": "",
  "signature": "sha256:ab6865eebddf982882d9fd2de016eb8f51f5e92146baa7a0fbe2103361a993ed"
 },
 "nbformat": 3,
 "nbformat_minor": 0,
 "worksheets": [
  {
   "cells": [
    {
     "cell_type": "markdown",
     "metadata": {},
     "source": [
      "# 1. Version and Change Log"
     ]
    },
    {
     "cell_type": "markdown",
     "metadata": {},
     "source": [
      "Current Version: 0.2"
     ]
    },
    {
     "cell_type": "markdown",
     "metadata": {},
     "source": [
      "# Change Log\n",
      "------------\n",
      "\n",
      "May 2014\n",
      "========\n",
      "0.1 - Initial verion of routines. Added/tested the following:\n",
      "    * frame_conv()\n",
      "    * wave_conv()\n",
      "    * ifu_add()\n",
      "    * ifu_subtract()\n",
      "    * ifu_multiply()\n",
      "    * ifu_divide()\n",
      "    * ifu_3d_collapse()\n",
      "    * ifu_1d_extract() - Untested\n",
      "\n",
      "June 2014\n",
      "=========\n",
      "0.11 - Combined the basic functions (+, -, *, /) into one function\n",
      "    * Complete and tested\n",
      "    * Needs optimization\n",
      "    \n",
      "06 June 2014\n",
      "============\n",
      "0.2  - Added 3D vs. 1D arithmetic opration to ifu_math()\n",
      "    * updated ifu_math() to support new mode above.\n",
      "    * added Section 6.3.4 to Notebook; test of 3D vs. 1D arithmetic \n",
      "      operation.\n",
      "      \n",
      "10-26 June 2014\n",
      "===============\n",
      "0.21  - Updated ifu_3d_collapse to include sigma clipping\n",
      "        * datacube regions (frames) can now be collapsed using (or omitting)\n",
      "          sigma clipping.\n",
      "        * currently testing sigma clippling functionality\n",
      "        \n",
      "01-09 July 2014\n",
      "===============\n",
      "routines  - Seperated ifu_math() and ifu_3d_collapse() modules into seperate files  \n",
      "        * Fulfils tasks #1 and #2 in routines roadmap; routines now live in scripts folder\n",
      "\n",
      "tests  - Created seperate tests for the above to test independently of development, as well as regression testing.\n",
      "        * Tests now live in tests folder\n",
      "        \n",
      "ifu_3d_collapse() - Continued testing of collapse with clipping option. Not confident of the results; must discuss soon! ** *To what do we change Nans in the data? Surely this will affect sigma clipping calculations?* **\n",
      "        * Note: The Eagle Nebula datacube contains Nans, and must be replaced (currently using numpy.nan_num() to convert Nans to 0.)"
     ]
    },
    {
     "cell_type": "markdown",
     "metadata": {},
     "source": [
      "# 2. Modules"
     ]
    },
    {
     "cell_type": "code",
     "collapsed": false,
     "input": [
      "# Import necessary modules\n",
      "import numpy as np\n",
      "import matplotlib.pyplot as plt\n",
      "import matplotlib.cm as cm\n",
      "from astropy.io import fits\n",
      "from __future__ import print_function"
     ],
     "language": "python",
     "metadata": {},
     "outputs": [
      {
       "output_type": "stream",
       "stream": "stderr",
       "text": [
        "/Users/leblanc/Ureka/python/lib/python2.7/site-packages/Pillow-2.2.1-py2.7-macosx-10.6-x86_64.egg/PIL/_imaging.py:3: UserWarning: Module zmq was already imported from /Users/leblanc/Ureka/python/lib/python2.7/site-packages/zmq/__init__.pyc, but /Users/leblanc/py-lib is being added to sys.path\n"
       ]
      }
     ],
     "prompt_number": 2
    },
    {
     "cell_type": "markdown",
     "metadata": {},
     "source": [
      "# 3. Routines\n",
      "\n",
      "The IFU routines written for this project."
     ]
    },
    {
     "cell_type": "code",
     "collapsed": false,
     "input": [
      "# Add the scripts folder to PYTHONPATH (temporarily) to import into workspace\n",
      "import sys\n",
      "sys.path.append('./scripts/')"
     ],
     "language": "python",
     "metadata": {},
     "outputs": [],
     "prompt_number": 3
    },
    {
     "cell_type": "code",
     "collapsed": false,
     "input": [
      "%cat scripts/ifu_math.py\n",
      "from ifu_math import *"
     ],
     "language": "python",
     "metadata": {},
     "outputs": [
      {
       "output_type": "stream",
       "stream": "stdout",
       "text": [
        "#Global imports\r\n",
        "import numpy as np\r\n",
        "from astropy.io import fits\r\n",
        "\r\n",
        "# Basic ifu math mode\r\n",
        "def ifu_math(array_in, operator, method):\r\n",
        "    \"\"\"\r\n",
        "    Perform basic arithmetic tasks on 3D data using 1D, 2D, or\r\n",
        "    3D data as input.\r\n",
        "    \r\n",
        "    Keyword arguments:\r\n",
        "    array_in  -- The 3D input array.\r\n",
        "    \r\n",
        "    operator  -- The array that is to operate on the input array\r\n",
        "                 (array_in). Can be a scalar, list, image, or\r\n",
        "                 datacube.\r\n",
        "                \r\n",
        "    method    -- Calculation method. Available are add, subtract,\r\n",
        "                 multiply, and divide.\r\n",
        "    \r\n",
        "    \r\n",
        "    Output(s):\r\n",
        "    array_out -- The list, image or cube subtracted output array.\r\n",
        "    \r\n",
        "    Example usage:\r\n",
        "    \r\n",
        "        1. >> ifu_math(cube, 1000., method='subtract')\r\n",
        "        \r\n",
        "        Subtract the scalar value of 1000. from entire cube array.\r\n",
        "        \r\n",
        "        2. >> ifu_math(cube, image, method='subtract')\r\n",
        "        \r\n",
        "        Subtract an image of dimensions [x, y] from a cube array in\r\n",
        "        the wavelength (z) plane. Image dimensions x, y] must match\r\n",
        "        those of the input cube array.\r\n",
        "        \r\n",
        "        3. >> ifu_math(cube1, cube2, method='divide')\r\n",
        "        \r\n",
        "        Divive cube1 array by the contents of cube2 array, value for\r\n",
        "        value. Arrays of both cubes must be identical.\r\n",
        "        \r\n",
        "    \"\"\"    \r\n",
        "    \r\n",
        "    import numpy as np\r\n",
        "    \r\n",
        "    # Check to see if operator is a scalar (int or float); convert to numpy\r\n",
        "    # list to allow shape determination\r\n",
        "    \r\n",
        "    #print()\r\n",
        "    #print(operator, type(operator))\r\n",
        "    #print()\r\n",
        "    \r\n",
        "    if isinstance(operator, np.ndarray):\r\n",
        "        print('(math): The operator dimensions are: {}'.format(np.shape(operator)))\r\n",
        "    else:\r\n",
        "        print('(math): Input operator has been converted to a numpy array.')\r\n",
        "        operator = np.array([operator])\r\n",
        "        print('(math): The operator dimensions are: {}'.format(np.shape(operator)))\r\n",
        "    \r\n",
        "    \r\n",
        "    # Assure that the input array is a cube\r\n",
        "    if array_in.ndim != 3:\r\n",
        "        print('(math): The input array must be a cube (3 dimensions)!')\r\n",
        "        return\r\n",
        "    else:\r\n",
        "        print('(math): Input array has {} dimensions.'.format(array_in.ndim))\r\n",
        "    \r\n",
        "    # ... and check dimensions of input and operator arrays    \r\n",
        "    if operator.ndim == 1 and operator.shape[0] == 1:\r\n",
        "        print('(math): A scalar operation will take place.')\r\n",
        "    elif operator.shape == array_in.shape:\r\n",
        "        print('(math): A 3D/3D operation will take place.')\r\n",
        "    elif operator.ndim == 2 and (operator.shape[0] == array_in.shape[1] and operator.shape[1] == array_in.shape[2]):\r\n",
        "        print('(math): A 3D/2D operation will take place.')\r\n",
        "    elif operator.ndim == 1 and operator.shape[0] > 1:\r\n",
        "        # Create a spectrum 'image' to conduct the basic arithmetic functions\r\n",
        "        print('(math): A 3D/1D operation will take place.')\r\n",
        "        spec_image = np.empty(array_in.shape)\r\n",
        "        for ii in np.arange(array_in.shape[0]):\r\n",
        "            spec_image[ii, :, :] = operator[ii]\r\n",
        "            \r\n",
        "        operator = spec_image\r\n",
        "    else:\r\n",
        "        print('(math): Dimension of input array and operator do not match!')\r\n",
        "    \r\n",
        "    \r\n",
        "    if method == 'add':\r\n",
        "        print('(math): IFU add mode chosen...')\r\n",
        "        array_out = np.add(array_in, operator)            \r\n",
        "    \r\n",
        "    elif method == 'subtract':\r\n",
        "        print('(math): IFU subtract mode chosen...')\r\n",
        "        array_out = np.subtract(array_in, operator)\r\n",
        "    \r\n",
        "    elif method == 'multiply':\r\n",
        "        print('(math): IFU multiply mode chosen...')\r\n",
        "        array_out = np.multiply(array_in, operator)\r\n",
        "    \r\n",
        "    elif method == 'divide':\r\n",
        "        print('(math): IFU divide mode chosen...')\r\n",
        "        array_out = np.divide(array_in, operator)\r\n",
        "        \r\n",
        "    else:\r\n",
        "        print('(math): There has been an input parse error, please check inputs again!')\r\n",
        "        array_out = np.array([])\r\n",
        "    \r\n",
        "    return array_out"
       ]
      }
     ],
     "prompt_number": 4
    },
    {
     "cell_type": "code",
     "collapsed": false,
     "input": [
      "%cat scripts/ifu_3d_collapse.py\n",
      "from ifu_3d_collapse import *"
     ],
     "language": "python",
     "metadata": {},
     "outputs": [
      {
       "output_type": "stream",
       "stream": "stdout",
       "text": [
        "from __future__ import print_function\r\n",
        "import numpy as np\r\n",
        "from astropy.stats.funcs import sigma_clip\r\n",
        "\r\n",
        "import sys\r\n",
        "sys.path.append('./scripts/')\r\n",
        "from ifu_math import *\r\n",
        "\r\n",
        "def arrayCollapse(array_in, method):\r\n",
        "    \r\n",
        "    # Perform an array collapse\r\n",
        "    if method == 'sum':\r\n",
        "        print('(3d_collapse): Sum of extracted slices:')\r\n",
        "        collapsed_array = np.sum(array_in, axis=0)\r\n",
        "            \r\n",
        "    elif method == 'mean':\r\n",
        "        print('(3d_collapse): Mean of extracted slices:')\r\n",
        "        collapsed_array = np.mean(array_in, axis=0)\r\n",
        "    \r\n",
        "    elif method == 'median':\r\n",
        "        print('(3d_collapse): Median of extracted slices:')\r\n",
        "        collapsed_array = np.median(array_in, axis=0)\r\n",
        "        \r\n",
        "    return collapsed_array\r\n",
        "\r\n",
        "    \r\n",
        "\r\n",
        "def ifu_3d_collapse(array_in, sect=[0,0], method='sum', sigma=False):\r\n",
        "    \"\"\"\r\n",
        "    Collapse a slice of a datacube, with a given mode, along the \r\n",
        "    wavelength slice.\r\n",
        "    \r\n",
        "    Keyword arguments:\r\n",
        "    array_in -- The input datacube array.\r\n",
        "    sect     -- The section of the datacube to collapse, in the \r\n",
        "                form of [a, b], where a is the 1st slice boundary,\r\n",
        "                and b is the 2nd + 1 slice boundary.\r\n",
        "    mode     -- The mode of collapse. Available are sum, mean,\r\n",
        "                and median.\r\n",
        "    \"\"\"\r\n",
        "    \r\n",
        "    print('***************** Dev Test *****************')\r\n",
        "    print('(ifu_3d_collapse): Developement test Vr. 0.2')\r\n",
        "    print('***************** Dev Test *****************')\r\n",
        "    \r\n",
        "    # Extract the desired slice...\r\n",
        "    slice_array = array_in[sect[0]:sect[1], :, :]\r\n",
        "        \r\n",
        "    # ... and perform the desired operation, based on input mode.\r\n",
        "    collapsed_array = arrayCollapse(slice_array, method=method)\r\n",
        "    \r\n",
        "    if sigma:\r\n",
        "        ## Subtract the collapsed array from the input datacube\r\n",
        "        #subtracted_array = ifu_math(slice_array, collapsed_array, method='subtract')\r\n",
        "        \r\n",
        "        # Perform sigma-clip on subtracted cube\r\n",
        "        print('(3d_collapse): Clipping data...')\r\n",
        "        clipped = sigma_clip(slice_array, sigma, iters=None, axis=0, copy=False)\r\n",
        "        print()\r\n",
        "        print('(3d_collapse): Array shape:', clipped.shape)\r\n",
        "        \r\n",
        "        \r\n",
        "        #******** INCOMPLETE! CONTINUE HERE! ***********\r\n",
        "        \r\n",
        "        # Compare the clipped sample to determine wether we need to \r\n",
        "        # recalculate the collapse        \r\n",
        "        if np.array_equal(clipped.compressed(), slice_array.flatten()): \r\n",
        "            print('Arrays are exactly the same, no clipping required.')\r\n",
        "        else:\r\n",
        "            # Now that we have the sigma mask, recalculate the collapse...            \r\n",
        "            temp_array = np.copy(clipped.data)\r\n",
        "            good = clipped.nonzero()\r\n",
        "            print()\r\n",
        "            print('good: ', good)\r\n",
        "            print()\r\n",
        "            collapsed_array = arrayCollapse(temp_array[good], method)\r\n",
        "            print(collapsed_array)\r\n",
        "            print('(3d_collapse): Collapsed shape:', collapsed_array.shape)\r\n",
        "            print('(3d_collapse): Original shape:', slice_array.shape)\r\n",
        "\r\n",
        "    \r\n",
        "    print()\r\n",
        "    print('(3d_collapse): Shape of returned array:', collapsed_array.shape)\r\n",
        "    return collapsed_array"
       ]
      }
     ],
     "prompt_number": 5
    },
    {
     "cell_type": "code",
     "collapsed": false,
     "input": [
      "%cat scripts/ifu_utils.py\n",
      "from ifu_utils import *"
     ],
     "language": "python",
     "metadata": {},
     "outputs": [
      {
       "output_type": "stream",
       "stream": "stdout",
       "text": [
        "# Global imports\r\n",
        "import numpy as np\r\n",
        "\r\n",
        "def frame_convert(frame, cals):\r\n",
        "    ''' \r\n",
        "    Convert the frame to a wavelength using a starting value and \r\n",
        "    delta (in microns) specific to the NGC4151_Hband.fits file\r\n",
        "    '''\r\n",
        "    \r\n",
        "    # Calculate the frame conversion\r\n",
        "    wave = (frame - cals[0]) * cals[2] + cals[1]\r\n",
        "    \r\n",
        "    return wave # [format(z, '.3f') for z in wave] #\r\n",
        "\r\n",
        "def wave_convert(wave, cals):\r\n",
        "    '''\r\n",
        "    Convert the wavelength to a frame using a starting value and \r\n",
        "    delta (in microns) specific to the NGC4151_Hband.fits file \r\n",
        "    '''\r\n",
        "    \r\n",
        "    from numpy import round\r\n",
        "    from numpy import int\r\n",
        "\r\n",
        "    # Calculate the wavelength conversion\r\n",
        "    frame = cals[0] + ((wave - cals[1]) / cals[2])\r\n",
        "    \r\n",
        "    frame = np.int(np.round(frame))\r\n",
        "    return frame"
       ]
      }
     ],
     "prompt_number": 6
    },
    {
     "cell_type": "code",
     "collapsed": false,
     "input": [],
     "language": "python",
     "metadata": {},
     "outputs": [],
     "prompt_number": 6
    },
    {
     "cell_type": "code",
     "collapsed": false,
     "input": [],
     "language": "python",
     "metadata": {},
     "outputs": [],
     "prompt_number": 6
    },
    {
     "cell_type": "code",
     "collapsed": false,
     "input": [],
     "language": "python",
     "metadata": {},
     "outputs": [],
     "prompt_number": 6
    },
    {
     "cell_type": "code",
     "collapsed": false,
     "input": [],
     "language": "python",
     "metadata": {},
     "outputs": [],
     "prompt_number": 6
    },
    {
     "cell_type": "markdown",
     "metadata": {},
     "source": [
      "# 4. Frame/Wavelength Conversions\n",
      "\n",
      "Convert between datacube frame and wavelength, based on the CRVAL, CRPIX, and CDELT values from the FITS header."
     ]
    },
    {
     "cell_type": "code",
     "collapsed": false,
     "input": [
      "# Retrieve wavelength transformation values\n",
      "header = fits.getheader('./data/Eagle_final_m96_m93_m83_m65.fits')\n",
      "crpix = header['CRPIX3']\n",
      "crval = header['CRVAL3']\n",
      "cdelt = header['CDELT3']\n",
      "cals = [crpix, crval, cdelt]"
     ],
     "language": "python",
     "metadata": {},
     "outputs": [],
     "prompt_number": 7
    },
    {
     "cell_type": "code",
     "collapsed": false,
     "input": [
      "# Convert a wavelength (in \u00b5m) to a frame (i.e., a datacube slice)\n",
      "print('Frame', wave_convert(.9, cals))"
     ],
     "language": "python",
     "metadata": {},
     "outputs": [
      {
       "output_type": "stream",
       "stream": "stdout",
       "text": [
        "Frame 3501\n"
       ]
      }
     ],
     "prompt_number": 8
    },
    {
     "cell_type": "code",
     "collapsed": false,
     "input": [
      "# Convert a frame to a wavelength (in \u00b5m)\n",
      "\n",
      "#print(frame_convert(np.array([3201]), cals), '\u00b5m')\n",
      "print(frame_convert(3201, cals), '\u00b5m')"
     ],
     "language": "python",
     "metadata": {},
     "outputs": [
      {
       "output_type": "stream",
       "stream": "stdout",
       "text": [
        "0.87 \u00b5m\n"
       ]
      }
     ],
     "prompt_number": 9
    },
    {
     "cell_type": "markdown",
     "metadata": {},
     "source": [
      "# 5. Basic Data Analasis Tasks (+, -, *, / on 1D, 2D, and 3D data)"
     ]
    },
    {
     "cell_type": "markdown",
     "metadata": {},
     "source": [
      "This section will demonstrate some basic tasks that can be performed with ifu_math()."
     ]
    },
    {
     "cell_type": "markdown",
     "metadata": {},
     "source": [
      "### 5.1 Basic Arithmetic\n",
      "\n",
      "First, we generate a cube data array to demonstrate basic arithmetic operations."
     ]
    },
    {
     "cell_type": "code",
     "collapsed": false,
     "input": [
      "# Sample cube array\n",
      "array3D = np.arange(3*3*3).reshape(3, 3, 3)\n",
      "\n",
      "# Verify array\n",
      "print('This is a cube:')\n",
      "print(array3D)"
     ],
     "language": "python",
     "metadata": {},
     "outputs": [
      {
       "output_type": "stream",
       "stream": "stdout",
       "text": [
        "This is a cube:\n",
        "[[[ 0  1  2]\n",
        "  [ 3  4  5]\n",
        "  [ 6  7  8]]\n",
        "\n",
        " [[ 9 10 11]\n",
        "  [12 13 14]\n",
        "  [15 16 17]]\n",
        "\n",
        " [[18 19 20]\n",
        "  [21 22 23]\n",
        "  [24 25 26]]]\n"
       ]
      }
     ],
     "prompt_number": 10
    },
    {
     "cell_type": "markdown",
     "metadata": {},
     "source": [
      "Now, we can do simple arithmetic on an input cube array:\n",
      "\n",
      "i) Add 10 to the entire input array..."
     ]
    },
    {
     "cell_type": "code",
     "collapsed": false,
     "input": [
      "output_array = ifu_math(array3D, 10, method='add')\n",
      "print('Output array shape: ', np.shape(output_array))\n",
      "print()\n",
      "\n",
      "print(output_array)"
     ],
     "language": "python",
     "metadata": {},
     "outputs": [
      {
       "output_type": "stream",
       "stream": "stdout",
       "text": [
        "(math): Input operator has been converted to a numpy array.\n",
        "(math): The operator dimensions are: (1,)\n",
        "(math): Input array has 3 dimensions.\n",
        "(math): A scalar operation will take place.\n",
        "(math): IFU add mode chosen...\n",
        "Output array shape:  (3, 3, 3)\n",
        "\n",
        "[[[10 11 12]\n",
        "  [13 14 15]\n",
        "  [16 17 18]]\n",
        "\n",
        " [[19 20 21]\n",
        "  [22 23 24]\n",
        "  [25 26 27]]\n",
        "\n",
        " [[28 29 30]\n",
        "  [31 32 33]\n",
        "  [34 35 36]]]\n"
       ]
      }
     ],
     "prompt_number": 11
    },
    {
     "cell_type": "markdown",
     "metadata": {},
     "source": [
      "ii) Subtract the central frame of the input array from the entire cube. The resulting central frame should be zero..."
     ]
    },
    {
     "cell_type": "code",
     "collapsed": false,
     "input": [
      "output_array = ifu_math(array3D, array3D[1, :, :], method='subtract')\n",
      "print()\n",
      "\n",
      "print(output_array)"
     ],
     "language": "python",
     "metadata": {},
     "outputs": [
      {
       "output_type": "stream",
       "stream": "stdout",
       "text": [
        "(math): The operator dimensions are: (3, 3)\n",
        "(math): Input array has 3 dimensions.\n",
        "(math): A 3D/2D operation will take place.\n",
        "(math): IFU subtract mode chosen...\n",
        "\n",
        "[[[-9 -9 -9]\n",
        "  [-9 -9 -9]\n",
        "  [-9 -9 -9]]\n",
        "\n",
        " [[ 0  0  0]\n",
        "  [ 0  0  0]\n",
        "  [ 0  0  0]]\n",
        "\n",
        " [[ 9  9  9]\n",
        "  [ 9  9  9]\n",
        "  [ 9  9  9]]]\n"
       ]
      }
     ],
     "prompt_number": 12
    },
    {
     "cell_type": "markdown",
     "metadata": {},
     "source": [
      "iii) Divide the input cube by the last frame of the same cube. The last frame of the resulting cube should be all ones..."
     ]
    },
    {
     "cell_type": "code",
     "collapsed": false,
     "input": [
      "output_array = ifu_math(array3D, array3D[2, :, :], method='divide')\n",
      "print()\n",
      "\n",
      "print(output_array)"
     ],
     "language": "python",
     "metadata": {},
     "outputs": [
      {
       "output_type": "stream",
       "stream": "stdout",
       "text": [
        "(math): The operator dimensions are: (3, 3)\n",
        "(math): Input array has 3 dimensions.\n",
        "(math): A 3D/2D operation will take place.\n",
        "(math): IFU divide mode chosen...\n",
        "\n",
        "[[[0 0 0]\n",
        "  [0 0 0]\n",
        "  [0 0 0]]\n",
        "\n",
        " [[0 0 0]\n",
        "  [0 0 0]\n",
        "  [0 0 0]]\n",
        "\n",
        " [[1 1 1]\n",
        "  [1 1 1]\n",
        "  [1 1 1]]]\n"
       ]
      }
     ],
     "prompt_number": 13
    },
    {
     "cell_type": "markdown",
     "metadata": {},
     "source": [
      "**Note:** The first two frames show zeros, as interger division is taking place."
     ]
    },
    {
     "cell_type": "markdown",
     "metadata": {},
     "source": [
      "### 5.2 Basic Cube Slice Extraction"
     ]
    },
    {
     "cell_type": "code",
     "collapsed": false,
     "input": [
      "# Create a 3*3*10 datacube\n",
      "# np.arange(x) creates a list from 0-x\n",
      "cube = np.arange(3*3*10).reshape(10, 3, 3)\n",
      "\n",
      "# Verify cube\n",
      "print(cube)"
     ],
     "language": "python",
     "metadata": {},
     "outputs": [
      {
       "output_type": "stream",
       "stream": "stdout",
       "text": [
        "[[[ 0  1  2]\n",
        "  [ 3  4  5]\n",
        "  [ 6  7  8]]\n",
        "\n",
        " [[ 9 10 11]\n",
        "  [12 13 14]\n",
        "  [15 16 17]]\n",
        "\n",
        " [[18 19 20]\n",
        "  [21 22 23]\n",
        "  [24 25 26]]\n",
        "\n",
        " [[27 28 29]\n",
        "  [30 31 32]\n",
        "  [33 34 35]]\n",
        "\n",
        " [[36 37 38]\n",
        "  [39 40 41]\n",
        "  [42 43 44]]\n",
        "\n",
        " [[45 46 47]\n",
        "  [48 49 50]\n",
        "  [51 52 53]]\n",
        "\n",
        " [[54 55 56]\n",
        "  [57 58 59]\n",
        "  [60 61 62]]\n",
        "\n",
        " [[63 64 65]\n",
        "  [66 67 68]\n",
        "  [69 70 71]]\n",
        "\n",
        " [[72 73 74]\n",
        "  [75 76 77]\n",
        "  [78 79 80]]\n",
        "\n",
        " [[81 82 83]\n",
        "  [84 85 86]\n",
        "  [87 88 89]]]\n"
       ]
      }
     ],
     "prompt_number": 14
    },
    {
     "cell_type": "code",
     "collapsed": false,
     "input": [
      "# Extract a slice (3 frames) from the original datacube\n",
      "# Note that Python [end] indexing is +1; in example below, [0, 3]\n",
      "# extracts frames 0, 1, and 2.\n",
      "ifu_3d_collapse(cube, sect=[0, 3], method='sum', sigma=False)"
     ],
     "language": "python",
     "metadata": {},
     "outputs": [
      {
       "output_type": "stream",
       "stream": "stdout",
       "text": [
        "***************** Dev Test *****************\n",
        "(ifu_3d_collapse): Developement test Vr. 0.2\n",
        "***************** Dev Test *****************\n",
        "(3d_collapse): Sum of extracted slices:\n",
        "\n",
        "(3d_collapse): Shape of returned array: (3, 3)\n"
       ]
      },
      {
       "metadata": {},
       "output_type": "pyout",
       "prompt_number": 15,
       "text": [
        "array([[27, 30, 33],\n",
        "       [36, 39, 42],\n",
        "       [45, 48, 51]])"
       ]
      }
     ],
     "prompt_number": 15
    },
    {
     "cell_type": "markdown",
     "metadata": {},
     "source": [
      "# 6. Datacube Tests"
     ]
    },
    {
     "cell_type": "code",
     "collapsed": false,
     "input": [
      "# Setup inline plotting\n",
      "%matplotlib inline"
     ],
     "language": "python",
     "metadata": {},
     "outputs": [],
     "prompt_number": 16
    },
    {
     "cell_type": "code",
     "collapsed": false,
     "input": [
      "# Import datacube, and print it's shape (frame, y, x)\n",
      "datacube = fits.getdata('./data/Eagle_final_m96_m93_m83_m65.fits')\n",
      "datacube.shape"
     ],
     "language": "python",
     "metadata": {},
     "outputs": [
      {
       "metadata": {},
       "output_type": "pyout",
       "prompt_number": 17,
       "text": [
        "(6000, 26, 143)"
       ]
      }
     ],
     "prompt_number": 17
    },
    {
     "cell_type": "markdown",
     "metadata": {},
     "source": [
      "## 6.1 Single Cube Slice\n",
      "\n",
      "Display a single slice from the datacube..."
     ]
    },
    {
     "cell_type": "code",
     "collapsed": false,
     "input": [
      "# Test a sample of the input datacube, looking at one frame, 3358 (.8857 \u00b5m)\n",
      "fig, ax = plt.subplots(figsize=(12, 16))\n",
      "data = datacube[3358, :, :]\n",
      "ax.imshow(data, cmap=cm.hot, vmin=-10, vmax=10, interpolation='nearest')\n",
      "ax.set_title('Before np.nan_num')\n",
      "\n",
      "# Convert the Nan values in array to 0\n",
      "data = np.nan_to_num(data)\n",
      "print('Pixel Min/Max: ', data.min(), data.max())\n",
      "\n",
      "# Save both a pdf and fits file of the 2d image\n",
      "fig.savefig('2d_Eagle.pdf')\n",
      "fits.writeto('./data/2d_Eagle.fits', data, clobber=True)"
     ],
     "language": "python",
     "metadata": {},
     "outputs": [
      {
       "output_type": "stream",
       "stream": "stdout",
       "text": [
        "Pixel Min/Max:  -217.493 1489.22\n",
        "WARNING"
       ]
      },
      {
       "output_type": "stream",
       "stream": "stdout",
       "text": [
        ": Overwriting existing file './data/2d_Eagle.fits'. [astropy.io.fits.file]\n"
       ]
      },
      {
       "metadata": {},
       "output_type": "display_data",
       "png": "[encoded data removed]",
       "text": [
        "<matplotlib.figure.Figure at 0x10e3dc650>"
       ]
      }
     ],
     "prompt_number": 18
    },
    {
     "cell_type": "code",
     "collapsed": false,
     "input": [
      "# Test a sample of the input datacube, looking at one frame, 3358 (.8857 \u00b5m)\n",
      "fig, ax = plt.subplots(figsize=(12, 16))\n",
      "ax.imshow(data, cmap=cm.hot, vmin=-10, vmax=10, interpolation='nearest')\n",
      "ax.set_title('After np.nan_num')"
     ],
     "language": "python",
     "metadata": {},
     "outputs": [
      {
       "metadata": {},
       "output_type": "pyout",
       "prompt_number": 19,
       "text": [
        "<matplotlib.text.Text at 0x113ab29d0>"
       ]
      },
      {
       "metadata": {},
       "output_type": "display_data",
       "png": "[encoded data removed]",
       "text": [
        "<matplotlib.figure.Figure at 0x10e3d5ed0>"
       ]
      }
     ],
     "prompt_number": 19
    },
    {
     "cell_type": "markdown",
     "metadata": {},
     "source": [
      "## 6.2 Collpased Slice\n",
      "\n",
      "Display a collapsed slice, given an input mode (median and mean), using the same image display limits in 5.1 (vmin=-10, vmax=10)...  \n",
      "Let's see if there are any differences without and with sigma clipping...  \n",
      "By setting the 'sigma' keyword to 0 or False, no sigma clipping will be applied."
     ]
    },
    {
     "cell_type": "markdown",
     "metadata": {},
     "source": [
      "### 6.2.1 Median (w/ and w/o sigma clipping)"
     ]
    },
    {
     "cell_type": "code",
     "collapsed": false,
     "input": [
      "# Display the median of the selected slice...\n",
      "fig, (ax1, ax2) = plt.subplots(2, 1, figsize=(12, 6))\n",
      "\n",
      "# Remove Nans from data before processing...\n",
      "data = np.nan_to_num(datacube)\n",
      "\n",
      "collapsed_cube = ifu_3d_collapse(data, sect=[3341, 3371], method='median')\n",
      "ax1.imshow(collapsed_cube, cmap=cm.hot, vmin=-10, vmax=10, interpolation='nearest')\n",
      "ax1.set_title('Median, no sigma clipping')\n",
      "print('Min/max: ', collapsed_cube.min(), collapsed_cube.max())\n",
      "print()\n",
      "\n",
      "collapsed_cube = ifu_3d_collapse(data, sect=[3341, 3371], method='median', sigma=2.0)\n",
      "ax2.imshow(collapsed_cube, cmap=cm.hot, vmin=-1, vmax=1, interpolation='nearest')\n",
      "ax2.set_title('Median, sigma clipping')\n",
      "print('Min/max: ', collapsed_cube.min(), collapsed_cube.max())\n",
      "print()"
     ],
     "language": "python",
     "metadata": {},
     "outputs": [
      {
       "output_type": "stream",
       "stream": "stdout",
       "text": [
        "***************** Dev Test *****************\n",
        "(ifu_3d_collapse): Developement test Vr. 0.2\n",
        "***************** Dev Test *****************\n",
        "(3d_collapse): Median of extracted slices:\n",
        "\n",
        "(3d_collapse): Shape of returned array: (26, 143)\n",
        "Min/max:  -16.1032 8.12896\n",
        "\n",
        "***************** Dev Test *****************\n",
        "(ifu_3d_collapse): Developement test Vr. 0.2\n",
        "***************** Dev Test *****************\n",
        "(3d_collapse): Median of extracted slices:\n",
        "(3d_collapse): Clipping data...\n",
        "\n"
       ]
      },
      {
       "output_type": "stream",
       "stream": "stdout",
       "text": [
        "(3d_collapse): Array shape: (30, 26, 143)\n",
        "\n",
        "good:  (array([ 0,  0,  0, ..., 29, 29, 29]), array([ 0,  0,  0, ..., 25, 25, 25]), array([ 13,  14,  15, ..., 137, 138, 139]))\n",
        "\n",
        "(3d_collapse): Median of extracted slices:\n",
        "-0.369838"
       ]
      },
      {
       "output_type": "stream",
       "stream": "stdout",
       "text": [
        "\n",
        "(3d_collapse): Collapsed shape: ()\n",
        "(3d_collapse): Original shape: (30, 26, 143)\n",
        "\n",
        "(3d_collapse): Shape of returned array: ()\n"
       ]
      },
      {
       "ename": "TypeError",
       "evalue": "Invalid dimensions for image data",
       "output_type": "pyerr",
       "traceback": [
        "\u001b[0;31m---------------------------------------------------------------------------\u001b[0m\n\u001b[0;31mTypeError\u001b[0m                                 Traceback (most recent call last)",
        "\u001b[0;32m<ipython-input-21-b425bb262784>\u001b[0m in \u001b[0;36m<module>\u001b[0;34m()\u001b[0m\n\u001b[1;32m     12\u001b[0m \u001b[0;34m\u001b[0m\u001b[0m\n\u001b[1;32m     13\u001b[0m \u001b[0mcollapsed_cube\u001b[0m \u001b[0;34m=\u001b[0m \u001b[0mifu_3d_collapse\u001b[0m\u001b[0;34m(\u001b[0m\u001b[0mdata\u001b[0m\u001b[0;34m,\u001b[0m \u001b[0msect\u001b[0m\u001b[0;34m=\u001b[0m\u001b[0;34m[\u001b[0m\u001b[0;36m3341\u001b[0m\u001b[0;34m,\u001b[0m \u001b[0;36m3371\u001b[0m\u001b[0;34m]\u001b[0m\u001b[0;34m,\u001b[0m \u001b[0mmethod\u001b[0m\u001b[0;34m=\u001b[0m\u001b[0;34m'median'\u001b[0m\u001b[0;34m,\u001b[0m \u001b[0msigma\u001b[0m\u001b[0;34m=\u001b[0m\u001b[0;36m2.0\u001b[0m\u001b[0;34m)\u001b[0m\u001b[0;34m\u001b[0m\u001b[0m\n\u001b[0;32m---> 14\u001b[0;31m \u001b[0max2\u001b[0m\u001b[0;34m.\u001b[0m\u001b[0mimshow\u001b[0m\u001b[0;34m(\u001b[0m\u001b[0mcollapsed_cube\u001b[0m\u001b[0;34m,\u001b[0m \u001b[0mcmap\u001b[0m\u001b[0;34m=\u001b[0m\u001b[0mcm\u001b[0m\u001b[0;34m.\u001b[0m\u001b[0mhot\u001b[0m\u001b[0;34m,\u001b[0m \u001b[0mvmin\u001b[0m\u001b[0;34m=\u001b[0m\u001b[0;34m-\u001b[0m\u001b[0;36m1\u001b[0m\u001b[0;34m,\u001b[0m \u001b[0mvmax\u001b[0m\u001b[0;34m=\u001b[0m\u001b[0;36m1\u001b[0m\u001b[0;34m,\u001b[0m \u001b[0minterpolation\u001b[0m\u001b[0;34m=\u001b[0m\u001b[0;34m'nearest'\u001b[0m\u001b[0;34m)\u001b[0m\u001b[0;34m\u001b[0m\u001b[0m\n\u001b[0m\u001b[1;32m     15\u001b[0m \u001b[0max2\u001b[0m\u001b[0;34m.\u001b[0m\u001b[0mset_title\u001b[0m\u001b[0;34m(\u001b[0m\u001b[0;34m'Median, sigma clipping'\u001b[0m\u001b[0;34m)\u001b[0m\u001b[0;34m\u001b[0m\u001b[0m\n\u001b[1;32m     16\u001b[0m \u001b[0;32mprint\u001b[0m\u001b[0;34m(\u001b[0m\u001b[0;34m'Min/max: '\u001b[0m\u001b[0;34m,\u001b[0m \u001b[0mcollapsed_cube\u001b[0m\u001b[0;34m.\u001b[0m\u001b[0mmin\u001b[0m\u001b[0;34m(\u001b[0m\u001b[0;34m)\u001b[0m\u001b[0;34m,\u001b[0m \u001b[0mcollapsed_cube\u001b[0m\u001b[0;34m.\u001b[0m\u001b[0mmax\u001b[0m\u001b[0;34m(\u001b[0m\u001b[0;34m)\u001b[0m\u001b[0;34m)\u001b[0m\u001b[0;34m\u001b[0m\u001b[0m\n",
        "\u001b[0;32m/Users/leblanc/Ureka/python/lib/python2.7/site-packages/matplotlib-1.3.0-py2.7-macosx-10.6-x86_64.egg/matplotlib/axes.pyc\u001b[0m in \u001b[0;36mimshow\u001b[0;34m(self, X, cmap, norm, aspect, interpolation, alpha, vmin, vmax, origin, extent, shape, filternorm, filterrad, imlim, resample, url, **kwargs)\u001b[0m\n\u001b[1;32m   7297\u001b[0m                        filterrad=filterrad, resample=resample, **kwargs)\n\u001b[1;32m   7298\u001b[0m \u001b[0;34m\u001b[0m\u001b[0m\n\u001b[0;32m-> 7299\u001b[0;31m         \u001b[0mim\u001b[0m\u001b[0;34m.\u001b[0m\u001b[0mset_data\u001b[0m\u001b[0;34m(\u001b[0m\u001b[0mX\u001b[0m\u001b[0;34m)\u001b[0m\u001b[0;34m\u001b[0m\u001b[0m\n\u001b[0m\u001b[1;32m   7300\u001b[0m         \u001b[0mim\u001b[0m\u001b[0;34m.\u001b[0m\u001b[0mset_alpha\u001b[0m\u001b[0;34m(\u001b[0m\u001b[0malpha\u001b[0m\u001b[0;34m)\u001b[0m\u001b[0;34m\u001b[0m\u001b[0m\n\u001b[1;32m   7301\u001b[0m         \u001b[0mself\u001b[0m\u001b[0;34m.\u001b[0m\u001b[0m_set_artist_props\u001b[0m\u001b[0;34m(\u001b[0m\u001b[0mim\u001b[0m\u001b[0;34m)\u001b[0m\u001b[0;34m\u001b[0m\u001b[0m\n",
        "\u001b[0;32m/Users/leblanc/Ureka/python/lib/python2.7/site-packages/matplotlib-1.3.0-py2.7-macosx-10.6-x86_64.egg/matplotlib/image.pyc\u001b[0m in \u001b[0;36mset_data\u001b[0;34m(self, A)\u001b[0m\n\u001b[1;32m    427\u001b[0m         if (self._A.ndim not in (2, 3) or\n\u001b[1;32m    428\u001b[0m             (self._A.ndim == 3 and self._A.shape[-1] not in (3, 4))):\n\u001b[0;32m--> 429\u001b[0;31m             \u001b[0;32mraise\u001b[0m \u001b[0mTypeError\u001b[0m\u001b[0;34m(\u001b[0m\u001b[0;34m\"Invalid dimensions for image data\"\u001b[0m\u001b[0;34m)\u001b[0m\u001b[0;34m\u001b[0m\u001b[0m\n\u001b[0m\u001b[1;32m    430\u001b[0m \u001b[0;34m\u001b[0m\u001b[0m\n\u001b[1;32m    431\u001b[0m         \u001b[0mself\u001b[0m\u001b[0;34m.\u001b[0m\u001b[0m_imcache\u001b[0m \u001b[0;34m=\u001b[0m \u001b[0mNone\u001b[0m\u001b[0;34m\u001b[0m\u001b[0m\n",
        "\u001b[0;31mTypeError\u001b[0m: Invalid dimensions for image data"
       ]
      },
      {
       "metadata": {},
       "output_type": "display_data",
       "png": "[encoded data removed]",
       "text": [
        "<matplotlib.figure.Figure at 0x11f4092d0>"
       ]
      }
     ],
     "prompt_number": 21
    },
    {
     "cell_type": "code",
     "collapsed": false,
     "input": [],
     "language": "python",
     "metadata": {},
     "outputs": []
    },
    {
     "cell_type": "markdown",
     "metadata": {},
     "source": [
      "### 6.2.2 Mean (w/ and w/o sigma clipping)"
     ]
    },
    {
     "cell_type": "code",
     "collapsed": false,
     "input": [
      "# Display the median of the selected slice...\n",
      "fig, (ax1, ax2) = plt.subplots(2, 1, figsize=(12, 6))\n",
      "\n",
      "# Remove Nans from data before processing...\n",
      "data = np.nan_to_num(datacube)\n",
      "\n",
      "# No clipping...\n",
      "collapsed_cube = ifu_3d_collapse(data, sect=[3341, 3371], method='mean')\n",
      "ax1.imshow(collapsed_cube, cmap=cm.hot, vmin=-10, vmax=10, interpolation='nearest')\n",
      "ax1.set_title('Mean, no sigma clipping')\n",
      "print('Min/max: ', collapsed_cube.min(), collapsed_cube.max())\n",
      "print()\n",
      "\n",
      "\n",
      "# Clipped...\n",
      "collapsed_cube = ifu_3d_collapse(data, sect=[3341, 3371], method='mean', sigma=1.9)\n",
      "ax2.imshow(collapsed_cube, cmap=cm.hot, vmin=-10, vmax=10, interpolation='nearest')\n",
      "ax2.set_title('Mean, sigma clipping')\n",
      "print('Min/max: ', collapsed_cube.min(), collapsed_cube.max())\n",
      "print()"
     ],
     "language": "python",
     "metadata": {},
     "outputs": []
    },
    {
     "cell_type": "markdown",
     "metadata": {},
     "source": [
      "### 6.2.3 Sum (w/ and w/o sigma clipping)"
     ]
    },
    {
     "cell_type": "code",
     "collapsed": false,
     "input": [
      "# Display the median of the selected slice...\n",
      "fig, (ax1, ax2) = plt.subplots(2, 1, figsize=(12, 6))\n",
      "\n",
      "# Remove Nans from data before processing...\n",
      "data = np.nan_to_num(datacube)\n",
      "\n",
      "collapsed_cube = ifu_3d_collapse(data, sect=[3341, 3371], method='sum')\n",
      "ax1.imshow(collapsed_cube/100., cmap=cm.hot, vmin=-10, vmax=10, interpolation='nearest')\n",
      "ax1.set_title('Sum, no sigma clipping')\n",
      "print('Min/max: ', collapsed_cube.min(), collapsed_cube.max())\n",
      "print()\n",
      "\n",
      "collapsed_cube = ifu_3d_collapse(data, sect=[3341, 3371], method='sum', sigma=2.)\n",
      "ax2.imshow(collapsed_cube/1000., cmap=cm.hot, vmin=-10, vmax=10, interpolation='nearest')\n",
      "ax2.set_title('Sum, sigma clipping')\n",
      "print('Min/max: ', collapsed_cube.min(), collapsed_cube.max())\n",
      "print()"
     ],
     "language": "python",
     "metadata": {},
     "outputs": []
    },
    {
     "cell_type": "code",
     "collapsed": false,
     "input": [],
     "language": "python",
     "metadata": {},
     "outputs": []
    },
    {
     "cell_type": "markdown",
     "metadata": {},
     "source": [
      "## 6.3 Combined IFU Basic Arithmetic Function\n",
      "---------------------------------------------\n",
      "\n",
      "It was suggested that the above basic arithmetic functions (add, subtract, multiply, divide)\n",
      "be combined into one function for easier use. There was also clarification (and a slight \n",
      "expansion) of the capabilities of this function. Below are the modes that can currently be \n",
      "performed with the combined math function on an input datacube, ifu_math():\n",
      "\n",
      "* The following basic arithmetic functions on an input datacube array:\n",
      "    * Add\n",
      "    * Subtract\n",
      "    * Multiply\n",
      "    * Divide\n",
      "\n",
      "\n",
      "* Supported input and functionality of above modes:\n",
      "    1. A **scalar** operator. The operation is computed on all the elements of the datacube array.\n",
      "    2. An **image** operator. The operation is computed on the elements of the datacube array \n",
      "        **in the z-plane**, assuming that the (x, y) dimensions of both the datacube and image \n",
      "        arrays are equal.\n",
      "    3. A **cube** operator. The operator is computed on all the elements of the datacube array, \n",
      "        element for element, assuming that **the dimensions of both the input datacube and the \n",
      "        operator cube arrays are equal**.\n",
      "        \n",
      "Below are examples of each of the supported modes:"
     ]
    },
    {
     "cell_type": "code",
     "collapsed": false,
     "input": [
      "# Read in an image and 2 datacubes for examples\n",
      "image_file = './data/2d_Eagle.fits'\n",
      "cube_file = './data/Eagle_final_m96_m93_m83_m65.fits'\n",
      "\n",
      "# Display basic information about above arrays\n",
      "print(fits.info(image_file))\n",
      "print()\n",
      "print(fits.info(cube_file))\n",
      "\n",
      "# Store arrays in seperate variables\n",
      "image = fits.getdata(image_file)\n",
      "cube = fits.getdata(cube_file)"
     ],
     "language": "python",
     "metadata": {},
     "outputs": []
    },
    {
     "cell_type": "markdown",
     "metadata": {},
     "source": [
      "### 6.3.1 Scalar Arithmetic\n",
      "Perform scalar arithmetic on an input datacube array. For this example, normalize the input datacube by the maximum value of said datacube..."
     ]
    },
    {
     "cell_type": "code",
     "collapsed": false,
     "input": [
      "# Datacube array min/max values\n",
      "cube = np.nan_to_num(cube)\n",
      "print('Datacube min/max: {}, {}'.format(cube.min(), cube.max()))\n",
      "\n",
      "# Normalize input cube to the maximum value of the entire cube\n",
      "output_array = ifu_math(cube, cube.max(), method='divide')\n",
      "\n",
      "print()\n",
      "print('Output array min/max:')\n",
      "print(output_array[3358, :, :].min(), output_array[3358, :, :].max())"
     ],
     "language": "python",
     "metadata": {},
     "outputs": []
    },
    {
     "cell_type": "code",
     "collapsed": false,
     "input": [
      "# Original and output datacubes at frame 3358\n",
      "fig, (ax1, ax2) = plt.subplots(2, 1, figsize=(12, 6))\n",
      "\n",
      "ax1.imshow(cube[3358, :, :], cmap=cm.hot, vmin=-10, vmax=10, interpolation='nearest')\n",
      "ax1.set_title('Before normalization. Limits [-10, 10] Frame: 3358')\n",
      "\n",
      "ax2.imshow(output_array[3358, :, :], cmap=cm.hot, vmin=-0.001, vmax=0.005, interpolation='nearest')\n",
      "ax2.set_title('After normalization. Limits [-0.001, 0.005] Frame: 3358')"
     ],
     "language": "python",
     "metadata": {},
     "outputs": []
    },
    {
     "cell_type": "markdown",
     "metadata": {},
     "source": [
      "### 6.3.2 3D vs. 2D Arithmetic\n",
      "Perform a 3D/2D operation (datacube vs. image). In this example, subtract an image (frme 3358 from datacube) \n",
      "from every frame of an input datacube. Planar dimensions (x, y) **MUST** be the same for both the datacube \n",
      "and image... "
     ]
    },
    {
     "cell_type": "code",
     "collapsed": false,
     "input": [
      "# Read in an image and 2 datacubes for examples\n",
      "image_file = './data/2d_Eagle.fits'\n",
      "cube_file = './data/Eagle_final_m96_m93_m83_m65.fits'\n",
      "\n",
      "# Display basic information about above arrays\n",
      "print(fits.info(image_file))\n",
      "print()\n",
      "print(fits.info(cube_file))\n",
      "\n",
      "# Store arrays in seperate variables\n",
      "image = fits.getdata(image_file)\n",
      "cube = fits.getdata(cube_file)"
     ],
     "language": "python",
     "metadata": {},
     "outputs": []
    },
    {
     "cell_type": "markdown",
     "metadata": {},
     "source": [
      "Subtracting the image (frame 3358 of the input datacube) from the datacube should result in \n",
      "a zeroed array at frame 3358 of the resulting datacube. Let's check... "
     ]
    },
    {
     "cell_type": "code",
     "collapsed": false,
     "input": [
      "# Datacube array min/max values\n",
      "cube = np.nan_to_num(cube)\n",
      "print('Datacube min/max: {}, {}'.format(cube.min(), cube.max()))\n",
      "\n",
      "# Normalize input cube to the maximum value of the entire cube\n",
      "output_array = ifu_math(cube, image, method='subtract')\n",
      "\n",
      "print()\n",
      "print('Output array min/max:')\n",
      "print(output_array[3358, :, :].min(), output_array[3358, :, :].max())"
     ],
     "language": "python",
     "metadata": {},
     "outputs": []
    },
    {
     "cell_type": "markdown",
     "metadata": {},
     "source": [
      "So far so good... Let's display the before/after as before..."
     ]
    },
    {
     "cell_type": "code",
     "collapsed": false,
     "input": [
      "# Original and output datacubes at frame 3358\n",
      "fig, (ax1, ax2) = plt.subplots(2, 1, figsize=(12, 6))\n",
      "\n",
      "ax1.imshow(cube[3358, :, :], cmap=cm.hot, vmin=-10, vmax=10, interpolation='nearest')\n",
      "ax1.set_title('Before subtraction. Limits [-10, 10] Frame: 3358')\n",
      "\n",
      "ax2.imshow(output_array[3358, :, :], cmap=cm.hot, vmin=-10, vmax=10, interpolation='nearest')\n",
      "ax2.set_title('After subtraction. Limits [-10, 10] Frame: 3358')"
     ],
     "language": "python",
     "metadata": {},
     "outputs": []
    },
    {
     "cell_type": "markdown",
     "metadata": {},
     "source": [
      "That worked! Now let's try another random frame to see if the subtraction really worked..."
     ]
    },
    {
     "cell_type": "code",
     "collapsed": false,
     "input": [
      "# Output datacube array at frame 3000\n",
      "fig, ax = plt.subplots(figsize=(12, 3))\n",
      "\n",
      "ax.imshow(output_array[3000, :, :], cmap=cm.hot, vmin=-10, vmax=10, interpolation='nearest')\n",
      "ax.set_title('After subtraction. Limits [-10, 10] Frame: 3000')"
     ],
     "language": "python",
     "metadata": {},
     "outputs": []
    },
    {
     "cell_type": "markdown",
     "metadata": {},
     "source": [
      "That seems to have worked as well! The orange regions (e.g., top-left, bottom-right) are zeroed out due to \n",
      "the Nans here replaced by zeroes."
     ]
    },
    {
     "cell_type": "code",
     "collapsed": false,
     "input": [],
     "language": "python",
     "metadata": {},
     "outputs": []
    },
    {
     "cell_type": "markdown",
     "metadata": {},
     "source": [
      "### 6.3.3 3D vs. 3D Arithmetic\n",
      "Perform a 3D/3D operation (datacube vs. datacube). In this example, multiply an input datacube \n",
      "by a mask datacube. Dimensions for both datacubes (array_input and operator) **MUST** be the same..."
     ]
    },
    {
     "cell_type": "code",
     "collapsed": false,
     "input": [
      "# Read in datacube\n",
      "cube_file = './data/Eagle_final_m96_m93_m83_m65.fits'\n",
      "print(fits.info(cube_file))\n",
      "cube = fits.getdata(cube_file)\n",
      "\n",
      "# Create a mask datacube as the input operator\n",
      "mask_array = np.ones(6000*26*143).reshape(6000, 26, 143)\n",
      "print()\n",
      "print('Mask array dimensions:')\n",
      "print(mask_array.shape)\n",
      "\n",
      "# Generate a mask image every 4 frames\n",
      "x = np.arange(mask_array.shape[1])\n",
      "mask_array[::3, :, 65:75] = 0\n",
      "mask_array[::3, 10:15, :] = 0"
     ],
     "language": "python",
     "metadata": {},
     "outputs": []
    },
    {
     "cell_type": "code",
     "collapsed": false,
     "input": [
      "# Output mask array at frame 3358 and 3360 as a sample\n",
      "fig, (ax1, ax2) = plt.subplots(2, 1, figsize=(12, 6))\n",
      "\n",
      "ax1.imshow(mask_array[3358, :, :], cmap=cm.hot, vmin=-1, vmax=1, interpolation='nearest')\n",
      "ax1.set_title('Mask image at frame 3558')\n",
      "\n",
      "ax2.imshow(mask_array[3360, :, :], cmap=cm.hot, vmin=-1, vmax=1, interpolation='nearest')\n",
      "ax2.set_title('Mask image at frame 3360')"
     ],
     "language": "python",
     "metadata": {},
     "outputs": []
    },
    {
     "cell_type": "code",
     "collapsed": false,
     "input": [
      "# Multiply the cube by the mask...\n",
      "output_array = ifu_math(cube, mask_array, method='multiply')\n",
      "\n",
      "# Display the same two frames of the output array...\n",
      "fig, (ax1, ax2) = plt.subplots(2, 1, figsize=(12, 6))\n",
      "\n",
      "ax1.imshow(output_array[3358, :, :], cmap=cm.hot, vmin=-10, vmax=10, interpolation='nearest')\n",
      "ax1.set_title('Mask image at frame 3558')\n",
      "\n",
      "ax2.imshow(output_array[3360, :, :], cmap=cm.hot, vmin=-10, vmax=10, interpolation='nearest')\n",
      "ax2.set_title('Mask image at frame 3360')"
     ],
     "language": "python",
     "metadata": {},
     "outputs": []
    },
    {
     "cell_type": "markdown",
     "metadata": {},
     "source": [
      "### 6.3.4 3D vs. 1D Arithmetic\n",
      "Perform a 3D/1D operation (datacube vs. 1D array, e.g., a spectrum). In this example, subtract an \n",
      "input spectrum from a datacube for each wavelength frame. Dimension of the input spectrum **MUST** \n",
      "match the wavelength solution dimension (z-space).\n",
      "\n",
      "*Note:* This will function as a 3D vs. 3D arithmetic operation; the input spectrum is converted \n",
      "into a datacube of equal dimensions as the input datacube, with each frame having the value of \n",
      "its corresponding wavelength flux value."
     ]
    },
    {
     "cell_type": "code",
     "collapsed": false,
     "input": [
      "# Read in datacube, and replace Nans w/ 0\n",
      "cube_file = './data/Eagle_final_m96_m93_m83_m65.fits'\n",
      "print(fits.info(cube_file))\n",
      "print()\n",
      "cube = fits.getdata(cube_file)\n",
      "cube = np.nan_to_num(cube)\n",
      "print('Cube min/max: ({}, {})'.format(cube.min(), cube.max()))\n",
      "\n",
      "# Extract a spectrum from the source near the center of cube\n",
      "# (in z-space), for ONE pixel (or spaxel)\n",
      "spectrum = cube[:, 9, 75]\n",
      "print('Spectrum min/max: ({}, {})'.format(spectrum.min(), spectrum.max()))\n",
      "\n",
      "# Display spectrum\n",
      "fig, (ax1, ax2) = plt.subplots(2, 1, figsize=(12, 6))\n",
      "\n",
      "# Entire spectrum...\n",
      "ax1.plot(spectrum)\n",
      "ax1.set_title('Entire spectrum')\n",
      "\n",
      "# ...and zoomed in around frame 3358, for example\n",
      "ax2.plot(spectrum)\n",
      "ax2.set_xlim(3341, 3371)\n",
      "ax2.set_ylim(-10, 30)\n",
      "ax2.set_title('Spectrum Range Frames: 3341-3371')"
     ],
     "language": "python",
     "metadata": {},
     "outputs": []
    },
    {
     "cell_type": "code",
     "collapsed": false,
     "input": [
      "# Subtract the spectrum from the cube, i.e., subtract every spectral value from\n",
      "# every frame in the cube.\n",
      "output_array = ifu_math(cube, spectrum, method='subtract')\n",
      "\n",
      "# Display a few frames of the output_array...\n",
      "fig, (ax1, ax2, ax3) = plt.subplots(3, 1, figsize=(12, 9))\n",
      "\n",
      "ax1.imshow(output_array[3358, :, :], cmap=cm.hot, vmin=-10, vmax=10, interpolation='nearest')\n",
      "ax1.set_title('Spectrum Subtracted, Frame: 3358')\n",
      "\n",
      "ax2.imshow(output_array[1000, :, :], cmap=cm.hot, vmin=-10, vmax=10, interpolation='nearest')\n",
      "ax2.set_title('Spectrum Subtracted, Frame: 1000')\n",
      "\n",
      "ax3.imshow(output_array[5000, :, :], cmap=cm.hot, vmin=-10, vmax=10, interpolation='nearest')\n",
      "ax3.set_title('Spectrum Subtracted, Frame: 5000')"
     ],
     "language": "python",
     "metadata": {},
     "outputs": []
    },
    {
     "cell_type": "markdown",
     "metadata": {},
     "source": [
      "No crashes, and the results look credible! Let's compare with the original datacube for each frame..."
     ]
    },
    {
     "cell_type": "code",
     "collapsed": false,
     "input": [
      "# Display a few frames of the original datacube...\n",
      "fig, (ax1, ax2, ax3) = plt.subplots(3, 1, figsize=(12, 9))\n",
      "\n",
      "ax1.imshow(cube[3358, :, :], cmap=cm.hot, vmin=-10, vmax=10, interpolation='nearest')\n",
      "ax1.set_title('Original Datacube, Frame: 3358')\n",
      "\n",
      "ax2.imshow(cube[1000, :, :], cmap=cm.hot, vmin=-10, vmax=10, interpolation='nearest')\n",
      "ax2.set_title('Original Datacube, Frame: 1000')\n",
      "\n",
      "ax3.imshow(cube[5000, :, :], cmap=cm.hot, vmin=-10, vmax=10, interpolation='nearest')\n",
      "ax3.set_title('Original Datacube, Frame: 5000')"
     ],
     "language": "python",
     "metadata": {},
     "outputs": []
    },
    {
     "cell_type": "code",
     "collapsed": false,
     "input": [],
     "language": "python",
     "metadata": {},
     "outputs": []
    },
    {
     "cell_type": "markdown",
     "metadata": {},
     "source": [
      "7. Sigma Clip Test\n",
      "==================\n",
      "\n",
      "This section is to test the sigma clipping functionality of ifu_3d_collapse() function."
     ]
    },
    {
     "cell_type": "code",
     "collapsed": false,
     "input": [
      "# Setup inline plotting environment\n",
      "%matplotlib inline"
     ],
     "language": "python",
     "metadata": {},
     "outputs": [],
     "prompt_number": 22
    },
    {
     "cell_type": "code",
     "collapsed": false,
     "input": [
      "# Import global modules\n",
      "import numpy as np\n",
      "from astropy.stats.funcs import sigma_clip\n",
      "import matplotlib.pyplot as plt\n",
      "import matplotlib.cm as cm\n",
      "from __future__ import print_function"
     ],
     "language": "python",
     "metadata": {},
     "outputs": [],
     "prompt_number": 23
    },
    {
     "cell_type": "markdown",
     "metadata": {},
     "source": [
      "### 7.1 Generate sample"
     ]
    },
    {
     "cell_type": "code",
     "collapsed": false,
     "input": [
      "# Generate an image (2D) of random numbers given mu, sigma\n",
      "mu, sigma = 0, 15\n",
      "image = np.random.normal(loc=mu, scale=sigma, size=(20, 20))\n",
      "\n",
      "# Display the image w/ a colorbar\n",
      "sample = image\n",
      "fig, (ax, a_hist) = plt.subplots(1, 2, figsize=(18, 6))\n",
      "cax = ax.imshow(sample, cmap=cm.hot, interpolation='nearest')\n",
      "ax.set_xlabel('x')\n",
      "ax.set_ylabel('y')\n",
      "ax.set_title('$\\mu$={}, $\\sigma$={}, sample={}'.format(mu, sigma, image.size))\n",
      "fig.colorbar(cax, ax=ax)\n",
      "\n",
      "# Retrieve image plotting limits for later use\n",
      "im_min, im_max = cax.get_clim()\n",
      "\n",
      "\n",
      "# Set the number of bins based on binsize\n",
      "sample_min, sample_max = np.min(sample), np.max(sample)\n",
      "binsize = 1\n",
      "num_bins = np.int(np.floor((sample_max - sample_min) / binsize))\n",
      "\n",
      "print('{} bins needed based on input binsize of {}.'.format(num_bins, binsize))\n",
      "print('Sample min/max: [{} / {}]'.format(sample_min, sample_max))\n",
      "\n",
      "# Plot a histogram of the sample\n",
      "n, bins, patches = a_hist.hist(sample.flatten(), num_bins, lw=2., color='green')\n",
      "a_hist.set_xlabel('Sample')\n",
      "a_hist.set_ylabel('Frequency')\n",
      "a_hist.set_title('Full Sample')\n",
      "\n",
      "# Get histogram limits to include below\n",
      "hist_lim = a_hist.get_xlim()"
     ],
     "language": "python",
     "metadata": {},
     "outputs": [
      {
       "output_type": "stream",
       "stream": "stdout",
       "text": [
        "92 bins needed based on input binsize of 1.\n",
        "Sample min/max: [-44.5922308069 / 48.143688279]\n"
       ]
      },
      {
       "metadata": {},
       "output_type": "display_data",
       "png": "[encoded data removed]",
       "text": [
        "<matplotlib.figure.Figure at 0x11eea4550>"
       ]
      }
     ],
     "prompt_number": 24
    },
    {
     "cell_type": "markdown",
     "metadata": {},
     "source": [
      "### 7.2 Apply Sigma Clipping"
     ]
    },
    {
     "cell_type": "code",
     "collapsed": false,
     "input": [
      "# Perform a sigma clip, given a sigma limit. > 3 should return the same array\n",
      "clipped_sample = sigma_clip(sample, sig=1, iters=None, copy=True)\n",
      "\n",
      "# Display clipped sample image\n",
      "fig, (ax1, ax2) = plt.subplots(1, 2, figsize=(18, 9))\n",
      "cax1 = ax1.imshow(sample, cmap=cm.hot, interpolation='nearest')\n",
      "ax1.set_title('Original Sample')\n",
      "fig.colorbar(cax1, ax=ax1, shrink=0.73)\n",
      "\n",
      "cax2 = ax2.imshow(clipped_sample, cmap=cm.hot, interpolation='nearest', vmin=im_min, vmax=im_max)\n",
      "ax2.set_title('Sigma Clipped Sample')\n",
      "fig.colorbar(cax2, ax=ax2, shrink=0.73)\n",
      "\n",
      "# Generate a new array without the clipped values...\n",
      "clipped_array = clipped_sample.compressed()\n",
      "        \n",
      "# Check for sample/clipped sample parity...\n",
      "if np.array_equal(sample.flatten(), clipped_array): \n",
      "    print('Arrays are exactly the same, no clipping occured!')\n",
      "else:\n",
      "    print('Clipping occured.')"
     ],
     "language": "python",
     "metadata": {},
     "outputs": [
      {
       "output_type": "stream",
       "stream": "stdout",
       "text": [
        "Clipping occured.\n"
       ]
      },
      {
       "metadata": {},
       "output_type": "display_data",
       "png": "[encoded data removed]",
       "text": [
        "<matplotlib.figure.Figure at 0x11eec3210>"
       ]
      }
     ],
     "prompt_number": 25
    },
    {
     "cell_type": "markdown",
     "metadata": {},
     "source": [
      "### 7.3 Display Clipped Image/Histogram"
     ]
    },
    {
     "cell_type": "code",
     "collapsed": false,
     "input": [
      "# Display the clipped image w/ a colorbar\n",
      "fig, (ax, a_hist) = plt.subplots(1, 2, figsize=(18, 6))\n",
      "cax = ax.imshow(clipped_sample.filled(fill_value=np.nan), cmap=cm.hot, interpolation='nearest', \n",
      "                vmin=im_min, vmax=im_max)\n",
      "ax.set_xlabel('x')\n",
      "ax.set_ylabel('y')\n",
      "ax.set_title('$\\mu$={}, $\\sigma$={}, sample={}'.format(mu, sigma, clipped_array.size))\n",
      "fig.colorbar(cax, ax=ax)\n",
      "\n",
      "# Set the number of bins based on binsize\n",
      "sample_min, sample_max = np.min(clipped_array), np.max(clipped_array)\n",
      "binsize = binsize\n",
      "num_bins = np.int(np.floor((sample_max - sample_min) / binsize))\n",
      "\n",
      "print('{} bins needed based on input binsize of {}.'.format(num_bins, binsize))\n",
      "print('Sample min/max: [{} / {}]'.format(sample_min, sample_max))\n",
      "\n",
      "# Plot a histogram of the sample\n",
      "n, bins, patches = a_hist.hist(clipped_array, num_bins, lw=2., color='cyan')\n",
      "a_hist.set_xlim(hist_lim)\n",
      "a_hist.set_xlabel('Sample')\n",
      "a_hist.set_ylabel('Frequency')\n",
      "a_hist.set_title('Clipped Sample')"
     ],
     "language": "python",
     "metadata": {},
     "outputs": [
      {
       "output_type": "stream",
       "stream": "stdout",
       "text": [
        "2 bins needed based on input binsize of 1.\n",
        "Sample min/max: [-2.15809120481 / 0.490970668323]\n"
       ]
      },
      {
       "metadata": {},
       "output_type": "pyout",
       "prompt_number": 26,
       "text": [
        "<matplotlib.text.Text at 0x11f4864d0>"
       ]
      },
      {
       "metadata": {},
       "output_type": "display_data",
       "png": "[encoded data removed]",
       "text": [
        "<matplotlib.figure.Figure at 0x11f6342d0>"
       ]
      }
     ],
     "prompt_number": 26
    },
    {
     "cell_type": "markdown",
     "metadata": {},
     "source": [
      "### 7.4 Selecting/Displaying Good/Bad Data"
     ]
    },
    {
     "cell_type": "code",
     "collapsed": false,
     "input": [
      "good = clipped_sample.data[~clipped_sample.mask]\n",
      "bad = clipped_sample.data[clipped_sample.mask]\n",
      "\n",
      "print('Retained Data, {} items:'.format(len(good)))\n",
      "print(good)\n",
      "print()\n",
      "print('Rejected Data, {} items:'.format(len(bad)))\n",
      "print(bad)"
     ],
     "language": "python",
     "metadata": {},
     "outputs": [
      {
       "output_type": "stream",
       "stream": "stdout",
       "text": [
        "Retained Data, 37 items:\n",
        "[-1.94716388 -1.38991012 -1.62014277 -0.01915626 -0.09193946 -1.18373023\n",
        " -1.7658436   0.16633103 -1.05999531  0.16112954 -1.51771055 -0.25839699\n",
        " -2.1245035  -0.45058996 -0.21282182 -0.9296183  -0.97589043 -1.31178853\n",
        "  0.09096244  0.15437875 -1.74255115 -0.45452512 -0.87494854 -1.41204768\n",
        "  0.1123662   0.09323237 -0.52609712 -0.04592142 -1.16728451 -1.88485\n",
        " -0.97814538 -2.1580912  -2.12861399 -1.20119645  0.23558153 -0.27420441\n",
        "  0.49097067]\n",
        "\n",
        "Rejected Data, 363 items:\n",
        "[  8.67587498   4.94891972  -4.59319373  24.02273864  10.45725423\n",
        "  -8.17757953  -3.74559626   9.43893627  12.00555286   4.87070358\n",
        "  -4.84511908   9.41521263 -10.32921218 -17.93617618   9.76896676\n",
        " -11.19548851  -4.80473681   0.77613326   6.22361636   4.7563628\n",
        "  15.64642069   6.04103658  -7.4402595    9.99957544   9.21855742\n",
        "  -2.85320304  36.48481179  10.8895522   21.65154042  -4.41280033\n",
        "  -3.24480883   1.81457149  12.46547845   4.8116159   22.25086329\n",
        " -34.88584748 -21.13488968   5.05252704 -44.59223081 -27.86563725\n",
        " -12.93451428  16.2257272   -5.12453705  12.15238333  15.231866\n",
        "  -7.85705713  -8.07930965 -25.08061831 -31.5713801  -17.99904972\n",
        "  -7.48414261  -4.63711145  -6.28014538  -2.72967806   9.37622905\n",
        "   1.73552252   9.88229303   1.33781537 -16.39141895 -17.59536489\n",
        "  -8.51917298   5.12087964   6.855162   -13.47813502  15.85302633\n",
        " -14.83747371 -20.71579085   5.98010875 -25.12880707  16.37640225\n",
        "  -5.89751073 -20.5323588  -27.86374989  -3.69654271 -23.21731042\n",
        "   3.63208776  -5.5671655  -15.20669622 -14.2512416   21.50675391\n",
        " -15.91517881  -7.23735526   7.98698537   6.92432475  -2.53746031\n",
        " -12.37623352   2.57238753 -23.68502384   6.32948095  14.77497199\n",
        " -14.72082868 -12.36846724   4.50462434   7.29486665  17.45767457\n",
        " -17.6576408   -6.35321661  35.39690171 -15.35157208   0.71763851\n",
        " -28.16400434  -2.8603614   10.14513415   1.08494333   6.14048884\n",
        "   6.44171832 -12.89427552  -5.97429906  -2.75851656  14.36809405\n",
        "  29.89515641 -24.64742703 -12.58095286  -9.02721625  15.29929092\n",
        " -11.10763518  -9.37202108  15.83416989   7.01361772  -8.89195341\n",
        "   1.63157023 -12.98092028   8.92315246 -16.10202147  13.26516105\n",
        " -13.44151787   1.03410576  11.24406102 -10.12441518  17.94076284\n",
        "  15.64257538 -17.19289486   2.87939504 -12.92741107  -5.15562431\n",
        "  -6.77648933  -9.30063084  15.87154524 -31.63782964  -5.60494585\n",
        "  -6.27143884   4.15776943  16.67852231 -27.69887958  -4.49073084\n",
        "  -7.41731173  31.57581915  -9.17333875 -30.94282049   9.88583087\n",
        " -13.55155669  25.85577974  19.53662183 -23.67733532   2.01492101\n",
        "  12.3067707  -11.25078954   2.38116835  -7.35394242  -3.43557506\n",
        "   4.89471063  -6.1130607   -2.49131022 -20.98162735  -8.63473678\n",
        "  -8.14895275  -5.72223627 -40.69514053   9.86411539 -28.82390751\n",
        "  15.69155799 -21.90185805  -6.19498452  16.45517752  14.90895836\n",
        " -12.24487412   9.53666401   9.39289136   2.18666625 -22.70943082\n",
        "  -5.48522037  -5.8034083    2.55417934  -5.00377946 -17.36187193\n",
        "  -3.38219963  -5.89060066  17.92541053   7.20110513  18.49472218\n",
        "   9.1919827  -16.49362792  -9.49009939  23.33924096  17.22429654\n",
        " -20.41892708  13.33550665  10.51473486   6.12535492  -5.64140636\n",
        "   8.23763496  -8.28145207 -17.49101957  13.00366127  23.11906974\n",
        "  23.56472297  20.20619516   2.81794047 -16.58532964  10.23208364\n",
        "  12.58879477  12.86071217   5.86249694  12.97801092   7.04045103\n",
        "  -9.20117141 -16.93955256   3.34722838   6.65776162 -14.17004993\n",
        " -17.36976238  36.994043    10.55397228  48.14368828  -3.84366569\n",
        "   4.64699173 -15.78699006  -2.54742967 -14.22600547 -12.15720943\n",
        " -13.11642303  -7.96271058   6.4514927    8.45652675  31.18216057\n",
        "  -7.65527576  -5.02034425  -6.94424591   2.65168677  18.90490617\n",
        "  24.39705792   1.81964793 -15.72621402 -14.45082901  34.67290583\n",
        "  24.05750453  10.94699256 -18.78004766   3.3486836   14.29396547\n",
        " -32.18049897  26.22437105  10.62694462  11.78531815  11.21590412\n",
        "  -5.31447059  14.84548042  13.30889387  -5.06832391  -9.34234639\n",
        "  -2.49877984  -7.26107268   2.52635913  13.8732211   -3.85619136\n",
        "  10.58834456 -23.48269472  22.59818442  13.41576786  23.6093834\n",
        "   6.62870428  10.70266232 -19.03738715  27.70245544  25.25540705\n",
        "   1.34741325 -20.93865177  -4.01235054  -5.65538614  14.97605538\n",
        "  21.71470397   4.63289998  -8.72214841 -12.31979961 -13.95272728\n",
        "  -2.88425662  -3.10509316   3.41709039  -7.22917322  26.92006857\n",
        "  19.43162758 -17.70436386   3.64108651   4.74142978   2.85661014\n",
        "  21.22007273 -12.94599194   6.86973921  13.77538735  -4.58331046\n",
        " -23.9141081    9.24770757  20.90478725 -17.11648487  18.78154106\n",
        "   0.67126364  -9.02626857   2.5281408   11.0170579    9.50233565\n",
        " -23.30934017   4.83196227  34.37522986  10.12554809   2.6741726\n",
        " -29.2388964    2.94673383  -3.91047896   3.50834828  15.16343676\n",
        "   1.8098956  -10.08848732  24.80510334  16.89504965   2.84638089\n",
        " -24.89254519  -6.80819857   9.20911222  -6.22450088 -30.97999495\n",
        "  16.26441509  34.13784592  -4.63938176   4.49654077  40.36162848\n",
        "  -6.30822848  -5.7153975    9.4297578   -4.231892   -24.79430655\n",
        "   1.29858475  -4.74333541  -6.23853437   7.80961479   8.17311305\n",
        "   0.83522307   3.13568842  10.75105267   4.24740766  20.31431843\n",
        "  -9.87305421   7.52214703  15.54453809 -16.33330884   6.40258962\n",
        " -21.55946885  -3.38756587  42.20472007  30.57267276  20.87870791\n",
        " -13.39491057 -14.26461174   4.41762139]\n"
       ]
      }
     ],
     "prompt_number": 27
    },
    {
     "cell_type": "code",
     "collapsed": false,
     "input": [
      "test = clipped_sample.nonzero()\n",
      "boosted = np.copy(sample)\n",
      "boosted[test] = boosted[test]*100\n",
      "\n",
      "print('Original Data:')\n",
      "print(clipped_sample[0, :].data)\n",
      "print()\n",
      "print('Clipped Data:')\n",
      "print(clipped_sample[0, :])\n",
      "print()\n",
      "print('Boosted Data (only to non-clipped):')\n",
      "print(boosted[0, :])\n",
      "print()"
     ],
     "language": "python",
     "metadata": {},
     "outputs": []
    },
    {
     "cell_type": "markdown",
     "metadata": {},
     "source": [
      "### 7.5 Generate an array w/o clipped values (omitting clipped values?)\n",
      "\n",
      "As an example, amplify only the retained values after sigma clipping...  \n",
      "Here, I am only trying to boost the pixels that have been retained after the sigma clip procedure."
     ]
    },
    {
     "cell_type": "code",
     "collapsed": false,
     "input": [
      "#amped_array = 100 * clipped_sample[~clipped_sample.mask].data\n",
      "test = clipped_sample.nonzero()\n",
      "amped_array = clipped_sample.data[np.array(sample)] * 100.\n",
      "\n",
      "\n",
      "print(clipped_sample.min(), clipped_sample.max())\n",
      "print(amped_array.min(), amped_array.max())\n",
      "print(sample.min(), sample.max())\n",
      "print()\n",
      "print(type(amped_array), amped_array.shape)"
     ],
     "language": "python",
     "metadata": {},
     "outputs": []
    },
    {
     "cell_type": "code",
     "collapsed": false,
     "input": [
      "slc = 0\n",
      "print('Original Sample:')\n",
      "print(sample[slc, :])\n",
      "print()\n",
      "print('Clipped Array:')\n",
      "print(clipped_sample[slc, :])\n",
      "print()\n",
      "print('Clipped Array Mask:')\n",
      "print(clipped_sample.mask[slc, :])\n",
      "print()\n",
      "print('Amped Array:')\n",
      "print(amped_array[slc, :])"
     ],
     "language": "python",
     "metadata": {},
     "outputs": []
    },
    {
     "cell_type": "code",
     "collapsed": false,
     "input": [
      "test = clipped_sample\n",
      "print(test.count())\n",
      "\n",
      "#for ii in clipped_sample.mask:\n",
      "#    print(ii)\n",
      "#    if isTrue:\n",
      "#        amped_array[isTrue] = clipped_sample.data[isTrue]\n",
      "#    else:\n",
      "#        amped_array[isTrue] = clipped_sample.data[isTrue] * 100"
     ],
     "language": "python",
     "metadata": {},
     "outputs": []
    },
    {
     "cell_type": "code",
     "collapsed": false,
     "input": [
      "print(clipped_sample.mask.flatten())"
     ],
     "language": "python",
     "metadata": {},
     "outputs": []
    },
    {
     "cell_type": "code",
     "collapsed": false,
     "input": [],
     "language": "python",
     "metadata": {},
     "outputs": []
    },
    {
     "cell_type": "code",
     "collapsed": false,
     "input": [
      "sett = np.array(test)\n",
      "print(sett)\n",
      "pos = 0\n",
      "sett[0, pos], sett[1, pos]\n",
      "print()\n",
      "print(clipped_sample.data[sett])"
     ],
     "language": "python",
     "metadata": {},
     "outputs": []
    },
    {
     "cell_type": "markdown",
     "metadata": {},
     "source": [
      "# Development Log\n",
      "-----------------\n",
      "\n",
      "June 3, 2014\n",
      "------------\n",
      "\n",
      "1. ~~Combine the basic arithmetic operarions of ifu_x() (add, subtract, multiply, divide) \n",
      "    into one function, ifu_math().~~\n",
      "2. ~~Include smart dimensioning into the logic to determine if operations are between \n",
      "    datacube vs. scalar, image, or cube (3D vs. constant, 2D, or 3D).~~\n",
      "3. ~~Script collapsing a region of an input datacube using:~~\n",
      "    * ~~sum~~\n",
      "    * ~~mean~~\n",
      "    * ~~median~~\n",
      "        \n",
      "        \n",
      "June 10, 2014\n",
      "-------------\n",
      "\n",
      "1. ~~Complete the 3D vs. 3D basic arithmetic operation test in Section **6.3.3** above.~~\n",
      "2. ~~Script into ifu_math() the ability to subtract a 1D spectrum from the entire input \n",
      "    datacube (3D vs. 1D) in the z-dimension (per wavelength).~~\n",
      "3. Ensure that for 3D vs. 3D arithmetic that:  \n",
      "    * ~~array dimensions are the same.~~\n",
      "    * wavelength solutions are the same for both datacubes (for later discussion)\n",
      "4. ~~Change \"mode\" keyword in ifu_3d_collapse() to \"method\" to prevent confusion.~~\n",
      "5. ~~Implement the following methods and changes to ifu_3d_collapse:~~\n",
      "    * ~~Two additional options; one for wether sigma clipping is desired \n",
      "        (DEFAULT, sigma_clip=False), and another to accept a threshold for sigma \n",
      "        clipping (DEFAULT, sigma_thres=0.)~~\n",
      "    * ~~sum~~\n",
      "    * ~~median~~\n",
      "    * ~~mean~~\n",
      "6. Task #2-2: **Extract 1D spectral traces using user-defined regions or values**\n",
      "        * See region3d option in DS9 Vr. 7.0 and above for some reference\n",
      "        * Investigate selecting/creating shapes in Python...\n",
      "        \n",
      "        \n",
      "June 26, 2014\n",
      "-------------\n",
      "\n",
      "1. Development Notebook rewritten to seperate tests from the rest of the code\n",
      "    * Tests are can now be run independent of the routines\n",
      "    * Done for both ifu_math() and ifu_3d_collapse() modules\n",
      "2. Added sigma clipping capability to ifu_3d_collapse() routine.\n",
      "    * Currently being tested.\n",
      "    * Use both Eagle_Nebula (from Susan) and NGC_4151 (from Tracy)\n",
      "3. Use imported ifu_math() and ifu_3d_collapse() routines instead of the Notebook\n",
      "    defined.\n",
      "4. Convert the IFU_routines Notebook to function more like a support manual w/ use\n",
      "    case examples."
     ]
    },
    {
     "cell_type": "markdown",
     "metadata": {},
     "source": [
      "Scratch\n",
      "======="
     ]
    },
    {
     "cell_type": "code",
     "collapsed": false,
     "input": [],
     "language": "python",
     "metadata": {},
     "outputs": []
    },
    {
     "cell_type": "code",
     "collapsed": false,
     "input": [],
     "language": "python",
     "metadata": {},
     "outputs": []
    },
    {
     "cell_type": "code",
     "collapsed": false,
     "input": [
      "def ifu_add(array_in, x):\n",
      "    \"\"\"\n",
      "    Add a scalar value to an input array (list, image, \n",
      "    or cube).\n",
      "    \n",
      "    Keyword arguments:\n",
      "    array_in  -- The input array. Can be a list, image, \n",
      "                 or cube.\n",
      "    \n",
      "    Output(s):\n",
      "    array_out -- The list, image, or cube added output \n",
      "                 array.\n",
      "    \n",
      "    Example usage:\n",
      "    \n",
      "        >> ifu_add(image, 100)\n",
      "        \n",
      "        Add the scalar value 100 to image.\n",
      "    \"\"\"\n",
      "    import numpy as np\n",
      "        \n",
      "    # Add x to the input array, and return the result.\n",
      "    array_out = np.add(array_in, x)\n",
      "    \n",
      "    return array_out"
     ],
     "language": "python",
     "metadata": {},
     "outputs": []
    },
    {
     "cell_type": "code",
     "collapsed": false,
     "input": [
      "def ifu_subtract(array_in, x):\n",
      "    \"\"\"\n",
      "    Subtract a scalar value from an input array (list, image, \n",
      "    or cube).\n",
      "    \n",
      "    Keyword arguments:\n",
      "    array_in  -- The input array. Can be a list, image, or \n",
      "                 cube.\n",
      "    \n",
      "    Output(s):\n",
      "    array_out -- The list, image or cube subtracted output array.\n",
      "    \n",
      "    Example usage:\n",
      "    \n",
      "        >> ifu_subtract(image, 59)\n",
      "        \n",
      "        Subtract the scalar value 59 to image. image can be a \n",
      "        list, image or cube.\n",
      "    \"\"\"\n",
      "\n",
      "    import numpy as np\n",
      "    \n",
      "    # Subtract x from the input array and return the result.\n",
      "    array_out = np.subtract(array_in, x)\n",
      "    \n",
      "    return array_out"
     ],
     "language": "python",
     "metadata": {},
     "outputs": []
    },
    {
     "cell_type": "code",
     "collapsed": false,
     "input": [
      "def ifu_multiply(array_in, x):\n",
      "    \"\"\"\n",
      "    Multiply an input array (list, image, or cube) by a scalar.\n",
      "    \n",
      "    Keyword arguments:\n",
      "    array_in -- The input array. Can be a list, image, or cube.\n",
      "    \n",
      "    Output(s):\n",
      "    array_out -- The resulting list, image, or cube array.\n",
      "    \n",
      "    Example usage:\n",
      "    \n",
      "        >> ifu_multiply(image, 3.5)\n",
      "        \n",
      "        Multiply input image array by 3.5.\n",
      "    \"\"\"\n",
      "    import numpy as np\n",
      "    \n",
      "    # Multiply input array by scalar x.\n",
      "    array_out = np.multiply(array_in, x)\n",
      "    \n",
      "    return array_out"
     ],
     "language": "python",
     "metadata": {},
     "outputs": []
    },
    {
     "cell_type": "code",
     "collapsed": false,
     "input": [
      "def ifu_divide(array_in, x):\n",
      "    \"\"\"\n",
      "    Divide an input array (list, image, or cube) by a scalar.\n",
      "    \n",
      "    Keyword arguments:\n",
      "    array_in -- The input array. Can be a list, image, or cube.\n",
      "    \n",
      "    Output(s):\n",
      "    array_out -- The resulting list, image, or cube array.\n",
      "    \n",
      "    Example usage:\n",
      "    \n",
      "        >> ifu_divide(image, 2.0)\n",
      "        \n",
      "        Divide input image array by 2.0.\n",
      "    \"\"\"\n",
      "    import numpy as np\n",
      "    \n",
      "    # Divide array by scalar x\n",
      "    array_out = np.divide(array_in, x)\n",
      "    \n",
      "    return array_out"
     ],
     "language": "python",
     "metadata": {},
     "outputs": []
    },
    {
     "cell_type": "code",
     "collapsed": false,
     "input": [],
     "language": "python",
     "metadata": {},
     "outputs": []
    },
    {
     "cell_type": "code",
     "collapsed": false,
     "input": [
      "infile = './data/NGC4151_Hband.fits'\n",
      "print(fits.info(infile))\n",
      "print()\n",
      "\n",
      "ngcCube = fits.getdata(infile, 1)"
     ],
     "language": "python",
     "metadata": {},
     "outputs": []
    },
    {
     "cell_type": "code",
     "collapsed": false,
     "input": [
      "# Read in crpix, crval, and cdelt valuesfrom the header.\n",
      "# Convert crpix and crdelt values from angstroms to microns\n",
      "header = fits.getheader('./data/NGC4151_Hband.fits', ext=1)\n",
      "crpix = header['CRPIX3']\n",
      "crval = header['CRVAL3']/1.e4\n",
      "cdelt = header['CDELT3']/1.e4\n",
      "\n",
      "print(crpix, crval, cdelt)\n",
      "\n",
      "cals = [crpix, crval, cdelt]\n",
      "\n",
      "print(wave_convert(1.6478, cals))\n",
      "print(wave_convert(1.65, cals))\n",
      "print(frame_convert(0, cals))\n",
      "print(frame_convert(2040, cals))"
     ],
     "language": "python",
     "metadata": {},
     "outputs": []
    },
    {
     "cell_type": "code",
     "collapsed": false,
     "input": [
      "# Print one frame in NGC4151\n",
      "fig, ((ax1, ax2), (ax3, ax4)) = plt.subplots(2, 2, figsize=(12, 12), sharex=True, sharey=True)\n",
      "\n",
      "ax1.imshow(ngcCube[1071, :, :], vmin=-10, vmax=100, cmap=cm.hot, interpolation='nearest')\n",
      "ax1.set_title('Frame 1071 (1.6478 $\\mu m$)')\n",
      "\n",
      "ax2.imshow(ngcCube[1084, :, :], vmin=-10, vmax=100, cmap=cm.hot, interpolation='nearest')\n",
      "ax2.set_title('Frame 1084 (1.65 $\\mu m$)')\n",
      "\n",
      "collapsed = ifu_3d_collapse(ngcCube, sect=[1071, 1084], method='mean')\n",
      "ax3.imshow(collapsed, vmin=-10, vmax=100, cmap=cm.hot, interpolation='nearest')\n",
      "ax3.set_title('Mean colapse (1.6478 - 1.65 $\\mu m$)')\n",
      "\n",
      "collapsed = ifu_3d_collapse(ngcCube, sect=[1071, 1084], method='median')\n",
      "ax4.imshow(collapsed, vmin=-10, vmax=100, cmap=cm.hot, interpolation='nearest')\n",
      "ax4.set_title('Median colapse (1.6478 - 1.65 $\\mu m$)')"
     ],
     "language": "python",
     "metadata": {},
     "outputs": []
    },
    {
     "cell_type": "markdown",
     "metadata": {},
     "source": [
      "# Recreate a 1.644 \u00b5m continuum-subtracted image of NGC4151"
     ]
    },
    {
     "cell_type": "code",
     "collapsed": false,
     "input": [
      "# Spectrum of central pixel (trim off the edges)\n",
      "spectrum = ngcCube[100:1900, 30, 30]\n",
      "\n",
      "# Plot spectrum\n",
      "fig, ax = plt.subplots(figsize=(10, 10))\n",
      "ax.set_xlim(1.45, 1.80)\n",
      "ax.set_ylim(-200, 1200)\n",
      "\n",
      "# Convert the frame numbers to wavelengths\n",
      "frame_range = np.arange(len(spectrum))\n",
      "wave_range = frame_convert(frame_range, cals)\n",
      "\n",
      "#compute an estimate for the continuum\n",
      "p = np.polyfit(wave_range, spectrum, 1)\n",
      "print('Gradient and y-intercept:')\n",
      "print(p)\n",
      "y = p[0] * wave_range + p[1]\n",
      "    \n",
      "#compute continuum-subtracted spectrum\n",
      "z = spectrum - y\n",
      "\n",
      "# Plot from wavelengths ~1.49 - 1.78\u00b5m\n",
      "ax.plot(wave_range, spectrum, color='red')\n",
      "ax.plot(wave_range, y, ls='--', color='black')\n",
      "ax.plot(wave_range, z, color='blue')\n",
      "\n",
      "ax_twin = ax.twiny()\n",
      "ax_twin.set_xticks(frame_range[::500], minor=)"
     ],
     "language": "python",
     "metadata": {},
     "outputs": []
    },
    {
     "cell_type": "code",
     "collapsed": false,
     "input": [
      "print(wave_convert(1.49, cals))\n",
      "print(wave_convert(1.77, cals))"
     ],
     "language": "python",
     "metadata": {},
     "outputs": []
    },
    {
     "cell_type": "code",
     "collapsed": false,
     "input": [
      "print(frame_convert(100, cals))\n",
      "print(frame_convert(1900, cals))"
     ],
     "language": "python",
     "metadata": {},
     "outputs": []
    },
    {
     "cell_type": "code",
     "collapsed": false,
     "input": [
      "x, y = 30, 40"
     ],
     "language": "python",
     "metadata": {},
     "outputs": []
    },
    {
     "cell_type": "code",
     "collapsed": false,
     "input": [
      "a = x\n",
      "print(a)\n",
      "a = 20\n",
      "print(a, x)\n",
      "x = 50\n",
      "print(a, x)"
     ],
     "language": "python",
     "metadata": {},
     "outputs": []
    },
    {
     "cell_type": "code",
     "collapsed": false,
     "input": [],
     "language": "python",
     "metadata": {},
     "outputs": []
    }
   ],
   "metadata": {}
  }
 ]
}