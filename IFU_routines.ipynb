{
 "metadata": {
  "name": "",
  "signature": "sha256:2b4ff3290e346fdfe1818735d68e955c5f0712aa4ca708727edd0a7b67d1ec25"
 },
 "nbformat": 3,
 "nbformat_minor": 0,
 "worksheets": [
  {
   "cells": [
    {
     "cell_type": "markdown",
     "metadata": {},
     "source": [
      "# 1. Version and Change Log"
     ]
    },
    {
     "cell_type": "markdown",
     "metadata": {},
     "source": [
      "Current Version: 0.11"
     ]
    },
    {
     "cell_type": "markdown",
     "metadata": {},
     "source": [
      "# Change Log\n",
      "------------\n",
      "\n",
      "May 2014\n",
      "========\n",
      "0.1 - Initial verion of routines. Added/tested the following:\n",
      "    * frame_conv()\n",
      "    * wave_conv()\n",
      "    * ifu_add()\n",
      "    * ifu_subtract()\n",
      "    * ifu_multiply()\n",
      "    * ifu_divide()\n",
      "    * ifu_3d_collapse()\n",
      "    * ifu_1d_extract() - Untested\n",
      "\n",
      "June 2014\n",
      "=========\n",
      "0.11 - Combined the basic functions (+, -, *, /) into one function\n",
      "    * Still in development\n"
     ]
    },
    {
     "cell_type": "markdown",
     "metadata": {},
     "source": [
      "# 2. Modules"
     ]
    },
    {
     "cell_type": "code",
     "collapsed": false,
     "input": [
      "# Import necessary modules\n",
      "\n",
      "import numpy as np\n",
      "import matplotlib.pyplot as plt\n",
      "import matplotlib.cm as cm\n",
      "from astropy.io import fits\n",
      "from __future__ import print_function"
     ],
     "language": "python",
     "metadata": {},
     "outputs": [
      {
       "output_type": "stream",
       "stream": "stderr",
       "text": [
        "/Users/leblanc/Ureka/python/lib/python2.7/site-packages/Pillow-2.2.1-py2.7-macosx-10.6-x86_64.egg/PIL/_imaging.py:3: UserWarning: Module zmq was already imported from /Users/leblanc/Ureka/python/lib/python2.7/site-packages/zmq/__init__.pyc, but /Users/leblanc/py-lib is being added to sys.path\n"
       ]
      }
     ],
     "prompt_number": 2
    },
    {
     "cell_type": "markdown",
     "metadata": {},
     "source": [
      "# 3. Routines"
     ]
    },
    {
     "cell_type": "code",
     "collapsed": false,
     "input": [
      "def frame_conv(frame, crpix, crval, cdelt):\n",
      "    ''' \n",
      "    Convert the frame to a wavelength using a starting value and \n",
      "    delta (in microns) specific to the NGC4151_Hband.fits file\n",
      "    '''\n",
      "    \n",
      "    # Calculate the frame conversion\n",
      "    wave = (frame - crpix) * cdelt + crval\n",
      "    \n",
      "    return wave"
     ],
     "language": "python",
     "metadata": {},
     "outputs": [],
     "prompt_number": 3
    },
    {
     "cell_type": "code",
     "collapsed": false,
     "input": [
      "def wave_conv(wave, crpix, crval, cdelt):\n",
      "    '''\n",
      "    Convert the wavelength to a frame using a starting value and \n",
      "    delta (in microns) specific to the NGC4151_Hband.fits file \n",
      "    '''\n",
      "    \n",
      "    from numpy import round\n",
      "    from numpy import int\n",
      "\n",
      "    # Calculate the wavelength conversion\n",
      "    frame = crpix + ((wave - crval) / cdelt)\n",
      "    \n",
      "    frame = np.int(np.round(frame))\n",
      "    return frame"
     ],
     "language": "python",
     "metadata": {},
     "outputs": [],
     "prompt_number": 4
    },
    {
     "cell_type": "code",
     "collapsed": false,
     "input": [
      "def ifu_add(array_in, x):\n",
      "    \"\"\"\n",
      "    Add a scalar value to an input array (list, image, \n",
      "    or cube).\n",
      "    \n",
      "    Keyword arguments:\n",
      "    array_in  -- The input array. Can be a list, image, \n",
      "                 or cube.\n",
      "    \n",
      "    Output(s):\n",
      "    array_out -- The list, image, or cube added output \n",
      "                 array.\n",
      "    \n",
      "    Example usage:\n",
      "    \n",
      "        >> ifu_add(image, 100)\n",
      "        \n",
      "        Add the scalar value 100 to image.\n",
      "    \"\"\"\n",
      "    import numpy as np\n",
      "        \n",
      "    # Add x to the input array, and return the result.\n",
      "    array_out = np.add(array_in, x)\n",
      "    \n",
      "    return array_out"
     ],
     "language": "python",
     "metadata": {},
     "outputs": [],
     "prompt_number": 5
    },
    {
     "cell_type": "code",
     "collapsed": false,
     "input": [
      "def ifu_subtract(array_in, x):\n",
      "    \"\"\"\n",
      "    Subtract a scalar value from an input array (list, image, \n",
      "    or cube).\n",
      "    \n",
      "    Keyword arguments:\n",
      "    array_in  -- The input array. Can be a list, image, or \n",
      "                 cube.\n",
      "    \n",
      "    Output(s):\n",
      "    array_out -- The list, image or cube subtracted output array.\n",
      "    \n",
      "    Example usage:\n",
      "    \n",
      "        >> ifu_subtract(image, 59)\n",
      "        \n",
      "        Subtract the scalar value 59 to image. image can be a \n",
      "        list, image or cube.\n",
      "    \"\"\"\n",
      "\n",
      "    import numpy as np\n",
      "    \n",
      "    # Subtract x from the input array and return the result.\n",
      "    array_out = np.subtract(array_in, x)\n",
      "    \n",
      "    return array_out"
     ],
     "language": "python",
     "metadata": {},
     "outputs": [],
     "prompt_number": 6
    },
    {
     "cell_type": "code",
     "collapsed": false,
     "input": [
      "def ifu_multiply(array_in, x):\n",
      "    \"\"\"\n",
      "    Multiply an input array (list, image, or cube) by a scalar.\n",
      "    \n",
      "    Keyword arguments:\n",
      "    array_in -- The input array. Can be a list, image, or cube.\n",
      "    \n",
      "    Output(s):\n",
      "    array_out -- The resulting list, image, or cube array.\n",
      "    \n",
      "    Example usage:\n",
      "    \n",
      "        >> ifu_multiply(image, 3.5)\n",
      "        \n",
      "        Multiply input image array by 3.5.\n",
      "    \"\"\"\n",
      "    import numpy as np\n",
      "    \n",
      "    # Multiply input array by scalar x.\n",
      "    array_out = np.multiply(array_in, x)\n",
      "    \n",
      "    return array_out"
     ],
     "language": "python",
     "metadata": {},
     "outputs": [],
     "prompt_number": 7
    },
    {
     "cell_type": "code",
     "collapsed": false,
     "input": [
      "def ifu_divide(array_in, x):\n",
      "    \"\"\"\n",
      "    Divide an input array (list, image, or cube) by a scalar.\n",
      "    \n",
      "    Keyword arguments:\n",
      "    array_in -- The input array. Can be a list, image, or cube.\n",
      "    \n",
      "    Output(s):\n",
      "    array_out -- The resulting list, image, or cube array.\n",
      "    \n",
      "    Example usage:\n",
      "    \n",
      "        >> ifu_divide(image, 2.0)\n",
      "        \n",
      "        Divide input image array by 2.0.\n",
      "    \"\"\"\n",
      "    import numpy as np\n",
      "    \n",
      "    # Divide array by scalar x\n",
      "    array_out = np.divide(array_in, x)\n",
      "    \n",
      "    return array_out"
     ],
     "language": "python",
     "metadata": {},
     "outputs": [],
     "prompt_number": 8
    },
    {
     "cell_type": "code",
     "collapsed": false,
     "input": [
      "#Global imports\n",
      "import numpy as np\n",
      "from astropy.io import fits\n",
      "\n",
      "# Basic ifu math mode\n",
      "def ifu_math(array_in, operator, method):\n",
      "    \"\"\"\n",
      "    Perform basic arithmetic tasks on 3D data using 1D, 2D, or\n",
      "    3D data as input.\n",
      "    \n",
      "    Keyword arguments:\n",
      "    array_in  -- The 3D input array.\n",
      "    \n",
      "    operator  -- The array that is to operate on the input array\n",
      "                 (array_in). Can be a scalar, list, image, or\n",
      "                 datacube.\n",
      "                \n",
      "    method    -- Calculation method. Available are add, subtract,\n",
      "                 multiply, and divide.\n",
      "    \n",
      "    \n",
      "    Output(s):\n",
      "    array_out -- The list, image or cube subtracted output array.\n",
      "    \n",
      "    Example usage:\n",
      "    \n",
      "        1. >> ifu_math(cube, 1000., method='subtract')\n",
      "        \n",
      "        Subtract the scalar value of 1000. from entire cube array.\n",
      "        \n",
      "        2. >> ifu_math(cube, image, method='subtract')\n",
      "        \n",
      "        Subtract an image of dimensions [x, y] from a cube array in\n",
      "        the wavelength (z) plane. Image dimensions x, y] must match\n",
      "        those of the input cube array.\n",
      "        \n",
      "        3. >> ifu_math(cube1, cube2, method='divide')\n",
      "        \n",
      "        Divive cube1 array by the contents of cube2 array, value for\n",
      "        value. Arrays of both cubes must be identical.\n",
      "        \n",
      "    \"\"\"    \n",
      "    \n",
      "    import numpy as np\n",
      "    \n",
      "    # Check to see if operator is a scalar (int or float); convert to numpy\n",
      "    # list to allow shape determination\n",
      "    \n",
      "    if type(operator) == int or type(operator) == float: operator = np.array([operator])\n",
      "    print('The operator dimensions are: {}'.format(np.shape(operator)))\n",
      "    \n",
      "    # Assure that the input array is a cube\n",
      "    if array_in.ndim != 3:\n",
      "        print('The input array must be a cube (3 dimensions)!')\n",
      "        return\n",
      "    else:\n",
      "        print('Input array has {} dimensions.'.format(array_in.ndim))\n",
      "    \n",
      "    # ... and check dimensions of input and operator arrays\n",
      "    if operator.ndim == 3 and operator.shape == array_in.shape:\n",
      "        print('A 3D/3D operation will take place.')\n",
      "    elif operator.ndim == 2 and (operator.shape[0] == array_in.shape[1] and operator.shape[1] == array_in.shape[2]):\n",
      "        print('A 3D/2D operation will take place.')\n",
      "    else:\n",
      "        print('Dimension of input array and operator do not match!')\n",
      "    \n",
      "    \n",
      "    if method == 'add':\n",
      "        print('IFU add mode chosen...')\n",
      "        array_out = np.add(array_in, operator)            \n",
      "    \n",
      "    elif method == 'subtract':\n",
      "        print('IFU subtract mode chosen...')\n",
      "        array_out = np.subtract(array_in, operator)\n",
      "    \n",
      "    elif method == 'multiply':\n",
      "        print('IFU multiply mode chosen:')\n",
      "        array_out = np.multiply(array_in, operator)\n",
      "    \n",
      "    elif method == 'divide':\n",
      "        print('IFU divide mode chosen:')\n",
      "        array_out = np.divide(array_in, operator)\n",
      "        \n",
      "    else:\n",
      "        print('There has been an input parse error, please check inputs again!')\n",
      "        array_out = np.array([])\n",
      "    \n",
      "    return array_out"
     ],
     "language": "python",
     "metadata": {},
     "outputs": [],
     "prompt_number": 9
    },
    {
     "cell_type": "code",
     "collapsed": false,
     "input": [
      "def ifu_1d_extract(array_in, sect=[0,0]):\n",
      "    import numpy as np\n",
      "    \n",
      "    extracted_array = array_in[sect[0]:sect[1]]\n",
      "    \n",
      "    return extracted_array"
     ],
     "language": "python",
     "metadata": {},
     "outputs": [],
     "prompt_number": 10
    },
    {
     "cell_type": "code",
     "collapsed": false,
     "input": [
      "def ifu_3d_collapse(array_in, sect=[0,0], mode='sum', verbose=False):\n",
      "    \"\"\"\n",
      "    Collapse a slice of a datacube, with a given mode, along the \n",
      "    wavelength slice.\n",
      "    \n",
      "    Keyword arguments:\n",
      "    array_in -- The input datacube array.\n",
      "    sect     -- The section of the datacube to collapse, in the \n",
      "                form of [a, b], where a is the 1st slice boundary,\n",
      "                and b is the 2nd + 1 slice boundary.\n",
      "    mode     -- The mode of collapse. Available are sum, product,\n",
      "                mean, and median.\n",
      "    \"\"\"\n",
      "    import numpy as np\n",
      "    \n",
      "    # Extract the desired slice...\n",
      "    extracted_array = array_in[sect[0]:sect[1], :, :]\n",
      "    if verbose: \n",
      "        print(extracted_array)\n",
      "        print()\n",
      "    \n",
      "    # ... and perform the desired operation, based on input mode.\n",
      "    if mode == 'sum':\n",
      "        print('Sum of extracted slices:')\n",
      "        collapsed_array = np.sum(extracted_array, axis=0)\n",
      "    elif mode == 'product':\n",
      "        print('Product of extracted slices:')\n",
      "        collapsed_array = np.prod(extracted_array, axis=0)\n",
      "    elif mode == 'mean':\n",
      "        print('Mean of extracted slices:')\n",
      "        collapsed_array = np.mean(extracted_array, axis=0)\n",
      "    elif mode == 'median':\n",
      "        print('Median of extracted slices:')\n",
      "        collapsed_array = np.median(extracted_array, axis=0)\n",
      "    \n",
      "    # Return the collaped array\n",
      "    return collapsed_array"
     ],
     "language": "python",
     "metadata": {},
     "outputs": [],
     "prompt_number": 11
    },
    {
     "cell_type": "markdown",
     "metadata": {},
     "source": [
      "# 4. Frame/Wavelength Conversions\n",
      "\n",
      "Convert between datacube frame and wavelength, based on the CRVAL, CRPIX, and CDELT values from the FITS header."
     ]
    },
    {
     "cell_type": "code",
     "collapsed": false,
     "input": [
      "# Retrieve wavelength transformation values\n",
      "header = fits.getheader('./data/Eagle_final_m96_m93_m83_m65.fits')\n",
      "crpix = header['CRPIX3']\n",
      "crval = header['CRVAL3']\n",
      "cdelt = header['CDELT3']"
     ],
     "language": "python",
     "metadata": {},
     "outputs": [],
     "prompt_number": 12
    },
    {
     "cell_type": "code",
     "collapsed": false,
     "input": [
      "# Convert a wavelength (in \u00b5m) to a frame (i.e., a datacube slice)\n",
      "print('Frame', wave_conv(.9, crpix, crval, cdelt))"
     ],
     "language": "python",
     "metadata": {},
     "outputs": [
      {
       "output_type": "stream",
       "stream": "stdout",
       "text": [
        "Frame 3501\n"
       ]
      }
     ],
     "prompt_number": 13
    },
    {
     "cell_type": "code",
     "collapsed": false,
     "input": [
      "# Convert a frame to a wavelength (in \u00b5m)\n",
      "print(frame_conv(3201, crpix, crval, cdelt), '\u00b5m')"
     ],
     "language": "python",
     "metadata": {},
     "outputs": [
      {
       "output_type": "stream",
       "stream": "stdout",
       "text": [
        "0.87 \u00b5m\n"
       ]
      }
     ],
     "prompt_number": 14
    },
    {
     "cell_type": "markdown",
     "metadata": {},
     "source": [
      "# 5. Basic Data Analasis Tasks (+, -, *, / on 1D, 2D, and 3D data)"
     ]
    },
    {
     "cell_type": "code",
     "collapsed": false,
     "input": [
      "# Sample arrays (1D, 2D, and 3D, respectively)\n",
      "# np.arange(x) generates a list from 0 - x.\n",
      "array1D = np.arange(10)\n",
      "array2D = np.arange(3*3).reshape(3, 3)\n",
      "array3D = np.arange(3*3*3).reshape(3, 3, 3)\n",
      "\n",
      "# Verify arrays\n",
      "print('This is a list:')\n",
      "print(array1D)\n",
      "print()\n",
      "\n",
      "print('This is an image:')\n",
      "print(array2D)\n",
      "print()\n",
      "\n",
      "print('This is a cube:')\n",
      "print(array3D)"
     ],
     "language": "python",
     "metadata": {},
     "outputs": [
      {
       "output_type": "stream",
       "stream": "stdout",
       "text": [
        "This is a list:\n",
        "[0 1 2 3 4 5 6 7 8 9]\n",
        "\n",
        "This is an image:\n",
        "[[0 1 2]\n",
        " [3 4 5]\n",
        " [6 7 8]]\n",
        "\n",
        "This is a cube:\n",
        "[[[ 0  1  2]\n",
        "  [ 3  4  5]\n",
        "  [ 6  7  8]]\n",
        "\n",
        " [[ 9 10 11]\n",
        "  [12 13 14]\n",
        "  [15 16 17]]\n",
        "\n",
        " [[18 19 20]\n",
        "  [21 22 23]\n",
        "  [24 25 26]]]\n"
       ]
      }
     ],
     "prompt_number": 15
    },
    {
     "cell_type": "code",
     "collapsed": false,
     "input": [
      "#ifu_math(array1D, np.ones(1), 'add')\n",
      "np.shape(array2D)"
     ],
     "language": "python",
     "metadata": {},
     "outputs": [
      {
       "metadata": {},
       "output_type": "pyout",
       "prompt_number": 16,
       "text": [
        "(3, 3)"
       ]
      }
     ],
     "prompt_number": 16
    },
    {
     "cell_type": "markdown",
     "metadata": {},
     "source": [
      "## 5.1 Addition"
     ]
    },
    {
     "cell_type": "code",
     "collapsed": false,
     "input": [
      "# Perform basic addition on a list, image, and cube\n",
      "print('List addition:')\n",
      "print(ifu_add(array1D, 9))\n",
      "print()\n",
      "\n",
      "print('Image addition:')\n",
      "print(ifu_add(array2D, 9))\n",
      "print()\n",
      "\n",
      "print('Cube addition:')\n",
      "print(ifu_add(array3D, 9))"
     ],
     "language": "python",
     "metadata": {},
     "outputs": [
      {
       "output_type": "stream",
       "stream": "stdout",
       "text": [
        "List addition:\n",
        "[ 9 10 11 12 13 14 15 16 17 18]\n",
        "\n",
        "Image addition:\n",
        "[[ 9 10 11]\n",
        " [12 13 14]\n",
        " [15 16 17]]\n",
        "\n",
        "Cube addition:\n",
        "[[[ 9 10 11]\n",
        "  [12 13 14]\n",
        "  [15 16 17]]\n",
        "\n",
        " [[18 19 20]\n",
        "  [21 22 23]\n",
        "  [24 25 26]]\n",
        "\n",
        " [[27 28 29]\n",
        "  [30 31 32]\n",
        "  [33 34 35]]]\n"
       ]
      }
     ],
     "prompt_number": 17
    },
    {
     "cell_type": "markdown",
     "metadata": {},
     "source": [
      "## 5.2 Subtraction"
     ]
    },
    {
     "cell_type": "code",
     "collapsed": false,
     "input": [
      "# Perform basic subtraction on a list, image, and cube\n",
      "print('List subtraction:')\n",
      "print(ifu_subtract(array1D, 5))\n",
      "print()\n",
      "\n",
      "print('Image subtraction:')\n",
      "print(ifu_subtract(array2D, 5))\n",
      "print()\n",
      "\n",
      "print('Cube subtraction:')\n",
      "print(ifu_subtract(array3D, 5))"
     ],
     "language": "python",
     "metadata": {},
     "outputs": [
      {
       "output_type": "stream",
       "stream": "stdout",
       "text": [
        "List subtraction:\n",
        "[-5 -4 -3 -2 -1  0  1  2  3  4]\n",
        "\n",
        "Image subtraction:\n",
        "[[-5 -4 -3]\n",
        " [-2 -1  0]\n",
        " [ 1  2  3]]\n",
        "\n",
        "Cube subtraction:\n",
        "[[[-5 -4 -3]\n",
        "  [-2 -1  0]\n",
        "  [ 1  2  3]]\n",
        "\n",
        " [[ 4  5  6]\n",
        "  [ 7  8  9]\n",
        "  [10 11 12]]\n",
        "\n",
        " [[13 14 15]\n",
        "  [16 17 18]\n",
        "  [19 20 21]]]\n"
       ]
      }
     ],
     "prompt_number": 18
    },
    {
     "cell_type": "markdown",
     "metadata": {},
     "source": [
      "## 5.3 Multiplication"
     ]
    },
    {
     "cell_type": "code",
     "collapsed": false,
     "input": [
      "# Perform basic list, image, and cube product calculation\n",
      "print('List product:')\n",
      "print(ifu_multiply(array1D, 2))\n",
      "print()\n",
      "\n",
      "print('Image product:')\n",
      "print(ifu_multiply(array2D, 2))\n",
      "print()\n",
      "\n",
      "print('Cube product:')\n",
      "print(ifu_multiply(array3D, 2))"
     ],
     "language": "python",
     "metadata": {},
     "outputs": [
      {
       "output_type": "stream",
       "stream": "stdout",
       "text": [
        "List product:\n",
        "[ 0  2  4  6  8 10 12 14 16 18]\n",
        "\n",
        "Image product:\n",
        "[[ 0  2  4]\n",
        " [ 6  8 10]\n",
        " [12 14 16]]\n",
        "\n",
        "Cube product:\n",
        "[[[ 0  2  4]\n",
        "  [ 6  8 10]\n",
        "  [12 14 16]]\n",
        "\n",
        " [[18 20 22]\n",
        "  [24 26 28]\n",
        "  [30 32 34]]\n",
        "\n",
        " [[36 38 40]\n",
        "  [42 44 46]\n",
        "  [48 50 52]]]\n"
       ]
      }
     ],
     "prompt_number": 19
    },
    {
     "cell_type": "markdown",
     "metadata": {},
     "source": [
      "## 5.4 Division"
     ]
    },
    {
     "cell_type": "code",
     "collapsed": false,
     "input": [
      "# Perform basic list, image, and cube division\n",
      "print('List division:')\n",
      "print(ifu_divide(array1D, 4.))\n",
      "print()\n",
      "\n",
      "print('Image division:')\n",
      "print(ifu_divide(array2D, 4.))\n",
      "print()\n",
      "\n",
      "print('Cube division:')\n",
      "print(ifu_divide(array3D, 4.))"
     ],
     "language": "python",
     "metadata": {},
     "outputs": [
      {
       "output_type": "stream",
       "stream": "stdout",
       "text": [
        "List division:\n",
        "[ 0.    0.25  0.5   0.75  1.    1.25  1.5   1.75  2.    2.25]\n",
        "\n",
        "Image division:\n",
        "[[ 0.    0.25  0.5 ]\n",
        " [ 0.75  1.    1.25]\n",
        " [ 1.5   1.75  2.  ]]\n",
        "\n",
        "Cube division:\n",
        "[[[ 0.    0.25  0.5 ]\n",
        "  [ 0.75  1.    1.25]\n",
        "  [ 1.5   1.75  2.  ]]\n",
        "\n",
        " [[ 2.25  2.5   2.75]\n",
        "  [ 3.    3.25  3.5 ]\n",
        "  [ 3.75  4.    4.25]]\n",
        "\n",
        " [[ 4.5   4.75  5.  ]\n",
        "  [ 5.25  5.5   5.75]\n",
        "  [ 6.    6.25  6.5 ]]]\n"
       ]
      }
     ],
     "prompt_number": 20
    },
    {
     "cell_type": "markdown",
     "metadata": {},
     "source": [
      "## 5.5 Basic Cube Slice Extraction"
     ]
    },
    {
     "cell_type": "code",
     "collapsed": false,
     "input": [
      "# Create a 3*3*10 datacube\n",
      "# np.arange(x) creates a list from 0-x\n",
      "cube = np.arange(3*3*10).reshape(10, 3, 3)\n",
      "\n",
      "# Verify cube\n",
      "print(cube)"
     ],
     "language": "python",
     "metadata": {},
     "outputs": [
      {
       "output_type": "stream",
       "stream": "stdout",
       "text": [
        "[[[ 0  1  2]\n",
        "  [ 3  4  5]\n",
        "  [ 6  7  8]]\n",
        "\n",
        " [[ 9 10 11]\n",
        "  [12 13 14]\n",
        "  [15 16 17]]\n",
        "\n",
        " [[18 19 20]\n",
        "  [21 22 23]\n",
        "  [24 25 26]]\n",
        "\n",
        " [[27 28 29]\n",
        "  [30 31 32]\n",
        "  [33 34 35]]\n",
        "\n",
        " [[36 37 38]\n",
        "  [39 40 41]\n",
        "  [42 43 44]]\n",
        "\n",
        " [[45 46 47]\n",
        "  [48 49 50]\n",
        "  [51 52 53]]\n",
        "\n",
        " [[54 55 56]\n",
        "  [57 58 59]\n",
        "  [60 61 62]]\n",
        "\n",
        " [[63 64 65]\n",
        "  [66 67 68]\n",
        "  [69 70 71]]\n",
        "\n",
        " [[72 73 74]\n",
        "  [75 76 77]\n",
        "  [78 79 80]]\n",
        "\n",
        " [[81 82 83]\n",
        "  [84 85 86]\n",
        "  [87 88 89]]]\n"
       ]
      }
     ],
     "prompt_number": 21
    },
    {
     "cell_type": "code",
     "collapsed": false,
     "input": [
      "# Extract a slice (3 frames) from the original datacube\n",
      "# Note that Python [end] indexing is +1; in example below, [0, 3]\n",
      "# extracts frames 0, 1, and 2.\n",
      "ifu_3d_collapse(cube, sect=[0, 3], mode='sum', verbose=True)"
     ],
     "language": "python",
     "metadata": {},
     "outputs": [
      {
       "output_type": "stream",
       "stream": "stdout",
       "text": [
        "[[[ 0  1  2]\n",
        "  [ 3  4  5]\n",
        "  [ 6  7  8]]\n",
        "\n",
        " [[ 9 10 11]\n",
        "  [12 13 14]\n",
        "  [15 16 17]]\n",
        "\n",
        " [[18 19 20]\n",
        "  [21 22 23]\n",
        "  [24 25 26]]]\n",
        "\n",
        "Sum of extracted slices:\n"
       ]
      },
      {
       "metadata": {},
       "output_type": "pyout",
       "prompt_number": 22,
       "text": [
        "array([[27, 30, 33],\n",
        "       [36, 39, 42],\n",
        "       [45, 48, 51]])"
       ]
      }
     ],
     "prompt_number": 22
    },
    {
     "cell_type": "markdown",
     "metadata": {},
     "source": [
      "# 6. Datacube Tests"
     ]
    },
    {
     "cell_type": "code",
     "collapsed": false,
     "input": [
      "# Setup inline plotting\n",
      "%matplotlib inline"
     ],
     "language": "python",
     "metadata": {},
     "outputs": [],
     "prompt_number": 23
    },
    {
     "cell_type": "code",
     "collapsed": false,
     "input": [
      "# Import datacube, and print it's shape (frame, y, x)\n",
      "datacube = fits.getdata('./data/Eagle_final_m96_m93_m83_m65.fits')\n",
      "datacube.shape"
     ],
     "language": "python",
     "metadata": {},
     "outputs": [
      {
       "metadata": {},
       "output_type": "pyout",
       "prompt_number": 24,
       "text": [
        "(6000, 26, 143)"
       ]
      }
     ],
     "prompt_number": 24
    },
    {
     "cell_type": "markdown",
     "metadata": {},
     "source": [
      "## 6.1 Single Cube Slice\n",
      "\n",
      "Display a single slice from the datacube..."
     ]
    },
    {
     "cell_type": "code",
     "collapsed": false,
     "input": [
      "# Test a sample of the input datacube, looking at one frame, 3358 (.8857 \u00b5m)\n",
      "fig, ax = plt.subplots(figsize=(12, 16))\n",
      "data = datacube[3358, :, :]\n",
      "ax.imshow(data, cmap=cm.hot, vmin=-10, vmax=10, interpolation='nearest')\n",
      "ax.set_title('Before np.nan_num')\n",
      "\n",
      "data = np.nan_to_num(data)\n",
      "print('Pixel Min/Max: ', data.min(), data.max())\n",
      "\n",
      "# Save both a pdf and fits file of the 2d image\n",
      "fig.savefig('2d_Eagle.pdf')\n",
      "fits.writeto('./data/2d_Eagle.fits', data, clobber=True)"
     ],
     "language": "python",
     "metadata": {},
     "outputs": [
      {
       "output_type": "stream",
       "stream": "stdout",
       "text": [
        "Pixel Min/Max:  -217.493 1489.22\n",
        "WARNING"
       ]
      },
      {
       "output_type": "stream",
       "stream": "stdout",
       "text": [
        ": Overwriting existing file './data/2d_Eagle.fits'. [astropy.io.fits.file]\n"
       ]
      },
      {
       "metadata": {},
       "output_type": "display_data",
       "png": "[encoded data removed]",
       "text": [
        "<matplotlib.figure.Figure at 0x10e826d90>"
       ]
      }
     ],
     "prompt_number": 25
    },
    {
     "cell_type": "code",
     "collapsed": false,
     "input": [
      "# Test a sample of the input datacube, looking at one frame, 3358 (.8857 \u00b5m)\n",
      "fig, ax = plt.subplots(figsize=(12, 16))\n",
      "ax.imshow(data, cmap=cm.hot, vmin=-10, vmax=10, interpolation='nearest')\n",
      "ax.set_title('After np.nan_num')"
     ],
     "language": "python",
     "metadata": {},
     "outputs": [
      {
       "metadata": {},
       "output_type": "pyout",
       "prompt_number": 26,
       "text": [
        "<matplotlib.text.Text at 0x10e897950>"
       ]
      },
      {
       "metadata": {},
       "output_type": "display_data",
       "png": "[encoded data removed]",
       "text": [
        "<matplotlib.figure.Figure at 0x10e826350>"
       ]
      }
     ],
     "prompt_number": 26
    },
    {
     "cell_type": "markdown",
     "metadata": {},
     "source": [
      "## 6.2 Collpased Slice\n",
      "\n",
      "Display a collapsed slice, given an input mode (median and mean), using the same image display limits in 5.1 (vmin=-10, vmax=10)..."
     ]
    },
    {
     "cell_type": "code",
     "collapsed": false,
     "input": [
      "# Display the median of the selected slice...\n",
      "collapsed_cube = ifu_3d_collapse(datacube, sect=[3341, 3371], mode='median')\n",
      "fig, ax = plt.subplots(figsize=(12, 16))\n",
      "ax.imshow(collapsed_cube, cmap=cm.hot, vmin=-10, vmax=10, interpolation='nearest')\n",
      "\n",
      "# Convert nan to 0\n",
      "c_cube = np.nan_to_num(collapsed_cube)\n",
      "print(c_cube.min(), c_cube.max())"
     ],
     "language": "python",
     "metadata": {},
     "outputs": [
      {
       "output_type": "stream",
       "stream": "stdout",
       "text": [
        "Median of extracted slices:\n",
        "-16.1032"
       ]
      },
      {
       "output_type": "stream",
       "stream": "stdout",
       "text": [
        " 1434.02\n"
       ]
      },
      {
       "metadata": {},
       "output_type": "display_data",
       "png": "[encoded data removed]",
       "text": [
        "<matplotlib.figure.Figure at 0x10ec8ef90>"
       ]
      }
     ],
     "prompt_number": 27
    },
    {
     "cell_type": "code",
     "collapsed": false,
     "input": [
      "# Display mean of selected slices...\n",
      "collapsed_cube = ifu_3d_collapse(datacube, sect=[3341, 3371], mode='mean')\n",
      "fig, ax = plt.subplots(figsize=(12, 16))\n",
      "ax.imshow(collapsed_cube, cmap=cm.hot, vmin=-10, vmax=10, interpolation='nearest')\n",
      "\n",
      "# Convert nan to 0\n",
      "c_cube = np.nan_to_num(collapsed_cube)\n",
      "print(c_cube.min(), c_cube.max())"
     ],
     "language": "python",
     "metadata": {},
     "outputs": [
      {
       "output_type": "stream",
       "stream": "stdout",
       "text": [
        "Mean of extracted slices:\n",
        "-65.3671"
       ]
      },
      {
       "output_type": "stream",
       "stream": "stdout",
       "text": [
        " 120.703\n"
       ]
      },
      {
       "metadata": {},
       "output_type": "display_data",
       "png": "[encoded data removed]",
       "text": [
        "<matplotlib.figure.Figure at 0x10ec03ad0>"
       ]
      }
     ],
     "prompt_number": 28
    },
    {
     "cell_type": "code",
     "collapsed": false,
     "input": [],
     "language": "python",
     "metadata": {},
     "outputs": [],
     "prompt_number": 28
    },
    {
     "cell_type": "code",
     "collapsed": false,
     "input": [],
     "language": "python",
     "metadata": {},
     "outputs": [],
     "prompt_number": 28
    }
   ],
   "metadata": {}
  }
 ]
}