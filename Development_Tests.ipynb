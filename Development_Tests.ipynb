{
 "metadata": {
  "name": "",
  "signature": "sha256:be39180cea3b9727beb448236f9d1d5f4f8c306450a327755e0e489681c131cb"
 },
 "nbformat": 3,
 "nbformat_minor": 0,
 "worksheets": [
  {
   "cells": [
    {
     "cell_type": "markdown",
     "metadata": {},
     "source": [
      "# 1. Nosetests\n",
      "--------------"
     ]
    },
    {
     "cell_type": "markdown",
     "metadata": {},
     "source": [
      "IFU_MATH\n",
      "========"
     ]
    },
    {
     "cell_type": "code",
     "collapsed": false,
     "input": [
      "%%file ./scripts/ifu_math.py\n",
      "#Global imports\n",
      "import numpy as np\n",
      "from astropy.io import fits\n",
      "\n",
      "# Basic ifu math mode\n",
      "def ifu_math(array_in, operator, method):\n",
      "    \"\"\"\n",
      "    Perform basic arithmetic tasks on 3D data using 1D, 2D, or\n",
      "    3D data as input.\n",
      "    \n",
      "    Keyword arguments:\n",
      "    array_in  -- The 3D input array.\n",
      "    \n",
      "    operator  -- The array that is to operate on the input array\n",
      "                 (array_in). Can be a scalar, list, image, or\n",
      "                 datacube.\n",
      "                \n",
      "    method    -- Calculation method. Available are add, subtract,\n",
      "                 multiply, and divide.\n",
      "    \n",
      "    \n",
      "    Output(s):\n",
      "    array_out -- The list, image or cube subtracted output array.\n",
      "    \n",
      "    Example usage:\n",
      "    \n",
      "        1. >> ifu_math(cube, 1000., method='subtract')\n",
      "        \n",
      "        Subtract the scalar value of 1000. from entire cube array.\n",
      "        \n",
      "        2. >> ifu_math(cube, image, method='subtract')\n",
      "        \n",
      "        Subtract an image of dimensions [x, y] from a cube array in\n",
      "        the wavelength (z) plane. Image dimensions x, y] must match\n",
      "        those of the input cube array.\n",
      "        \n",
      "        3. >> ifu_math(cube1, cube2, method='divide')\n",
      "        \n",
      "        Divive cube1 array by the contents of cube2 array, value for\n",
      "        value. Arrays of both cubes must be identical.\n",
      "        \n",
      "    \"\"\"    \n",
      "    \n",
      "    import numpy as np\n",
      "    \n",
      "    # Check to see if operator is a scalar (int or float); convert to numpy\n",
      "    # list to allow shape determination\n",
      "    \n",
      "    #print()\n",
      "    #print(operator, type(operator))\n",
      "    #print()\n",
      "    \n",
      "    if isinstance(operator, np.ndarray):\n",
      "        print('The operator dimensions are: {}'.format(np.shape(operator)))\n",
      "    else:\n",
      "        print('Input has been converted to a numpy array.')\n",
      "        operator = np.array([operator])\n",
      "        print('The operator dimensions are: {}'.format(np.shape(operator)))\n",
      "    \n",
      "    \n",
      "    # Assure that the input array is a cube\n",
      "    if array_in.ndim != 3:\n",
      "        print('The input array must be a cube (3 dimensions)!')\n",
      "        return\n",
      "    else:\n",
      "        print('Input array has {} dimensions.'.format(array_in.ndim))\n",
      "    \n",
      "    # ... and check dimensions of input and operator arrays    \n",
      "    if operator.ndim == 1 and operator.shape[0] == 1:\n",
      "        print('A scalar operation will take place.')\n",
      "    elif operator.shape == array_in.shape:\n",
      "        print('A 3D/3D operation will take place.')\n",
      "    elif operator.ndim == 2 and (operator.shape[0] == array_in.shape[1] and operator.shape[1] == array_in.shape[2]):\n",
      "        print('A 3D/2D operation will take place.')\n",
      "    elif operator.ndim == 1 and operator.shape[0] > 1:\n",
      "        # Create a spectrum 'image' to conduct the basic arithmetic functions\n",
      "        print('A 3D/1D operation will take place.')\n",
      "        spec_image = np.empty(array_in.shape)\n",
      "        for ii in np.arange(array_in.shape[0]):\n",
      "            spec_image[ii, :, :] = operator[ii]\n",
      "            \n",
      "        operator = spec_image\n",
      "    else:\n",
      "        print('Dimension of input array and operator do not match!')\n",
      "    \n",
      "    \n",
      "    if method == 'add':\n",
      "        print('IFU add mode chosen...')\n",
      "        array_out = np.add(array_in, operator)            \n",
      "    \n",
      "    elif method == 'subtract':\n",
      "        print('IFU subtract mode chosen...')\n",
      "        array_out = np.subtract(array_in, operator)\n",
      "    \n",
      "    elif method == 'multiply':\n",
      "        print('IFU multiply mode chosen...')\n",
      "        array_out = np.multiply(array_in, operator)\n",
      "    \n",
      "    elif method == 'divide':\n",
      "        print('IFU divide mode chosen...')\n",
      "        array_out = np.divide(array_in, operator)\n",
      "        \n",
      "    else:\n",
      "        print('There has been an input parse error, please check inputs again!')\n",
      "        array_out = np.array([])\n",
      "    \n",
      "    return array_out"
     ],
     "language": "python",
     "metadata": {},
     "outputs": [
      {
       "output_type": "stream",
       "stream": "stdout",
       "text": [
        "Writing ./scripts/ifu_math.py\n"
       ]
      }
     ],
     "prompt_number": 25
    },
    {
     "cell_type": "code",
     "collapsed": false,
     "input": [
      "%%file ./tests/test_ifuMath.py\n",
      "#Import necessary modules\n",
      "from ifu_math import *\n",
      "import numpy as np\n",
      "\n",
      "# ======================================================\n",
      "#                       Test suite\n",
      "# ======================================================\n",
      "def test_addIntConstant():\n",
      "    \"\"\"\n",
      "    1. Addition with constant integer\n",
      "    \"\"\"\n",
      "    \n",
      "    cube = np.arange(30*5*5).reshape(30, 5, 5)\n",
      "    \n",
      "    result = ifu_math(cube, 10, 'add')\n",
      "    assert isinstance(result, np.ndarray)\n",
      "    \n",
      "    \n",
      "def test_addFloatConstant():\n",
      "    \"\"\"\n",
      "    2. Addition with constant float\n",
      "    \"\"\"   \n",
      "    \n",
      "    cube = np.arange(30*5*5).reshape(30, 5, 5)\n",
      "    \n",
      "    result = ifu_math(cube, 5., 'add')\n",
      "    assert isinstance(result, np.ndarray)\n",
      "    \n",
      "    \n",
      "def test_subIntConstant():\n",
      "    \"\"\"\n",
      "    3. Subtraction with constant integer\n",
      "    \"\"\"\n",
      "    \n",
      "    cube = np.arange(30*5*5).reshape(30, 5, 5)\n",
      "    \n",
      "    result = ifu_math(cube, 10, 'subtract')\n",
      "    assert isinstance(result, np.ndarray)\n",
      "    \n",
      "    \n",
      "def test_subFloatConstant():\n",
      "    \"\"\"\n",
      "    4. Subtraction with constant float\n",
      "    \"\"\"\n",
      "    \n",
      "    cube = np.arange(30*5*5).reshape(30, 5, 5)\n",
      "    \n",
      "    result = ifu_math(cube, 5., 'subtract')\n",
      "    assert isinstance(result, np.ndarray)\n",
      "\n",
      "    \n",
      "def test_mulIntConstant():\n",
      "    \"\"\"\n",
      "    5. Multiplication with integer\n",
      "    \"\"\"\n",
      "    \n",
      "    cube = np.arange(30*5*5).reshape(30, 5, 5)\n",
      "    \n",
      "    result = ifu_math(cube, 10, 'multiply')\n",
      "    assert isinstance(result, np.ndarray)\n",
      "\n",
      "    \n",
      "def test_mulFloatConstant():\n",
      "    \"\"\"\n",
      "    6. Multiplication with constant float\n",
      "    \"\"\"\n",
      "    \n",
      "    cube = np.arange(30*5*5).reshape(30, 5, 5)\n",
      "    \n",
      "    result = ifu_math(cube, 5., 'multiply')\n",
      "    assert isinstance(result, np.ndarray)\n",
      "\n",
      "    \n",
      "def test_divIntConstant():\n",
      "    \"\"\"\n",
      "    7. Division with constant integer\n",
      "    \"\"\"\n",
      "    \n",
      "    cube = np.arange(30*5*5).reshape(30, 5, 5)\n",
      "    \n",
      "    result = ifu_math(cube, 10, 'divide')\n",
      "    assert isinstance(result, np.ndarray)\n",
      "    \n",
      "    \n",
      "def test_divFloatConstant():\n",
      "    \"\"\"\n",
      "    8. Division with constant float\n",
      "    \"\"\"\n",
      "    \n",
      "    cube = np.arange(30*5*5).reshape(30, 5, 5)\n",
      "    \n",
      "    result = ifu_math(cube, 5., 'divide')\n",
      "    assert isinstance(result, np.ndarray)\n",
      "    \n",
      "\n",
      "def test_unsupportedMethod():\n",
      "    \"\"\"\n",
      "    9. Test with unsupported method 'dummy'\n",
      "    \"\"\"\n",
      "    \n",
      "    cube = np.arange(30*5*5).reshape(30, 5, 5)\n",
      "    \n",
      "    result = ifu_math(cube, 5., 'dummy')\n",
      "    assert isinstance(result, np.ndarray)\n",
      "\n",
      "    \n",
      "def test_unsupportedOperator():\n",
      "    \"\"\"\n",
      "    10. Test with unsupported operator 'r'\n",
      "    Operator must be a 1D/2D/3D array of int/float!\n",
      "    \"\"\"\n",
      "    \n",
      "    cube = np.arange(30*5*5).reshape(30, 5, 5)\n",
      "    \n",
      "    result = ifu_math(cube, 'r', 'add')\n",
      "    assert isinstance(result, np.ndarray), 'Operator cannot be a string!'\n",
      "\n",
      "    \n",
      "def test_cubeMinImage():\n",
      "    \"\"\"\n",
      "    11. 3D/2D math operation\n",
      "    Subtracting an image from a cube\n",
      "    \"\"\"\n",
      "    \n",
      "    cube = np.arange(30*5*5).reshape(30, 5, 5)\n",
      "    image = cube[15, :, :]\n",
      "    \n",
      "    result = ifu_math(cube, image, 'subtract')\n",
      "    assert isinstance(result, np.ndarray)\n",
      "    \n",
      "      \n",
      "def test_diffDims():\n",
      "    \"\"\"\n",
      "    12. Test with different dimensions\n",
      "    \"\"\"\n",
      "    \n",
      "    cube = np.arange(30*3*10).reshape(30, 3, 10)\n",
      "    image = cube[15, :, :].reshape(5, 6)\n",
      "    \n",
      "    result = ifu_math(cube, image, 'divide')\n",
      "    assert isinstance(result, np.ndarray)\n",
      "\n",
      "\n",
      "def test_scalarInput():\n",
      "    \"\"\"\n",
      "    13. Test with input scalar list \n",
      "    \"\"\"\n",
      "    \n",
      "    in_list = np.arange(10)\n",
      "    \n",
      "    result = ifu_math(in_list, 10, 'add')\n",
      "    assert isinstance(result, np.ndarray)\n",
      "\n",
      "\n",
      "def test_cubeAndSpectrum():\n",
      "    \"\"\"\n",
      "    14. 3D/1D test with an spectrum as the operator\n",
      "    \n",
      "    Create a 2D spectrum image the same size as the \n",
      "    frame in the cube.\n",
      "    \"\"\"\n",
      "    \n",
      "    spectrum = np.random.randint(0, 10, size=(30))\n",
      "    cube = np.arange(30*5*5).reshape(30, 5, 5)\n",
      "    \n",
      "    result = ifu_math(cube, spectrum, method='subtract')    \n",
      "    assert isinstance(result, np.ndarray)\n",
      "\n",
      "# ======================================================\n",
      "#                       Test suite\n",
      "# ======================================================"
     ],
     "language": "python",
     "metadata": {},
     "outputs": [
      {
       "output_type": "stream",
       "stream": "stdout",
       "text": [
        "Overwriting ./tests/test_ifuMath.py\n"
       ]
      }
     ],
     "prompt_number": 31
    },
    {
     "cell_type": "code",
     "collapsed": false,
     "input": [
      "!nosetests -v ./tests/test_ifuMath.py\n",
      "\n",
      "# #10 fails because the input operator must be either a constant (int, float) or an array.\n",
      "# #12 errors because the array dimensions don't agree...\n",
      "# #13 fails because the input array must be a cube."
     ],
     "language": "python",
     "metadata": {},
     "outputs": [
      {
       "output_type": "stream",
       "stream": "stdout",
       "text": [
        "1. Addition with constant integer ... ok\r\n",
        "2. Addition with constant float ... ok\r\n",
        "3. Subtraction with constant integer ... ok\r\n",
        "4. Subtraction with constant float ... ok\r\n",
        "5. Multiplication with integer ... ok\r\n",
        "6. Multiplication with constant float ... ok\r\n",
        "7. Division with constant integer ... ok\r\n",
        "8. Division with constant float ... ok\r\n",
        "9. Test with unsupported method 'dummy' ... ok\r\n",
        "10. Test with unsupported operator 'r' ... FAIL\r\n",
        "11. 3D/2D math operation ... ok\r\n",
        "12. Test with different dimensions ... ERROR\r\n",
        "13. Test with input scalar list ... FAIL\r\n",
        "14. 3D/1D test with an spectrum as the operator ... ok\r\n",
        "\r\n",
        "======================================================================\r\n",
        "ERROR: 12. Test with different dimensions\r\n",
        "----------------------------------------------------------------------\r\n",
        "Traceback (most recent call last):\r\n",
        "  File \"/Users/leblanc/Ureka/python/lib/python2.7/site-packages/nose/case.py\", line 197, in runTest\r\n",
        "    self.test(*self.arg)\r\n",
        "  File \"/Users/leblanc/Documents/Dropbox/stsci/IFU/tests/test_ifuMath.py\", line 140, in test_diffDims\r\n",
        "    result = ifu_math(cube, image, 'divide')\r\n",
        "  File \"/Users/leblanc/Documents/Dropbox/stsci/IFU/ifu_math.py\", line 101, in ifu_math\r\n",
        "    array_out = np.divide(array_in, operator)\r\n",
        "ValueError: operands could not be broadcast together with shapes (30,3,10) (5,6) \r\n",
        "-------------------- >> begin captured stdout << ---------------------\r\n",
        "The operator dimensions are: (5, 6)\r\n",
        "Input array has 3 dimensions.\r\n",
        "Dimension of input array and operator do not match!\r\n",
        "IFU divide mode chosen...\r\n",
        "\r\n",
        "--------------------- >> end captured stdout << ----------------------\r\n",
        "\r\n",
        "======================================================================\r\n",
        "FAIL: 10. Test with unsupported operator 'r'\r\n",
        "----------------------------------------------------------------------\r\n",
        "Traceback (most recent call last):\r\n",
        "  File \"/Users/leblanc/Ureka/python/lib/python2.7/site-packages/nose/case.py\", line 197, in runTest\r\n",
        "    self.test(*self.arg)\r\n",
        "  File \"/Users/leblanc/Documents/Dropbox/stsci/IFU/tests/test_ifuMath.py\", line 116, in test_unsupportedOperator\r\n",
        "    assert isinstance(result, np.ndarray), 'Operator cannot be a string!'\r\n",
        "AssertionError: Operator cannot be a string!\r\n",
        "-------------------- >> begin captured stdout << ---------------------\r\n",
        "Input has been converted to a numpy array.\r\n",
        "The operator dimensions are: (1,)\r\n",
        "Input array has 3 dimensions.\r\n",
        "A scalar operation will take place.\r\n",
        "IFU add mode chosen...\r\n",
        "\r\n",
        "--------------------- >> end captured stdout << ----------------------\r\n",
        "\r\n",
        "======================================================================\r\n",
        "FAIL: 13. Test with input scalar list\r\n",
        "----------------------------------------------------------------------\r\n",
        "Traceback (most recent call last):\r\n",
        "  File \"/Users/leblanc/Ureka/python/lib/python2.7/site-packages/nose/case.py\", line 197, in runTest\r\n",
        "    self.test(*self.arg)\r\n",
        "  File \"/Users/leblanc/Documents/Dropbox/stsci/IFU/tests/test_ifuMath.py\", line 152, in test_scalarInput\r\n",
        "    assert isinstance(result, np.ndarray)\r\n",
        "AssertionError: \r\n",
        "-------------------- >> begin captured stdout << ---------------------\r\n",
        "Input has been converted to a numpy array.\r\n",
        "The operator dimensions are: (1,)\r\n",
        "The input array must be a cube (3 dimensions)!\r\n",
        "\r\n",
        "--------------------- >> end captured stdout << ----------------------\r\n",
        "\r\n",
        "----------------------------------------------------------------------\r\n",
        "Ran 14 tests in 0.009s\r\n",
        "\r\n",
        "FAILED (errors=1, failures=2)\r\n"
       ]
      }
     ],
     "prompt_number": 32
    },
    {
     "cell_type": "code",
     "collapsed": false,
     "input": [],
     "language": "python",
     "metadata": {},
     "outputs": [],
     "prompt_number": 20
    },
    {
     "cell_type": "markdown",
     "metadata": {},
     "source": [
      "IFU_3D_COLLAPSE\n",
      "==============="
     ]
    },
    {
     "cell_type": "code",
     "collapsed": false,
     "input": [
      "%%file ./scripts/ifu_3d_collapse.py\n",
      "from __future__ import print_function\n",
      "import numpy as np\n",
      "from astropy.io import fits\n",
      "from astropy.stats.funcs import sigma_clip\n",
      "from ifu_math import *\n",
      "\n",
      "def ifu_3d_collapse(array_in, sect=[0,0], method='sum', sigma=False):\n",
      "    \"\"\"\n",
      "    Collapse a slice of a datacube, with a given mode, along the \n",
      "    wavelength slice.\n",
      "    \n",
      "    Keyword arguments:\n",
      "    array_in -- The input datacube array.\n",
      "    sect     -- The section of the datacube to collapse, in the \n",
      "                form of [a, b], where a is the 1st slice boundary,\n",
      "                and b is the 2nd + 1 slice boundary.\n",
      "    mode     -- The mode of collapse. Available are sum, mean,\n",
      "                and median.\n",
      "    \"\"\"\n",
      "    \n",
      "    # Extract the desired slice...\n",
      "    slice_array = array_in[sect[0]:sect[1], :, :]\n",
      "        \n",
      "    # ... and perform the desired operation, based on input mode.\n",
      "    if method == 'sum':\n",
      "        print('Sum of extracted slices:')\n",
      "        collapsed_array = np.sum(slice_array, axis=0)\n",
      "            \n",
      "    elif method == 'mean':\n",
      "        print('Mean of extracted slices:')\n",
      "        collapsed_array = np.mean(slice_array, axis=0)\n",
      "    \n",
      "    elif method == 'median':\n",
      "        print('Median of extracted slices:')\n",
      "        collapsed_array = np.median(slice_array, axis=0)\n",
      "    \n",
      "\n",
      "    # Subtract the collapsed array from the input datacube\n",
      "    subtracted_array = ifu_math(slice_array, collapsed_array, method='subtract')\n",
      "    print()\n",
      "    print('Subtracted array shape:', subtracted_array.shape)\n",
      "    \n",
      "    if sigma:\n",
      "        # Perform sigma-clip on subtracted cube\n",
      "        print('Clipping data...')\n",
      "        clipped_array = sigma_clip(subtracted_array, sigma, iters=None, axis=0, copy=False)\n",
      "        print()\n",
      "        print('Array shape:', clipped_array.shape)\n",
      "        \n",
      "        if np.array_equal(clipped_array, subtracted_array): print('Damn, arrays are exactly the same!')\n",
      "        \n",
      "    else:\n",
      "        # Test statement:\n",
      "        clipped_array = subtracted_array\n",
      "        print('Array shape:', clipped_array.shape)\n",
      "    \n",
      "\n",
      "    # Now that we have the sigma mask, recalculate the collapse...\n",
      "    if method == 'sum':\n",
      "        print('Sum of extracted slices, part 2:')\n",
      "        collapsed_array = np.sum(clipped_array, axis=0)\n",
      "            \n",
      "    elif method == 'mean':\n",
      "        print('Mean of extracted slices, part 2:')\n",
      "        collapsed_array = np.mean(clipped_array, axis=0)\n",
      "    \n",
      "    elif method == 'median':\n",
      "        print('Median of extracted slices, part 2:')\n",
      "        collapsed_array = np.median(clipped_array, axis=0)\n",
      "\n",
      "\n",
      "    \n",
      "    # Return the collaped array\n",
      "    #collapsed_array = clipped_array\n",
      "    print()\n",
      "    print('Shape of returned array:', collapsed_array.shape)\n",
      "    return collapsed_array"
     ],
     "language": "python",
     "metadata": {},
     "outputs": [
      {
       "output_type": "stream",
       "stream": "stdout",
       "text": [
        "Writing ./scripts/ifu_3d_collapse.py\n"
       ]
      }
     ],
     "prompt_number": 33
    },
    {
     "cell_type": "code",
     "collapsed": false,
     "input": [
      "%%file ./tests/test_ifuCollapse.py\n",
      "# Import necessarty modules\n",
      "import numpy as np\n",
      "from astropy.io import fits\n",
      "from astropy.stats.funcs import sigma_clip\n",
      "from ifu_3d_collapse import *\n",
      "\n",
      "\n",
      "# ********************** Test Suite **********************\n",
      "def test_sliceFalseSigma():\n",
      "    \"\"\"\n",
      "    1. Setting sigma value to 'False'\n",
      "    \"\"\"\n",
      "    \n",
      "    cube = np.arange(30*5*5).reshape(30, 5, 5)\n",
      "    \n",
      "    result = ifu_3d_collapse(cube, sect=[15, 27], method='median', sigma=False)\n",
      "    assert isinstance(result, np.ndarray)\n",
      "\n",
      "    \n",
      "def test_sliceOmitSigma():\n",
      "    \"\"\"\n",
      "    2. Omit sigma input argument\n",
      "    \"\"\"\n",
      "    \n",
      "    cube = np.arange(30*5*5).reshape(30, 5, 5)\n",
      "    \n",
      "    result = ifu_3d_collapse(cube, sect=[15, 27], method='median')\n",
      "    assert isinstance(result, np.ndarray)\n",
      "\n",
      "\n",
      "def test_sliceZeroSigma():\n",
      "    \"\"\"\n",
      "    3. Setting sigma value to zero\n",
      "    \"\"\"\n",
      "    \n",
      "    cube = np.arange(30*5*5).reshape(30, 5, 5)\n",
      "    \n",
      "    result = ifu_3d_collapse(cube, sect=[15, 27], method='median', sigma=0)\n",
      "    assert isinstance(result, np.ndarray)\n",
      "    \n",
      "\n",
      "def test_sliceSigma():\n",
      "    \"\"\"\n",
      "    4. Set valid sigma value\n",
      "    \"\"\"\n",
      "    \n",
      "    cube = np.arange(30*5*5).reshape(30, 5, 5)\n",
      "    \n",
      "    result = ifu_3d_collapse(cube, sect=[15, 27], method='median', sigma=2.5)\n",
      "    assert isinstance(result, np.ndarray)"
     ],
     "language": "python",
     "metadata": {},
     "outputs": [
      {
       "output_type": "stream",
       "stream": "stdout",
       "text": [
        "Overwriting ./tests/test_ifuCollapse.py\n"
       ]
      }
     ],
     "prompt_number": 34
    },
    {
     "cell_type": "code",
     "collapsed": false,
     "input": [
      "!nosetests -v ./tests/test_ifuCollapse.py"
     ],
     "language": "python",
     "metadata": {},
     "outputs": [
      {
       "output_type": "stream",
       "stream": "stdout",
       "text": [
        "1. Setting sigma value to 'False' ... ok\r\n",
        "2. Omit sigma input argument ... ok\r\n",
        "3. Setting sigma value to zero ... ok\r\n",
        "4. Set valid sigma value ... "
       ]
      },
      {
       "output_type": "stream",
       "stream": "stdout",
       "text": [
        "ok\r\n",
        "\r\n",
        "----------------------------------------------------------------------\r\n",
        "Ran 4 tests in 0.065s\r\n",
        "\r\n",
        "OK\r\n"
       ]
      }
     ],
     "prompt_number": 35
    },
    {
     "cell_type": "markdown",
     "metadata": {},
     "source": [
      "# 2. Independent Testing\n",
      "------------------------"
     ]
    },
    {
     "cell_type": "code",
     "collapsed": false,
     "input": [
      "%pylab inline\n",
      "#%pylab"
     ],
     "language": "python",
     "metadata": {},
     "outputs": [
      {
       "output_type": "stream",
       "stream": "stdout",
       "text": [
        "Populating the interactive namespace from numpy and matplotlib\n"
       ]
      }
     ],
     "prompt_number": 20
    },
    {
     "cell_type": "code",
     "collapsed": false,
     "input": [
      "import ifu_tests as ifut\n",
      "reload(ifut)\n",
      "\n",
      "import numpy as np\n",
      "from astropy.io import fits\n",
      "import matplotlib.pyplot as plt\n",
      "from matplotlib import cm\n",
      "from __future__ import print_function\n",
      "\n",
      "array1D = np.arange(10)\n",
      "\n",
      "image_file = './data/2d_Eagle.fits'\n",
      "cube_file = './data/Eagle_final_m96_m93_m83_m65.fits'\n",
      "\n",
      "image = fits.getdata(image_file)\n",
      "cube = fits.getdata(cube_file)\n",
      "print('Image dimensions: ', image.shape)\n",
      "print('Cube dimensions: ', cube.shape)\n",
      "print()\n",
      "\n",
      "test = ifut.ifu_math(cube, image, 'subtract')\n",
      "\n",
      "# Input image\n",
      "fig, ax = plt.subplots(figsize=(12, 16))\n",
      "ax.imshow(image, vmin=-10, vmax=10, cmap=cm.hot, interpolation='nearest')"
     ],
     "language": "python",
     "metadata": {},
     "outputs": [
      {
       "output_type": "stream",
       "stream": "stdout",
       "text": [
        "Image dimensions:  (26, 143)\n",
        "Cube dimensions:  (6000, 26, 143)\n",
        "\n",
        "The operator dimensions are: (26, 143)\n",
        "Input array has 3 dimensions.\n",
        "A 3D/2D operation will take place.\n",
        "IFU subtract mode chosen...\n"
       ]
      },
      {
       "metadata": {},
       "output_type": "pyout",
       "prompt_number": 21,
       "text": [
        "<matplotlib.image.AxesImage at 0x10875dfd0>"
       ]
      },
      {
       "metadata": {},
       "output_type": "display_data",
       "png": "[encoded data removed]",
       "text": [
        "<matplotlib.figure.Figure at 0x107d7ae50>"
       ]
      }
     ],
     "prompt_number": 21
    },
    {
     "cell_type": "code",
     "collapsed": false,
     "input": [
      "# input cube\n",
      "data = np.nan_to_num(cube[3358, :, :])\n",
      "fig, ax = plt.subplots(figsize=(12, 16))\n",
      "ax.imshow(data, vmin=-10, vmax=10, cmap=cm.hot, interpolation='nearest')"
     ],
     "language": "python",
     "metadata": {},
     "outputs": [
      {
       "metadata": {},
       "output_type": "pyout",
       "prompt_number": 22,
       "text": [
        "<matplotlib.image.AxesImage at 0x108de1bd0>"
       ]
      },
      {
       "metadata": {},
       "output_type": "display_data",
       "png": "[encoded data removed]",
       "text": [
        "<matplotlib.figure.Figure at 0x108de17d0>"
       ]
      }
     ],
     "prompt_number": 22
    },
    {
     "cell_type": "code",
     "collapsed": false,
     "input": [
      "# Test the subtraction...\n",
      "fig, ax = plt.subplots(figsize=(12, 16))\n",
      "test_image = test[3358, :, :]\n",
      "ax.imshow(test_image, vmin=-10, vmax=10, cmap=cm.hot, interpolation='nearest')"
     ],
     "language": "python",
     "metadata": {},
     "outputs": [
      {
       "metadata": {},
       "output_type": "pyout",
       "prompt_number": 23,
       "text": [
        "<matplotlib.image.AxesImage at 0x108fd1990>"
       ]
      },
      {
       "metadata": {},
       "output_type": "display_data",
       "png": "[encoded data removed]",
       "text": [
        "<matplotlib.figure.Figure at 0x108de1550>"
       ]
      }
     ],
     "prompt_number": 23
    },
    {
     "cell_type": "code",
     "collapsed": false,
     "input": [
      "fig, ax = plt.subplots(figsize=(12, 16))\n",
      "test_image = test[3000, :, :]\n",
      "ax.imshow(test_image, vmin=-10, vmax=10, cmap=cm.hot, interpolation='nearest')"
     ],
     "language": "python",
     "metadata": {},
     "outputs": [
      {
       "metadata": {},
       "output_type": "pyout",
       "prompt_number": 24,
       "text": [
        "<matplotlib.image.AxesImage at 0x109c1de10>"
       ]
      },
      {
       "metadata": {},
       "output_type": "display_data",
       "png": "[encoded data removed]",
       "text": [
        "<matplotlib.figure.Figure at 0x108fdb550>"
       ]
      }
     ],
     "prompt_number": 24
    },
    {
     "cell_type": "code",
     "collapsed": false,
     "input": [],
     "language": "python",
     "metadata": {},
     "outputs": [],
     "prompt_number": 24
    },
    {
     "cell_type": "code",
     "collapsed": false,
     "input": [],
     "language": "python",
     "metadata": {},
     "outputs": [],
     "prompt_number": 24
    },
    {
     "cell_type": "markdown",
     "metadata": {},
     "source": [
      "# Development Scrap Heap\n",
      "------------------------"
     ]
    },
    {
     "cell_type": "code",
     "collapsed": false,
     "input": [
      "from __future__ import print_function\n",
      "import numpy as np"
     ],
     "language": "python",
     "metadata": {},
     "outputs": [],
     "prompt_number": 25
    },
    {
     "cell_type": "code",
     "collapsed": false,
     "input": [
      "x = 10\n",
      "print(type(x))\n",
      "y = np.array([x])\n",
      "print(type(y))\n",
      "print()\n",
      "\n",
      "print('Shape: ', y.shape)\n",
      "\n",
      "if y.shape == (1,): print(\"It's TRUE!!!\")"
     ],
     "language": "python",
     "metadata": {},
     "outputs": [
      {
       "output_type": "stream",
       "stream": "stdout",
       "text": [
        "<type 'int'>\n",
        "<type 'numpy.ndarray'>\n",
        "\n",
        "Shape:  (1,)\n",
        "It's TRUE!!!\n"
       ]
      }
     ],
     "prompt_number": 26
    },
    {
     "cell_type": "code",
     "collapsed": false,
     "input": [
      "%pylab inline\n",
      "import matplotlib.pyplot as plt\n",
      "\n",
      "test_image = np.arange(5*5).reshape(5, 5)\n",
      "test_cube = np.arange(10*5*5).reshape(10,5,5)\n",
      "\n",
      "fig, ax = plt.subplots(figsize=(3, 3))\n",
      "ax.imshow(test_image, vmin=0, vmax=250, interpolation='nearest')\n",
      "\n",
      "fig, ax = plt.subplots(figsize=(3, 3))\n",
      "ax.imshow(test_cube[9, :, :], vmin=0, vmax=250, interpolation='nearest')\n",
      "\n",
      "final = test_cube - test_image\n",
      "print(test_image.shape)\n",
      "print(test_cube.shape)\n",
      "print(final.shape)\n",
      "\n",
      "print('Test Image')\n",
      "print(test_image)\n",
      "print('Test Cube')\n",
      "print(test_cube)\n",
      "print('Final')\n",
      "print(final)\n",
      "\n",
      "fig, ax = plt.subplots(figsize=(3, 3))\n",
      "ax.imshow(final[9, :, :], vmin=0, vmax=250, interpolation='nearest')"
     ],
     "language": "python",
     "metadata": {},
     "outputs": [
      {
       "output_type": "stream",
       "stream": "stdout",
       "text": [
        "Populating the interactive namespace from numpy and matplotlib\n",
        "(5, 5)"
       ]
      },
      {
       "output_type": "stream",
       "stream": "stdout",
       "text": [
        "\n",
        "(10, 5, 5)\n",
        "(10, 5, 5)\n",
        "Test Image\n",
        "[[ 0  1  2  3  4]\n",
        " [ 5  6  7  8  9]\n",
        " [10 11 12 13 14]\n",
        " [15 16 17 18 19]\n",
        " [20 21 22 23 24]]\n",
        "Test Cube\n",
        "[[[  0   1   2   3   4]\n",
        "  [  5   6   7   8   9]\n",
        "  [ 10  11  12  13  14]\n",
        "  [ 15  16  17  18  19]\n",
        "  [ 20  21  22  23  24]]\n",
        "\n",
        " [[ 25  26  27  28  29]\n",
        "  [ 30  31  32  33  34]\n",
        "  [ 35  36  37  38  39]\n",
        "  [ 40  41  42  43  44]\n",
        "  [ 45  46  47  48  49]]\n",
        "\n",
        " [[ 50  51  52  53  54]\n",
        "  [ 55  56  57  58  59]\n",
        "  [ 60  61  62  63  64]\n",
        "  [ 65  66  67  68  69]\n",
        "  [ 70  71  72  73  74]]\n",
        "\n",
        " [[ 75  76  77  78  79]\n",
        "  [ 80  81  82  83  84]\n",
        "  [ 85  86  87  88  89]\n",
        "  [ 90  91  92  93  94]\n",
        "  [ 95  96  97  98  99]]\n",
        "\n",
        " [[100 101 102 103 104]\n",
        "  [105 106 107 108 109]\n",
        "  [110 111 112 113 114]\n",
        "  [115 116 117 118 119]\n",
        "  [120 121 122 123 124]]\n",
        "\n",
        " [[125 126 127 128 129]\n",
        "  [130 131 132 133 134]\n",
        "  [135 136 137 138 139]\n",
        "  [140 141 142 143 144]\n",
        "  [145 146 147 148 149]]\n",
        "\n",
        " [[150 151 152 153 154]\n",
        "  [155 156 157 158 159]\n",
        "  [160 161 162 163 164]\n",
        "  [165 166 167 168 169]\n",
        "  [170 171 172 173 174]]\n",
        "\n",
        " [[175 176 177 178 179]\n",
        "  [180 181 182 183 184]\n",
        "  [185 186 187 188 189]\n",
        "  [190 191 192 193 194]\n",
        "  [195 196 197 198 199]]\n",
        "\n",
        " [[200 201 202 203 204]\n",
        "  [205 206 207 208 209]\n",
        "  [210 211 212 213 214]\n",
        "  [215 216 217 218 219]\n",
        "  [220 221 222 223 224]]\n",
        "\n",
        " [[225 226 227 228 229]\n",
        "  [230 231 232 233 234]\n",
        "  [235 236 237 238 239]\n",
        "  [240 241 242 243 244]\n",
        "  [245 246 247 248 249]]]\n",
        "Final\n",
        "[[[  0   0   0   0   0]\n",
        "  [  0   0   0   0   0]\n",
        "  [  0   0   0   0   0]\n",
        "  [  0   0   0   0   0]\n",
        "  [  0   0   0   0   0]]\n",
        "\n",
        " [[ 25  25  25  25  25]\n",
        "  [ 25  25  25  25  25]\n",
        "  [ 25  25  25  25  25]\n",
        "  [ 25  25  25  25  25]\n",
        "  [ 25  25  25  25  25]]\n",
        "\n",
        " [[ 50  50  50  50  50]\n",
        "  [ 50  50  50  50  50]\n",
        "  [ 50  50  50  50  50]\n",
        "  [ 50  50  50  50  50]\n",
        "  [ 50  50  50  50  50]]\n",
        "\n",
        " [[ 75  75  75  75  75]\n",
        "  [ 75  75  75  75  75]\n",
        "  [ 75  75  75  75  75]\n",
        "  [ 75  75  75  75  75]\n",
        "  [ 75  75  75  75  75]]\n",
        "\n",
        " [[100 100 100 100 100]\n",
        "  [100 100 100 100 100]\n",
        "  [100 100 100 100 100]\n",
        "  [100 100 100 100 100]\n",
        "  [100 100 100 100 100]]\n",
        "\n",
        " [[125 125 125 125 125]\n",
        "  [125 125 125 125 125]\n",
        "  [125 125 125 125 125]\n",
        "  [125 125 125 125 125]\n",
        "  [125 125 125 125 125]]\n",
        "\n",
        " [[150 150 150 150 150]\n",
        "  [150 150 150 150 150]\n",
        "  [150 150 150 150 150]\n",
        "  [150 150 150 150 150]\n",
        "  [150 150 150 150 150]]\n",
        "\n",
        " [[175 175 175 175 175]\n",
        "  [175 175 175 175 175]\n",
        "  [175 175 175 175 175]\n",
        "  [175 175 175 175 175]\n",
        "  [175 175 175 175 175]]\n",
        "\n",
        " [[200 200 200 200 200]\n",
        "  [200 200 200 200 200]\n",
        "  [200 200 200 200 200]\n",
        "  [200 200 200 200 200]\n",
        "  [200 200 200 200 200]]\n",
        "\n",
        " [[225 225 225 225 225]\n",
        "  [225 225 225 225 225]\n",
        "  [225 225 225 225 225]\n",
        "  [225 225 225 225 225]\n",
        "  [225 225 225 225 225]]]\n"
       ]
      },
      {
       "output_type": "stream",
       "stream": "stderr",
       "text": [
        "WARNING: pylab import has clobbered these variables: ['test']\n",
        "`%matplotlib` prevents importing * from pylab and numpy\n"
       ]
      },
      {
       "metadata": {},
       "output_type": "pyout",
       "prompt_number": 27,
       "text": [
        "<matplotlib.image.AxesImage at 0x109eba510>"
       ]
      },
      {
       "metadata": {},
       "output_type": "display_data",
       "png": "[encoded data removed]",
       "text": [
        "<matplotlib.figure.Figure at 0x108fdb710>"
       ]
      },
      {
       "metadata": {},
       "output_type": "display_data",
       "png": "[encoded data removed]",
       "text": [
        "<matplotlib.figure.Figure at 0x1083151d0>"
       ]
      },
      {
       "metadata": {},
       "output_type": "display_data",
       "png": "[encoded data removed]",
       "text": [
        "<matplotlib.figure.Figure at 0x109eba490>"
       ]
      }
     ],
     "prompt_number": 27
    },
    {
     "cell_type": "code",
     "collapsed": false,
     "input": [],
     "language": "python",
     "metadata": {},
     "outputs": [],
     "prompt_number": 27
    },
    {
     "cell_type": "code",
     "collapsed": false,
     "input": [
      "import numpy as np\n",
      "\n",
      "array1D = np.arange(10)\n",
      "array2D = np.arange(3*3).reshape(3, 3)\n",
      "array3D = np.arange(3*3*3).reshape(3, 3, 3)\n",
      "\n",
      "print(array1D.ndim)\n",
      "print(array2D.ndim)\n",
      "print(array3D.ndim)\n",
      "\n",
      "if array3D.ndim == 3: print('True!')"
     ],
     "language": "python",
     "metadata": {},
     "outputs": [
      {
       "output_type": "stream",
       "stream": "stdout",
       "text": [
        "1\n",
        "2\n",
        "3\n",
        "True!\n"
       ]
      }
     ],
     "prompt_number": 28
    },
    {
     "cell_type": "code",
     "collapsed": false,
     "input": [],
     "language": "python",
     "metadata": {},
     "outputs": [],
     "prompt_number": 28
    },
    {
     "cell_type": "code",
     "collapsed": false,
     "input": [
      "operator = 5\n",
      "\n",
      "try:\n",
      "    print(np.shape(operator))\n",
      "    print(operator = np.array([operator]))  \n",
      "except TypeError:\n",
      "    print('Operator needs to be an integer!')\n",
      "\n",
      "#if type(operator) == int or type(operator) == float: operator = np.array([operator])\n",
      "print('The operator dimensions are: {}'.format(np.shape(operator)))\n"
     ],
     "language": "python",
     "metadata": {},
     "outputs": [
      {
       "output_type": "stream",
       "stream": "stdout",
       "text": [
        "()\n",
        "Operator needs to be an integer!\n",
        "The operator dimensions are: ()\n"
       ]
      }
     ],
     "prompt_number": 29
    },
    {
     "cell_type": "code",
     "collapsed": false,
     "input": [
      "operator = [4, 3, 7.3]\n",
      "#print(np.shape(operator))\n",
      "test = int(operator)\n",
      "print(test)"
     ],
     "language": "python",
     "metadata": {},
     "outputs": [
      {
       "output_type": "stream",
       "stream": "stderr",
       "text": [
        "ERROR:astropy:TypeError: int() argument must be a string or a number, not 'list'\n"
       ]
      },
      {
       "output_type": "stream",
       "stream": "stdout",
       "text": [
        "ERROR: TypeError: int() argument must be a string or a number, not 'list' [IPython.core.interactiveshell]\n"
       ]
      },
      {
       "ename": "TypeError",
       "evalue": "int() argument must be a string or a number, not 'list'",
       "output_type": "pyerr",
       "traceback": [
        "\u001b[0;31m---------------------------------------------------------------------------\u001b[0m\n\u001b[0;31mTypeError\u001b[0m                                 Traceback (most recent call last)",
        "\u001b[0;32m<ipython-input-30-04b15490d7e0>\u001b[0m in \u001b[0;36m<module>\u001b[0;34m()\u001b[0m\n\u001b[1;32m      1\u001b[0m \u001b[0moperator\u001b[0m \u001b[0;34m=\u001b[0m \u001b[0;34m[\u001b[0m\u001b[0;36m4\u001b[0m\u001b[0;34m,\u001b[0m \u001b[0;36m3\u001b[0m\u001b[0;34m,\u001b[0m \u001b[0;36m7.3\u001b[0m\u001b[0;34m]\u001b[0m\u001b[0;34m\u001b[0m\u001b[0m\n\u001b[1;32m      2\u001b[0m \u001b[0;31m#print(np.shape(operator))\u001b[0m\u001b[0;34m\u001b[0m\u001b[0;34m\u001b[0m\u001b[0m\n\u001b[0;32m----> 3\u001b[0;31m \u001b[0mtest\u001b[0m \u001b[0;34m=\u001b[0m \u001b[0mint\u001b[0m\u001b[0;34m(\u001b[0m\u001b[0moperator\u001b[0m\u001b[0;34m)\u001b[0m\u001b[0;34m\u001b[0m\u001b[0m\n\u001b[0m\u001b[1;32m      4\u001b[0m \u001b[0;32mprint\u001b[0m\u001b[0;34m(\u001b[0m\u001b[0mtest\u001b[0m\u001b[0;34m)\u001b[0m\u001b[0;34m\u001b[0m\u001b[0m\n",
        "\u001b[0;31mTypeError\u001b[0m: int() argument must be a string or a number, not 'list'"
       ]
      }
     ],
     "prompt_number": 30
    },
    {
     "cell_type": "code",
     "collapsed": false,
     "input": [
      "import numpy as np\n",
      "test1 = np.arange(12).reshape(4, 3)\n",
      "test2 = np.arange(16).reshape(4, 4)\n",
      "test3 = np.arange(5*4*3).reshape(5, 4, 3)\n",
      "test4 = np.arange(5*3*4).reshape(5, 3, 4)\n",
      "\n",
      "print(test1)\n",
      "print(test2)\n",
      "print()\n",
      "print(test3)\n",
      "print()\n"
     ],
     "language": "python",
     "metadata": {},
     "outputs": [
      {
       "output_type": "stream",
       "stream": "stdout",
       "text": [
        "[[ 0  1  2]\n",
        " [ 3  4  5]\n",
        " [ 6  7  8]\n",
        " [ 9 10 11]]\n",
        "[[ 0  1  2  3]\n",
        " [ 4  5  6  7]\n",
        " [ 8  9 10 11]\n",
        " [12 13 14 15]]\n",
        "\n",
        "[[[ 0  1  2]\n",
        "  [ 3  4  5]\n",
        "  [ 6  7  8]\n",
        "  [ 9 10 11]]\n",
        "\n",
        " [[12 13 14]\n",
        "  [15 16 17]\n",
        "  [18 19 20]\n",
        "  [21 22 23]]\n",
        "\n",
        " [[24 25 26]\n",
        "  [27 28 29]\n",
        "  [30 31 32]\n",
        "  [33 34 35]]\n",
        "\n",
        " [[36 37 38]\n",
        "  [39 40 41]\n",
        "  [42 43 44]\n",
        "  [45 46 47]]\n",
        "\n",
        " [[48 49 50]\n",
        "  [51 52 53]\n",
        "  [54 55 56]\n",
        "  [57 58 59]]]\n",
        "\n"
       ]
      }
     ],
     "prompt_number": 31
    },
    {
     "cell_type": "code",
     "collapsed": false,
     "input": [
      "print(test1.shape[1], test2.shape[0])"
     ],
     "language": "python",
     "metadata": {},
     "outputs": [
      {
       "output_type": "stream",
       "stream": "stdout",
       "text": [
        "3 4\n"
       ]
      }
     ],
     "prompt_number": 32
    },
    {
     "cell_type": "code",
     "collapsed": false,
     "input": [
      "print(test3.shape)"
     ],
     "language": "python",
     "metadata": {},
     "outputs": [
      {
       "output_type": "stream",
       "stream": "stdout",
       "text": [
        "(5, 4, 3)\n"
       ]
      }
     ],
     "prompt_number": 33
    },
    {
     "cell_type": "code",
     "collapsed": false,
     "input": [
      "test3 = np.arange(5*4*3).reshape(5, 4, 3)\n",
      "test4 = np.arange(5*3*4).reshape(5, 4, 3)\n",
      "\n",
      "if test3.shape == test4.shape: print('They are the same dimensions!')"
     ],
     "language": "python",
     "metadata": {},
     "outputs": [
      {
       "output_type": "stream",
       "stream": "stdout",
       "text": [
        "They are the same dimensions!\n"
       ]
      }
     ],
     "prompt_number": 34
    },
    {
     "cell_type": "code",
     "collapsed": false,
     "input": [
      "from astropy.io import fits\n",
      "galaxy_file = './data/m101_blue.fits'\n",
      "galaxy = fits.getdata(galaxy_file)\n",
      "galaxy.shape"
     ],
     "language": "python",
     "metadata": {},
     "outputs": [
      {
       "metadata": {},
       "output_type": "pyout",
       "prompt_number": 35,
       "text": [
        "(893, 891)"
       ]
      }
     ],
     "prompt_number": 35
    },
    {
     "cell_type": "code",
     "collapsed": false,
     "input": [
      "import numpy as np\n",
      "#test_mask = np.ones(5*5*3).reshape(5, 5, 3)\n",
      "test_mask = np.arange(5*5*3).reshape(5, 5, 3)\n",
      "print(test_mask)\n",
      "\n",
      "#x, y = np.arange(test_mask.shape[2]), np.arange(test_mask.shape[1])"
     ],
     "language": "python",
     "metadata": {},
     "outputs": [
      {
       "output_type": "stream",
       "stream": "stdout",
       "text": [
        "[[[ 0  1  2]\n",
        "  [ 3  4  5]\n",
        "  [ 6  7  8]\n",
        "  [ 9 10 11]\n",
        "  [12 13 14]]\n",
        "\n",
        " [[15 16 17]\n",
        "  [18 19 20]\n",
        "  [21 22 23]\n",
        "  [24 25 26]\n",
        "  [27 28 29]]\n",
        "\n",
        " [[30 31 32]\n",
        "  [33 34 35]\n",
        "  [36 37 38]\n",
        "  [39 40 41]\n",
        "  [42 43 44]]\n",
        "\n",
        " [[45 46 47]\n",
        "  [48 49 50]\n",
        "  [51 52 53]\n",
        "  [54 55 56]\n",
        "  [57 58 59]]\n",
        "\n",
        " [[60 61 62]\n",
        "  [63 64 65]\n",
        "  [66 67 68]\n",
        "  [69 70 71]\n",
        "  [72 73 74]]]\n"
       ]
      }
     ],
     "prompt_number": 36
    },
    {
     "cell_type": "code",
     "collapsed": false,
     "input": [
      "x, y = np.arange(test_mask.shape[2]), np.arange(test_mask.shape[1])\n",
      "print(x, y)\n",
      "print(test_mask[0, x, x])"
     ],
     "language": "python",
     "metadata": {},
     "outputs": [
      {
       "output_type": "stream",
       "stream": "stdout",
       "text": [
        "[0 1 2] [0 1 2 3 4]\n",
        "[0 4 8]\n"
       ]
      }
     ],
     "prompt_number": 37
    },
    {
     "cell_type": "code",
     "collapsed": false,
     "input": [
      "spect = np.array(([2,1,3,4,5,6,76,3,6,5,7,8,7]))\n",
      "print(spect.ndim)\n",
      "print(spect.shape)\n",
      "\n",
      "if spect.ndim == 1 and spect.shape[0] > 1: print('True!')"
     ],
     "language": "python",
     "metadata": {},
     "outputs": [
      {
       "output_type": "stream",
       "stream": "stdout",
       "text": [
        "1\n",
        "(13,)\n",
        "True!\n"
       ]
      }
     ],
     "prompt_number": 38
    },
    {
     "cell_type": "code",
     "collapsed": false,
     "input": [
      "test_array = np.zeros(5*4*3).reshape(5, 4, 3)\n",
      "\n",
      "t_dims = test_array.shape\n",
      "print(t_dims)\n",
      "\n",
      "mirror_array = np.empty(t_dims)\n",
      "print(mirror_array.shape)\n",
      "\n",
      "spec_test = np.array(([1, 2, 3, 4, 5]))\n",
      "print(spec_test.shape)\n",
      "print(spec_test)\n",
      "print(test_array)"
     ],
     "language": "python",
     "metadata": {},
     "outputs": [
      {
       "output_type": "stream",
       "stream": "stdout",
       "text": [
        "(5, 4, 3)\n",
        "(5, 4, 3)\n",
        "(5,)\n",
        "[1 2 3 4 5]\n",
        "[[[ 0.  0.  0.]\n",
        "  [ 0.  0.  0.]\n",
        "  [ 0.  0.  0.]\n",
        "  [ 0.  0.  0.]]\n",
        "\n",
        " [[ 0.  0.  0.]\n",
        "  [ 0.  0.  0.]\n",
        "  [ 0.  0.  0.]\n",
        "  [ 0.  0.  0.]]\n",
        "\n",
        " [[ 0.  0.  0.]\n",
        "  [ 0.  0.  0.]\n",
        "  [ 0.  0.  0.]\n",
        "  [ 0.  0.  0.]]\n",
        "\n",
        " [[ 0.  0.  0.]\n",
        "  [ 0.  0.  0.]\n",
        "  [ 0.  0.  0.]\n",
        "  [ 0.  0.  0.]]\n",
        "\n",
        " [[ 0.  0.  0.]\n",
        "  [ 0.  0.  0.]\n",
        "  [ 0.  0.  0.]\n",
        "  [ 0.  0.  0.]]]\n"
       ]
      }
     ],
     "prompt_number": 39
    },
    {
     "cell_type": "code",
     "collapsed": false,
     "input": [
      "mirror_array = np.empty(t_dims)\n",
      "print(mirror_array.shape)\n",
      "\n",
      "for ii in np.arange(t_dims[0]):\n",
      "    mirror_array[ii, :, :] = spec_test[ii]\n",
      "    \n",
      "print(mirror_array)    "
     ],
     "language": "python",
     "metadata": {},
     "outputs": [
      {
       "output_type": "stream",
       "stream": "stdout",
       "text": [
        "(5, 4, 3)\n",
        "[[[ 1.  1.  1.]\n",
        "  [ 1.  1.  1.]\n",
        "  [ 1.  1.  1.]\n",
        "  [ 1.  1.  1.]]\n",
        "\n",
        " [[ 2.  2.  2.]\n",
        "  [ 2.  2.  2.]\n",
        "  [ 2.  2.  2.]\n",
        "  [ 2.  2.  2.]]\n",
        "\n",
        " [[ 3.  3.  3.]\n",
        "  [ 3.  3.  3.]\n",
        "  [ 3.  3.  3.]\n",
        "  [ 3.  3.  3.]]\n",
        "\n",
        " [[ 4.  4.  4.]\n",
        "  [ 4.  4.  4.]\n",
        "  [ 4.  4.  4.]\n",
        "  [ 4.  4.  4.]]\n",
        "\n",
        " [[ 5.  5.  5.]\n",
        "  [ 5.  5.  5.]\n",
        "  [ 5.  5.  5.]\n",
        "  [ 5.  5.  5.]]]\n"
       ]
      }
     ],
     "prompt_number": 40
    },
    {
     "cell_type": "code",
     "collapsed": false,
     "input": [
      "i = 2\n",
      "j = 3\n",
      "k = 4\n",
      "a = numpy.arange(k)\n",
      "b = numpy.empty((i, j, k))\n",
      "b[:] = a\n",
      "print(b)\n",
      "print(a, a.shape)"
     ],
     "language": "python",
     "metadata": {},
     "outputs": [
      {
       "output_type": "stream",
       "stream": "stdout",
       "text": [
        "[[[ 0.  1.  2.  3.]\n",
        "  [ 0.  1.  2.  3.]\n",
        "  [ 0.  1.  2.  3.]]\n",
        "\n",
        " [[ 0.  1.  2.  3.]\n",
        "  [ 0.  1.  2.  3.]\n",
        "  [ 0.  1.  2.  3.]]]\n",
        "[0 1 2 3] (4,)\n"
       ]
      }
     ],
     "prompt_number": 41
    },
    {
     "cell_type": "code",
     "collapsed": false,
     "input": [
      "print(t_dims[::-1])"
     ],
     "language": "python",
     "metadata": {},
     "outputs": [
      {
       "output_type": "stream",
       "stream": "stdout",
       "text": [
        "(3, 4, 5)\n"
       ]
      }
     ],
     "prompt_number": 42
    },
    {
     "cell_type": "code",
     "collapsed": false,
     "input": [
      "print(np.tile(spec_test[::],t_dims[1]*t_dims[2]))#.reshape(t_dims))"
     ],
     "language": "python",
     "metadata": {},
     "outputs": [
      {
       "output_type": "stream",
       "stream": "stdout",
       "text": [
        "[1 2 3 4 5 1 2 3 4 5 1 2 3 4 5 1 2 3 4 5 1 2 3 4 5 1 2 3 4 5 1 2 3 4 5 1 2\n",
        " 3 4 5 1 2 3 4 5 1 2 3 4 5 1 2 3 4 5 1 2 3 4 5]\n"
       ]
      }
     ],
     "prompt_number": 43
    },
    {
     "cell_type": "code",
     "collapsed": false,
     "input": [
      "sigma=2\n",
      "\n",
      "if sigma: print('SIGMA!!!')"
     ],
     "language": "python",
     "metadata": {},
     "outputs": [
      {
       "output_type": "stream",
       "stream": "stdout",
       "text": [
        "SIGMA!!!\n"
       ]
      }
     ],
     "prompt_number": 44
    },
    {
     "cell_type": "code",
     "collapsed": false,
     "input": [],
     "language": "python",
     "metadata": {},
     "outputs": [],
     "prompt_number": 44
    },
    {
     "cell_type": "code",
     "collapsed": false,
     "input": [
      "from astropy.stats import sigma_clip\n",
      "from numpy.random import randn\n",
      "randvar = randn(10000)\n",
      "data = sigma_clip(randvar, 1, 1)\n",
      "\n",
      "print(randvar.shape)\n",
      "print(data.shape)\n",
      "\n",
      "print(randvar.min(), randvar.max())\n",
      "print(data.min(), data.max())"
     ],
     "language": "python",
     "metadata": {},
     "outputs": [
      {
       "output_type": "stream",
       "stream": "stdout",
       "text": [
        "(10000,)\n",
        "(10000,)\n",
        "-3.63960440291 3.54766985675\n",
        "-0.979600968388 1.02220896604\n"
       ]
      }
     ],
     "prompt_number": 45
    },
    {
     "cell_type": "code",
     "collapsed": false,
     "input": [],
     "language": "python",
     "metadata": {},
     "outputs": [],
     "prompt_number": 45
    },
    {
     "cell_type": "code",
     "collapsed": false,
     "input": [],
     "language": "python",
     "metadata": {},
     "outputs": []
    },
    {
     "cell_type": "markdown",
     "metadata": {},
     "source": [
      "3D Collapse\n",
      "==========="
     ]
    },
    {
     "cell_type": "code",
     "collapsed": false,
     "input": [],
     "language": "python",
     "metadata": {},
     "outputs": []
    },
    {
     "cell_type": "code",
     "collapsed": false,
     "input": [
      "reload(ifu3c)"
     ],
     "language": "python",
     "metadata": {},
     "outputs": [
      {
       "metadata": {},
       "output_type": "pyout",
       "prompt_number": 122,
       "text": [
        "<module 'ifu_3d_collapse' from 'ifu_3d_collapse.pyc'>"
       ]
      }
     ],
     "prompt_number": 122
    },
    {
     "cell_type": "code",
     "collapsed": false,
     "input": [
      "%pylab inline"
     ],
     "language": "python",
     "metadata": {},
     "outputs": [
      {
       "output_type": "stream",
       "stream": "stdout",
       "text": [
        "Populating the interactive namespace from numpy and matplotlib\n"
       ]
      }
     ],
     "prompt_number": 200
    },
    {
     "cell_type": "code",
     "collapsed": false,
     "input": [],
     "language": "python",
     "metadata": {},
     "outputs": [],
     "prompt_number": 200
    },
    {
     "cell_type": "code",
     "collapsed": false,
     "input": [],
     "language": "python",
     "metadata": {},
     "outputs": [],
     "prompt_number": 200
    },
    {
     "cell_type": "code",
     "collapsed": false,
     "input": [
      "from ifu_3d_collapse import *\n",
      "import numpy as np\n",
      "from astropy.io import fits\n",
      "import matplotlib.pyplot as plt\n",
      "import matplotlib.cm as cm"
     ],
     "language": "python",
     "metadata": {},
     "outputs": [],
     "prompt_number": 203
    },
    {
     "cell_type": "code",
     "collapsed": false,
     "input": [
      "array1D = np.arange(10)\n",
      "array2D = np.arange(3*3).reshape(3, 3)\n",
      "array3D = np.arange(3*3*3).reshape(3, 3, 3)\n",
      "\n",
      "image_file = './data/2d_Eagle.fits'\n",
      "cube_file = './data/Eagle_final_m96_m93_m83_m65.fits'\n",
      "galaxy_file = './data/m101_blue.fits'\n",
      "\n",
      "image = fits.getdata(image_file)\n",
      "cube = fits.getdata(cube_file)\n",
      "galaxy = fits.getdata(galaxy_file)\n",
      "\n",
      "cube = np.nan_to_num(cube)\n",
      "spectrum = cube[:, 9, 75]"
     ],
     "language": "python",
     "metadata": {},
     "outputs": [],
     "prompt_number": 204
    },
    {
     "cell_type": "code",
     "collapsed": false,
     "input": [
      "collapsed = ifu3c.ifu_3d_collapse(ifu3c.cube, sect=[3341,3371], method='mean', sigma=2)\n",
      "fig, (ax1, ax2) = plt.subplots(2, 1, figsize=(12, 6))\n",
      "ax1.imshow(collapsed, vmin=-10, vmax=10, cmap=cm.hot, interpolation='nearest')\n",
      "ax2.imshow(ifu3c.cube[3358, :, :], vmin=-10, vmax=10, cmap=cm.hot, interpolation='nearest')\n",
      "\n",
      "print()\n",
      "print(collapsed.min(), collapsed.max())\n",
      "print(ifu3c.cube[3358, :, :].min(), ifu3c.cube[3358, :, :].max())"
     ],
     "language": "python",
     "metadata": {},
     "outputs": [
      {
       "output_type": "stream",
       "stream": "stdout",
       "text": [
        "Mean of extracted slices:\n",
        "The operator dimensions are: (26, 143)\n",
        "Input array has 3 dimensions.\n",
        "A 3D/2D operation will take place.\n",
        "IFU subtract mode chosen...\n",
        "\n",
        "Subtracted array shape: (30, 26, 143)\n",
        "Clipping data...\n",
        "\n"
       ]
      },
      {
       "output_type": "stream",
       "stream": "stdout",
       "text": [
        "Array shape: (30, 26, 143)\n",
        "Damn, arrays are exactly the same!\n",
        "Mean of extracted slices, part 2:\n",
        "\n",
        "Shape of returned array: (26, 143)\n",
        "()"
       ]
      },
      {
       "output_type": "stream",
       "stream": "stdout",
       "text": [
        "\n",
        "(-336.92578125, 60.801439073350693)\n",
        "(-217.49303, 1489.2166)\n"
       ]
      },
      {
       "metadata": {},
       "output_type": "display_data",
       "png": "[encoded data removed]",
       "text": [
        "<matplotlib.figure.Figure at 0x1127b6650>"
       ]
      }
     ],
     "prompt_number": 205
    },
    {
     "cell_type": "code",
     "collapsed": false,
     "input": [
      "collapsed = ifu3c.ifu_3d_collapse(ifu3c.cube, sect=[3341,3371], method='median', sigma=2)\n",
      "fig, (ax1, ax2) = plt.subplots(2, 1, figsize=(12, 6))\n",
      "ax1.imshow(collapsed, vmin=-10, vmax=10, cmap=cm.hot, interpolation='nearest')\n",
      "ax2.imshow(ifu3c.cube[3358, :, :], vmin=-10, vmax=10, cmap=cm.hot, interpolation='nearest')\n",
      "\n",
      "print()\n",
      "print(collapsed.min(), collapsed.max())\n",
      "print(ifu3c.cube[3358, :, :].min(), ifu3c.cube[3358, :, :].max())"
     ],
     "language": "python",
     "metadata": {},
     "outputs": [
      {
       "output_type": "stream",
       "stream": "stdout",
       "text": [
        "Median of extracted slices:\n",
        "The operator dimensions are: (26, 143)\n",
        "Input array has 3 dimensions.\n",
        "A 3D/2D operation will take place.\n",
        "IFU subtract mode chosen...\n",
        "\n",
        "Subtracted array shape: (30, 26, 143)\n",
        "Clipping data...\n",
        "\n"
       ]
      },
      {
       "output_type": "stream",
       "stream": "stdout",
       "text": [
        "Array shape: (30, 26, 143)\n",
        "Damn, arrays are exactly the same!\n",
        "Median of extracted slices, part 2:\n",
        "\n",
        "Shape of returned array: (26, 143)\n",
        "()"
       ]
      },
      {
       "output_type": "stream",
       "stream": "stdout",
       "text": [
        "\n",
        "(-0.76765644550323486, 1.120434045791626)\n",
        "(-217.49303, 1489.2166)\n"
       ]
      },
      {
       "metadata": {},
       "output_type": "display_data",
       "png": "[encoded data removed]",
       "text": [
        "<matplotlib.figure.Figure at 0x1145d8c90>"
       ]
      }
     ],
     "prompt_number": 151
    },
    {
     "cell_type": "code",
     "collapsed": false,
     "input": [],
     "language": "python",
     "metadata": {},
     "outputs": [
      {
       "metadata": {},
       "output_type": "pyout",
       "prompt_number": 42,
       "text": [
        "numpy.ndarray"
       ]
      }
     ],
     "prompt_number": 42
    },
    {
     "cell_type": "code",
     "collapsed": false,
     "input": [
      "import astropy"
     ],
     "language": "python",
     "metadata": {},
     "outputs": [],
     "prompt_number": 14
    },
    {
     "cell_type": "code",
     "collapsed": false,
     "input": [
      "astropy.__version__"
     ],
     "language": "python",
     "metadata": {},
     "outputs": [
      {
       "metadata": {},
       "output_type": "pyout",
       "prompt_number": 15,
       "text": [
        "'0.3'"
       ]
      }
     ],
     "prompt_number": 15
    },
    {
     "cell_type": "code",
     "collapsed": false,
     "input": [],
     "language": "python",
     "metadata": {},
     "outputs": [],
     "prompt_number": 13
    },
    {
     "cell_type": "code",
     "collapsed": false,
     "input": [
      "import numpy as np\n",
      "from astropy.stats.funcs import sigma_clip\n",
      "cube1 = np.random.rand(4, 5, 5)\n",
      "cube2 = np.random.rand(4, 5, 5)\n",
      "last_cube = sigma_clip(cube1, 2, iters=None, axis=0)"
     ],
     "language": "python",
     "metadata": {},
     "outputs": [],
     "prompt_number": 108
    },
    {
     "cell_type": "code",
     "collapsed": false,
     "input": [
      "print cube1\n",
      "print\n",
      "#print cube2\n",
      "print\n",
      "print last_cube\n",
      "print np.array_equal(cube1, last_cube)\n",
      "print type(last_cube)\n",
      "print type(cube1)"
     ],
     "language": "python",
     "metadata": {},
     "outputs": [
      {
       "output_type": "stream",
       "stream": "stdout",
       "text": [
        "[[[ 0.76372337  0.2602192   0.74479916  0.06757963  0.76989024]\n",
        "  [ 0.58979147  0.90155979  0.15853213  0.9235488   0.58395893]\n",
        "  [ 0.13864602  0.72020078  0.40067272  0.87131383  0.74331653]\n",
        "  [ 0.43455335  0.64152738  0.43247081  0.39923727  0.59017425]\n",
        "  [ 0.79378155  0.03844251  0.32414632  0.0865462   0.24568244]]\n",
        "\n",
        " [[ 0.36685837  0.65521767  0.27201841  0.90080743  0.35014666]\n",
        "  [ 0.57089155  0.1424068   0.4422634   0.763919    0.44483444]\n",
        "  [ 0.4694848   0.99553578  0.12378702  0.90756167  0.8970803 ]\n",
        "  [ 0.37580701  0.23352942  0.15534022  0.02849542  0.43528057]\n",
        "  [ 0.2989701   0.60298461  0.18919855  0.9745285   0.37689682]]\n",
        "\n",
        " [[ 0.74949694  0.49021168  0.20822636  0.6604137   0.5529434 ]\n",
        "  [ 0.96664765  0.94348263  0.98489309  0.73433448  0.0263612 ]\n",
        "  [ 0.95756596  0.04684718  0.43139979  0.72522737  0.98967999]\n",
        "  [ 0.81547881  0.67047862  0.18819668  0.72590883  0.49977096]\n",
        "  [ 0.62741675  0.95057755  0.30172488  0.44242352  0.91278827]]\n",
        "\n",
        " [[ 0.8123366   0.9310022   0.29950514  0.5500531   0.29411678]\n",
        "  [ 0.45421584  0.64360115  0.2064717   0.59472484  0.90012751]\n",
        "  [ 0.99062402  0.53599707  0.59376521  0.68562766  0.67925993]\n",
        "  [ 0.32931803  0.66800122  0.12674512  0.6784419   0.60093294]\n",
        "  [ 0.59503315  0.63880977  0.98453021  0.85405178  0.21546008]]]\n",
        "\n",
        "\n",
        "[[[0.7637233657546815 0.260219202120443 -- 0.06757963320130933\n",
        "   0.7698902446305373]\n",
        "  [0.5897914688774231 0.9015597906085865 0.15853212931234328\n",
        "   0.9235488043104108 0.5839589276378395]\n",
        "  [0.13864602006969784 0.7202007818498933 0.400672720492837\n",
        "   0.8713138291494373 0.7433165306049933]\n",
        "  [0.43455334923180855 -- -- 0.39923727312630686 0.5901742508257756]\n",
        "  [0.7937815531984127 0.038442514728078137 0.3241463232935218\n",
        "   0.08654619509525863 0.24568243853560445]]\n",
        "\n",
        " [[-- 0.6552176694926216 0.2720184106056942 0.9008074307284184\n",
        "   0.35014666480557377]\n",
        "  [0.57089155282119 0.142406802431287 0.442263395118892 0.7639190034026768\n",
        "   0.44483444420367313]\n",
        "  [0.46948479615363836 0.9955357790539805 0.12378701914489287\n",
        "   0.9075616700847401 0.897080300552901]\n",
        "  [0.37580701391438387 -- 0.15534022013375903 0.02849541618659046\n",
        "   0.4352805667009513]\n",
        "  [0.29897009580913136 0.6029846052563278 -- 0.9745284958272695\n",
        "   0.37689681708638123]]\n",
        "\n",
        " [[0.749496944245602 0.49021167920220576 -- 0.6604136979654359\n",
        "   0.5529434012464357]\n",
        "  [-- 0.9434826340163331 -- 0.7343344791969793 0.02636120257046748]\n",
        "  [0.957565955371513 0.04684717528555937 0.43139979468182577\n",
        "   0.7252273694463967 0.9896799881427395]\n",
        "  [-- 0.6704786210014495 0.1881966799179483 0.7259088254091377\n",
        "   0.4997709577338574]\n",
        "  [0.6274167521486832 0.9505775466634941 0.3017248809519797\n",
        "   0.44242351900898014 --]]\n",
        "\n",
        " [[0.8123366028726582 0.9310022018971064 0.29950514377291915\n",
        "   0.5500530952160128 0.29411678115101225]\n",
        "  [0.45421584206290555 0.6436011466635271 0.2064716974428934\n",
        "   0.5947248379070291 0.9001275092010659]\n",
        "  [0.9906240215955164 0.5359970670441819 0.5937652084601943\n",
        "   0.6856276615724944 0.6792599309383395]\n",
        "  [0.3293180331513541 0.6680012213407988 0.1267451223010485\n",
        "   0.6784418982936307 0.6009329369080364]\n",
        "  [0.5950331455838797 0.6388097656349103 -- 0.8540517752112243\n",
        "   0.21546008484810053]]]\n",
        "True\n",
        "<class 'numpy.ma.core.MaskedArray'>\n",
        "<type 'numpy.ndarray'>\n"
       ]
      }
     ],
     "prompt_number": 109
    },
    {
     "cell_type": "code",
     "collapsed": false,
     "input": [
      "last_cube"
     ],
     "language": "python",
     "metadata": {},
     "outputs": [
      {
       "metadata": {},
       "output_type": "pyout",
       "prompt_number": 113,
       "text": [
        "masked_array(data =\n",
        " [[[0.7637233657546815 0.260219202120443 -- 0.06757963320130933\n",
        "   0.7698902446305373]\n",
        "  [0.5897914688774231 0.9015597906085865 0.15853212931234328\n",
        "   0.9235488043104108 0.5839589276378395]\n",
        "  [0.13864602006969784 0.7202007818498933 0.400672720492837\n",
        "   0.8713138291494373 0.7433165306049933]\n",
        "  [0.43455334923180855 -- -- 0.39923727312630686 0.5901742508257756]\n",
        "  [0.7937815531984127 0.038442514728078137 0.3241463232935218\n",
        "   0.08654619509525863 0.24568243853560445]]\n",
        "\n",
        " [[-- 0.6552176694926216 0.2720184106056942 0.9008074307284184\n",
        "   0.35014666480557377]\n",
        "  [0.57089155282119 0.142406802431287 0.442263395118892 0.7639190034026768\n",
        "   0.44483444420367313]\n",
        "  [0.46948479615363836 0.9955357790539805 0.12378701914489287\n",
        "   0.9075616700847401 0.897080300552901]\n",
        "  [0.37580701391438387 -- 0.15534022013375903 0.02849541618659046\n",
        "   0.4352805667009513]\n",
        "  [0.29897009580913136 0.6029846052563278 -- 0.9745284958272695\n",
        "   0.37689681708638123]]\n",
        "\n",
        " [[0.749496944245602 0.49021167920220576 -- 0.6604136979654359\n",
        "   0.5529434012464357]\n",
        "  [-- 0.9434826340163331 -- 0.7343344791969793 0.02636120257046748]\n",
        "  [0.957565955371513 0.04684717528555937 0.43139979468182577\n",
        "   0.7252273694463967 0.9896799881427395]\n",
        "  [-- 0.6704786210014495 0.1881966799179483 0.7259088254091377\n",
        "   0.4997709577338574]\n",
        "  [0.6274167521486832 0.9505775466634941 0.3017248809519797\n",
        "   0.44242351900898014 --]]\n",
        "\n",
        " [[0.8123366028726582 0.9310022018971064 0.29950514377291915\n",
        "   0.5500530952160128 0.29411678115101225]\n",
        "  [0.45421584206290555 0.6436011466635271 0.2064716974428934\n",
        "   0.5947248379070291 0.9001275092010659]\n",
        "  [0.9906240215955164 0.5359970670441819 0.5937652084601943\n",
        "   0.6856276615724944 0.6792599309383395]\n",
        "  [0.3293180331513541 0.6680012213407988 0.1267451223010485\n",
        "   0.6784418982936307 0.6009329369080364]\n",
        "  [0.5950331455838797 0.6388097656349103 -- 0.8540517752112243\n",
        "   0.21546008484810053]]],\n",
        "             mask =\n",
        " [[[False False  True False False]\n",
        "  [False False False False False]\n",
        "  [False False False False False]\n",
        "  [False  True  True False False]\n",
        "  [False False False False False]]\n",
        "\n",
        " [[ True False False False False]\n",
        "  [False False False False False]\n",
        "  [False False False False False]\n",
        "  [False  True False False False]\n",
        "  [False False  True False False]]\n",
        "\n",
        " [[False False  True False False]\n",
        "  [ True False  True False False]\n",
        "  [False False False False False]\n",
        "  [ True False False False False]\n",
        "  [False False False False  True]]\n",
        "\n",
        " [[False False False False False]\n",
        "  [False False False False False]\n",
        "  [False False False False False]\n",
        "  [False False False False False]\n",
        "  [False False  True False False]]],\n",
        "       fill_value = 1e+20)"
       ]
      }
     ],
     "prompt_number": 113
    },
    {
     "cell_type": "code",
     "collapsed": false,
     "input": [
      "%reset"
     ],
     "language": "python",
     "metadata": {},
     "outputs": [
      {
       "name": "stdout",
       "output_type": "stream",
       "stream": "stdout",
       "text": [
        "Once deleted, variables cannot be recovered. Proceed (y/[n])? y\n"
       ]
      }
     ],
     "prompt_number": 170
    },
    {
     "cell_type": "code",
     "collapsed": false,
     "input": [
      "from ifu_3d_collapse import *"
     ],
     "language": "python",
     "metadata": {},
     "outputs": [],
     "prompt_number": 172
    },
    {
     "cell_type": "code",
     "collapsed": false,
     "input": [
      "print(spectrum)"
     ],
     "language": "python",
     "metadata": {},
     "outputs": [
      {
       "output_type": "stream",
       "stream": "stdout",
       "text": [
        "[ 0.  0.  0. ...,  0.  0.  0.]\n"
       ]
      }
     ],
     "prompt_number": 173
    },
    {
     "cell_type": "code",
     "collapsed": false,
     "input": [],
     "language": "python",
     "metadata": {},
     "outputs": []
    }
   ],
   "metadata": {}
  }
 ]
}