{
 "metadata": {
  "name": "",
  "signature": "sha256:f815674cfd6f732811d8730d8ff70bab7fa0572bc59f87b7b438ccdcf374215e"
 },
 "nbformat": 3,
 "nbformat_minor": 0,
 "worksheets": [
  {
   "cells": [
    {
     "cell_type": "markdown",
     "metadata": {},
     "source": [
      "# 1. Nosetests\n",
      "--------------"
     ]
    },
    {
     "cell_type": "code",
     "collapsed": false,
     "input": [
      "%%file ifu_tests.py\n",
      "#Global imports\n",
      "import numpy as np\n",
      "from astropy.io import fits\n",
      "\n",
      "# Basic ifu math mode\n",
      "def ifu_math(array_in, operator, method):\n",
      "    \"\"\"\n",
      "    Perform basic arithmetic tasks on 3D data using 1D, 2D, or\n",
      "    3D data as input.\n",
      "    \n",
      "    Keyword arguments:\n",
      "    array_in  -- The 3D input array.\n",
      "    \n",
      "    operator  -- The array that is to operate on the input array\n",
      "                 (array_in). Can be a scalar, list, image, or\n",
      "                 datacube.\n",
      "                \n",
      "    method    -- Calculation method. Available are add, subtract,\n",
      "                 multiply, and divide.\n",
      "    \n",
      "    \n",
      "    Output(s):\n",
      "    array_out -- The list, image or cube subtracted output array.\n",
      "    \n",
      "    Example usage:\n",
      "    \n",
      "        1. >> ifu_math(cube, 1000., method='subtract')\n",
      "        \n",
      "        Subtract the scalar value of 1000. from entire cube array.\n",
      "        \n",
      "        2. >> ifu_math(cube, image, method='subtract')\n",
      "        \n",
      "        Subtract an image of dimensions [x, y] from a cube array in\n",
      "        the wavelength (z) plane. Image dimensions x, y] must match\n",
      "        those of the input cube array.\n",
      "        \n",
      "        3. >> ifu_math(cube1, cube2, method='divide')\n",
      "        \n",
      "        Divive cube1 array by the contents of cube2 array, value for\n",
      "        value. Arrays of both cubes must be identical.\n",
      "        \n",
      "    \"\"\"    \n",
      "    \n",
      "    import numpy as np\n",
      "    \n",
      "    # Check to see if operator is a scalar (int or float); convert to numpy\n",
      "    # list to allow shape determination\n",
      "    \n",
      "    #print()\n",
      "    #print(operator, type(operator))\n",
      "    #print()\n",
      "    \n",
      "    if isinstance(operator, np.ndarray):\n",
      "        print('The operator dimensions are: {}'.format(np.shape(operator)))\n",
      "    else:\n",
      "        print('Input has been converted to a numpy array.')\n",
      "        operator = np.array([operator])\n",
      "        print('The operator dimensions are: {}'.format(np.shape(operator)))\n",
      "    \n",
      "    \n",
      "    # Assure that the input array is a cube\n",
      "    if array_in.ndim != 3:\n",
      "        print('The input array must be a cube (3 dimensions)!')\n",
      "        return\n",
      "    else:\n",
      "        print('Input array has {} dimensions.'.format(array_in.ndim))\n",
      "    \n",
      "    # ... and check dimensions of input and operator arrays\n",
      "    if operator.ndim == 1:\n",
      "        print('A scalar operation will take place.')\n",
      "    elif operator.shape == array_in.shape:\n",
      "        print('A 3D/3D operation will take place.')\n",
      "    elif operator.ndim == 2 and (operator.shape[0] == array_in.shape[1] and operator.shape[1] == array_in.shape[2]):\n",
      "        print('A 3D/2D operation will take place.')\n",
      "    else:\n",
      "        print('Dimension of input array and operator do not match!')\n",
      "    \n",
      "    \n",
      "    if method == 'add':\n",
      "        print('IFU add mode chosen...')\n",
      "        array_out = np.add(array_in, operator)            \n",
      "    \n",
      "    elif method == 'subtract':\n",
      "        print('IFU subtract mode chosen...')\n",
      "        array_out = np.subtract(array_in, operator)\n",
      "    \n",
      "    elif method == 'multiply':\n",
      "        print('IFU multiply mode chosen...')\n",
      "        array_out = np.multiply(array_in, operator)\n",
      "    \n",
      "    elif method == 'divide':\n",
      "        print('IFU divide mode chosen...')\n",
      "        array_out = np.divide(array_in, operator)\n",
      "        \n",
      "    else:\n",
      "        print('There has been an input parse error, please check inputs again!')\n",
      "        array_out = np.array([])\n",
      "    \n",
      "    return array_out\n",
      "\n",
      "\n",
      "# ****************** Tests ******************\n",
      "# NOTES:\n",
      "# We're assuming that the input array (array_in) is required\n",
      "# to be a cube (3D).\n",
      "\n",
      "# Addition tests\n",
      "def test_1(): # test handling scalar as input (int)   \n",
      "    result = ifu_math(array3D, 10, 'add')\n",
      "    #assert type(result) == np.ndarray\n",
      "    assert isinstance(result, np.ndarray)\n",
      "    \n",
      "def test_2(): # test handling scalar as input (float)   \n",
      "    result = ifu_math(array3D, 5., 'add')\n",
      "    assert isinstance(result, np.ndarray)\n",
      "    \n",
      "# Subtraction tests\n",
      "def test_3(): # test handling scalar as input (int)   \n",
      "    result = ifu_math(array3D, 10, 'subtract')\n",
      "    assert isinstance(result, np.ndarray)\n",
      "    \n",
      "def test_4(): # test handling scalar as input (float)   \n",
      "    result = ifu_math(array3D, 5., 'subtract')\n",
      "    assert isinstance(result, np.ndarray)\n",
      "\n",
      "# Multiplication tests\n",
      "def test_5(): # test handling scalar as input (int)   \n",
      "    result = ifu_math(array3D, 10, 'multiply')\n",
      "    assert isinstance(result, np.ndarray)\n",
      "    \n",
      "def test_6(): # test handling scalar as input (float)   \n",
      "    result = ifu_math(array3D, 5., 'multiply')\n",
      "    assert isinstance(result, np.ndarray)\n",
      "\n",
      "# Division tests\n",
      "def test_7(): # test handling scalar as input (int)   \n",
      "    result = ifu_math(array3D, 10, 'divide')\n",
      "    assert isinstance(result, np.ndarray)\n",
      "    \n",
      "def test_8(): # test handling scalar as input (float)   \n",
      "    result = ifu_math(array3D, 5., 'divide')\n",
      "    assert isinstance(result, np.ndarray)\n",
      "    \n",
      "# Blind tests\n",
      "# Dummy mode test\n",
      "def test_9(): # test handling scalar as input (float)   \n",
      "    result = ifu_math(array3D, 5., 'dummy')\n",
      "    assert isinstance(result, np.ndarray)\n",
      "\n",
      "# Dummy operator test\n",
      "def test_10(): # test handling scalar as input (float)   \n",
      "    result = ifu_math(array3D, 'r', 'add')\n",
      "    assert isinstance(result, np.ndarray), 'Operator cannot be a string!'\n",
      "    \n",
      "# Multi-dimension tests\n",
      "#3D cube - 2D image\n",
      "def test_11():\n",
      "    result = ifu_math(cube, image, 'subtract')\n",
      "    print('Type: ', type(result))\n",
      "    assert isinstance(result, np.ndarray)\n",
      "    \n",
      "# Different dimensions    \n",
      "def test_12():\n",
      "    result = ifu_math(cube, galaxy, 'divide')\n",
      "    assert isinstance(result, np.ndarray)\n",
      "\n",
      "# 1D input array test\n",
      "def test_13(): # test handling scalar as input (int)   \n",
      "    result = ifu_math(array1D, 10, 'add')\n",
      "    assert isinstance(result, np.ndarray)\n",
      "    \n",
      "# ****************** Tests ******************\n",
      "    \n",
      "array1D = np.arange(10)\n",
      "array2D = np.arange(3*3).reshape(3, 3)\n",
      "array3D = np.arange(3*3*3).reshape(3, 3, 3)\n",
      "\n",
      "image_file = './data/2d_Eagle.fits'\n",
      "cube_file = './data/Eagle_final_m96_m93_m83_m65.fits'\n",
      "galaxy_file = './data/m101_blue.fits'\n",
      "\n",
      "image = fits.getdata(image_file)\n",
      "cube = fits.getdata(cube_file)\n",
      "galaxy = fits.getdata(galaxy_file)"
     ],
     "language": "python",
     "metadata": {},
     "outputs": [
      {
       "output_type": "stream",
       "stream": "stdout",
       "text": [
        "Overwriting ifu_tests.py\n"
       ]
      }
     ],
     "prompt_number": 3
    },
    {
     "cell_type": "code",
     "collapsed": false,
     "input": [
      "#!nosetests ifu_tests.py\n",
      "!nosetests -v ifu_tests.py\n",
      "\n",
      "# #10 fails because the input operator must be either a constant (int, float) or an array.\n",
      "# #12 fails because the array dimensions don't agree...\n",
      "# #13 fails because the input array must be a cube."
     ],
     "language": "python",
     "metadata": {},
     "outputs": [
      {
       "output_type": "stream",
       "stream": "stdout",
       "text": [
        "ifu_tests.test_1 ... ok\r\n",
        "ifu_tests.test_2 ... ok\r\n",
        "ifu_tests.test_3 ... ok\r\n",
        "ifu_tests.test_4 ... ok\r\n",
        "ifu_tests.test_5 ... ok\r\n",
        "ifu_tests.test_6 ... ok\r\n",
        "ifu_tests.test_7 ... ok\r\n",
        "ifu_tests.test_8 ... ok\r\n",
        "ifu_tests.test_9 ... ok\r\n",
        "ifu_tests.test_10 ... FAIL\r\n",
        "ifu_tests.test_11 ... "
       ]
      },
      {
       "output_type": "stream",
       "stream": "stdout",
       "text": [
        "ok\r\n",
        "ifu_tests.test_12 ... "
       ]
      },
      {
       "output_type": "stream",
       "stream": "stdout",
       "text": [
        "ERROR\r\n",
        "ifu_tests.test_13 ... FAIL\r\n",
        "\r\n",
        "======================================================================\r\n",
        "ERROR: ifu_tests.test_12\r\n",
        "----------------------------------------------------------------------\r\n",
        "Traceback (most recent call last):\r\n",
        "  File \"/Users/leblanc/Ureka/python/lib/python2.7/site-packages/nose/case.py\", line 197, in runTest\r\n",
        "    self.test(*self.arg)\r\n",
        "  File \"/Users/leblanc/Documents/Dropbox/stsci/IFU/ifu_tests.py\", line 165, in test_12\r\n",
        "    result = ifu_math(cube, galaxy, 'divide')\r\n",
        "  File \"/Users/leblanc/Documents/Dropbox/stsci/IFU/ifu_tests.py\", line 93, in ifu_math\r\n",
        "    array_out = np.divide(array_in, operator)\r\n",
        "ValueError: operands could not be broadcast together with shapes (6000,26,143) (893,891) \r\n",
        "-------------------- >> begin captured stdout << ---------------------\r\n",
        "The operator dimensions are: (893, 891)\r\n",
        "Input array has 3 dimensions.\r\n",
        "Dimension of input array and operator do not match!\r\n",
        "IFU divide mode chosen...\r\n",
        "\r\n",
        "--------------------- >> end captured stdout << ----------------------\r\n",
        "\r\n",
        "======================================================================\r\n",
        "FAIL: ifu_tests.test_10\r\n",
        "----------------------------------------------------------------------\r\n",
        "Traceback (most recent call last):\r\n",
        "  File \"/Users/leblanc/Ureka/python/lib/python2.7/site-packages/nose/case.py\", line 197, in runTest\r\n",
        "    self.test(*self.arg)\r\n",
        "  File \"/Users/leblanc/Documents/Dropbox/stsci/IFU/ifu_tests.py\", line 154, in test_10\r\n",
        "    assert isinstance(result, np.ndarray), 'Operator cannot be a string!'\r\n",
        "AssertionError: Operator cannot be a string!\r\n",
        "-------------------- >> begin captured stdout << ---------------------\r\n",
        "Input has been converted to a numpy array.\r\n",
        "The operator dimensions are: (1,)\r\n",
        "Input array has 3 dimensions.\r\n",
        "A scalar operation will take place.\r\n",
        "IFU add mode chosen...\r\n",
        "\r\n",
        "--------------------- >> end captured stdout << ----------------------\r\n",
        "\r\n",
        "======================================================================\r\n",
        "FAIL: ifu_tests.test_13\r\n",
        "----------------------------------------------------------------------\r\n",
        "Traceback (most recent call last):\r\n",
        "  File \"/Users/leblanc/Ureka/python/lib/python2.7/site-packages/nose/case.py\", line 197, in runTest\r\n",
        "    self.test(*self.arg)\r\n",
        "  File \"/Users/leblanc/Documents/Dropbox/stsci/IFU/ifu_tests.py\", line 171, in test_13\r\n",
        "    assert isinstance(result, np.ndarray)\r\n",
        "AssertionError: \r\n",
        "-------------------- >> begin captured stdout << ---------------------\r\n",
        "Input has been converted to a numpy array.\r\n",
        "The operator dimensions are: (1,)\r\n",
        "The input array must be a cube (3 dimensions)!\r\n",
        "\r\n",
        "--------------------- >> end captured stdout << ----------------------\r\n",
        "\r\n",
        "----------------------------------------------------------------------\r\n",
        "Ran 13 tests in 0.511s\r\n",
        "\r\n",
        "FAILED (errors=1, failures=2)\r\n"
       ]
      }
     ],
     "prompt_number": 4
    },
    {
     "cell_type": "code",
     "collapsed": false,
     "input": [],
     "language": "python",
     "metadata": {},
     "outputs": [],
     "prompt_number": 2
    },
    {
     "cell_type": "markdown",
     "metadata": {},
     "source": [
      "# 2. Independent Testing\n",
      "------------------------"
     ]
    },
    {
     "cell_type": "code",
     "collapsed": false,
     "input": [
      "%pylab inline"
     ],
     "language": "python",
     "metadata": {},
     "outputs": [
      {
       "output_type": "stream",
       "stream": "stdout",
       "text": [
        "Populating the interactive namespace from numpy and matplotlib\n"
       ]
      }
     ],
     "prompt_number": 22
    },
    {
     "cell_type": "code",
     "collapsed": false,
     "input": [
      "import ifu_tests as ifut\n",
      "reload(ifut)\n",
      "\n",
      "import numpy as np\n",
      "from astropy.io import fits\n",
      "import matplotlib.pyplot as plt\n",
      "from matplotlib import cm\n",
      "from __future__ import print_function\n",
      "\n",
      "array1D = np.arange(10)\n",
      "\n",
      "image_file = './data/2d_Eagle.fits'\n",
      "cube_file = './data/Eagle_final_m96_m93_m83_m65.fits'\n",
      "\n",
      "image = fits.getdata(image_file)\n",
      "cube = fits.getdata(cube_file)\n",
      "print('Image dimensions: ', image.shape)\n",
      "print('Cube dimensions: ', cube.shape)\n",
      "print()\n",
      "\n",
      "test = ifut.ifu_math(cube, image, 'subtract')\n",
      "\n",
      "# Input image\n",
      "fig, ax = plt.subplots(figsize=(12, 16))\n",
      "ax.imshow(image, vmin=-10, vmax=10, cmap=cm.hot, interpolation='nearest')"
     ],
     "language": "python",
     "metadata": {},
     "outputs": [
      {
       "output_type": "stream",
       "stream": "stdout",
       "text": [
        "Image dimensions:  (26, 143)\n",
        "Cube dimensions:  (6000, 26, 143)\n",
        "\n",
        "The operator dimensions are: (26, 143)\n",
        "Input array has 3 dimensions.\n",
        "A 3D/2D operation will take place.\n",
        "IFU subtract mode chosen:\n"
       ]
      },
      {
       "metadata": {},
       "output_type": "pyout",
       "prompt_number": 49,
       "text": [
        "<matplotlib.image.AxesImage at 0x1073a0c90>"
       ]
      }
     ],
     "prompt_number": 49
    },
    {
     "cell_type": "code",
     "collapsed": false,
     "input": [
      "# input cube\n",
      "data = np.nan_to_num(cube[3358, :, :])\n",
      "fig, ax = plt.subplots(figsize=(12, 16))\n",
      "ax.imshow(data, vmin=-10, vmax=10, cmap=cm.hot, interpolation='nearest')"
     ],
     "language": "python",
     "metadata": {},
     "outputs": [
      {
       "metadata": {},
       "output_type": "pyout",
       "prompt_number": 5,
       "text": [
        "<matplotlib.image.AxesImage at 0x11bb69550>"
       ]
      },
      {
       "metadata": {},
       "output_type": "display_data",
       "png": "[encoded data removed]",
       "text": [
        "<matplotlib.figure.Figure at 0x11bb69b10>"
       ]
      }
     ],
     "prompt_number": 5
    },
    {
     "cell_type": "code",
     "collapsed": false,
     "input": [
      "# Test the subtraction...\n",
      "fig, ax = plt.subplots(figsize=(12, 16))\n",
      "test_image = test[3358, :, :]\n",
      "ax.imshow(test_image, vmin=-10, vmax=10, cmap=cm.hot, interpolation='nearest')"
     ],
     "language": "python",
     "metadata": {},
     "outputs": [
      {
       "metadata": {},
       "output_type": "pyout",
       "prompt_number": 6,
       "text": [
        "<matplotlib.image.AxesImage at 0x11bf83890>"
       ]
      },
      {
       "metadata": {},
       "output_type": "display_data",
       "png": "[encoded data removed]",
       "text": [
        "<matplotlib.figure.Figure at 0x10b903190>"
       ]
      }
     ],
     "prompt_number": 6
    },
    {
     "cell_type": "code",
     "collapsed": false,
     "input": [
      "fig, ax = plt.subplots(figsize=(12, 16))\n",
      "test_image = test[3000, :, :]\n",
      "ax.imshow(test_image, vmin=-10, vmax=10, cmap=cm.hot, interpolation='nearest')"
     ],
     "language": "python",
     "metadata": {},
     "outputs": [
      {
       "metadata": {},
       "output_type": "pyout",
       "prompt_number": 7,
       "text": [
        "<matplotlib.image.AxesImage at 0x11c230c50>"
       ]
      },
      {
       "metadata": {},
       "output_type": "display_data",
       "png": "[encoded data removed]",
       "text": [
        "<matplotlib.figure.Figure at 0x11bf603d0>"
       ]
      }
     ],
     "prompt_number": 7
    },
    {
     "cell_type": "code",
     "collapsed": false,
     "input": [],
     "language": "python",
     "metadata": {},
     "outputs": [],
     "prompt_number": 7
    },
    {
     "cell_type": "code",
     "collapsed": false,
     "input": [],
     "language": "python",
     "metadata": {},
     "outputs": [],
     "prompt_number": 7
    },
    {
     "cell_type": "markdown",
     "metadata": {},
     "source": [
      "# Development Scrap Heap\n",
      "------------------------"
     ]
    },
    {
     "cell_type": "code",
     "collapsed": false,
     "input": [
      "from __future__ import print_function\n",
      "import numpy as np"
     ],
     "language": "python",
     "metadata": {},
     "outputs": [],
     "prompt_number": 8
    },
    {
     "cell_type": "code",
     "collapsed": false,
     "input": [
      "x = 10\n",
      "print(type(x))\n",
      "y = np.array([x])\n",
      "print(type(y))\n",
      "print()\n",
      "\n",
      "print('Shape: ', y.shape)\n",
      "\n",
      "if y.shape == (1,): print(\"It's TRUE!!!\")"
     ],
     "language": "python",
     "metadata": {},
     "outputs": [
      {
       "output_type": "stream",
       "stream": "stdout",
       "text": [
        "<type 'int'>\n",
        "<type 'numpy.ndarray'>\n",
        "\n",
        "Shape:  (1,)\n",
        "It's TRUE!!!\n"
       ]
      }
     ],
     "prompt_number": 9
    },
    {
     "cell_type": "code",
     "collapsed": false,
     "input": [
      "%pylab inline\n",
      "import matplotlib.pyplot as plt\n",
      "\n",
      "test_image = np.arange(5*5).reshape(5, 5)\n",
      "test_cube = np.arange(10*5*5).reshape(10,5,5)\n",
      "\n",
      "fig, ax = plt.subplots(figsize=(3, 3))\n",
      "ax.imshow(test_image, vmin=0, vmax=250, interpolation='nearest')\n",
      "\n",
      "fig, ax = plt.subplots(figsize=(3, 3))\n",
      "ax.imshow(test_cube[9, :, :], vmin=0, vmax=250, interpolation='nearest')\n",
      "\n",
      "final = test_cube - test_image\n",
      "print(test_image.shape)\n",
      "print(test_cube.shape)\n",
      "print(final.shape)\n",
      "\n",
      "print('Test Image')\n",
      "print(test_image)\n",
      "print('Test Cube')\n",
      "print(test_cube)\n",
      "print('Final')\n",
      "print(final)\n",
      "\n",
      "fig, ax = plt.subplots(figsize=(3, 3))\n",
      "ax.imshow(final[9, :, :], vmin=0, vmax=250, interpolation='nearest')"
     ],
     "language": "python",
     "metadata": {},
     "outputs": [
      {
       "output_type": "stream",
       "stream": "stdout",
       "text": [
        "Populating the interactive namespace from numpy and matplotlib\n",
        "(5, 5)"
       ]
      },
      {
       "output_type": "stream",
       "stream": "stdout",
       "text": [
        "\n",
        "(10, 5, 5)\n",
        "(10, 5, 5)\n",
        "Test Image\n",
        "[[ 0  1  2  3  4]\n",
        " [ 5  6  7  8  9]\n",
        " [10 11 12 13 14]\n",
        " [15 16 17 18 19]\n",
        " [20 21 22 23 24]]\n",
        "Test Cube\n",
        "[[[  0   1   2   3   4]\n",
        "  [  5   6   7   8   9]\n",
        "  [ 10  11  12  13  14]\n",
        "  [ 15  16  17  18  19]\n",
        "  [ 20  21  22  23  24]]\n",
        "\n",
        " [[ 25  26  27  28  29]\n",
        "  [ 30  31  32  33  34]\n",
        "  [ 35  36  37  38  39]\n",
        "  [ 40  41  42  43  44]\n",
        "  [ 45  46  47  48  49]]\n",
        "\n",
        " [[ 50  51  52  53  54]\n",
        "  [ 55  56  57  58  59]\n",
        "  [ 60  61  62  63  64]\n",
        "  [ 65  66  67  68  69]\n",
        "  [ 70  71  72  73  74]]\n",
        "\n",
        " [[ 75  76  77  78  79]\n",
        "  [ 80  81  82  83  84]\n",
        "  [ 85  86  87  88  89]\n",
        "  [ 90  91  92  93  94]\n",
        "  [ 95  96  97  98  99]]\n",
        "\n",
        " [[100 101 102 103 104]\n",
        "  [105 106 107 108 109]\n",
        "  [110 111 112 113 114]\n",
        "  [115 116 117 118 119]\n",
        "  [120 121 122 123 124]]\n",
        "\n",
        " [[125 126 127 128 129]\n",
        "  [130 131 132 133 134]\n",
        "  [135 136 137 138 139]\n",
        "  [140 141 142 143 144]\n",
        "  [145 146 147 148 149]]\n",
        "\n",
        " [[150 151 152 153 154]\n",
        "  [155 156 157 158 159]\n",
        "  [160 161 162 163 164]\n",
        "  [165 166 167 168 169]\n",
        "  [170 171 172 173 174]]\n",
        "\n",
        " [[175 176 177 178 179]\n",
        "  [180 181 182 183 184]\n",
        "  [185 186 187 188 189]\n",
        "  [190 191 192 193 194]\n",
        "  [195 196 197 198 199]]\n",
        "\n",
        " [[200 201 202 203 204]\n",
        "  [205 206 207 208 209]\n",
        "  [210 211 212 213 214]\n",
        "  [215 216 217 218 219]\n",
        "  [220 221 222 223 224]]\n",
        "\n",
        " [[225 226 227 228 229]\n",
        "  [230 231 232 233 234]\n",
        "  [235 236 237 238 239]\n",
        "  [240 241 242 243 244]\n",
        "  [245 246 247 248 249]]]\n",
        "Final\n",
        "[[[  0   0   0   0   0]\n",
        "  [  0   0   0   0   0]\n",
        "  [  0   0   0   0   0]\n",
        "  [  0   0   0   0   0]\n",
        "  [  0   0   0   0   0]]\n",
        "\n",
        " [[ 25  25  25  25  25]\n",
        "  [ 25  25  25  25  25]\n",
        "  [ 25  25  25  25  25]\n",
        "  [ 25  25  25  25  25]\n",
        "  [ 25  25  25  25  25]]\n",
        "\n",
        " [[ 50  50  50  50  50]\n",
        "  [ 50  50  50  50  50]\n",
        "  [ 50  50  50  50  50]\n",
        "  [ 50  50  50  50  50]\n",
        "  [ 50  50  50  50  50]]\n",
        "\n",
        " [[ 75  75  75  75  75]\n",
        "  [ 75  75  75  75  75]\n",
        "  [ 75  75  75  75  75]\n",
        "  [ 75  75  75  75  75]\n",
        "  [ 75  75  75  75  75]]\n",
        "\n",
        " [[100 100 100 100 100]\n",
        "  [100 100 100 100 100]\n",
        "  [100 100 100 100 100]\n",
        "  [100 100 100 100 100]\n",
        "  [100 100 100 100 100]]\n",
        "\n",
        " [[125 125 125 125 125]\n",
        "  [125 125 125 125 125]\n",
        "  [125 125 125 125 125]\n",
        "  [125 125 125 125 125]\n",
        "  [125 125 125 125 125]]\n",
        "\n",
        " [[150 150 150 150 150]\n",
        "  [150 150 150 150 150]\n",
        "  [150 150 150 150 150]\n",
        "  [150 150 150 150 150]\n",
        "  [150 150 150 150 150]]\n",
        "\n",
        " [[175 175 175 175 175]\n",
        "  [175 175 175 175 175]\n",
        "  [175 175 175 175 175]\n",
        "  [175 175 175 175 175]\n",
        "  [175 175 175 175 175]]\n",
        "\n",
        " [[200 200 200 200 200]\n",
        "  [200 200 200 200 200]\n",
        "  [200 200 200 200 200]\n",
        "  [200 200 200 200 200]\n",
        "  [200 200 200 200 200]]\n",
        "\n",
        " [[225 225 225 225 225]\n",
        "  [225 225 225 225 225]\n",
        "  [225 225 225 225 225]\n",
        "  [225 225 225 225 225]\n",
        "  [225 225 225 225 225]]]\n"
       ]
      },
      {
       "output_type": "stream",
       "stream": "stderr",
       "text": [
        "WARNING: pylab import has clobbered these variables: ['test']\n",
        "`%matplotlib` prevents importing * from pylab and numpy\n"
       ]
      },
      {
       "metadata": {},
       "output_type": "pyout",
       "prompt_number": 10,
       "text": [
        "<matplotlib.image.AxesImage at 0x10ba074d0>"
       ]
      },
      {
       "metadata": {},
       "output_type": "display_data",
       "png": "[encoded data removed]",
       "text": [
        "<matplotlib.figure.Figure at 0x11bf5be90>"
       ]
      },
      {
       "metadata": {},
       "output_type": "display_data",
       "png": "[encoded data removed]",
       "text": [
        "<matplotlib.figure.Figure at 0x11c2d00d0>"
       ]
      },
      {
       "metadata": {},
       "output_type": "display_data",
       "png": "[encoded data removed]",
       "text": [
        "<matplotlib.figure.Figure at 0x11c108350>"
       ]
      }
     ],
     "prompt_number": 10
    },
    {
     "cell_type": "code",
     "collapsed": false,
     "input": [],
     "language": "python",
     "metadata": {},
     "outputs": [],
     "prompt_number": 10
    },
    {
     "cell_type": "code",
     "collapsed": false,
     "input": [
      "import numpy as np\n",
      "\n",
      "array1D = np.arange(10)\n",
      "array2D = np.arange(3*3).reshape(3, 3)\n",
      "array3D = np.arange(3*3*3).reshape(3, 3, 3)\n",
      "\n",
      "print(array1D.ndim)\n",
      "print(array2D.ndim)\n",
      "print(array3D.ndim)\n",
      "\n",
      "if array3D.ndim == 3: print('True!')"
     ],
     "language": "python",
     "metadata": {},
     "outputs": [
      {
       "output_type": "stream",
       "stream": "stdout",
       "text": [
        "1\n",
        "2\n",
        "3\n",
        "True!\n"
       ]
      }
     ],
     "prompt_number": 11
    },
    {
     "cell_type": "code",
     "collapsed": false,
     "input": [],
     "language": "python",
     "metadata": {},
     "outputs": [],
     "prompt_number": 11
    },
    {
     "cell_type": "code",
     "collapsed": false,
     "input": [
      "operator = 5\n",
      "\n",
      "try:\n",
      "    print(np.shape(operator))\n",
      "    print(operator = np.array([operator]))  \n",
      "except TypeError:\n",
      "    print('Operator needs to be an integer!')\n",
      "\n",
      "#if type(operator) == int or type(operator) == float: operator = np.array([operator])\n",
      "print('The operator dimensions are: {}'.format(np.shape(operator)))\n"
     ],
     "language": "python",
     "metadata": {},
     "outputs": [
      {
       "output_type": "stream",
       "stream": "stdout",
       "text": [
        "()\n",
        "Operator needs to be an integer!\n",
        "The operator dimensions are: ()\n"
       ]
      }
     ],
     "prompt_number": 26
    },
    {
     "cell_type": "code",
     "collapsed": false,
     "input": [
      "operator = [4, 3, 7.3]\n",
      "#print(np.shape(operator))\n",
      "test = int(operator)\n",
      "print(test)"
     ],
     "language": "python",
     "metadata": {},
     "outputs": [
      {
       "output_type": "stream",
       "stream": "stdout",
       "text": [
        "ERROR: TypeError: int() argument must be a string or a number, not 'list' [IPython.core.interactiveshell]\n"
       ]
      },
      {
       "ename": "TypeError",
       "evalue": "int() argument must be a string or a number, not 'list'",
       "output_type": "pyerr",
       "traceback": [
        "\u001b[0;31m---------------------------------------------------------------------------\u001b[0m\n\u001b[0;31mTypeError\u001b[0m                                 Traceback (most recent call last)",
        "\u001b[0;32m<ipython-input-40-04b15490d7e0>\u001b[0m in \u001b[0;36m<module>\u001b[0;34m()\u001b[0m\n\u001b[1;32m      1\u001b[0m \u001b[0moperator\u001b[0m \u001b[0;34m=\u001b[0m \u001b[0;34m[\u001b[0m\u001b[0;36m4\u001b[0m\u001b[0;34m,\u001b[0m \u001b[0;36m3\u001b[0m\u001b[0;34m,\u001b[0m \u001b[0;36m7.3\u001b[0m\u001b[0;34m]\u001b[0m\u001b[0;34m\u001b[0m\u001b[0m\n\u001b[1;32m      2\u001b[0m \u001b[0;31m#print(np.shape(operator))\u001b[0m\u001b[0;34m\u001b[0m\u001b[0;34m\u001b[0m\u001b[0m\n\u001b[0;32m----> 3\u001b[0;31m \u001b[0mtest\u001b[0m \u001b[0;34m=\u001b[0m \u001b[0mint\u001b[0m\u001b[0;34m(\u001b[0m\u001b[0moperator\u001b[0m\u001b[0;34m)\u001b[0m\u001b[0;34m\u001b[0m\u001b[0m\n\u001b[0m\u001b[1;32m      4\u001b[0m \u001b[0;32mprint\u001b[0m\u001b[0;34m(\u001b[0m\u001b[0mtest\u001b[0m\u001b[0;34m)\u001b[0m\u001b[0;34m\u001b[0m\u001b[0m\n",
        "\u001b[0;31mTypeError\u001b[0m: int() argument must be a string or a number, not 'list'"
       ]
      }
     ],
     "prompt_number": 40
    },
    {
     "cell_type": "code",
     "collapsed": false,
     "input": [
      "import numpy as np\n",
      "test1 = np.arange(12).reshape(4, 3)\n",
      "test2 = np.arange(16).reshape(4, 4)\n",
      "test3 = np.arange(5*4*3).reshape(5, 4, 3)\n",
      "test4 = np.arange(5*3*4).reshape(5, 3, 4)\n",
      "\n",
      "print(test1)\n",
      "print(test2)\n",
      "print()\n",
      "print(test3)\n",
      "print()\n"
     ],
     "language": "python",
     "metadata": {},
     "outputs": [
      {
       "output_type": "stream",
       "stream": "stdout",
       "text": [
        "[[ 0  1  2]\n",
        " [ 3  4  5]\n",
        " [ 6  7  8]\n",
        " [ 9 10 11]]\n",
        "[[ 0  1  2  3]\n",
        " [ 4  5  6  7]\n",
        " [ 8  9 10 11]\n",
        " [12 13 14 15]]\n",
        "()\n",
        "[[[ 0  1  2]\n",
        "  [ 3  4  5]\n",
        "  [ 6  7  8]\n",
        "  [ 9 10 11]]\n",
        "\n",
        " [[12 13 14]\n",
        "  [15 16 17]\n",
        "  [18 19 20]\n",
        "  [21 22 23]]\n",
        "\n",
        " [[24 25 26]\n",
        "  [27 28 29]\n",
        "  [30 31 32]\n",
        "  [33 34 35]]\n",
        "\n",
        " [[36 37 38]\n",
        "  [39 40 41]\n",
        "  [42 43 44]\n",
        "  [45 46 47]]\n",
        "\n",
        " [[48 49 50]\n",
        "  [51 52 53]\n",
        "  [54 55 56]\n",
        "  [57 58 59]]]\n",
        "()\n"
       ]
      }
     ],
     "prompt_number": 29
    },
    {
     "cell_type": "code",
     "collapsed": false,
     "input": [
      "print(test1.shape[1], test2.shape[0])"
     ],
     "language": "python",
     "metadata": {},
     "outputs": [
      {
       "output_type": "stream",
       "stream": "stdout",
       "text": [
        "(3, 4)\n"
       ]
      }
     ],
     "prompt_number": 21
    },
    {
     "cell_type": "code",
     "collapsed": false,
     "input": [
      "print(test3.shape)"
     ],
     "language": "python",
     "metadata": {},
     "outputs": [
      {
       "output_type": "stream",
       "stream": "stdout",
       "text": [
        "(5, 4, 3)\n"
       ]
      }
     ],
     "prompt_number": 26
    },
    {
     "cell_type": "code",
     "collapsed": false,
     "input": [
      "test3 = np.arange(5*4*3).reshape(5, 4, 3)\n",
      "test4 = np.arange(5*3*4).reshape(5, 4, 3)\n",
      "\n",
      "if test3.shape == test4.shape: print('They are the same dimensions!')"
     ],
     "language": "python",
     "metadata": {},
     "outputs": [
      {
       "output_type": "stream",
       "stream": "stdout",
       "text": [
        "They are the same dimensions!\n"
       ]
      }
     ],
     "prompt_number": 33
    },
    {
     "cell_type": "code",
     "collapsed": false,
     "input": [
      "from astropy.io import fits\n",
      "galaxy_file = './data/m101_blue.fits'\n",
      "galaxy = fits.getdata(galaxy_file)\n",
      "galaxy.shape"
     ],
     "language": "python",
     "metadata": {},
     "outputs": [
      {
       "metadata": {},
       "output_type": "pyout",
       "prompt_number": 42,
       "text": [
        "(893, 891)"
       ]
      }
     ],
     "prompt_number": 42
    },
    {
     "cell_type": "code",
     "collapsed": false,
     "input": [
      "import numpy as np\n",
      "#test_mask = np.ones(5*5*3).reshape(5, 5, 3)\n",
      "test_mask = np.arange(5*5*3).reshape(5, 5, 3)\n",
      "print(test_mask)\n",
      "\n",
      "#x, y = np.arange(test_mask.shape[2]), np.arange(test_mask.shape[1])"
     ],
     "language": "python",
     "metadata": {},
     "outputs": [
      {
       "output_type": "stream",
       "stream": "stdout",
       "text": [
        "[[[ 0  1  2]\n",
        "  [ 3  4  5]\n",
        "  [ 6  7  8]\n",
        "  [ 9 10 11]\n",
        "  [12 13 14]]\n",
        "\n",
        " [[15 16 17]\n",
        "  [18 19 20]\n",
        "  [21 22 23]\n",
        "  [24 25 26]\n",
        "  [27 28 29]]\n",
        "\n",
        " [[30 31 32]\n",
        "  [33 34 35]\n",
        "  [36 37 38]\n",
        "  [39 40 41]\n",
        "  [42 43 44]]\n",
        "\n",
        " [[45 46 47]\n",
        "  [48 49 50]\n",
        "  [51 52 53]\n",
        "  [54 55 56]\n",
        "  [57 58 59]]\n",
        "\n",
        " [[60 61 62]\n",
        "  [63 64 65]\n",
        "  [66 67 68]\n",
        "  [69 70 71]\n",
        "  [72 73 74]]]\n"
       ]
      }
     ],
     "prompt_number": 47
    },
    {
     "cell_type": "code",
     "collapsed": false,
     "input": [
      "x, y = np.arange(test_mask.shape[2]), np.arange(test_mask.shape[1])\n",
      "print(x, y)\n",
      "print(test_mask[0, x, x])"
     ],
     "language": "python",
     "metadata": {},
     "outputs": [
      {
       "output_type": "stream",
       "stream": "stdout",
       "text": [
        "(array([0, 1, 2]), array([0, 1, 2, 3, 4]))\n",
        "[0 4 8]\n"
       ]
      }
     ],
     "prompt_number": 53
    },
    {
     "cell_type": "code",
     "collapsed": false,
     "input": [],
     "language": "python",
     "metadata": {},
     "outputs": []
    }
   ],
   "metadata": {}
  }
 ]
}