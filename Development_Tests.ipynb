{
 "metadata": {
  "name": "",
  "signature": "sha256:5bb4aea9f9998cbf4d5ba3715328ecac4a8878b7ed4678391515330ebc1192d2"
 },
 "nbformat": 3,
 "nbformat_minor": 0,
 "worksheets": [
  {
   "cells": [
    {
     "cell_type": "code",
     "collapsed": false,
     "input": [
      "from __future__ import print_function"
     ],
     "language": "python",
     "metadata": {},
     "outputs": [],
     "prompt_number": 44
    },
    {
     "cell_type": "code",
     "collapsed": false,
     "input": [],
     "language": "python",
     "metadata": {},
     "outputs": [],
     "prompt_number": 23
    },
    {
     "cell_type": "code",
     "collapsed": false,
     "input": [],
     "language": "python",
     "metadata": {},
     "outputs": [],
     "prompt_number": 40
    },
    {
     "cell_type": "code",
     "collapsed": false,
     "input": [
      "x = 10\n",
      "print(type(x))\n",
      "y = np.array([x])\n",
      "print(type(y))\n",
      "print()\n",
      "\n",
      "print('Shape: ', y.shape)\n",
      "\n",
      "if y.shape == (1,): print(\"It's TRUE!!!\")"
     ],
     "language": "python",
     "metadata": {},
     "outputs": [
      {
       "output_type": "stream",
       "stream": "stdout",
       "text": [
        "<type 'int'>\n",
        "<type 'numpy.ndarray'>\n",
        "\n",
        "Shape:  (1,)\n",
        "It's TRUE!!!\n"
       ]
      }
     ],
     "prompt_number": 48
    },
    {
     "cell_type": "code",
     "collapsed": false,
     "input": [
      "test = ifu_math(array1D, 10., 'add')\n",
      "type(test)"
     ],
     "language": "python",
     "metadata": {},
     "outputs": [
      {
       "output_type": "stream",
       "stream": "stdout",
       "text": [
        "The operator dimensions are: (1,)\n",
        "IFU add mode chosen:\n"
       ]
      },
      {
       "metadata": {},
       "output_type": "pyout",
       "prompt_number": 36,
       "text": [
        "numpy.ndarray"
       ]
      }
     ],
     "prompt_number": 36
    },
    {
     "cell_type": "code",
     "collapsed": false,
     "input": [
      "type(10.)"
     ],
     "language": "python",
     "metadata": {},
     "outputs": [
      {
       "metadata": {},
       "output_type": "pyout",
       "prompt_number": 6,
       "text": [
        "float"
       ]
      }
     ],
     "prompt_number": 6
    },
    {
     "cell_type": "code",
     "collapsed": false,
     "input": [
      "%%file ifu_tests.py\n",
      "#Global imports\n",
      "import numpy as np\n",
      "from astropy.io import fits\n",
      "\n",
      "def ifu_math(array_in, operator, method):\n",
      "    \n",
      "    import numpy as np\n",
      "    \n",
      "    # Check to see if operator is a scalar (int or float); convert to numpy\n",
      "    # list to allow shape determination\n",
      "    if type(operator) == int or type(operator) == float: operator = np.array([operator])\n",
      "    op_shape = np.shape(operator)\n",
      "    print('The operator dimensions are: {}'.format(op_shape))\n",
      "    \n",
      "    if method == 'add':\n",
      "        print('IFU add mode chosen:')\n",
      "        array_out = np.add(array_in, operator)\n",
      "    \n",
      "    elif method == 'subtract':\n",
      "        print('IFU subtract mode chosen:')\n",
      "        array_out = np.subtract(array_in, operator)\n",
      "    \n",
      "    elif method == 'multiply':\n",
      "        print('IFU multiply mode chosen:')\n",
      "        array_out = np.multiply(array_in, operator)\n",
      "    \n",
      "    elif method == 'divide':\n",
      "        print('IFU divide mode chosen:')\n",
      "        array_out = np.divide(array_in, operator)\n",
      "    \n",
      "    return array_out\n",
      "\n",
      "\n",
      "def test_1(): # test handling scalar as input (int)   \n",
      "    result = ifu_math(array1D, 10, 'add')\n",
      "    assert type(result) == np.ndarray\n",
      "    \n",
      "def test_2(): # test handling scalar as input (float)   \n",
      "    result = ifu_math(array1D, 5., 'add')\n",
      "    assert type(result) == np.ndarray\n",
      "    \n",
      "#def test_3(): # test handling image\n",
      "#\n",
      "#    \n",
      "array1D = np.arange(10)\n",
      "array2D = np.arange(3*3).reshape(3, 3)\n",
      "array3D = np.arange(3*3*3).reshape(3, 3, 3)\n",
      "\n",
      "image_file = './data/2d_Eagle.fits'\n",
      "cube_file = './data/Eagle_final_m96_m93_m83_m65.fits'\n",
      "\n",
      "image = fits.getdata(image_file)\n",
      "cube = fits.getdata(cube_file)"
     ],
     "language": "python",
     "metadata": {},
     "outputs": [
      {
       "output_type": "stream",
       "stream": "stdout",
       "text": [
        "Overwriting ifu_tests.py\n"
       ]
      }
     ],
     "prompt_number": 49
    },
    {
     "cell_type": "code",
     "collapsed": false,
     "input": [
      "!nosetests ifu_tests.py"
     ],
     "language": "python",
     "metadata": {},
     "outputs": [
      {
       "output_type": "stream",
       "stream": "stdout",
       "text": [
        "..\r\n",
        "----------------------------------------------------------------------\r\n",
        "Ran 2 tests in 0.002s\r\n",
        "\r\n",
        "OK\r\n"
       ]
      }
     ],
     "prompt_number": 50
    },
    {
     "cell_type": "code",
     "collapsed": false,
     "input": [
      "import ifu_tests"
     ],
     "language": "python",
     "metadata": {},
     "outputs": [],
     "prompt_number": 17
    },
    {
     "cell_type": "code",
     "collapsed": false,
     "input": [
      "import numpy as np\n",
      "array1D = np.arange(10)\n",
      "test = ifu_tests.ifu_math(array1D, 'r', 'add')\n",
      "type(test)"
     ],
     "language": "python",
     "metadata": {},
     "outputs": [
      {
       "output_type": "stream",
       "stream": "stdout",
       "text": [
        "The operator dimensions are: ()\n",
        "IFU add mode chosen:\n"
       ]
      },
      {
       "metadata": {},
       "output_type": "pyout",
       "prompt_number": 25,
       "text": [
        "NotImplementedType"
       ]
      }
     ],
     "prompt_number": 25
    },
    {
     "cell_type": "code",
     "collapsed": false,
     "input": [],
     "language": "python",
     "metadata": {},
     "outputs": []
    }
   ],
   "metadata": {}
  }
 ]
}