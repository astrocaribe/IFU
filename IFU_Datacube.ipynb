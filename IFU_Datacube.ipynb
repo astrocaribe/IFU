{
 "metadata": {
  "name": "",
  "signature": "sha256:a5f9ea7bf063903e7cfa5cd59e75574f292ce0ae1168dfef73e28a993eb9e454"
 },
 "nbformat": 3,
 "nbformat_minor": 0,
 "worksheets": [
  {
   "cells": [
    {
     "cell_type": "markdown",
     "metadata": {},
     "source": [
      "# 1. Import Necessary modules"
     ]
    },
    {
     "cell_type": "code",
     "collapsed": false,
     "input": [
      "import imexam\n",
      "from astropy.io import fits"
     ],
     "language": "python",
     "metadata": {},
     "outputs": [],
     "prompt_number": 1
    },
    {
     "cell_type": "markdown",
     "metadata": {},
     "source": [
      "# 2. Examine datacube"
     ]
    },
    {
     "cell_type": "code",
     "collapsed": false,
     "input": [
      "infile = './data/Eagle_final_m96_m93_m83_m65.fits'\n",
      "fits.info(infile)"
     ],
     "language": "python",
     "metadata": {},
     "outputs": [
      {
       "output_type": "stream",
       "stream": "stdout",
       "text": [
        "Filename: ./data/Eagle_final_m96_m93_m83_m65.fits\n",
        "No.    Name         Type      Cards   Dimensions   Format\n",
        "0    PRIMARY     PrimaryHDU     139   (143, 26, 6000)   float32   \n"
       ]
      }
     ],
     "prompt_number": 6
    },
    {
     "cell_type": "code",
     "collapsed": false,
     "input": [
      "data = fits.getdata(infile)\n",
      "data.shape"
     ],
     "language": "python",
     "metadata": {},
     "outputs": [
      {
       "metadata": {},
       "output_type": "pyout",
       "prompt_number": 7,
       "text": [
        "(6000, 26, 143)"
       ]
      }
     ],
     "prompt_number": 7
    },
    {
     "cell_type": "code",
     "collapsed": false,
     "input": [
      "import matplotlib.pyplot as plt\n",
      "import matplotlib.cm as cm\n",
      "%matplotlib inline"
     ],
     "language": "python",
     "metadata": {},
     "outputs": [],
     "prompt_number": 15
    },
    {
     "cell_type": "code",
     "collapsed": false,
     "input": [
      "fig, ax = plt.subplots(figsize=(12, 16))\n",
      "ax.imshow(data[3358, 0:25, 0:142], cmap=cm.hot, vmin=-10, vmax=10, interpolation='nearest')"
     ],
     "language": "python",
     "metadata": {},
     "outputs": [
      {
       "metadata": {},
       "output_type": "pyout",
       "prompt_number": 51,
       "text": [
        "<matplotlib.image.AxesImage at 0x114833590>"
       ]
      },
      {
       "metadata": {},
       "output_type": "display_data",
       "png": "[encoded data removed]",
       "text": [
        "<matplotlib.figure.Figure at 0x1148f1e90>"
       ]
      }
     ],
     "prompt_number": 51
    },
    {
     "cell_type": "code",
     "collapsed": false,
     "input": [
      "fig.clf()"
     ],
     "language": "python",
     "metadata": {},
     "outputs": [],
     "prompt_number": 13
    },
    {
     "cell_type": "code",
     "collapsed": false,
     "input": [],
     "language": "python",
     "metadata": {},
     "outputs": []
    },
    {
     "cell_type": "markdown",
     "metadata": {},
     "source": [
      "# 3. Explore imexam for datacubes"
     ]
    },
    {
     "cell_type": "code",
     "collapsed": false,
     "input": [
      "# Start a ds9 window\n",
      "a = imexam.connect()"
     ],
     "language": "python",
     "metadata": {},
     "outputs": [],
     "prompt_number": 53
    },
    {
     "cell_type": "code",
     "collapsed": false,
     "input": [
      "#Setup input file\n",
      "#infile = './data/NGC4151_Hband.fits'\n",
      "infile = './data/Eagle_final_m96_m93_m83_m65.fits'\n",
      "fits.info(infile)"
     ],
     "language": "python",
     "metadata": {},
     "outputs": [
      {
       "output_type": "stream",
       "stream": "stdout",
       "text": [
        "Filename: ./data/Eagle_final_m96_m93_m83_m65.fits\n",
        "No.    Name         Type      Cards   Dimensions   Format\n",
        "0    PRIMARY     PrimaryHDU     139   (143, 26, 6000)   float32   \n"
       ]
      }
     ],
     "prompt_number": 60
    },
    {
     "cell_type": "code",
     "collapsed": false,
     "input": [
      "# Read data into a variable for separate test\n",
      "data = fits.getdata(infile)\n",
      "data.shape"
     ],
     "language": "python",
     "metadata": {},
     "outputs": [
      {
       "metadata": {},
       "output_type": "pyout",
       "prompt_number": 61,
       "text": [
        "(6000, 26, 143)"
       ]
      }
     ],
     "prompt_number": 61
    },
    {
     "cell_type": "code",
     "collapsed": false,
     "input": [
      "# Setup frame #1 (2D)\n",
      "a.window.xpa.set('3d new')\n",
      "a.load_fits(infile)\n",
      "a.scale('log')\n",
      "#a.zoom('4')\n",
      "#a.cmap()"
     ],
     "language": "python",
     "metadata": {},
     "outputs": [
      {
       "output_type": "stream",
       "stream": "stderr",
       "text": [
        "ERROR:astropy:XpaException: XPA$ERROR Unable to load fits  /Users/tommy/Documents/Dropbox/STSCI/IFU/data/Eagle_final_m96_m93_m83_m65.fits[1] (DS9:1400784696.82 /tmp/xpa_tommyqz6lkm/DS9_1400784696.82.5912)\n",
        "\n"
       ]
      },
      {
       "output_type": "stream",
       "stream": "stdout",
       "text": [
        "ERROR: XpaException: XPA$ERROR Unable to load fits  /Users/tommy/Documents/Dropbox/STSCI/IFU/data/Eagle_final_m96_m93_m83_m65.fits[1] (DS9:1400784696.82 /tmp/xpa_tommyqz6lkm/DS9_1400784696.82.5912)\n",
        " [IPython.core.interactiveshell]\n"
       ]
      },
      {
       "ename": "XpaException",
       "evalue": "XPA$ERROR Unable to load fits  /Users/tommy/Documents/Dropbox/STSCI/IFU/data/Eagle_final_m96_m93_m83_m65.fits[1] (DS9:1400784696.82 /tmp/xpa_tommyqz6lkm/DS9_1400784696.82.5912)\n",
       "output_type": "pyerr",
       "traceback": [
        "\u001b[0;31m---------------------------------------------------------------------------\u001b[0m\n\u001b[0;31mXpaException\u001b[0m                              Traceback (most recent call last)",
        "\u001b[0;32m<ipython-input-62-bac9b230225a>\u001b[0m in \u001b[0;36m<module>\u001b[0;34m()\u001b[0m\n\u001b[1;32m      1\u001b[0m \u001b[0;31m# Setup frame #1 (2D)\u001b[0m\u001b[0;34m\u001b[0m\u001b[0;34m\u001b[0m\u001b[0m\n\u001b[1;32m      2\u001b[0m \u001b[0ma\u001b[0m\u001b[0;34m.\u001b[0m\u001b[0mwindow\u001b[0m\u001b[0;34m.\u001b[0m\u001b[0mxpa\u001b[0m\u001b[0;34m.\u001b[0m\u001b[0mset\u001b[0m\u001b[0;34m(\u001b[0m\u001b[0;34m'3d new'\u001b[0m\u001b[0;34m)\u001b[0m\u001b[0;34m\u001b[0m\u001b[0m\n\u001b[0;32m----> 3\u001b[0;31m \u001b[0ma\u001b[0m\u001b[0;34m.\u001b[0m\u001b[0mload_fits\u001b[0m\u001b[0;34m(\u001b[0m\u001b[0minfile\u001b[0m\u001b[0;34m)\u001b[0m\u001b[0;34m\u001b[0m\u001b[0m\n\u001b[0m\u001b[1;32m      4\u001b[0m \u001b[0ma\u001b[0m\u001b[0;34m.\u001b[0m\u001b[0mscale\u001b[0m\u001b[0;34m(\u001b[0m\u001b[0;34m'log'\u001b[0m\u001b[0;34m)\u001b[0m\u001b[0;34m\u001b[0m\u001b[0m\n\u001b[1;32m      5\u001b[0m \u001b[0;31m#a.zoom('4')\u001b[0m\u001b[0;34m\u001b[0m\u001b[0;34m\u001b[0m\u001b[0m\n",
        "\u001b[0;32m/Users/tommy/py-lib/imexam-0.1.dev-py2.7-macosx-10.6-x86_64.egg/imexam/connect.pyc\u001b[0m in \u001b[0;36mload_fits\u001b[0;34m(self, *args, **kwargs)\u001b[0m\n\u001b[1;32m    181\u001b[0m     \u001b[0;32mdef\u001b[0m \u001b[0mload_fits\u001b[0m\u001b[0;34m(\u001b[0m\u001b[0mself\u001b[0m\u001b[0;34m,\u001b[0m \u001b[0;34m*\u001b[0m\u001b[0margs\u001b[0m\u001b[0;34m,\u001b[0m \u001b[0;34m**\u001b[0m\u001b[0mkwargs\u001b[0m\u001b[0;34m)\u001b[0m\u001b[0;34m:\u001b[0m\u001b[0;34m\u001b[0m\u001b[0m\n\u001b[1;32m    182\u001b[0m         \u001b[0;34m\"\"\"convenience function to load fits image to current frame\"\"\"\u001b[0m\u001b[0;34m\u001b[0m\u001b[0m\n\u001b[0;32m--> 183\u001b[0;31m         \u001b[0mself\u001b[0m\u001b[0;34m.\u001b[0m\u001b[0mwindow\u001b[0m\u001b[0;34m.\u001b[0m\u001b[0mload_fits\u001b[0m\u001b[0;34m(\u001b[0m\u001b[0;34m*\u001b[0m\u001b[0margs\u001b[0m\u001b[0;34m,\u001b[0m \u001b[0;34m**\u001b[0m\u001b[0mkwargs\u001b[0m\u001b[0;34m)\u001b[0m\u001b[0;34m\u001b[0m\u001b[0m\n\u001b[0m\u001b[1;32m    184\u001b[0m \u001b[0;34m\u001b[0m\u001b[0m\n\u001b[1;32m    185\u001b[0m     \u001b[0;32mdef\u001b[0m \u001b[0mload_region\u001b[0m\u001b[0;34m(\u001b[0m\u001b[0mself\u001b[0m\u001b[0;34m,\u001b[0m \u001b[0;34m*\u001b[0m\u001b[0margs\u001b[0m\u001b[0;34m,\u001b[0m \u001b[0;34m**\u001b[0m\u001b[0mkwargs\u001b[0m\u001b[0;34m)\u001b[0m\u001b[0;34m:\u001b[0m\u001b[0;34m\u001b[0m\u001b[0m\n",
        "\u001b[0;32m/Users/tommy/py-lib/imexam-0.1.dev-py2.7-macosx-10.6-x86_64.egg/imexam/ds9_basic.pyc\u001b[0m in \u001b[0;36mload_fits\u001b[0;34m(self, fname, extver, extname)\u001b[0m\n\u001b[1;32m    832\u001b[0m                 \u001b[0;32mraise\u001b[0m \u001b[0mIOError\u001b[0m\u001b[0;34m\u001b[0m\u001b[0m\n\u001b[1;32m    833\u001b[0m \u001b[0;34m\u001b[0m\u001b[0m\n\u001b[0;32m--> 834\u001b[0;31m             \u001b[0mself\u001b[0m\u001b[0;34m.\u001b[0m\u001b[0mset\u001b[0m\u001b[0;34m(\u001b[0m\u001b[0mcstring\u001b[0m\u001b[0;34m)\u001b[0m\u001b[0;34m\u001b[0m\u001b[0m\n\u001b[0m\u001b[1;32m    835\u001b[0m             \u001b[0mself\u001b[0m\u001b[0;34m.\u001b[0m\u001b[0m_set_filename\u001b[0m\u001b[0;34m(\u001b[0m\u001b[0;34m)\u001b[0m\u001b[0;34m\u001b[0m\u001b[0m\n\u001b[1;32m    836\u001b[0m         \u001b[0;32melse\u001b[0m\u001b[0;34m:\u001b[0m\u001b[0;34m\u001b[0m\u001b[0m\n",
        "\u001b[0;32m/Users/tommy/py-lib/imexam-0.1.dev-py2.7-macosx-10.6-x86_64.egg/imexam/ds9_basic.pyc\u001b[0m in \u001b[0;36mset\u001b[0;34m(self, param, buf)\u001b[0m\n\u001b[1;32m    448\u001b[0m         \"\"\"\n\u001b[1;32m    449\u001b[0m         \u001b[0mself\u001b[0m\u001b[0;34m.\u001b[0m\u001b[0m_check_ds9_process\u001b[0m\u001b[0;34m(\u001b[0m\u001b[0;34m)\u001b[0m\u001b[0;34m\u001b[0m\u001b[0m\n\u001b[0;32m--> 450\u001b[0;31m         \u001b[0mself\u001b[0m\u001b[0;34m.\u001b[0m\u001b[0mxpa\u001b[0m\u001b[0;34m.\u001b[0m\u001b[0mset\u001b[0m\u001b[0;34m(\u001b[0m\u001b[0mparam\u001b[0m\u001b[0;34m,\u001b[0m \u001b[0mbuf\u001b[0m\u001b[0;34m)\u001b[0m\u001b[0;34m\u001b[0m\u001b[0m\n\u001b[0m\u001b[1;32m    451\u001b[0m \u001b[0;34m\u001b[0m\u001b[0m\n\u001b[1;32m    452\u001b[0m     \u001b[0;32mdef\u001b[0m \u001b[0mget\u001b[0m\u001b[0;34m(\u001b[0m\u001b[0mself\u001b[0m\u001b[0;34m,\u001b[0m \u001b[0mparam\u001b[0m\u001b[0;34m)\u001b[0m\u001b[0;34m:\u001b[0m\u001b[0;34m\u001b[0m\u001b[0m\n",
        "\u001b[0;32m/Users/tommy/py-lib/imexam-0.1.dev-py2.7-macosx-10.6-x86_64.egg/imexam/xpa_wrap.pyc\u001b[0m in \u001b[0;36mset\u001b[0;34m(self, param, buf)\u001b[0m\n\u001b[1;32m     14\u001b[0m \u001b[0;34m\u001b[0m\u001b[0m\n\u001b[1;32m     15\u001b[0m     \u001b[0;32mdef\u001b[0m \u001b[0mset\u001b[0m\u001b[0;34m(\u001b[0m\u001b[0mself\u001b[0m\u001b[0;34m,\u001b[0m \u001b[0mparam\u001b[0m\u001b[0;34m=\u001b[0m\u001b[0;34m\"\"\u001b[0m\u001b[0;34m,\u001b[0m \u001b[0mbuf\u001b[0m\u001b[0;34m=\u001b[0m\u001b[0mNone\u001b[0m\u001b[0;34m)\u001b[0m\u001b[0;34m:\u001b[0m\u001b[0;34m\u001b[0m\u001b[0m\n\u001b[0;32m---> 16\u001b[0;31m         \u001b[0mxpa\u001b[0m\u001b[0;34m.\u001b[0m\u001b[0mset\u001b[0m\u001b[0;34m(\u001b[0m\u001b[0mself\u001b[0m\u001b[0;34m,\u001b[0m \u001b[0mparam\u001b[0m\u001b[0;34m.\u001b[0m\u001b[0mencode\u001b[0m\u001b[0;34m(\u001b[0m\u001b[0;34m\"ascii\"\u001b[0m\u001b[0;34m)\u001b[0m\u001b[0;34m,\u001b[0m \u001b[0mbuf\u001b[0m\u001b[0;34m)\u001b[0m\u001b[0;34m\u001b[0m\u001b[0m\n\u001b[0m\u001b[1;32m     17\u001b[0m \u001b[0;34m\u001b[0m\u001b[0m\n\u001b[1;32m     18\u001b[0m     \u001b[0;31m#return a list of access point id's\u001b[0m\u001b[0;34m\u001b[0m\u001b[0;34m\u001b[0m\u001b[0m\n",
        "\u001b[0;32m/Users/tommy/py-lib/imexam-0.1.dev-py2.7-macosx-10.6-x86_64.egg/imexam/xpa.so\u001b[0m in \u001b[0;36mxpa.xpa.set (wrappers/xpa.c:2211)\u001b[0;34m()\u001b[0m\n",
        "\u001b[0;32m/Users/tommy/py-lib/imexam-0.1.dev-py2.7-macosx-10.6-x86_64.egg/imexam/xpa.so\u001b[0m in \u001b[0;36mxpa._set (wrappers/xpa.c:1615)\u001b[0;34m()\u001b[0m\n",
        "\u001b[0;31mXpaException\u001b[0m: XPA$ERROR Unable to load fits  /Users/tommy/Documents/Dropbox/STSCI/IFU/data/Eagle_final_m96_m93_m83_m65.fits[1] (DS9:1400784696.82 /tmp/xpa_tommyqz6lkm/DS9_1400784696.82.5912)\n"
       ]
      }
     ],
     "prompt_number": 62
    },
    {
     "cell_type": "code",
     "collapsed": false,
     "input": [],
     "language": "python",
     "metadata": {},
     "outputs": []
    },
    {
     "cell_type": "code",
     "collapsed": false,
     "input": [
      "\n",
      "# Setup frame #2 as 3D\n",
      "a.window.xpa.set('tile frame')\n",
      "a.window.xpa.set('3d new')\n",
      "a.zoom('0.5')\n",
      "a.load_fits(infile)\n",
      "#a.window.xpa.set('image slice lock frame')"
     ],
     "language": "python",
     "metadata": {},
     "outputs": [
      {
       "output_type": "stream",
       "stream": "stdout",
       "text": [
        "Filename: ./data/Eagle_final_m96_m93_m83_m65.fits\n",
        "No.    Name         Type      Cards   Dimensions   Format\n",
        "0    PRIMARY     PrimaryHDU     139   (143, 26, 6000)   float32   \n"
       ]
      },
      {
       "output_type": "stream",
       "stream": "stderr",
       "text": [
        "ERROR:astropy:XpaException: XPA$ERROR Unable to load fits  /Users/tommy/Documents/Dropbox/STSCI/IFU/data/Eagle_final_m96_m93_m83_m65.fits[1] (DS9:1400704344.31 /tmp/xpa_tommyCZ72Le/DS9_1400704344.31.2339)\n",
        "\n"
       ]
      },
      {
       "output_type": "stream",
       "stream": "stdout",
       "text": [
        "ERROR: XpaException: XPA$ERROR Unable to load fits  /Users/tommy/Documents/Dropbox/STSCI/IFU/data/Eagle_final_m96_m93_m83_m65.fits[1] (DS9:1400704344.31 /tmp/xpa_tommyCZ72Le/DS9_1400704344.31.2339)\n",
        " [IPython.core.interactiveshell]\n"
       ]
      },
      {
       "ename": "XpaException",
       "evalue": "XPA$ERROR Unable to load fits  /Users/tommy/Documents/Dropbox/STSCI/IFU/data/Eagle_final_m96_m93_m83_m65.fits[1] (DS9:1400704344.31 /tmp/xpa_tommyCZ72Le/DS9_1400704344.31.2339)\n",
       "output_type": "pyerr",
       "traceback": [
        "\u001b[0;31m---------------------------------------------------------------------------\u001b[0m\n\u001b[0;31mXpaException\u001b[0m                              Traceback (most recent call last)",
        "\u001b[0;32m<ipython-input-5-18f64d346c69>\u001b[0m in \u001b[0;36m<module>\u001b[0;34m()\u001b[0m\n\u001b[1;32m     10\u001b[0m \u001b[0;34m\u001b[0m\u001b[0m\n\u001b[1;32m     11\u001b[0m \u001b[0;31m# Setup frame #1 (2D)\u001b[0m\u001b[0;34m\u001b[0m\u001b[0;34m\u001b[0m\u001b[0m\n\u001b[0;32m---> 12\u001b[0;31m \u001b[0ma\u001b[0m\u001b[0;34m.\u001b[0m\u001b[0mload_fits\u001b[0m\u001b[0;34m(\u001b[0m\u001b[0minfile\u001b[0m\u001b[0;34m)\u001b[0m\u001b[0;34m\u001b[0m\u001b[0m\n\u001b[0m\u001b[1;32m     13\u001b[0m \u001b[0ma\u001b[0m\u001b[0;34m.\u001b[0m\u001b[0mscale\u001b[0m\u001b[0;34m(\u001b[0m\u001b[0;34m'log'\u001b[0m\u001b[0;34m)\u001b[0m\u001b[0;34m\u001b[0m\u001b[0m\n\u001b[1;32m     14\u001b[0m \u001b[0ma\u001b[0m\u001b[0;34m.\u001b[0m\u001b[0mzoom\u001b[0m\u001b[0;34m(\u001b[0m\u001b[0;34m'4'\u001b[0m\u001b[0;34m)\u001b[0m\u001b[0;34m\u001b[0m\u001b[0m\n",
        "\u001b[0;32m/Users/tommy/py-lib/imexam-0.1.dev-py2.7-macosx-10.6-x86_64.egg/imexam/connect.pyc\u001b[0m in \u001b[0;36mload_fits\u001b[0;34m(self, *args, **kwargs)\u001b[0m\n\u001b[1;32m    181\u001b[0m     \u001b[0;32mdef\u001b[0m \u001b[0mload_fits\u001b[0m\u001b[0;34m(\u001b[0m\u001b[0mself\u001b[0m\u001b[0;34m,\u001b[0m \u001b[0;34m*\u001b[0m\u001b[0margs\u001b[0m\u001b[0;34m,\u001b[0m \u001b[0;34m**\u001b[0m\u001b[0mkwargs\u001b[0m\u001b[0;34m)\u001b[0m\u001b[0;34m:\u001b[0m\u001b[0;34m\u001b[0m\u001b[0m\n\u001b[1;32m    182\u001b[0m         \u001b[0;34m\"\"\"convenience function to load fits image to current frame\"\"\"\u001b[0m\u001b[0;34m\u001b[0m\u001b[0m\n\u001b[0;32m--> 183\u001b[0;31m         \u001b[0mself\u001b[0m\u001b[0;34m.\u001b[0m\u001b[0mwindow\u001b[0m\u001b[0;34m.\u001b[0m\u001b[0mload_fits\u001b[0m\u001b[0;34m(\u001b[0m\u001b[0;34m*\u001b[0m\u001b[0margs\u001b[0m\u001b[0;34m,\u001b[0m \u001b[0;34m**\u001b[0m\u001b[0mkwargs\u001b[0m\u001b[0;34m)\u001b[0m\u001b[0;34m\u001b[0m\u001b[0m\n\u001b[0m\u001b[1;32m    184\u001b[0m \u001b[0;34m\u001b[0m\u001b[0m\n\u001b[1;32m    185\u001b[0m     \u001b[0;32mdef\u001b[0m \u001b[0mload_region\u001b[0m\u001b[0;34m(\u001b[0m\u001b[0mself\u001b[0m\u001b[0;34m,\u001b[0m \u001b[0;34m*\u001b[0m\u001b[0margs\u001b[0m\u001b[0;34m,\u001b[0m \u001b[0;34m**\u001b[0m\u001b[0mkwargs\u001b[0m\u001b[0;34m)\u001b[0m\u001b[0;34m:\u001b[0m\u001b[0;34m\u001b[0m\u001b[0m\n",
        "\u001b[0;32m/Users/tommy/py-lib/imexam-0.1.dev-py2.7-macosx-10.6-x86_64.egg/imexam/ds9_basic.pyc\u001b[0m in \u001b[0;36mload_fits\u001b[0;34m(self, fname, extver, extname)\u001b[0m\n\u001b[1;32m    832\u001b[0m                 \u001b[0;32mraise\u001b[0m \u001b[0mIOError\u001b[0m\u001b[0;34m\u001b[0m\u001b[0m\n\u001b[1;32m    833\u001b[0m \u001b[0;34m\u001b[0m\u001b[0m\n\u001b[0;32m--> 834\u001b[0;31m             \u001b[0mself\u001b[0m\u001b[0;34m.\u001b[0m\u001b[0mset\u001b[0m\u001b[0;34m(\u001b[0m\u001b[0mcstring\u001b[0m\u001b[0;34m)\u001b[0m\u001b[0;34m\u001b[0m\u001b[0m\n\u001b[0m\u001b[1;32m    835\u001b[0m             \u001b[0mself\u001b[0m\u001b[0;34m.\u001b[0m\u001b[0m_set_filename\u001b[0m\u001b[0;34m(\u001b[0m\u001b[0;34m)\u001b[0m\u001b[0;34m\u001b[0m\u001b[0m\n\u001b[1;32m    836\u001b[0m         \u001b[0;32melse\u001b[0m\u001b[0;34m:\u001b[0m\u001b[0;34m\u001b[0m\u001b[0m\n",
        "\u001b[0;32m/Users/tommy/py-lib/imexam-0.1.dev-py2.7-macosx-10.6-x86_64.egg/imexam/ds9_basic.pyc\u001b[0m in \u001b[0;36mset\u001b[0;34m(self, param, buf)\u001b[0m\n\u001b[1;32m    448\u001b[0m         \"\"\"\n\u001b[1;32m    449\u001b[0m         \u001b[0mself\u001b[0m\u001b[0;34m.\u001b[0m\u001b[0m_check_ds9_process\u001b[0m\u001b[0;34m(\u001b[0m\u001b[0;34m)\u001b[0m\u001b[0;34m\u001b[0m\u001b[0m\n\u001b[0;32m--> 450\u001b[0;31m         \u001b[0mself\u001b[0m\u001b[0;34m.\u001b[0m\u001b[0mxpa\u001b[0m\u001b[0;34m.\u001b[0m\u001b[0mset\u001b[0m\u001b[0;34m(\u001b[0m\u001b[0mparam\u001b[0m\u001b[0;34m,\u001b[0m \u001b[0mbuf\u001b[0m\u001b[0;34m)\u001b[0m\u001b[0;34m\u001b[0m\u001b[0m\n\u001b[0m\u001b[1;32m    451\u001b[0m \u001b[0;34m\u001b[0m\u001b[0m\n\u001b[1;32m    452\u001b[0m     \u001b[0;32mdef\u001b[0m \u001b[0mget\u001b[0m\u001b[0;34m(\u001b[0m\u001b[0mself\u001b[0m\u001b[0;34m,\u001b[0m \u001b[0mparam\u001b[0m\u001b[0;34m)\u001b[0m\u001b[0;34m:\u001b[0m\u001b[0;34m\u001b[0m\u001b[0m\n",
        "\u001b[0;32m/Users/tommy/py-lib/imexam-0.1.dev-py2.7-macosx-10.6-x86_64.egg/imexam/xpa_wrap.pyc\u001b[0m in \u001b[0;36mset\u001b[0;34m(self, param, buf)\u001b[0m\n\u001b[1;32m     14\u001b[0m \u001b[0;34m\u001b[0m\u001b[0m\n\u001b[1;32m     15\u001b[0m     \u001b[0;32mdef\u001b[0m \u001b[0mset\u001b[0m\u001b[0;34m(\u001b[0m\u001b[0mself\u001b[0m\u001b[0;34m,\u001b[0m \u001b[0mparam\u001b[0m\u001b[0;34m=\u001b[0m\u001b[0;34m\"\"\u001b[0m\u001b[0;34m,\u001b[0m \u001b[0mbuf\u001b[0m\u001b[0;34m=\u001b[0m\u001b[0mNone\u001b[0m\u001b[0;34m)\u001b[0m\u001b[0;34m:\u001b[0m\u001b[0;34m\u001b[0m\u001b[0m\n\u001b[0;32m---> 16\u001b[0;31m         \u001b[0mxpa\u001b[0m\u001b[0;34m.\u001b[0m\u001b[0mset\u001b[0m\u001b[0;34m(\u001b[0m\u001b[0mself\u001b[0m\u001b[0;34m,\u001b[0m \u001b[0mparam\u001b[0m\u001b[0;34m.\u001b[0m\u001b[0mencode\u001b[0m\u001b[0;34m(\u001b[0m\u001b[0;34m\"ascii\"\u001b[0m\u001b[0;34m)\u001b[0m\u001b[0;34m,\u001b[0m \u001b[0mbuf\u001b[0m\u001b[0;34m)\u001b[0m\u001b[0;34m\u001b[0m\u001b[0m\n\u001b[0m\u001b[1;32m     17\u001b[0m \u001b[0;34m\u001b[0m\u001b[0m\n\u001b[1;32m     18\u001b[0m     \u001b[0;31m#return a list of access point id's\u001b[0m\u001b[0;34m\u001b[0m\u001b[0;34m\u001b[0m\u001b[0m\n",
        "\u001b[0;32m/Users/tommy/py-lib/imexam-0.1.dev-py2.7-macosx-10.6-x86_64.egg/imexam/xpa.so\u001b[0m in \u001b[0;36mxpa.xpa.set (wrappers/xpa.c:2211)\u001b[0;34m()\u001b[0m\n",
        "\u001b[0;32m/Users/tommy/py-lib/imexam-0.1.dev-py2.7-macosx-10.6-x86_64.egg/imexam/xpa.so\u001b[0m in \u001b[0;36mxpa._set (wrappers/xpa.c:1615)\u001b[0;34m()\u001b[0m\n",
        "\u001b[0;31mXpaException\u001b[0m: XPA$ERROR Unable to load fits  /Users/tommy/Documents/Dropbox/STSCI/IFU/data/Eagle_final_m96_m93_m83_m65.fits[1] (DS9:1400704344.31 /tmp/xpa_tommyCZ72Le/DS9_1400704344.31.2339)\n"
       ]
      }
     ],
     "prompt_number": 5
    },
    {
     "cell_type": "code",
     "collapsed": false,
     "input": [
      "# Close window, removing al references\n",
      "a.close()"
     ],
     "language": "python",
     "metadata": {},
     "outputs": [],
     "prompt_number": 52
    },
    {
     "cell_type": "code",
     "collapsed": false,
     "input": [
      "a.frame(1)\n",
      "a.zoom('4')"
     ],
     "language": "python",
     "metadata": {},
     "outputs": [],
     "prompt_number": 16
    },
    {
     "cell_type": "code",
     "collapsed": false,
     "input": [
      "fits.info(infile)"
     ],
     "language": "python",
     "metadata": {},
     "outputs": [
      {
       "output_type": "stream",
       "stream": "stdout",
       "text": [
        "Filename: ./data/Eagle_final_m96_m93_m83_m65.fits\n",
        "No.    Name         Type      Cards   Dimensions   Format\n",
        "0    PRIMARY     PrimaryHDU     139   (143, 26, 6000)   float32   \n"
       ]
      }
     ],
     "prompt_number": 5
    },
    {
     "cell_type": "code",
     "collapsed": false,
     "input": [],
     "language": "python",
     "metadata": {},
     "outputs": [],
     "prompt_number": 29
    },
    {
     "cell_type": "code",
     "collapsed": false,
     "input": [
      "a.window.xpa.get()"
     ],
     "language": "python",
     "metadata": {},
     "outputs": [
      {
       "metadata": {},
       "output_type": "pyout",
       "prompt_number": 19,
       "text": [
        "u'XPA version: 2.1.14\\n2mass:\\t\\n3d:\\t\\nabout:\\t\\nalign:\\t\\nanalysis:\\t\\narray:\\t\\nbackground:\\t\\nbackup:\\t\\nbg:\\t\\nbin:\\t\\nblink:\\t\\ncatalog:\\t\\ncat:\\t\\ncd:\\t\\ncmap:\\t\\ncolorbar:\\t\\nconsole:\\t\\ncontours:\\t\\ncontour:\\t\\ncrop:\\t\\ncrosshair:\\t\\ncube:\\t\\ncursor:\\t\\ndatacube:\\t\\ndata:\\t\\ndsseso:\\t\\ndsssao:\\t\\ndssstsci:\\t\\ndss:\\t\\nenvi:\\t\\nexit:\\t\\nexport:\\t\\nfile:\\t\\nfirst:\\t\\nfits:\\t\\nframe:\\t\\ngif:\\t\\ngrid:\\t\\nheader:\\t\\nheight:\\t\\niconify:\\t\\niis:\\t\\nimexam:\\t\\njpeg:\\t\\njpg:\\t\\nlock:\\t\\nlower:\\t\\nmagnifier:\\t\\nmask:\\t\\nmatch:\\t\\nmecube:\\t\\nmemf:\\t\\nminmax:\\t\\nmode:\\t\\nmosaicimageiraf:\\t\\nmosaicimagewcs:\\t\\nmosaicimagewfpc2:\\t\\nmosaicimage:\\t\\nmosaiciraf:\\t\\nmosaicwcs:\\t\\nmosaic:\\t\\nmovie:\\t\\nmultiframe:\\t\\nnameserver:\\t\\nnan:\\t\\nnrrd:\\t\\nnvss:\\t\\norient:\\t\\npage setup:\\t\\npagesetup:\\t\\npan:\\t\\npixeltable:\\t\\nplot:\\t\\npng:\\t\\nprefs:\\t\\npreserve:\\t\\nprint:\\t\\npspagesetup:\\t\\npsprint:\\t\\nquit:\\t\\nraise:\\t\\nregions:\\t\\nregion:\\t\\nrestore:\\t\\nrgbarray:\\t\\nrgbcube:\\t\\nrgbimage:\\t\\nrgb:\\t\\nrotate:\\t\\nsamp:\\t\\nsavefits:\\t\\nsaveimage:\\t\\nsavempeg:\\t\\nsave:\\t\\nscale:\\t\\nsfits:\\t\\nshm:\\t\\nsingle:\\t\\nskyview:\\t\\nsleep:\\t\\nslice:\\t\\nsmooth:\\t\\nsmosaiciraf:\\t\\nsmosaicwcs:\\t\\nsmosaic:\\t\\nsource:\\t\\nsrgbcube:\\t\\ntcl:\\t\\ntheme:\\t\\nthreads:\\t\\ntiff:\\t\\ntif:\\t\\ntile:\\t\\nupdate:\\t\\nurl:\\t\\nversion:\\t\\nview:\\t\\nvo:\\t\\nwcs:\\t\\nweb:\\t\\nwidth:\\t\\nzoom:\\t\\nzscale:\\t\\n'"
       ]
      }
     ],
     "prompt_number": 19
    },
    {
     "cell_type": "code",
     "collapsed": false,
     "input": [
      "# Close window, removing al references\n",
      "a.close()"
     ],
     "language": "python",
     "metadata": {},
     "outputs": [],
     "prompt_number": 63
    },
    {
     "cell_type": "code",
     "collapsed": false,
     "input": [],
     "language": "python",
     "metadata": {},
     "outputs": []
    }
   ],
   "metadata": {}
  }
 ]
}