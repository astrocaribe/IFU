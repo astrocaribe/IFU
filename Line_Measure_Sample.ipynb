{
 "metadata": {
  "name": "",
  "signature": "sha256:c856b5ef6e0d170b282eef3605d13d59b3362258920dcb04242b539cb479147c"
 },
 "nbformat": 3,
 "nbformat_minor": 0,
 "worksheets": [
  {
   "cells": [
    {
     "cell_type": "markdown",
     "metadata": {},
     "source": [
      "Line Measure Sample\n",
      "==================="
     ]
    },
    {
     "cell_type": "code",
     "collapsed": false,
     "input": [
      "%matplotlib inline"
     ],
     "language": "python",
     "metadata": {},
     "outputs": []
    },
    {
     "cell_type": "code",
     "collapsed": false,
     "input": [
      "# Import necessary modules,including custom scripts\n",
      "import sys\n",
      "sys.path.append('./scripts/')\n",
      "from ifu_1d_spectrum import extractSpectrum\n",
      "from ifu_lineMeasure import lineMeasure\n",
      "from astropy.io import fits"
     ],
     "language": "python",
     "metadata": {},
     "outputs": []
    },
    {
     "cell_type": "code",
     "collapsed": false,
     "input": [
      "# Read in cube, including header for wavelength calibration values\n",
      "cube, header = fits.getdata('./data/NGC4151_Hband.fits', 1, header=True)\n",
      "    \n",
      "# Read in crpix, crval, and cdelt values from the header.\n",
      "# Convert crpix and crdelt values from angstroms to microns\n",
      "#header = fits.getheader('./data/NGC4151_Hband.fits', ext=1)\n",
      "crpix = header['CRPIX3']\n",
      "crval = header['CRVAL3']/1.e4\n",
      "cdelt = header['CDELT3']/1.e4\n",
      "cals = [crpix, crval, cdelt]\n",
      "\n"
     ],
     "language": "python",
     "metadata": {},
     "outputs": []
    },
    {
     "cell_type": "code",
     "collapsed": false,
     "input": [
      "# Extract a spectrum given a spaxel ([x, y] through z dim), and display extracted spectrum\n",
      "testSpec = extractSpectrum(cube, [[30,30]], cals, trim=100, continuum=True, display=True)"
     ],
     "language": "python",
     "metadata": {},
     "outputs": []
    },
    {
     "cell_type": "code",
     "collapsed": false,
     "input": [
      "# Fit a region using an implementation od astropy.modeling\n",
      "# region input wavelength in \u00b5m.\n",
      "line = lineMeasure(testSpec, region=[1.670, 1.690], display=True)"
     ],
     "language": "python",
     "metadata": {},
     "outputs": []
    },
    {
     "cell_type": "code",
     "collapsed": false,
     "input": [],
     "language": "python",
     "metadata": {},
     "outputs": []
    }
   ],
   "metadata": {}
  }
 ]
}