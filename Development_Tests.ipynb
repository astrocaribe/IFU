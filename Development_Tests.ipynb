{
 "metadata": {
  "name": "",
  "signature": "sha256:c7e7096888886096dfb801bf031559d62276a946a0c51b9588b5b2858e631486"
 },
 "nbformat": 3,
 "nbformat_minor": 0,
 "worksheets": [
  {
   "cells": [
    {
     "cell_type": "markdown",
     "metadata": {},
     "source": [
      "# 1. Nosetests\n",
      "--------------"
     ]
    },
    {
     "cell_type": "code",
     "collapsed": false,
     "input": [
      "import sys\n",
      "sys.path.append('./scripts/')"
     ],
     "language": "python",
     "metadata": {},
     "outputs": [],
     "prompt_number": 2
    },
    {
     "cell_type": "markdown",
     "metadata": {},
     "source": [
      "# IFU_UTILS"
     ]
    },
    {
     "cell_type": "code",
     "collapsed": false,
     "input": [
      "%%file ./scripts/ifu_utils.py\n",
      "# Global imports\n",
      "import numpy as np\n",
      "\n",
      "def frame_convert(frame, cals):\n",
      "    \"\"\" \n",
      "    Convert the frame to a wavelength using a starting value and \n",
      "    delta (in microns).\n",
      "    \n",
      "    Parameters\n",
      "    ----------\n",
      "    frame : int\n",
      "        Datacube frame to convert to a wavelength.\n",
      "    \n",
      "    cals : tuple of floats\n",
      "           Calibration values for the input datacube; \n",
      "           (crpix, crval, crdelt).\n",
      "        \n",
      "    Returns\n",
      "    -------\n",
      "    wavelength : float\n",
      "        The converted wavelength of the datacube frame.\n",
      "        \n",
      "    Raises\n",
      "    ------\n",
      "    Not yet implemented.\n",
      "    \"\"\"\n",
      "    \n",
      "    # Calculate the frame conversion\n",
      "    wavelength = (frame - cals[0]) * cals[2] + cals[1]\n",
      "    \n",
      "    return wavelength\n",
      "\n",
      "def wave_convert(wavelength, cals):\n",
      "    \"\"\"\n",
      "    Convert the wavelength to a frame using a starting value and \n",
      "    delta (in microns).\n",
      "    \n",
      "    Parameters\n",
      "    ----------\n",
      "    wavelength : float\n",
      "        The wavelength to convert to a datacube frame.\n",
      "    \n",
      "    cals : tuple of floats\n",
      "           Calibration values for the input datacube; \n",
      "           (crpix, crval, crdelt).\n",
      "        \n",
      "    Returns\n",
      "    -------\n",
      "    frame : int\n",
      "        Datacube frame to converted from the input wavelength.\n",
      "        \n",
      "    Raises\n",
      "    ------\n",
      "    Not yet implemented.\n",
      "    \"\"\"\n",
      "    \n",
      "    from numpy import round\n",
      "    from numpy import int\n",
      "\n",
      "    # Calculate the wavelength conversion\n",
      "    frame = cals[0] + ((wavelength - cals[1]) / cals[2])\n",
      "    \n",
      "    frame = np.int(np.round(frame))\n",
      "    return frame"
     ],
     "language": "python",
     "metadata": {},
     "outputs": [
      {
       "output_type": "stream",
       "stream": "stdout",
       "text": [
        "Overwriting ./scripts/ifu_utils.py\n"
       ]
      }
     ],
     "prompt_number": 3
    },
    {
     "cell_type": "code",
     "collapsed": false,
     "input": [],
     "language": "python",
     "metadata": {},
     "outputs": [],
     "prompt_number": 3
    },
    {
     "cell_type": "code",
     "collapsed": false,
     "input": [],
     "language": "python",
     "metadata": {},
     "outputs": [],
     "prompt_number": 11
    },
    {
     "cell_type": "code",
     "collapsed": false,
     "input": [],
     "language": "python",
     "metadata": {},
     "outputs": [],
     "prompt_number": 3
    },
    {
     "cell_type": "code",
     "collapsed": false,
     "input": [],
     "language": "python",
     "metadata": {},
     "outputs": [],
     "prompt_number": 3
    },
    {
     "cell_type": "markdown",
     "metadata": {},
     "source": [
      "IFU_MATH\n",
      "========"
     ]
    },
    {
     "cell_type": "code",
     "collapsed": false,
     "input": [
      "%%file ./scripts/ifu_math.py\n",
      "#Global imports\n",
      "import numpy as np\n",
      "from astropy.io import fits\n",
      "\n",
      "# Basic ifu math mode\n",
      "def ifu_math(array_in, operator, method):\n",
      "    \"\"\"\n",
      "    Perform basic arithmetic tasks on 3D data using 1D, 2D, or\n",
      "    3D data as input.\n",
      "    \n",
      "    Parameters\n",
      "    ----------\n",
      "    array_in : numpy.ndarray\n",
      "               The 3D input array.\n",
      "    \n",
      "    operator : int or numpy.ndarray\n",
      "               The array that is to operate on the input array\n",
      "               (array_in). Can be a scalar, list, image, or\n",
      "               datacube.\n",
      "                \n",
      "    method : {'add', 'subtract', 'multiply', 'divide'}\n",
      "             Array calculation mrthod.\n",
      "    \n",
      "    \n",
      "    Returns\n",
      "    -------\n",
      "    array_out : numpy.ndarray\n",
      "                The list, image or cube subtracted output array.\n",
      "    \n",
      "    \n",
      "    Example Usage:\n",
      "    \n",
      "        1. >> ifu_math(cube, 1000., method='subtract')\n",
      "        \n",
      "              Subtract the scalar value of 1000. from entire \n",
      "              cube array.\n",
      "        \n",
      "        2. >> ifu_math(cube, image, method='subtract')\n",
      "        \n",
      "              Subtract an image of dimensions [x, y] from a cube \n",
      "              array in the wavelength (z) plane. Image dimensions \n",
      "              [x, y] must match those of the input cube array.\n",
      "        \n",
      "        3. >> ifu_math(cube1, cube2, method='divide')\n",
      "        \n",
      "              Divide cube1 array by the contents of cube2 array, \n",
      "              value for value. Arrays of both cubes must be identical.\n",
      "    \"\"\"    \n",
      "\n",
      "    import numpy as np\n",
      "    \n",
      "    # Check to see if operator is a scalar (int or float); convert to numpy\n",
      "    # list to allow shape determination\n",
      "    \n",
      "    #print()\n",
      "    #print(operator, type(operator))\n",
      "    #print()\n",
      "    \n",
      "    if isinstance(operator, np.ndarray):\n",
      "        print('(math): The operator dimensions are: {}'.format(np.shape(operator)))\n",
      "    else:\n",
      "        print('(math): Input operator has been converted to a numpy array.')\n",
      "        operator = np.array([operator])\n",
      "        print('(math): The operator dimensions are: {}'.format(np.shape(operator)))\n",
      "    \n",
      "    \n",
      "    # Assure that the input array is a cube\n",
      "    if array_in.ndim != 3:\n",
      "        print('(math): The input array must be a cube (3 dimensions)!')\n",
      "        return\n",
      "    else:\n",
      "        print('(math): Input array has {} dimensions.'.format(array_in.ndim))\n",
      "    \n",
      "    # ... and check dimensions of input and operator arrays    \n",
      "    if operator.ndim == 1 and operator.shape[0] == 1:\n",
      "        print('(math): A scalar operation will take place.')\n",
      "    elif operator.shape == array_in.shape:\n",
      "        print('(math): A 3D/3D operation will take place.')\n",
      "    elif operator.ndim == 2 and (operator.shape[0] == array_in.shape[1] and operator.shape[1] == array_in.shape[2]):\n",
      "        print('(math): A 3D/2D operation will take place.')\n",
      "    elif operator.ndim == 1 and operator.shape[0] > 1:\n",
      "        # Create a spectrum 'image' to conduct the basic arithmetic functions\n",
      "        print('(math): A 3D/1D operation will take place.')\n",
      "        spec_image = np.empty(array_in.shape)\n",
      "        for ii in np.arange(array_in.shape[0]):\n",
      "            spec_image[ii, :, :] = operator[ii]\n",
      "            \n",
      "        operator = spec_image\n",
      "    else:\n",
      "        print('(math): Dimension of input array and operator do not match!')\n",
      "    \n",
      "    \n",
      "    if method == 'add':\n",
      "        print('(math): IFU add mode chosen...')\n",
      "        array_out = np.add(array_in, operator)            \n",
      "    \n",
      "    elif method == 'subtract':\n",
      "        print('(math): IFU subtract mode chosen...')\n",
      "        array_out = np.subtract(array_in, operator)\n",
      "    \n",
      "    elif method == 'multiply':\n",
      "        print('(math): IFU multiply mode chosen...')\n",
      "        array_out = np.multiply(array_in, operator)\n",
      "    \n",
      "    elif method == 'divide':\n",
      "        print('(math): IFU divide mode chosen...')\n",
      "        array_out = np.divide(array_in, operator)\n",
      "        \n",
      "    else:\n",
      "        print('(math): There has been an input parse error, please check inputs again!')\n",
      "        array_out = np.array([])\n",
      "    \n",
      "    return array_out"
     ],
     "language": "python",
     "metadata": {},
     "outputs": [
      {
       "output_type": "stream",
       "stream": "stdout",
       "text": [
        "Overwriting ./scripts/ifu_math.py\n"
       ]
      }
     ],
     "prompt_number": 4
    },
    {
     "cell_type": "code",
     "collapsed": false,
     "input": [
      "%%file ./tests/test_ifuMath.py\n",
      "#Import necessary modules\n",
      "import sys\n",
      "sys.path.append('./scripts/')\n",
      "\n",
      "from ifu_math import *\n",
      "import numpy as np\n",
      "\n",
      "# ======================================================\n",
      "#                       Test suite\n",
      "# ======================================================\n",
      "def test_addIntConstant():\n",
      "    \"\"\"\n",
      "    1. Addition with constant integer\n",
      "    \"\"\"\n",
      "    \n",
      "    cube = np.arange(30*5*5).reshape(30, 5, 5)\n",
      "    \n",
      "    result = ifu_math(cube, 10, 'add')\n",
      "    assert isinstance(result, np.ndarray)\n",
      "    \n",
      "    \n",
      "def test_addFloatConstant():\n",
      "    \"\"\"\n",
      "    2. Addition with constant float\n",
      "    \"\"\"   \n",
      "    \n",
      "    cube = np.arange(30*5*5).reshape(30, 5, 5)\n",
      "    \n",
      "    result = ifu_math(cube, 5., 'add')\n",
      "    assert isinstance(result, np.ndarray)\n",
      "    \n",
      "    \n",
      "def test_subIntConstant():\n",
      "    \"\"\"\n",
      "    3. Subtraction with constant integer\n",
      "    \"\"\"\n",
      "    \n",
      "    cube = np.arange(30*5*5).reshape(30, 5, 5)\n",
      "    \n",
      "    result = ifu_math(cube, 10, 'subtract')\n",
      "    assert isinstance(result, np.ndarray)\n",
      "    \n",
      "    \n",
      "def test_subFloatConstant():\n",
      "    \"\"\"\n",
      "    4. Subtraction with constant float\n",
      "    \"\"\"\n",
      "    \n",
      "    cube = np.arange(30*5*5).reshape(30, 5, 5)\n",
      "    \n",
      "    result = ifu_math(cube, 5., 'subtract')\n",
      "    assert isinstance(result, np.ndarray)\n",
      "\n",
      "    \n",
      "def test_mulIntConstant():\n",
      "    \"\"\"\n",
      "    5. Multiplication with integer\n",
      "    \"\"\"\n",
      "    \n",
      "    cube = np.arange(30*5*5).reshape(30, 5, 5)\n",
      "    \n",
      "    result = ifu_math(cube, 10, 'multiply')\n",
      "    assert isinstance(result, np.ndarray)\n",
      "\n",
      "    \n",
      "def test_mulFloatConstant():\n",
      "    \"\"\"\n",
      "    6. Multiplication with constant float\n",
      "    \"\"\"\n",
      "    \n",
      "    cube = np.arange(30*5*5).reshape(30, 5, 5)\n",
      "    \n",
      "    result = ifu_math(cube, 5., 'multiply')\n",
      "    assert isinstance(result, np.ndarray)\n",
      "\n",
      "    \n",
      "def test_divIntConstant():\n",
      "    \"\"\"\n",
      "    7. Division with constant integer\n",
      "    \"\"\"\n",
      "    \n",
      "    cube = np.arange(30*5*5).reshape(30, 5, 5)\n",
      "    \n",
      "    result = ifu_math(cube, 10, 'divide')\n",
      "    assert isinstance(result, np.ndarray)\n",
      "    \n",
      "    \n",
      "def test_divFloatConstant():\n",
      "    \"\"\"\n",
      "    8. Division with constant float\n",
      "    \"\"\"\n",
      "    \n",
      "    cube = np.arange(30*5*5).reshape(30, 5, 5)\n",
      "    \n",
      "    result = ifu_math(cube, 5., 'divide')\n",
      "    assert isinstance(result, np.ndarray)\n",
      "    \n",
      "\n",
      "def test_unsupportedMethod():\n",
      "    \"\"\"\n",
      "    9. Test with unsupported method 'dummy'\n",
      "    \"\"\"\n",
      "    \n",
      "    cube = np.arange(30*5*5).reshape(30, 5, 5)\n",
      "    \n",
      "    result = ifu_math(cube, 5., 'dummy')\n",
      "    assert isinstance(result, np.ndarray)\n",
      "\n",
      "    \n",
      "def test_unsupportedOperator():\n",
      "    \"\"\"\n",
      "    10. Test with unsupported operator 'r'\n",
      "    Operator must be a 1D/2D/3D array of int/float!\n",
      "    \"\"\"\n",
      "    \n",
      "    cube = np.arange(30*5*5).reshape(30, 5, 5)\n",
      "    \n",
      "    result = ifu_math(cube, 'r', 'add')\n",
      "    assert isinstance(result, np.ndarray), 'Operator cannot be a string!'\n",
      "\n",
      "    \n",
      "def test_cubeMinImage():\n",
      "    \"\"\"\n",
      "    11. 3D/2D math operation\n",
      "    Subtracting an image from a cube.\n",
      "    \"\"\"\n",
      "    \n",
      "    cube = np.arange(30*5*5).reshape(30, 5, 5)\n",
      "    image = cube[15, :, :]\n",
      "    \n",
      "    result = ifu_math(cube, image, 'subtract')\n",
      "    assert isinstance(result, np.ndarray)\n",
      "    \n",
      "      \n",
      "def test_diffDims():\n",
      "    \"\"\"\n",
      "    12. Test with different dimensions\n",
      "    \"\"\"\n",
      "    \n",
      "    cube = np.arange(30*3*10).reshape(30, 3, 10)\n",
      "    image = cube[15, :, :].reshape(5, 6)\n",
      "    \n",
      "    result = ifu_math(cube, image, 'divide')\n",
      "    assert isinstance(result, np.ndarray)\n",
      "\n",
      "\n",
      "def test_scalarInput():\n",
      "    \"\"\"\n",
      "    13. Test with input scalar list \n",
      "    \"\"\"\n",
      "    \n",
      "    in_list = np.arange(10)\n",
      "    \n",
      "    result = ifu_math(in_list, 10, 'add')\n",
      "    assert isinstance(result, np.ndarray)\n",
      "\n",
      "\n",
      "def test_cubeAndSpectrum():\n",
      "    \"\"\"\n",
      "    14. 3D/1D test with an spectrum as the operator\n",
      "    \n",
      "    Create a 2D spectrum image the same size as the \n",
      "    frame in the cube.\n",
      "    \"\"\"\n",
      "    \n",
      "    spectrum = np.random.randint(0, 10, size=(30))\n",
      "    cube = np.arange(30*5*5).reshape(30, 5, 5)\n",
      "    \n",
      "    result = ifu_math(cube, spectrum, method='subtract')    \n",
      "    assert isinstance(result, np.ndarray)\n",
      "\n",
      "# ======================================================\n",
      "#                       Test suite\n",
      "# ======================================================"
     ],
     "language": "python",
     "metadata": {},
     "outputs": [
      {
       "output_type": "stream",
       "stream": "stdout",
       "text": [
        "Overwriting ./tests/test_ifuMath.py\n"
       ]
      }
     ],
     "prompt_number": 5
    },
    {
     "cell_type": "code",
     "collapsed": false,
     "input": [
      "# Forcefully remove the compiled module, so that the refreshed is loaded.\n",
      "#!rm -rf ./scripts/ifu_math.pyc"
     ],
     "language": "python",
     "metadata": {},
     "outputs": [],
     "prompt_number": 6
    },
    {
     "cell_type": "code",
     "collapsed": false,
     "input": [
      "!nosetests -v ./tests/test_ifuMath.py\n",
      "\n",
      "# #10 fails because the input operator must be either a constant (int, float) or an array.\n",
      "# #12 errors because the array dimensions don't agree...\n",
      "# #13 fails because the input array must be a cube."
     ],
     "language": "python",
     "metadata": {},
     "outputs": [
      {
       "output_type": "stream",
       "stream": "stdout",
       "text": [
        "1. Addition with constant integer ... ok\r\n",
        "2. Addition with constant float ... ok\r\n",
        "3. Subtraction with constant integer ... ok\r\n",
        "4. Subtraction with constant float ... ok\r\n",
        "5. Multiplication with integer ... ok\r\n",
        "6. Multiplication with constant float ... ok\r\n",
        "7. Division with constant integer ... ok\r\n",
        "8. Division with constant float ... ok\r\n",
        "9. Test with unsupported method 'dummy' ... ok\r\n",
        "10. Test with unsupported operator 'r' ... FAIL\r\n",
        "11. 3D/2D math operation ... "
       ]
      },
      {
       "output_type": "stream",
       "stream": "stdout",
       "text": [
        "ok\r\n",
        "12. Test with different dimensions ... ERROR\r\n",
        "13. Test with input scalar list ... FAIL\r\n",
        "14. 3D/1D test with an spectrum as the operator ... ok\r\n",
        "\r\n",
        "======================================================================\r\n",
        "ERROR: 12. Test with different dimensions\r\n",
        "----------------------------------------------------------------------\r\n",
        "Traceback (most recent call last):\r\n",
        "  File \"/Users/leblanc/Ureka/python/lib/python2.7/site-packages/nose/case.py\", line 197, in runTest\r\n",
        "    self.test(*self.arg)\r\n",
        "  File \"/Users/leblanc/Documents/Dropbox/stsci/IFU/tests/test_ifuMath.py\", line 143, in test_diffDims\r\n",
        "    result = ifu_math(cube, image, 'divide')\r\n",
        "  File \"./scripts/ifu_math.py\", line 107, in ifu_math\r\n",
        "    array_out = np.divide(array_in, operator)\r\n",
        "ValueError: operands could not be broadcast together with shapes (30,3,10) (5,6) \r\n",
        "-------------------- >> begin captured stdout << ---------------------\r\n",
        "(math): The operator dimensions are: (5, 6)\r\n",
        "(math): Input array has 3 dimensions.\r\n",
        "(math): Dimension of input array and operator do not match!\r\n",
        "(math): IFU divide mode chosen...\r\n",
        "\r\n",
        "--------------------- >> end captured stdout << ----------------------\r\n",
        "\r\n",
        "======================================================================\r\n",
        "FAIL: 10. Test with unsupported operator 'r'\r\n",
        "----------------------------------------------------------------------\r\n",
        "Traceback (most recent call last):\r\n",
        "  File \"/Users/leblanc/Ureka/python/lib/python2.7/site-packages/nose/case.py\", line 197, in runTest\r\n",
        "    self.test(*self.arg)\r\n",
        "  File \"/Users/leblanc/Documents/Dropbox/stsci/IFU/tests/test_ifuMath.py\", line 119, in test_unsupportedOperator\r\n",
        "    assert isinstance(result, np.ndarray), 'Operator cannot be a string!'\r\n",
        "AssertionError: Operator cannot be a string!\r\n",
        "-------------------- >> begin captured stdout << ---------------------\r\n",
        "(math): Input operator has been converted to a numpy array.\r\n",
        "(math): The operator dimensions are: (1,)\r\n",
        "(math): Input array has 3 dimensions.\r\n",
        "(math): A scalar operation will take place.\r\n",
        "(math): IFU add mode chosen...\r\n",
        "\r\n",
        "--------------------- >> end captured stdout << ----------------------\r\n",
        "\r\n",
        "======================================================================\r\n",
        "FAIL: 13. Test with input scalar list\r\n",
        "----------------------------------------------------------------------\r\n",
        "Traceback (most recent call last):\r\n",
        "  File \"/Users/leblanc/Ureka/python/lib/python2.7/site-packages/nose/case.py\", line 197, in runTest\r\n",
        "    self.test(*self.arg)\r\n",
        "  File \"/Users/leblanc/Documents/Dropbox/stsci/IFU/tests/test_ifuMath.py\", line 155, in test_scalarInput\r\n",
        "    assert isinstance(result, np.ndarray)\r\n",
        "AssertionError: \r\n",
        "-------------------- >> begin captured stdout << ---------------------\r\n",
        "(math): Input operator has been converted to a numpy array.\r\n",
        "(math): The operator dimensions are: (1,)\r\n",
        "(math): The input array must be a cube (3 dimensions)!\r\n",
        "\r\n",
        "--------------------- >> end captured stdout << ----------------------\r\n",
        "\r\n",
        "----------------------------------------------------------------------\r\n",
        "Ran 14 tests in 0.049s\r\n",
        "\r\n",
        "FAILED (errors=1, failures=2)\r\n"
       ]
      }
     ],
     "prompt_number": 7
    },
    {
     "cell_type": "code",
     "collapsed": false,
     "input": [],
     "language": "python",
     "metadata": {},
     "outputs": [],
     "prompt_number": 7
    },
    {
     "cell_type": "code",
     "collapsed": false,
     "input": [],
     "language": "python",
     "metadata": {},
     "outputs": [],
     "prompt_number": 7
    },
    {
     "cell_type": "markdown",
     "metadata": {},
     "source": [
      "IFU_3D_COLLAPSE\n",
      "==============="
     ]
    },
    {
     "cell_type": "code",
     "collapsed": false,
     "input": [
      "%%file ./scripts/ifu_3d_collapse.py\n",
      "# Import necessary modules\n",
      "from __future__ import print_function\n",
      "import numpy as np\n",
      "\n",
      "import sys\n",
      "sys.path.append('./scripts/')\n",
      "from ifu_math import *\n",
      "\n",
      "def _arrayCollapse(array_in, method):\n",
      "    \"\"\"\n",
      "    Collapse a slice of a datacube, with a given mode, along the wavelength (z) slice.\n",
      "    \n",
      "    This is an internal function that will handle the actual cube\n",
      "    collapse with a given method, for numpy.array types. \n",
      "    Specifically for computed collapse without sigma clipping.\n",
      "    \n",
      "    Parameters\n",
      "    ----------\n",
      "    array_in : numpy.ndarray\n",
      "               Input array over which to calculate the collapse.\n",
      "    \n",
      "    method : string\n",
      "             Passed from the main function call.\n",
      "             \n",
      "    Returns\n",
      "    -------\n",
      "    collapsed_array : numpy.ndarray\n",
      "                      The collapsed array with the desired method.\n",
      "    \"\"\"\n",
      "        \n",
      "    # Perform an numpy.array collapse along the z-axis\n",
      "    if method == 'sum':\n",
      "        print('(3d_collapse): Sum collapse of extracted slices ...')\n",
      "        collapsed_array = np.sum(array_in, axis=0)\n",
      "            \n",
      "    elif method == 'mean':\n",
      "        print('(3d_collapse): Mean collapse of extracted slices ...')\n",
      "        collapsed_array = np.mean(array_in, axis=0)\n",
      "    \n",
      "    elif method == 'median':\n",
      "        print('(3d_collapse): Median collapse of extracted slices ...')\n",
      "        collapsed_array = np.median(array_in, axis=0)\n",
      "        \n",
      "    # Returns an array of type numpy.array    \n",
      "    return collapsed_array\n",
      "\n",
      "\n",
      "def _maskedCollapse(array_in, method):\n",
      "    \"\"\"\n",
      "    Collapse a slice of a datacube, with a given mode, along the \n",
      "    wavelength (z) slice.\n",
      "    \n",
      "    This is an internal function that will handle the actual cube\n",
      "    collapse with a given method, for numpy.ma (MaskedArray) types. \n",
      "    Specifically for computed collapse with sigma clipping.\n",
      "\n",
      "    Parameters\n",
      "    ----------\n",
      "    array_in : numpy array\n",
      "               Input array over which to calculate the collapse.\n",
      "    \n",
      "    method : string\n",
      "             Passed from the main function call.\n",
      "             \n",
      "    Returns\n",
      "    -------\n",
      "    collapsed_array.data : numpy array\n",
      "                           The collapsed array with the desired method.\n",
      "    \"\"\"    \n",
      "    import numpy.ma as ma\n",
      "    \n",
      "    # Perform an numpy.ma array collapse along the z-axis\n",
      "    if method == 'sum':\n",
      "        print('(3d_collapse): Masked sum collapse of extracted slices ...')\n",
      "        collapsed_array = ma.sum(array_in, axis=0)\n",
      "            \n",
      "    elif method == 'mean':\n",
      "        print('(3d_collapse): Masked mean of extracted slices:')\n",
      "        collapsed_array = ma.mean(array_in, axis=0)\n",
      "    \n",
      "    elif method == 'median':\n",
      "        print('(3d_collapse): Masked median of extracted slices:')\n",
      "        collapsed_array = ma.extras.median(array_in, axis=0)\n",
      "        \n",
      "    # Returns an array of type numpy.array    \n",
      "    return collapsed_array.data\n",
      "\n",
      "\n",
      "def ifu_3d_collapse(array_in, region=None, method='sum', sigma=False):\n",
      "    \"\"\"\n",
      "    Collapse a slice of a datacube, with a given mode, along the \n",
      "    wavelength slice.\n",
      "    \n",
      "    This function handles both numpy.array (with no sigma clipping) \n",
      "    and numpy.ma masked arrays (with sigma clipping, from astropy.stast.funcs)\n",
      "    \n",
      "    Parameters\n",
      "    ----------\n",
      "    array_in : numpy.ndarray\n",
      "               The input datacube array.\n",
      "    region :  The region of the datacube to collapse, in the form of [a, b], \n",
      "              where a is the 1st slice boundary, and b is the 2nd + 1 slice boundary. \n",
      "              Can be omitted to collapse entire z-axis.\n",
      "            \n",
      "    method : {'median', 'sum', 'mean'}\n",
      "             The method of collapse.\n",
      "             \n",
      "    sigma : bool, optional\n",
      "            Flag for wether to perform sigma clipping or not (default is False).\n",
      "                \n",
      "    Returns\n",
      "    -------\n",
      "    collapsedArray : numpy.ndarray\n",
      "                     Collapsed image.\n",
      "    \n",
      "    Example usage:\n",
      "    \n",
      "        1. >> result = ifu_3d_collapse(cube, region=[1000, 1999], method='median')\n",
      "        \n",
      "        Median collapse cube from z-axis frames 1000-2000.\n",
      "        \n",
      "        2. >> result = ifu_3d_collapsed(cube, method='mean', sigma=2.5)\n",
      "        \n",
      "        Mean collapse a cube along the entire z-axis, performing a sigma\n",
      "        clipping of 2.5.\n",
      "    \"\"\"\n",
      "    \n",
      "    # Extract the desired slice...\n",
      "    if not region:\n",
      "        print('(3d_collapse): Entire z-axis will be collapsed!')\n",
      "        slice_array = array_in\n",
      "    else:\n",
      "        print('(3d_collapse): z-axis collapse limits: ', region)\n",
      "        slice_array = array_in[region[0]:region[1], :, :]\n",
      "        \n",
      "    # ... and perform the desired operation, based on input mode.\n",
      "    collapsed_array = _arrayCollapse(slice_array, method=method)\n",
      "    \n",
      "    if sigma:\n",
      "        # Import sigma_clip from astropy\n",
      "        from astropy.stats.funcs import sigma_clip\n",
      "        \n",
      "        # Perform sigma clipping on input cube\n",
      "        print('(3d_collapse): Clipping data ...')\n",
      "        clipped = sigma_clip(slice_array, sigma, iters=None, axis=0, copy=True)\n",
      "        \n",
      "                \n",
      "        # Compare the clipped sample to determine wether we need to \n",
      "        # recalculate the collapse        \n",
      "        if np.array_equal(clipped.compressed(), slice_array.flatten()): \n",
      "            print('Arrays are exactly the same, no clipping required.')\n",
      "        else:\n",
      "            # Now that we have the sigma mask, recalculate the collapse...            \n",
      "            collapsed_array = _maskedCollapse(clipped, method)\n",
      "\n",
      "    # Returns the collapsed array\n",
      "    #print('(3d_collapse): Shape of returned array:', collapsed_array.shape)\n",
      "    return collapsed_array"
     ],
     "language": "python",
     "metadata": {},
     "outputs": [
      {
       "output_type": "stream",
       "stream": "stdout",
       "text": [
        "Overwriting ./scripts/ifu_3d_collapse.py\n"
       ]
      }
     ],
     "prompt_number": 15
    },
    {
     "cell_type": "code",
     "collapsed": false,
     "input": [
      "%%file ./tests/test_ifuCollapse.py\n",
      "# Import necessarty modules\n",
      "import numpy as np\n",
      "from astropy.io import fits\n",
      "from astropy.stats.funcs import sigma_clip\n",
      "\n",
      "import sys\n",
      "sys.path.append('./scripts/')\n",
      "from ifu_3d_collapse import *\n",
      "\n",
      "# ======================================================\n",
      "#                       Test suite\n",
      "# ======================================================\n",
      "\n",
      "def test_arrayCollapse():\n",
      "    \"\"\"\n",
      "    1. Test the arrayCollapse function.\n",
      "    \"\"\"\n",
      "    \n",
      "    cube = np.arange(30*5*5).reshape(30, 5, 5)\n",
      "    #result = _arrayCollapse(cube, method='mean')\n",
      "    \n",
      "    result = ifu_3d_collapse(cube, region=[0, 29], method='mean')\n",
      "    assert isinstance(result, np.ndarray)\n",
      "    \n",
      "    \n",
      "def test_maskedCollapse():\n",
      "    \"\"\"\n",
      "    2. Test the maskedCollapse function.\n",
      "    \"\"\"\n",
      "    mu, sigma = 0, 15\n",
      "    cube = np.random.normal(loc=mu, scale=sigma, size=(10, 20, 20))\n",
      "    \n",
      "    #clipped = sigma_clip(cube, sig=1, iters=None, copy=True)\n",
      "    #collapsed_array = _maskedCollapse(clipped, method='median')\n",
      "    \n",
      "    collapsed_array = ifu_3d_collapse(cube, region=[0,9], method='median', sigma=1.)\n",
      "    assert isinstance(collapsed_array, np.ndarray)\n",
      "    \n",
      "\n",
      "def test_sliceFalseSigma():\n",
      "    \"\"\"\n",
      "    3. Setting sigma value to 'False'\n",
      "    \"\"\"\n",
      "    \n",
      "    cube = np.arange(30*5*5).reshape(30, 5, 5)\n",
      "    \n",
      "    result = ifu_3d_collapse(cube, region=[15, 27], method='median', sigma=False)\n",
      "    assert isinstance(result, np.ndarray)\n",
      "    \n",
      "def test_sliceOmitSigma():\n",
      "    \"\"\"\n",
      "    4. Omit sigma input argument\n",
      "    \"\"\"\n",
      "    \n",
      "    cube = np.arange(30*5*5).reshape(30, 5, 5)\n",
      "    \n",
      "    result = ifu_3d_collapse(cube, region=[15, 27], method='median')\n",
      "    assert isinstance(result, np.ndarray)\n",
      "\n",
      "\n",
      "def test_sliceZeroSigma():\n",
      "    \"\"\"\n",
      "    5. Setting sigma value to zero\n",
      "    \"\"\"\n",
      "    \n",
      "    cube = np.arange(30*5*5).reshape(30, 5, 5)\n",
      "    \n",
      "    result = ifu_3d_collapse(cube, region=[15, 27], method='median', sigma=0)\n",
      "    assert isinstance(result, np.ndarray)\n",
      "    \n",
      "\n",
      "def test_sliceSigma():\n",
      "    \"\"\"\n",
      "    6. Set valid sigma value\n",
      "    \"\"\"\n",
      "    \n",
      "    cube = np.arange(30*5*5).reshape(30, 5, 5)\n",
      "    \n",
      "    result = ifu_3d_collapse(cube, region=[15, 27], method='median', sigma=2.5)\n",
      "    assert isinstance(result, np.ndarray)\n",
      "    \n",
      "def test_emptySlice():\n",
      "    \"\"\"\n",
      "    7. Test an empty input z-slice selection\n",
      "    \"\"\"\n",
      "    \n",
      "    cube = np.arange(30*5*5).reshape(30, 5, 5)\n",
      "    \n",
      "    result = ifu_3d_collapse(cube, method='median', sigma=2.5)\n",
      "    assert isinstance(result, np.ndarray)\n",
      "    \n",
      "# ======================================================\n",
      "#                       Test suite\n",
      "# ======================================================    "
     ],
     "language": "python",
     "metadata": {},
     "outputs": [
      {
       "output_type": "stream",
       "stream": "stdout",
       "text": [
        "Overwriting ./tests/test_ifuCollapse.py\n"
       ]
      }
     ],
     "prompt_number": 16
    },
    {
     "cell_type": "code",
     "collapsed": false,
     "input": [
      "!nosetests -v ./tests/test_ifuCollapse.py"
     ],
     "language": "python",
     "metadata": {},
     "outputs": [
      {
       "output_type": "stream",
       "stream": "stdout",
       "text": [
        "1. Test the arrayCollapse function. ... ok\r\n",
        "2. Test the maskedCollapse function. ... "
       ]
      },
      {
       "output_type": "stream",
       "stream": "stdout",
       "text": [
        "ok\r\n",
        "3. Setting sigma value to 'False' ... ok\r\n",
        "4. Omit sigma input argument ... ok\r\n",
        "5. Setting sigma value to zero ... ok\r\n",
        "6. Set valid sigma value ... ok\r\n",
        "7. Test an empty input z-slice selection ... ok\r\n",
        "\r\n",
        "----------------------------------------------------------------------\r\n",
        "Ran 7 tests in 0.286s\r\n",
        "\r\n",
        "OK\r\n"
       ]
      }
     ],
     "prompt_number": 17
    },
    {
     "cell_type": "code",
     "collapsed": false,
     "input": [],
     "language": "python",
     "metadata": {},
     "outputs": [],
     "prompt_number": 10
    },
    {
     "cell_type": "code",
     "collapsed": false,
     "input": [],
     "language": "python",
     "metadata": {},
     "outputs": [],
     "prompt_number": 10
    },
    {
     "cell_type": "markdown",
     "metadata": {},
     "source": [
      "# IFU_1d_spectrum"
     ]
    },
    {
     "cell_type": "code",
     "collapsed": false,
     "input": [
      "%matplotlib inline"
     ],
     "language": "python",
     "metadata": {},
     "outputs": [],
     "prompt_number": 1
    },
    {
     "cell_type": "code",
     "collapsed": false,
     "input": [
      "%%file ./scripts/ifu_1d_spectrum.py\n",
      "# Global imports\n",
      "from __future__ import print_function\n",
      "import numpy as np\n",
      "import matplotlib.pyplot as plt\n",
      "import matplotlib.cm as cm\n",
      "\n",
      "import sys\n",
      "sys.path.append('./scripts/')\n",
      "from ifu_math import *\n",
      "from ifu_utils import *\n",
      "\n",
      "def ifu_1d_spectrum(array_in, spaxel, cals, trim=100, continuum=False, display=False):\n",
      "    \"\"\"\n",
      "    Extract the spectrum of a gixen spaxel from a given datacube.\n",
      "    \n",
      "    Parameters\n",
      "    ----------\n",
      "    array_in : numpy.ndarray\n",
      "               Input datacube.\n",
      "               \n",
      "    spaxel : tuple of ints\n",
      "             The spaxel(s) (i.e., the [x, y] pixel location) for \n",
      "             which to perform the extraction.\n",
      "             \n",
      "    cals : tuple of floats\n",
      "           Calibration values for the input datacube; \n",
      "           (crpix, crval, crdelt).\n",
      "           \n",
      "    trim : int\n",
      "           Integer amount to trim from begin/end of the datacube.\n",
      "           \n",
      "    continuum : bool, optional\n",
      "                Perforn a continuum subtraction (default is False, \n",
      "                no continuum subtraction is done).\n",
      "    \n",
      "    display : bool, optional\n",
      "              Display the extracted spectrum (default is False,\n",
      "              spectrum is not displayed).\n",
      "    \n",
      "    Returns\n",
      "    -------\n",
      "    spectrum_out : numpy.ndarray\n",
      "               The extracted spectrum. The output is a 2d array, \n",
      "               where spectrum_out[0, :] is the wavelength (in $/mu $m) \n",
      "               and spectrum_out[1, :] is the counts (in D/N).\n",
      "    \"\"\"\n",
      "        \n",
      "    # Convert spaxel(s) to numpy arrays to evaluate how many are input, \n",
      "    # and unpack into seperate values\n",
      "    npSpaxels = np.array(spaxel)\n",
      "    x, y = [], []\n",
      "    for (ii, jj) in npSpaxels:\n",
      "        x.append(ii)\n",
      "        y.append(jj)\n",
      "       \n",
      "    print('Spaxel shape! ', npSpaxels.shape)\n",
      "    print('x Spaxels: ', x)\n",
      "    print('y Spaxels: ', y)    \n",
      "    \n",
      "    # If too many spaxels entered, display a message (limit 3)\n",
      "    if npSpaxels.shape[0] > 3:\n",
      "        print('Too many spectra entered! Maximum of 3 will be processed...')\n",
      "        \n",
      "    if npSpaxels.shape[1] > 2:\n",
      "        print('Spaxel values must be entered in pairs! (e.g. spaxel=[[x1, y1], [x2, y2]])')\n",
      "        return None\n",
      "                \n",
      "    # Extract spectrum at given spaxel, trimming from beginning/end of spectrum\n",
      "    #spectrum = array_in[trim:-trim, spaxel[1], spaxel[0]]\n",
      "    spectrum = array_in[trim:-trim, y[:3], x[:3]]\n",
      "    if spectrum.shape[1] == 1:\n",
      "        print('Shape change!!!!')\n",
      "        spectrum = spectrum[:, 0]\n",
      "    \n",
      "    spec_frame = np.arange(len(spectrum)) + trim    \n",
      "    spec_wave = frame_convert(spec_frame, cals)\n",
      "        \n",
      "    print('Spectrum.shape: ', spectrum.shape)\n",
      "    \n",
      "    # If a continuum-subtracted spectrum is required, calculate\n",
      "    # and return...\n",
      "    if continuum:        \n",
      "        #compute an estimate for the continuum\n",
      "        p = np.polyfit(spec_wave, spectrum, 1)\n",
      "        print('Gradient and y-intercept:')\n",
      "        print(p)\n",
      "        continuum = p[0] * spec_wave + p[1]\n",
      "        \n",
      "        print('(continuum) p.shape: ', p.shape)\n",
      "        print('(continuum) p: ', p[0], p[1], p)\n",
      "        print('(continuum) Continuum shape: ', continuum.shape)\n",
      "        print('(continuum) Spectrum.shape: ', spectrum.shape)\n",
      "        print('(continuum) Spectrum type: ', type(spectrum))\n",
      "        \n",
      "        #compute continuum-subtracted spectrum\n",
      "        #z = spectrum - y\n",
      "        spectrum = spectrum - continuum\n",
      "        \n",
      "        print('(continuum2) Spectrum.shape: ', spectrum.shape)\n",
      "    \n",
      "    # Display spectrum if set (DEBUG)\n",
      "    if display:\n",
      "        \n",
      "        fig, ax = plt.subplots(figsize=(12, 4))\n",
      "        \n",
      "        ax.set_xlim(spec_wave[0], spec_wave[-1])\n",
      "        ax.plot(spec_wave, spectrum)\n",
      "        ax.set_xlabel('Wavelength ($\\mu m$)')\n",
      "        ax.set_ylabel('Counts (D/n)')\n",
      "        \n",
      "        ax_twin = ax.twiny()\n",
      "        ax_twin.set_xlim(spec_frame[0], spec_frame[-1])\n",
      "        ticks = spec_frame[::100]\n",
      "        ax_twin.set_xticks(ticks, minor=True)\n",
      "        ax_twin.set_xlabel('Datacube Frame')\n",
      "        \n",
      "    # Create an empty multidim array to store the spectral data\n",
      "    # (wavelength and flux)\n",
      "    # If multiple spaxles are entered, only the first is returned!\n",
      "    print('(after:) Spetrum.shape: ', spectrum.shape)\n",
      "    \n",
      "    spectrum_out = np.empty(2*spectrum.shape[0]).reshape(2, spectrum.shape[0])\n",
      "    spectrum_out[0, :] = spec_wave\n",
      "    #spectrum_out[1, :] = spectrum\n",
      "    \n",
      "    if len(spectrum.shape) != 1:\n",
      "        spectrum_out[1, :] = spectrum[:, 0]\n",
      "    else:\n",
      "        spectrum_out[1, :] = spectrum\n",
      "                \n",
      "    return spectrum_out"
     ],
     "language": "python",
     "metadata": {},
     "outputs": [
      {
       "output_type": "stream",
       "stream": "stdout",
       "text": [
        "Overwriting ./scripts/ifu_1d_spectrum.py\n"
       ]
      }
     ],
     "prompt_number": 151
    },
    {
     "cell_type": "code",
     "collapsed": false,
     "input": [
      "%%file ./tests/test_ifuSpectrum.py\n",
      "# Import necessarty modules\n",
      "import numpy as np\n",
      "from astropy.io import fits\n",
      "from astropy.stats.funcs import sigma_clip\n",
      "\n",
      "import sys\n",
      "sys.path.append('./scripts/')\n",
      "from ifu_1d_spectrum import *\n",
      "\n",
      "\n",
      "# ======================================================\n",
      "#                       Test suite\n",
      "# ======================================================\n",
      "    \n",
      "# Read in cube, including header for wavelength calibration values\n",
      "cube, header = fits.getdata('./data/NGC4151_Hband.fits', 1, header=True)\n",
      "    \n",
      "# Read in crpix, crval, and cdelt values from the header.\n",
      "# Convert crpix and crdelt values from angstroms to microns\n",
      "#header = fits.getheader('./data/NGC4151_Hband.fits', ext=1)\n",
      "crpix = header['CRPIX3']\n",
      "crval = header['CRVAL3']/1.e4\n",
      "cdelt = header['CDELT3']/1.e4\n",
      "cals = [crpix, crval, cdelt]\n",
      "\n",
      "\n",
      "def test_extractSpaxel():\n",
      "    \"\"\"\n",
      "    1. Test the spectrum extraction function on a single spaxel.\n",
      "    \"\"\"\n",
      "    \n",
      "    testSpec = ifu_1d_spectrum(cube, [[30,30]], cals, trim=100, continuum=False, display=False)\n",
      "    assert isinstance(testSpec, np.ndarray)\n",
      "    \n",
      "\n",
      "def test_extractNoTrim():\n",
      "    \"\"\"\n",
      "    2. Test the spectrum extraction function without a trim value.\n",
      "    \"\"\"\n",
      "    \n",
      "    testSpec = ifu_1d_spectrum(cube, [[30,30]], cals, continuum=False, display=False)\n",
      "    assert isinstance(testSpec, np.ndarray)\n",
      "    \n",
      " \n",
      "def test_extractContinuum():\n",
      "    \"\"\"\n",
      "    3. Test continuum-extracted spectrum.\n",
      "    \"\"\"\n",
      "    \n",
      "    testSpec = ifu_1d_spectrum(cube, [[30,30]], cals, continuum=True, display=False)\n",
      "    assert isinstance(testSpec, np.ndarray)\n",
      "    \n",
      "    \n",
      "def test_extractLists():\n",
      "    \"\"\"\n",
      "    4. Test the spectrum extraction function on a range of spaxels.\n",
      "    \n",
      "    Test passes, but as a list of spaxels (list of [[x1, x2, ... xn], [y1, y2, ... yn]]).\n",
      "    \"\"\"\n",
      "    \n",
      "    testSpec = ifu_1d_spectrum(cube, [[27,33,30],[27,33,30]], cals, trim=100, continuum=False, display=False)\n",
      "    assert isinstance(testSpec, np.ndarray)\n",
      "\n",
      "    \n",
      "def test_extractPairs():\n",
      "    \"\"\"\n",
      "    5. Test the spectrum extraction function on a range of spaxels.\n",
      "    \n",
      "    Test passes, but as pairs of tuples (list of [[x1, y1], [x2, y2] ...[xn, yn]]).\n",
      "    \"\"\"\n",
      "    \n",
      "    testSpec = ifu_1d_spectrum(cube, [[27, 27], [33, 33], [15, 30]], cals, trim=100, continuum=False, display=False)\n",
      "    assert isinstance(testSpec, np.ndarray)\n",
      "\n",
      "    \n",
      "def test_extractPairsContinuum():\n",
      "    \"\"\"\n",
      "    6. Test the spectrum extraction function on a range of spaxels, with continuum extraction.\n",
      "    \n",
      "    Test passes, but as pairs of tuples (list of [[x1, y1], [x2, y2] ...[xn, yn]]).\n",
      "    Continuum extraction is performed.\n",
      "    \"\"\"\n",
      "    \n",
      "    testSpec = ifu_1d_spectrum(cube, [[27, 27], [33, 33], [15, 30]], cals, trim=100, continuum=True, display=False)\n",
      "    assert isinstance(testSpec, np.ndarray)\n",
      "    "
     ],
     "language": "python",
     "metadata": {},
     "outputs": [
      {
       "output_type": "stream",
       "stream": "stdout",
       "text": [
        "Overwriting ./tests/test_ifuSpectrum.py\n"
       ]
      }
     ],
     "prompt_number": 154
    },
    {
     "cell_type": "code",
     "collapsed": false,
     "input": [
      "!nosetests -v ./tests/test_ifuSpectrum.py"
     ],
     "language": "python",
     "metadata": {},
     "outputs": [
      {
       "output_type": "stream",
       "stream": "stdout",
       "text": [
        "1. Test the spectrum extraction function on a single spaxel. ... ok\r\n",
        "2. Test the spectrum extraction function without a trim value. ... ok\r\n",
        "3. Test continuum-extracted spectrum. ... "
       ]
      },
      {
       "output_type": "stream",
       "stream": "stdout",
       "text": [
        "ok\r\n",
        "4. Test the spectrum extraction function on a range of spaxels. ... ERROR\r\n",
        "5. Test the spectrum extraction function on a range of spaxels. ... ok\r\n",
        "6. Test the spectrum extraction function on a range of spaxels, with continuum extraction. ... ERROR\r\n",
        "\r\n",
        "======================================================================\r\n",
        "ERROR: 4. Test the spectrum extraction function on a range of spaxels.\r\n",
        "----------------------------------------------------------------------\r\n",
        "Traceback (most recent call last):\r\n",
        "  File \"/Applications/Ureka/python/lib/python2.7/site-packages/nose/case.py\", line 197, in runTest\r\n",
        "    self.test(*self.arg)\r\n",
        "  File \"/Users/tommy/Documents/Dropbox/stsci/IFU/tests/test_ifuSpectrum.py\", line 61, in test_extractLists\r\n",
        "    testSpec = ifu_1d_spectrum(cube, [[27,33,30],[27,33,30]], cals, trim=100, continuum=False, display=False)\r\n",
        "  File \"./scripts/ifu_1d_spectrum.py\", line 52, in ifu_1d_spectrum\r\n",
        "    for (ii, jj) in npSpaxels:\r\n",
        "ValueError: too many values to unpack\r\n",
        "\r\n",
        "======================================================================\r\n",
        "ERROR: 6. Test the spectrum extraction function on a range of spaxels, with continuum extraction.\r\n",
        "----------------------------------------------------------------------\r\n",
        "Traceback (most recent call last):\r\n",
        "  File \"/Applications/Ureka/python/lib/python2.7/site-packages/nose/case.py\", line 197, in runTest\r\n",
        "    self.test(*self.arg)\r\n",
        "  File \"/Users/tommy/Documents/Dropbox/stsci/IFU/tests/test_ifuSpectrum.py\", line 84, in test_extractPairsContinuum\r\n",
        "    testSpec = ifu_1d_spectrum(cube, [[27, 27], [33, 33], [15, 30]], cals, trim=100, continuum=True, display=False)\r\n",
        "  File \"./scripts/ifu_1d_spectrum.py\", line 87, in ifu_1d_spectrum\r\n",
        "    continuum = p[0] * spec_wave + p[1]\r\n",
        "ValueError: operands could not be broadcast together with shapes (3) (1840) \r\n",
        "-------------------- >> begin captured stdout << ---------------------\r\n",
        "Spaxel shape!  (3, 2)\r\n",
        "x Spaxels:  [27, 33, 15]\r\n",
        "y Spaxels:  [27, 33, 30]\r\n",
        "Spectrum.shape:  (1840, 3)\r\n",
        "Gradient and y-intercept:\r\n",
        "[[  966.29082241   137.7952274     49.15097288]\r\n",
        " [-1293.50225419  -130.29673432   -55.01886318]]\r\n",
        "\r\n",
        "--------------------- >> end captured stdout << ----------------------\r\n",
        "\r\n",
        "----------------------------------------------------------------------\r\n",
        "Ran 6 tests in 0.082s\r\n",
        "\r\n",
        "FAILED (errors=2)\r\n"
       ]
      }
     ],
     "prompt_number": 155
    },
    {
     "cell_type": "code",
     "collapsed": false,
     "input": [],
     "language": "python",
     "metadata": {},
     "outputs": [],
     "prompt_number": 60
    },
    {
     "cell_type": "code",
     "collapsed": false,
     "input": [],
     "language": "python",
     "metadata": {},
     "outputs": [],
     "prompt_number": 60
    },
    {
     "cell_type": "markdown",
     "metadata": {},
     "source": [
      "# IFU_lineMeasure"
     ]
    },
    {
     "cell_type": "code",
     "collapsed": false,
     "input": [
      "%%file ./scripts/ifu_lineMeasure.py\n",
      "# Global imports\n",
      "from __future__ import print_function\n",
      "import numpy as np\n",
      "import matplotlib.pyplot as plt\n",
      "import matplotlib.cm as cm\n",
      "\n",
      "def ifu_lineMeasure(spectrum, region=[], display=False):\n",
      "    \"\"\"\n",
      "    Measure the line (if present) in a given region of an \n",
      "    input spectrum.\n",
      "    \n",
      "    Parameters\n",
      "    ----------\n",
      "    spectrum : numpy.ndarray\n",
      "               Input spectrum as a 1D array.\n",
      "               \n",
      "    region : tuple of ints, optional\n",
      "             The region for which to measure the line.\n",
      "             (default is [], in which the entire spectrum\n",
      "             is used.)\n",
      "             \n",
      "    display : bool, optinal\n",
      "              Display the line with diagnostic values.\n",
      "              (default is False, diagnostic values displayed \n",
      "              to screen).\n",
      "    \n",
      "    Returns\n",
      "    -------\n",
      "    line : tuple of floats\n",
      "           Line location (wavelength), FWHM, and intensity.\n",
      "    \n",
      "    \"\"\"\n",
      "    inSpectrum = 0\n",
      "    \n",
      "    if len(region) == 2:\n",
      "        inSpectrum = spectrum[region[0]:region[1]]\n",
      "    else:\n",
      "        print('The spectral region must be entered as [a, b], \\\n",
      "        where a and b are the lower/upper limits!')\n",
      "    \n",
      "    return inSpectrum"
     ],
     "language": "python",
     "metadata": {},
     "outputs": [
      {
       "output_type": "stream",
       "stream": "stdout",
       "text": [
        "Overwriting ./scripts/ifu_lineMeasure.py\n"
       ]
      }
     ],
     "prompt_number": 1
    },
    {
     "cell_type": "code",
     "collapsed": false,
     "input": [
      "import sys\n",
      "sys.path.append('./scripts/')"
     ],
     "language": "python",
     "metadata": {},
     "outputs": [],
     "prompt_number": 2
    },
    {
     "cell_type": "code",
     "collapsed": false,
     "input": [
      "from ifu_lineMeasure import *\n",
      "import numpy as np"
     ],
     "language": "python",
     "metadata": {},
     "outputs": [],
     "prompt_number": 3
    },
    {
     "cell_type": "code",
     "collapsed": false,
     "input": [
      "spectrum = np.arange(100)\n",
      "ifu_lineMeasure(spectrum, region=[10, 30, 50])"
     ],
     "language": "python",
     "metadata": {},
     "outputs": [
      {
       "output_type": "stream",
       "stream": "stdout",
       "text": [
        "The spectral region must be entered as [a, b],         where a and b are the lower/upper limits!\n"
       ]
      },
      {
       "metadata": {},
       "output_type": "pyout",
       "prompt_number": 6,
       "text": [
        "0"
       ]
      }
     ],
     "prompt_number": 6
    },
    {
     "cell_type": "code",
     "collapsed": false,
     "input": [],
     "language": "python",
     "metadata": {},
     "outputs": [],
     "prompt_number": 25
    },
    {
     "cell_type": "code",
     "collapsed": false,
     "input": [],
     "language": "python",
     "metadata": {},
     "outputs": []
    },
    {
     "cell_type": "code",
     "collapsed": false,
     "input": [],
     "language": "python",
     "metadata": {},
     "outputs": []
    },
    {
     "cell_type": "code",
     "collapsed": false,
     "input": [],
     "language": "python",
     "metadata": {},
     "outputs": []
    },
    {
     "cell_type": "code",
     "collapsed": false,
     "input": [],
     "language": "python",
     "metadata": {},
     "outputs": []
    },
    {
     "cell_type": "code",
     "collapsed": false,
     "input": [],
     "language": "python",
     "metadata": {},
     "outputs": []
    },
    {
     "cell_type": "code",
     "collapsed": false,
     "input": [],
     "language": "python",
     "metadata": {},
     "outputs": []
    },
    {
     "cell_type": "code",
     "collapsed": false,
     "input": [],
     "language": "python",
     "metadata": {},
     "outputs": []
    },
    {
     "cell_type": "markdown",
     "metadata": {},
     "source": [
      "# 2. External Testing\n",
      "---------------------\n",
      "\n",
      "This section is reserved for external testing of the suite of scripts,\n",
      "independent of the self-tests found in the tests/ folder of this project."
     ]
    },
    {
     "cell_type": "code",
     "collapsed": false,
     "input": [
      "# Setup the iPython inline plotting environment\n",
      "%matplotlib inline"
     ],
     "language": "python",
     "metadata": {},
     "outputs": [
      {
       "output_type": "stream",
       "stream": "stderr",
       "text": [
        "/Users/leblanc/Ureka/python/lib/python2.7/site-packages/Pillow-2.2.1-py2.7-macosx-10.6-x86_64.egg/PIL/_imaging.py:3: UserWarning: Module zmq was already imported from /Users/leblanc/Ureka/python/lib/python2.7/site-packages/zmq/__init__.pyc, but /Users/leblanc/py-lib is being added to sys.path\n"
       ]
      }
     ],
     "prompt_number": 1
    },
    {
     "cell_type": "code",
     "collapsed": false,
     "input": [],
     "language": "python",
     "metadata": {},
     "outputs": [],
     "prompt_number": 1
    },
    {
     "cell_type": "code",
     "collapsed": false,
     "input": [
      "# Import necessary modules\n",
      "import numpy as np\n",
      "from astropy.io import fits\n",
      "import matplotlib.pyplot as plt\n",
      "from matplotlib import cm\n",
      "from __future__ import print_function\n",
      "\n",
      "import sys\n",
      "sys.path.append('./scripts/')\n",
      "\n",
      "# Import the IFU scripts\n",
      "from ifu_math import *\n",
      "from ifu_3d_collapse import *\n",
      "\n",
      "\n",
      "# Read in / create arrays\n",
      "array1D = np.arange(10)\n",
      "image_file = './data/2d_Eagle.fits'\n",
      "cube_file = './data/Eagle_final_m96_m93_m83_m65.fits'\n",
      "\n",
      "image = fits.getdata(image_file)\n",
      "cube = fits.getdata(cube_file)\n",
      "\n",
      "# Test array dimensions...\n",
      "print('Image dimensions: ', image.shape)\n",
      "print('Cube dimensions: ', cube.shape)\n",
      "print()\n",
      "\n",
      "# Perform a basic math operation\n",
      "test = ifu_math(cube, image, 'subtract')\n",
      "\n",
      "# Input image vs. output in the same frame...\n",
      "# The second frame should be 0 after the above operation\n",
      "# (solid orange)\n",
      "# The third frame should show some structure...\n",
      "fig, (ax1, ax2, ax3) = plt.subplots(3, 1, figsize=(12, 8))\n",
      "ax1.imshow(image, vmin=-10, vmax=10, cmap=cm.hot, interpolation='nearest')\n",
      "ax2.imshow(test[3358, :, :], vmin=-10, vmax=10, cmap=cm.hot, interpolation='nearest')\n",
      "ax3.imshow(test[3359, :, :], vmin=-10, vmax=10, cmap=cm.hot, interpolation='nearest')"
     ],
     "language": "python",
     "metadata": {},
     "outputs": [
      {
       "output_type": "stream",
       "stream": "stdout",
       "text": [
        "Image dimensions:  (26, 143)\n",
        "Cube dimensions:  (6000, 26, 143)\n",
        "\n",
        "(math): The operator dimensions are: (26, 143)\n",
        "(math): Input array has 3 dimensions.\n",
        "(math): A 3D/2D operation will take place.\n",
        "(math): IFU subtract mode chosen...\n"
       ]
      },
      {
       "metadata": {},
       "output_type": "pyout",
       "prompt_number": 2,
       "text": [
        "<matplotlib.image.AxesImage at 0x114719410>"
       ]
      },
      {
       "metadata": {},
       "output_type": "display_data",
       "png": "[encoded data removed]",
       "text": [
        "<matplotlib.figure.Figure at 0x1075b44d0>"
       ]
      }
     ],
     "prompt_number": 2
    },
    {
     "cell_type": "code",
     "collapsed": false,
     "input": [
      "# input cube\n",
      "data = np.nan_to_num(cube[3358, :, :])\n",
      "fig, ax = plt.subplots(figsize=(12, 16))\n",
      "ax.imshow(data, vmin=-10, vmax=10, cmap=cm.hot, interpolation='nearest')"
     ],
     "language": "python",
     "metadata": {},
     "outputs": [
      {
       "metadata": {},
       "output_type": "pyout",
       "prompt_number": 3,
       "text": [
        "<matplotlib.image.AxesImage at 0x11472fc10>"
       ]
      },
      {
       "metadata": {},
       "output_type": "display_data",
       "png": "[encoded data removed]",
       "text": [
        "<matplotlib.figure.Figure at 0x1145a22d0>"
       ]
      }
     ],
     "prompt_number": 3
    },
    {
     "cell_type": "code",
     "collapsed": false,
     "input": [
      "# Test the subtraction (should be 0, or orange for this color map) ...\n",
      "fig, ax = plt.subplots(figsize=(12, 16))\n",
      "test_image = test[3358, :, :]\n",
      "ax.imshow(test_image, vmin=-10, vmax=10, cmap=cm.hot, interpolation='nearest')"
     ],
     "language": "python",
     "metadata": {},
     "outputs": [
      {
       "metadata": {},
       "output_type": "pyout",
       "prompt_number": 4,
       "text": [
        "<matplotlib.image.AxesImage at 0x114ba60d0>"
       ]
      },
      {
       "metadata": {},
       "output_type": "display_data",
       "png": "[encoded data removed]",
       "text": [
        "<matplotlib.figure.Figure at 0x114b27d50>"
       ]
      }
     ],
     "prompt_number": 4
    },
    {
     "cell_type": "code",
     "collapsed": false,
     "input": [
      "# ... and print another frame in the test image for verification...\n",
      "fig, ax = plt.subplots(figsize=(12, 16))\n",
      "test_image = test[3000, :, :]\n",
      "ax.imshow(test_image, vmin=-10, vmax=10, cmap=cm.hot, interpolation='nearest')"
     ],
     "language": "python",
     "metadata": {},
     "outputs": [
      {
       "metadata": {},
       "output_type": "pyout",
       "prompt_number": 5,
       "text": [
        "<matplotlib.image.AxesImage at 0x114e96390>"
       ]
      },
      {
       "metadata": {},
       "output_type": "display_data",
       "png": "[encoded data removed]",
       "text": [
        "<matplotlib.figure.Figure at 0x114726150>"
       ]
      }
     ],
     "prompt_number": 5
    },
    {
     "cell_type": "code",
     "collapsed": false,
     "input": [],
     "language": "python",
     "metadata": {},
     "outputs": [],
     "prompt_number": 5
    },
    {
     "cell_type": "markdown",
     "metadata": {},
     "source": [
      "Sigma Clip\n",
      "==========\n",
      "\n",
      "This section is to test the sigma clipping functionality of ifu_3d_collapse() function."
     ]
    },
    {
     "cell_type": "code",
     "collapsed": false,
     "input": [
      "# Setup inline plotting environment\n",
      "%matplotlib inline"
     ],
     "language": "python",
     "metadata": {},
     "outputs": [],
     "prompt_number": 4
    },
    {
     "cell_type": "code",
     "collapsed": false,
     "input": [
      "# Import global modules\n",
      "import numpy as np\n",
      "from astropy.stats.funcs import sigma_clip\n",
      "import matplotlib.pyplot as plt\n",
      "import matplotlib.cm as cm\n",
      "from __future__ import print_function"
     ],
     "language": "python",
     "metadata": {},
     "outputs": [],
     "prompt_number": 5
    },
    {
     "cell_type": "markdown",
     "metadata": {},
     "source": [
      "### 7.1 Generate sample"
     ]
    },
    {
     "cell_type": "code",
     "collapsed": false,
     "input": [
      "# Generate an image (2D) of random numbers given mu, sigma\n",
      "mu, sigma = 0, 15\n",
      "image = np.random.normal(loc=mu, scale=sigma, size=(20, 20))\n",
      "\n",
      "# Display the image w/ a colorbar\n",
      "sample = image\n",
      "fig, (ax, a_hist) = plt.subplots(1, 2, figsize=(18, 6))\n",
      "cax = ax.imshow(sample, cmap=cm.hot, interpolation='nearest')\n",
      "ax.set_xlabel('x')\n",
      "ax.set_ylabel('y')\n",
      "ax.set_title('$\\mu$={}, $\\sigma$={}, sample={}'.format(mu, sigma, image.size))\n",
      "fig.colorbar(cax, ax=ax)\n",
      "\n",
      "# Retrieve image plotting limits for later use\n",
      "im_min, im_max = cax.get_clim()\n",
      "\n",
      "\n",
      "# Set the number of bins based on binsize\n",
      "sample_min, sample_max = np.min(sample), np.max(sample)\n",
      "binsize = 1\n",
      "num_bins = np.int(np.floor((sample_max - sample_min) / binsize))\n",
      "\n",
      "print('{} bins needed based on input binsize of {}.'.format(num_bins, binsize))\n",
      "print('Sample min/max: [{} / {}]'.format(sample_min, sample_max))\n",
      "\n",
      "# Plot a histogram of the sample\n",
      "n, bins, patches = a_hist.hist(sample.flatten(), num_bins, lw=2., color='green')\n",
      "a_hist.set_xlabel('Sample')\n",
      "a_hist.set_ylabel('Frequency')\n",
      "a_hist.set_title('Full Sample')\n",
      "\n",
      "# Get histogram limits to include below\n",
      "hist_lim = a_hist.get_xlim()"
     ],
     "language": "python",
     "metadata": {},
     "outputs": [
      {
       "output_type": "stream",
       "stream": "stdout",
       "text": [
        "78 bins needed based on input binsize of 1.\n",
        "Sample min/max: [-39.4561735217 / 38.7065694052]\n"
       ]
      },
      {
       "metadata": {},
       "output_type": "display_data",
       "png": "[encoded data removed]",
       "text": [
        "<matplotlib.figure.Figure at 0x108245590>"
       ]
      }
     ],
     "prompt_number": 6
    },
    {
     "cell_type": "markdown",
     "metadata": {},
     "source": [
      "### 7.2 Apply Sigma Clipping"
     ]
    },
    {
     "cell_type": "code",
     "collapsed": false,
     "input": [
      "# Perform a sigma clip, given a sigma limit. > 3 should return the same array\n",
      "clipped_sample = sigma_clip(sample, sig=1, iters=None, copy=True)\n",
      "\n",
      "# Display clipped sample image\n",
      "fig, (ax1, ax2) = plt.subplots(1, 2, figsize=(18, 9))\n",
      "cax1 = ax1.imshow(sample, cmap=cm.hot, interpolation='nearest')\n",
      "ax1.set_title('Original Sample')\n",
      "fig.colorbar(cax1, ax=ax1, shrink=0.73)\n",
      "\n",
      "cax2 = ax2.imshow(clipped_sample, cmap=cm.hot, interpolation='nearest', vmin=im_min, vmax=im_max)\n",
      "ax2.set_title('Sigma Clipped Sample')\n",
      "fig.colorbar(cax2, ax=ax2, shrink=0.73)\n",
      "\n",
      "# Generate a new array without the clipped values...\n",
      "clipped_array = clipped_sample.compressed()\n",
      "        \n",
      "# Check for sample/clipped sample parity...\n",
      "if np.array_equal(sample.flatten(), clipped_array): \n",
      "    print('Arrays are exactly the same, no clipping occured!')\n",
      "else:\n",
      "    print('Clipping occured.')"
     ],
     "language": "python",
     "metadata": {},
     "outputs": [
      {
       "output_type": "stream",
       "stream": "stdout",
       "text": [
        "Clipping occured.\n"
       ]
      },
      {
       "metadata": {},
       "output_type": "display_data",
       "png": "[encoded data removed]",
       "text": [
        "<matplotlib.figure.Figure at 0x108277750>"
       ]
      }
     ],
     "prompt_number": 7
    },
    {
     "cell_type": "markdown",
     "metadata": {},
     "source": [
      "### 7.3 Display Clipped Image/Histogram"
     ]
    },
    {
     "cell_type": "code",
     "collapsed": false,
     "input": [
      "# Display the clipped image w/ a colorbar\n",
      "fig, (ax, a_hist) = plt.subplots(1, 2, figsize=(18, 6))\n",
      "cax = ax.imshow(clipped_sample.filled(fill_value=np.nan), cmap=cm.hot, interpolation='nearest', \n",
      "                vmin=im_min, vmax=im_max)\n",
      "ax.set_xlabel('x')\n",
      "ax.set_ylabel('y')\n",
      "ax.set_title('$\\mu$={}, $\\sigma$={}, sample={}'.format(mu, sigma, clipped_array.size))\n",
      "fig.colorbar(cax, ax=ax)\n",
      "\n",
      "# Set the number of bins based on binsize\n",
      "sample_min, sample_max = np.min(clipped_array), np.max(clipped_array)\n",
      "binsize = binsize\n",
      "num_bins = np.int(np.floor((sample_max - sample_min) / binsize))\n",
      "\n",
      "print('{} bins needed based on input binsize of {}.'.format(num_bins, binsize))\n",
      "print('Sample min/max: [{} / {}]'.format(sample_min, sample_max))\n",
      "\n",
      "# Plot a histogram of the sample\n",
      "n, bins, patches = a_hist.hist(clipped_array, num_bins, lw=2., color='cyan')\n",
      "a_hist.set_xlim(hist_lim)\n",
      "a_hist.set_xlabel('Sample')\n",
      "a_hist.set_ylabel('Frequency')\n",
      "a_hist.set_title('Clipped Sample')"
     ],
     "language": "python",
     "metadata": {},
     "outputs": [
      {
       "output_type": "stream",
       "stream": "stdout",
       "text": [
        "4 bins needed based on input binsize of 1.\n",
        "Sample min/max: [-2.73959819919 / 1.75033760008]\n"
       ]
      },
      {
       "metadata": {},
       "output_type": "pyout",
       "prompt_number": 8,
       "text": [
        "<matplotlib.text.Text at 0x1097c1950>"
       ]
      },
      {
       "metadata": {},
       "output_type": "display_data",
       "png": "[encoded data removed]",
       "text": [
        "<matplotlib.figure.Figure at 0x108cb4310>"
       ]
      }
     ],
     "prompt_number": 8
    },
    {
     "cell_type": "markdown",
     "metadata": {},
     "source": [
      "### 7.4 Selecting/Displaying Good/Bad Data"
     ]
    },
    {
     "cell_type": "code",
     "collapsed": false,
     "input": [
      "good = clipped_sample.data[~clipped_sample.mask]\n",
      "bad = clipped_sample.data[clipped_sample.mask]\n",
      "\n",
      "print('Retained Data, {} items:'.format(len(good)))\n",
      "print(good)\n",
      "print()\n",
      "print('Rejected Data, {} items:'.format(len(bad)))\n",
      "print(bad)"
     ],
     "language": "python",
     "metadata": {},
     "outputs": [
      {
       "output_type": "stream",
       "stream": "stdout",
       "text": [
        "Retained Data, 55 items:\n",
        "[-1.06156093  0.47210535  0.07947092  1.2935045   0.177536   -2.26415862\n",
        "  1.02050359 -1.32553418  1.54874064  0.00721666 -0.14853604 -1.10841555\n",
        "  1.64719399 -0.51047186  1.22080926 -1.95617242 -0.50389152 -0.32084598\n",
        " -2.59295535 -0.90122868 -0.67850378  0.39328516 -2.59741704 -0.2402365\n",
        " -2.24317399  0.4080564  -0.66788166 -2.7395982  -1.72095294  0.31457814\n",
        " -0.12297042  0.9711398   0.86938995 -2.55742724  0.39406097  0.79303848\n",
        "  0.38272687  1.7503376   0.54084044 -1.58124621 -2.58336829 -2.15824726\n",
        " -1.35059115 -0.41584366 -0.73014891 -2.07566296  1.56124832  1.11171056\n",
        " -2.27074925 -2.66858154 -0.61591115 -2.01186711 -1.67194714 -1.36380333\n",
        " -1.83662426]\n",
        "\n",
        "Rejected Data, 345 items:\n",
        "[ 12.98881614 -25.00431302   8.27640758  -7.53053909   8.74698898\n",
        "  17.6615425    5.45490858   3.00235933 -10.56200429  -8.22299526\n",
        "  18.16115627 -23.41365364 -15.83014974  21.06717487  -6.16244386\n",
        "  33.2797009    8.83625351 -18.82480592 -16.67062075  10.85494948\n",
        "  15.69040366 -18.70685379 -26.50797383  14.62699976 -28.48530058\n",
        "  -6.10364981  15.42973881  31.13015302  -6.29225228  10.27632519\n",
        "   8.56401628  13.84929606 -11.92195731  15.5713656    4.46754936\n",
        "  -9.79748696 -21.55420687 -20.39859376   4.60241368  20.28855744\n",
        "   8.67287828  13.61526527 -23.09044728 -20.42966375 -10.60429685\n",
        "  12.83158074 -12.91724278   4.08087709  25.45436333 -16.64821833\n",
        " -27.8795808    3.01797012   3.60203888 -24.82743324 -27.69026717\n",
        " -11.97198959  -8.39218618  -5.81788708  30.43689412 -13.29478689\n",
        "  -5.90836645  21.41103466  16.62683309  13.9694922    8.14849703\n",
        "  36.81685889  11.06527     -6.20076081 -11.30817833  16.43759436\n",
        "  -7.18727203  17.1106105   16.12334305  -9.82530524  -9.87714042\n",
        "  16.47420036  27.839107    17.47270519 -20.10795881 -22.79060832\n",
        "   4.12977372 -38.78234334   3.21981052   4.78580232  -6.66833467\n",
        "  14.0621426  -23.01635377  21.91552811  13.37323283   7.33835888\n",
        "  -5.0012115   26.98670786   6.86808556 -22.00891421 -13.02488948\n",
        "  24.043102    -3.90643785   4.18547763  20.45955649  -3.20409416\n",
        "  17.27324328 -38.26378942  -6.97758726 -15.24840872 -11.930403\n",
        " -14.26155565   5.32890826 -37.02645771 -10.64905869 -12.84639864\n",
        "  18.79887248 -14.79100313   7.02893928  -7.72548006  19.97840847\n",
        "   3.33252511   3.04470091  -3.43049533 -11.86757997  21.72180294\n",
        "  10.44236247   6.50702068  15.32447317  -4.95269503 -13.25650408\n",
        "  -8.30318814   9.93079034  12.26984638 -16.1129705   10.58999463\n",
        "  -7.32498984 -17.34981975   3.0262315  -32.38194822 -18.38586046\n",
        "   4.15432824 -24.93445358  11.20378583  -4.92579974  11.45394587\n",
        "   8.69001893  -7.05398263 -24.43036455  17.54565404  -8.12504488\n",
        " -10.06608427  10.4128012  -34.47799939  28.95419601 -26.1043354\n",
        " -10.5566971   19.26123732  29.80959405 -12.35409513  11.15537411\n",
        "  37.78347578  -7.0892811    6.66551873 -17.53900655 -17.90374622\n",
        " -23.98410143  13.12401942  -4.11846417 -26.97291757 -14.5413996\n",
        "  -3.58772617  -4.98154018  17.8249179  -27.17389639   2.94783417\n",
        "  12.65512546 -32.93286624   3.87037332 -12.32363133   5.58776457\n",
        "  23.44502076 -15.97824717  16.90274583   6.38386918 -10.64579634\n",
        "  35.01993602   4.66975529  -5.11406215 -12.91077933 -23.5331173\n",
        "   7.61269345 -13.22787031   7.31249899   3.48587094 -12.49040101\n",
        "  -4.50465701  25.17963319   3.38629071   5.39708254 -29.46322451\n",
        "  15.72847637 -11.32872712   8.31249483  24.43591896  11.48579483\n",
        " -22.07846149   5.48733734   5.41829643  11.61072902  38.70656941\n",
        "   4.0100707   -6.75007373  -4.6946703    7.74233806 -11.54018755\n",
        " -18.25326041  -3.66108605   5.72627265   7.57069247  15.57105264\n",
        "  15.01937553 -10.66230826   9.42071918   2.77356318  15.18277728\n",
        " -30.55632115   6.78634008  -4.47156169  14.69850897  13.62124149\n",
        "  13.45776843 -14.50104919   4.37038721 -13.56573251  24.88108869\n",
        "  16.02730645 -12.33829871  -5.27736792 -11.67003118 -19.32630953\n",
        " -26.9086775    8.59306656 -13.44214902  18.79612537  15.33895058\n",
        " -12.98577102  -7.69683542  -8.41420182  -6.24660527   7.89006757\n",
        "   7.41777796 -11.92510164  10.5728354   16.46124938  17.44060406\n",
        "  -5.74969009 -17.40293388   8.73087015  10.17260791 -17.55208102\n",
        "  -4.08519214   9.7158332   -7.91729876   5.22800163 -11.54026635\n",
        " -39.45617352  -9.21319616  11.16612538   9.52571057 -19.6906118\n",
        "  -3.10373885  27.88502199  14.45750724 -18.40185479   2.96546838\n",
        "  -3.25900725  -7.82356855  -4.07855747   9.79520667   2.73524165\n",
        " -12.50385522  -5.60766711  -9.06190322  -7.95346153  -4.35936842\n",
        " -22.35337075   3.17104964  -6.89557408  10.67128363  14.35357247\n",
        "  -8.72902569  20.90486275  -3.43560925 -27.01609733   2.30182136\n",
        "  -7.91647343  11.58100074   4.6446767  -26.04232394  10.11092551\n",
        "   2.08686623 -32.50438833  11.84381964  14.29506474  -6.34973113\n",
        "  13.65927447 -24.49390054 -25.55206445   6.33233601   8.45772099\n",
        "   5.43706938  -3.36465891 -28.02590257  -5.90232619  -9.17397337\n",
        " -10.01832487 -16.80032166   7.02920209  26.91852764 -21.50720347\n",
        "   2.46060333   7.21238004  -4.49651795  -6.49514386 -12.48250004\n",
        "  -8.96828084  30.78931381 -27.41565636  -4.13368345  -5.01288213\n",
        "  -9.05038327  -7.40273824  -7.26940585  19.79984449   5.24222031\n",
        "  13.85262109 -16.02271943  10.16069015  33.1439112   17.12941152\n",
        "  12.93807837 -19.09035839  -9.17881028  10.51169146   7.48684473\n",
        "   4.75444468  11.60903908  18.66254631 -11.47113053   6.95505004]\n"
       ]
      }
     ],
     "prompt_number": 9
    },
    {
     "cell_type": "code",
     "collapsed": false,
     "input": [
      "test = clipped_sample.nonzero()\n",
      "boosted = np.copy(sample)\n",
      "boosted[test] = boosted[test]*100\n",
      "\n",
      "print('Original Data:')\n",
      "print(clipped_sample[0, :].data)\n",
      "print()\n",
      "print('Clipped Data:')\n",
      "print(clipped_sample[0, :])\n",
      "print()\n",
      "print('Boosted Data (only to non-clipped):')\n",
      "print(boosted[0, :])\n",
      "print()"
     ],
     "language": "python",
     "metadata": {},
     "outputs": [
      {
       "output_type": "stream",
       "stream": "stdout",
       "text": [
        "Original Data:\n",
        "[ 12.98881614 -25.00431302   8.27640758  -7.53053909   8.74698898\n",
        "  17.6615425    5.45490858   3.00235933 -10.56200429  -8.22299526\n",
        "  -1.06156093  18.16115627 -23.41365364 -15.83014974  21.06717487\n",
        "  -6.16244386  33.2797009    8.83625351 -18.82480592 -16.67062075]\n",
        "\n",
        "Clipped Data:\n",
        "[-- -- -- -- -- -- -- -- -- -- -1.0615609342831724 -- -- -- -- -- -- -- --\n",
        " --]\n",
        "\n",
        "Boosted Data (only to non-clipped):\n",
        "[  12.98881614  -25.00431302    8.27640758   -7.53053909    8.74698898\n",
        "   17.6615425     5.45490858    3.00235933  -10.56200429   -8.22299526\n",
        " -106.15609343   18.16115627  -23.41365364  -15.83014974   21.06717487\n",
        "   -6.16244386   33.2797009     8.83625351  -18.82480592  -16.67062075]\n",
        "\n"
       ]
      }
     ],
     "prompt_number": 10
    },
    {
     "cell_type": "markdown",
     "metadata": {},
     "source": [
      "### 7.5 Generate an array w/o clipped values (omitting clipped values?)\n",
      "\n",
      "As an example, amplify only the retained values after sigma clipping...  \n",
      "Here, I am only trying to boost the pixels that have been retained after the sigma clip procedure."
     ]
    },
    {
     "cell_type": "code",
     "collapsed": false,
     "input": [
      "#amped_array = 100 * clipped_sample[~clipped_sample.mask].data\n",
      "test = clipped_sample.nonzero()\n",
      "amped_array = clipped_sample.data[test] * 100.\n",
      "\n",
      "\n",
      "print(clipped_sample.min(), clipped_sample.max())\n",
      "print(amped_array.min(), amped_array.max())\n",
      "print(sample.min(), sample.max())\n",
      "print()\n",
      "print(type(amped_array), amped_array.shape)"
     ],
     "language": "python",
     "metadata": {},
     "outputs": [
      {
       "output_type": "stream",
       "stream": "stdout",
       "text": [
        "-2.73959819919 1.75033760008\n",
        "-273.959819919 175.033760008\n",
        "-39.4561735217 38.7065694052\n",
        "\n",
        "<type 'numpy.ndarray'> (55,)\n"
       ]
      }
     ],
     "prompt_number": 11
    },
    {
     "cell_type": "code",
     "collapsed": false,
     "input": [
      "slc = 0\n",
      "print('Original Sample:')\n",
      "print(sample[slc, :])\n",
      "print()\n",
      "print('Clipped Array:')\n",
      "print(clipped_sample[slc, :])\n",
      "print()\n",
      "print('Clipped Array Mask:')\n",
      "print(clipped_sample.mask[slc, :])\n",
      "print()\n",
      "print('Amped Array:')\n",
      "amped_array.shape\n",
      "#print(amped_array[slc, :])"
     ],
     "language": "python",
     "metadata": {},
     "outputs": [
      {
       "output_type": "stream",
       "stream": "stdout",
       "text": [
        "Original Sample:\n",
        "[ 12.98881614 -25.00431302   8.27640758  -7.53053909   8.74698898\n",
        "  17.6615425    5.45490858   3.00235933 -10.56200429  -8.22299526\n",
        "  -1.06156093  18.16115627 -23.41365364 -15.83014974  21.06717487\n",
        "  -6.16244386  33.2797009    8.83625351 -18.82480592 -16.67062075]\n",
        "\n",
        "Clipped Array:\n",
        "[-- -- -- -- -- -- -- -- -- -- -1.0615609342831724 -- -- -- -- -- -- -- --\n",
        " --]\n",
        "\n",
        "Clipped Array Mask:\n",
        "[ True  True  True  True  True  True  True  True  True  True False  True\n",
        "  True  True  True  True  True  True  True  True]\n",
        "\n",
        "Amped Array:\n"
       ]
      },
      {
       "metadata": {},
       "output_type": "pyout",
       "prompt_number": 12,
       "text": [
        "(55,)"
       ]
      }
     ],
     "prompt_number": 12
    },
    {
     "cell_type": "code",
     "collapsed": false,
     "input": [],
     "language": "python",
     "metadata": {},
     "outputs": []
    },
    {
     "cell_type": "code",
     "collapsed": false,
     "input": [],
     "language": "python",
     "metadata": {},
     "outputs": []
    },
    {
     "cell_type": "code",
     "collapsed": false,
     "input": [],
     "language": "python",
     "metadata": {},
     "outputs": []
    },
    {
     "cell_type": "code",
     "collapsed": false,
     "input": [],
     "language": "python",
     "metadata": {},
     "outputs": []
    },
    {
     "cell_type": "code",
     "collapsed": false,
     "input": [],
     "language": "python",
     "metadata": {},
     "outputs": []
    },
    {
     "cell_type": "markdown",
     "metadata": {},
     "source": [
      "## Spectrum Extraction"
     ]
    },
    {
     "cell_type": "code",
     "collapsed": false,
     "input": [],
     "language": "python",
     "metadata": {},
     "outputs": []
    },
    {
     "cell_type": "code",
     "collapsed": false,
     "input": [],
     "language": "python",
     "metadata": {},
     "outputs": []
    },
    {
     "cell_type": "markdown",
     "metadata": {},
     "source": [
      "# Development Scrap Heap\n",
      "------------------------"
     ]
    },
    {
     "cell_type": "code",
     "collapsed": false,
     "input": [
      "from __future__ import print_function\n",
      "import numpy as np"
     ],
     "language": "python",
     "metadata": {},
     "outputs": []
    },
    {
     "cell_type": "code",
     "collapsed": false,
     "input": [
      "x = 10\n",
      "print(type(x))\n",
      "y = np.array([x])\n",
      "print(type(y))\n",
      "print()\n",
      "\n",
      "print('Shape: ', y.shape)\n",
      "\n",
      "if y.shape == (1,): print(\"It's TRUE!!!\")"
     ],
     "language": "python",
     "metadata": {},
     "outputs": []
    },
    {
     "cell_type": "code",
     "collapsed": false,
     "input": [
      "%pylab inline\n",
      "import matplotlib.pyplot as plt\n",
      "\n",
      "test_image = np.arange(5*5).reshape(5, 5)\n",
      "test_cube = np.arange(10*5*5).reshape(10,5,5)\n",
      "\n",
      "fig, ax = plt.subplots(figsize=(3, 3))\n",
      "ax.imshow(test_image, vmin=0, vmax=250, interpolation='nearest')\n",
      "\n",
      "fig, ax = plt.subplots(figsize=(3, 3))\n",
      "ax.imshow(test_cube[9, :, :], vmin=0, vmax=250, interpolation='nearest')\n",
      "\n",
      "final = test_cube - test_image\n",
      "print(test_image.shape)\n",
      "print(test_cube.shape)\n",
      "print(final.shape)\n",
      "\n",
      "print('Test Image')\n",
      "print(test_image)\n",
      "print('Test Cube')\n",
      "print(test_cube)\n",
      "print('Final')\n",
      "print(final)\n",
      "\n",
      "fig, ax = plt.subplots(figsize=(3, 3))\n",
      "ax.imshow(final[9, :, :], vmin=0, vmax=250, interpolation='nearest')"
     ],
     "language": "python",
     "metadata": {},
     "outputs": []
    },
    {
     "cell_type": "code",
     "collapsed": false,
     "input": [],
     "language": "python",
     "metadata": {},
     "outputs": []
    },
    {
     "cell_type": "code",
     "collapsed": false,
     "input": [
      "import numpy as np\n",
      "\n",
      "array1D = np.arange(10)\n",
      "array2D = np.arange(3*3).reshape(3, 3)\n",
      "array3D = np.arange(3*3*3).reshape(3, 3, 3)\n",
      "\n",
      "print(array1D.ndim)\n",
      "print(array2D.ndim)\n",
      "print(array3D.ndim)\n",
      "\n",
      "if array3D.ndim == 3: print('True!')"
     ],
     "language": "python",
     "metadata": {},
     "outputs": []
    },
    {
     "cell_type": "code",
     "collapsed": false,
     "input": [],
     "language": "python",
     "metadata": {},
     "outputs": []
    },
    {
     "cell_type": "code",
     "collapsed": false,
     "input": [
      "operator = 5\n",
      "\n",
      "try:\n",
      "    print(np.shape(operator))\n",
      "    print(operator = np.array([operator]))  \n",
      "except TypeError:\n",
      "    print('Operator needs to be an integer!')\n",
      "\n",
      "#if type(operator) == int or type(operator) == float: operator = np.array([operator])\n",
      "print('The operator dimensions are: {}'.format(np.shape(operator)))\n"
     ],
     "language": "python",
     "metadata": {},
     "outputs": []
    },
    {
     "cell_type": "code",
     "collapsed": false,
     "input": [
      "operator = [4, 3, 7.3]\n",
      "#print(np.shape(operator))\n",
      "test = int(operator)\n",
      "print(test)"
     ],
     "language": "python",
     "metadata": {},
     "outputs": []
    },
    {
     "cell_type": "code",
     "collapsed": false,
     "input": [
      "import numpy as np\n",
      "test1 = np.arange(12).reshape(4, 3)\n",
      "test2 = np.arange(16).reshape(4, 4)\n",
      "test3 = np.arange(5*4*3).reshape(5, 4, 3)\n",
      "test4 = np.arange(5*3*4).reshape(5, 3, 4)\n",
      "\n",
      "print(test1)\n",
      "print(test2)\n",
      "print()\n",
      "print(test3)\n",
      "print()\n"
     ],
     "language": "python",
     "metadata": {},
     "outputs": []
    },
    {
     "cell_type": "code",
     "collapsed": false,
     "input": [
      "print(test1.shape[1], test2.shape[0])"
     ],
     "language": "python",
     "metadata": {},
     "outputs": []
    },
    {
     "cell_type": "code",
     "collapsed": false,
     "input": [
      "print(test3.shape)"
     ],
     "language": "python",
     "metadata": {},
     "outputs": []
    },
    {
     "cell_type": "code",
     "collapsed": false,
     "input": [
      "test3 = np.arange(5*4*3).reshape(5, 4, 3)\n",
      "test4 = np.arange(5*3*4).reshape(5, 4, 3)\n",
      "\n",
      "if test3.shape == test4.shape: print('They are the same dimensions!')"
     ],
     "language": "python",
     "metadata": {},
     "outputs": []
    },
    {
     "cell_type": "code",
     "collapsed": false,
     "input": [
      "from astropy.io import fits\n",
      "galaxy_file = './data/m101_blue.fits'\n",
      "galaxy = fits.getdata(galaxy_file)\n",
      "galaxy.shape"
     ],
     "language": "python",
     "metadata": {},
     "outputs": []
    },
    {
     "cell_type": "code",
     "collapsed": false,
     "input": [
      "import numpy as np\n",
      "#test_mask = np.ones(5*5*3).reshape(5, 5, 3)\n",
      "test_mask = np.arange(5*5*3).reshape(5, 5, 3)\n",
      "print(test_mask)\n",
      "\n",
      "#x, y = np.arange(test_mask.shape[2]), np.arange(test_mask.shape[1])"
     ],
     "language": "python",
     "metadata": {},
     "outputs": []
    },
    {
     "cell_type": "code",
     "collapsed": false,
     "input": [
      "x, y = np.arange(test_mask.shape[2]), np.arange(test_mask.shape[1])\n",
      "print(x, y)\n",
      "print(test_mask[0, x, x])"
     ],
     "language": "python",
     "metadata": {},
     "outputs": []
    },
    {
     "cell_type": "code",
     "collapsed": false,
     "input": [
      "spect = np.array(([2,1,3,4,5,6,76,3,6,5,7,8,7]))\n",
      "print(spect.ndim)\n",
      "print(spect.shape)\n",
      "\n",
      "if spect.ndim == 1 and spect.shape[0] > 1: print('True!')"
     ],
     "language": "python",
     "metadata": {},
     "outputs": []
    },
    {
     "cell_type": "code",
     "collapsed": false,
     "input": [
      "test_array = np.zeros(5*4*3).reshape(5, 4, 3)\n",
      "\n",
      "t_dims = test_array.shape\n",
      "print(t_dims)\n",
      "\n",
      "mirror_array = np.empty(t_dims)\n",
      "print(mirror_array.shape)\n",
      "\n",
      "spec_test = np.array(([1, 2, 3, 4, 5]))\n",
      "print(spec_test.shape)\n",
      "print(spec_test)\n",
      "print(test_array)"
     ],
     "language": "python",
     "metadata": {},
     "outputs": []
    },
    {
     "cell_type": "code",
     "collapsed": false,
     "input": [
      "mirror_array = np.empty(t_dims)\n",
      "print(mirror_array.shape)\n",
      "\n",
      "for ii in np.arange(t_dims[0]):\n",
      "    mirror_array[ii, :, :] = spec_test[ii]\n",
      "    \n",
      "print(mirror_array)    "
     ],
     "language": "python",
     "metadata": {},
     "outputs": []
    },
    {
     "cell_type": "code",
     "collapsed": false,
     "input": [
      "i = 2\n",
      "j = 3\n",
      "k = 4\n",
      "a = numpy.arange(k)\n",
      "b = numpy.empty((i, j, k))\n",
      "b[:] = a\n",
      "print(b)\n",
      "print(a, a.shape)"
     ],
     "language": "python",
     "metadata": {},
     "outputs": []
    },
    {
     "cell_type": "code",
     "collapsed": false,
     "input": [
      "print(t_dims[::-1])"
     ],
     "language": "python",
     "metadata": {},
     "outputs": []
    },
    {
     "cell_type": "code",
     "collapsed": false,
     "input": [
      "print(np.tile(spec_test[::],t_dims[1]*t_dims[2]))#.reshape(t_dims))"
     ],
     "language": "python",
     "metadata": {},
     "outputs": []
    },
    {
     "cell_type": "code",
     "collapsed": false,
     "input": [
      "sigma=2\n",
      "\n",
      "if sigma: print('SIGMA!!!')"
     ],
     "language": "python",
     "metadata": {},
     "outputs": []
    },
    {
     "cell_type": "code",
     "collapsed": false,
     "input": [],
     "language": "python",
     "metadata": {},
     "outputs": []
    },
    {
     "cell_type": "code",
     "collapsed": false,
     "input": [
      "from astropy.stats import sigma_clip\n",
      "from numpy.random import randn\n",
      "randvar = randn(10000)\n",
      "data = sigma_clip(randvar, 1, 1)\n",
      "\n",
      "print(randvar.shape)\n",
      "print(data.shape)\n",
      "\n",
      "print(randvar.min(), randvar.max())\n",
      "print(data.min(), data.max())"
     ],
     "language": "python",
     "metadata": {},
     "outputs": []
    },
    {
     "cell_type": "code",
     "collapsed": false,
     "input": [],
     "language": "python",
     "metadata": {},
     "outputs": []
    },
    {
     "cell_type": "code",
     "collapsed": false,
     "input": [],
     "language": "python",
     "metadata": {},
     "outputs": []
    },
    {
     "cell_type": "markdown",
     "metadata": {},
     "source": [
      "3D Collapse\n",
      "==========="
     ]
    },
    {
     "cell_type": "code",
     "collapsed": false,
     "input": [],
     "language": "python",
     "metadata": {},
     "outputs": []
    },
    {
     "cell_type": "code",
     "collapsed": false,
     "input": [
      "reload(ifu3c)"
     ],
     "language": "python",
     "metadata": {},
     "outputs": []
    },
    {
     "cell_type": "code",
     "collapsed": false,
     "input": [
      "%pylab inline"
     ],
     "language": "python",
     "metadata": {},
     "outputs": []
    },
    {
     "cell_type": "code",
     "collapsed": false,
     "input": [],
     "language": "python",
     "metadata": {},
     "outputs": []
    },
    {
     "cell_type": "code",
     "collapsed": false,
     "input": [],
     "language": "python",
     "metadata": {},
     "outputs": []
    },
    {
     "cell_type": "code",
     "collapsed": false,
     "input": [
      "from ifu_3d_collapse import *\n",
      "import numpy as np\n",
      "from astropy.io import fits\n",
      "import matplotlib.pyplot as plt\n",
      "import matplotlib.cm as cm"
     ],
     "language": "python",
     "metadata": {},
     "outputs": []
    },
    {
     "cell_type": "code",
     "collapsed": false,
     "input": [
      "array1D = np.arange(10)\n",
      "array2D = np.arange(3*3).reshape(3, 3)\n",
      "array3D = np.arange(3*3*3).reshape(3, 3, 3)\n",
      "\n",
      "image_file = './data/2d_Eagle.fits'\n",
      "cube_file = './data/Eagle_final_m96_m93_m83_m65.fits'\n",
      "galaxy_file = './data/m101_blue.fits'\n",
      "\n",
      "image = fits.getdata(image_file)\n",
      "cube = fits.getdata(cube_file)\n",
      "galaxy = fits.getdata(galaxy_file)\n",
      "\n",
      "cube = np.nan_to_num(cube)\n",
      "spectrum = cube[:, 9, 75]"
     ],
     "language": "python",
     "metadata": {},
     "outputs": []
    },
    {
     "cell_type": "code",
     "collapsed": false,
     "input": [
      "collapsed = ifu3c.ifu_3d_collapse(ifu3c.cube, sect=[3341,3371], method='mean', sigma=2)\n",
      "fig, (ax1, ax2) = plt.subplots(2, 1, figsize=(12, 6))\n",
      "ax1.imshow(collapsed, vmin=-10, vmax=10, cmap=cm.hot, interpolation='nearest')\n",
      "ax2.imshow(ifu3c.cube[3358, :, :], vmin=-10, vmax=10, cmap=cm.hot, interpolation='nearest')\n",
      "\n",
      "print()\n",
      "print(collapsed.min(), collapsed.max())\n",
      "print(ifu3c.cube[3358, :, :].min(), ifu3c.cube[3358, :, :].max())"
     ],
     "language": "python",
     "metadata": {},
     "outputs": []
    },
    {
     "cell_type": "code",
     "collapsed": false,
     "input": [
      "collapsed = ifu3c.ifu_3d_collapse(ifu3c.cube, sect=[3341,3371], method='median', sigma=2)\n",
      "fig, (ax1, ax2) = plt.subplots(2, 1, figsize=(12, 6))\n",
      "ax1.imshow(collapsed, vmin=-10, vmax=10, cmap=cm.hot, interpolation='nearest')\n",
      "ax2.imshow(ifu3c.cube[3358, :, :], vmin=-10, vmax=10, cmap=cm.hot, interpolation='nearest')\n",
      "\n",
      "print()\n",
      "print(collapsed.min(), collapsed.max())\n",
      "print(ifu3c.cube[3358, :, :].min(), ifu3c.cube[3358, :, :].max())"
     ],
     "language": "python",
     "metadata": {},
     "outputs": []
    },
    {
     "cell_type": "code",
     "collapsed": false,
     "input": [],
     "language": "python",
     "metadata": {},
     "outputs": []
    },
    {
     "cell_type": "code",
     "collapsed": false,
     "input": [
      "import astropy"
     ],
     "language": "python",
     "metadata": {},
     "outputs": []
    },
    {
     "cell_type": "code",
     "collapsed": false,
     "input": [
      "astropy.__version__"
     ],
     "language": "python",
     "metadata": {},
     "outputs": []
    },
    {
     "cell_type": "code",
     "collapsed": false,
     "input": [],
     "language": "python",
     "metadata": {},
     "outputs": []
    },
    {
     "cell_type": "code",
     "collapsed": false,
     "input": [
      "import numpy as np\n",
      "from astropy.stats.funcs import sigma_clip\n",
      "cube1 = np.random.rand(4, 5, 5)\n",
      "cube2 = np.random.rand(4, 5, 5)\n",
      "last_cube = sigma_clip(cube1, 2, iters=None, axis=0)"
     ],
     "language": "python",
     "metadata": {},
     "outputs": []
    },
    {
     "cell_type": "code",
     "collapsed": false,
     "input": [
      "print cube1\n",
      "print\n",
      "#print cube2\n",
      "print\n",
      "print last_cube\n",
      "print np.array_equal(cube1, last_cube)\n",
      "print type(last_cube)\n",
      "print type(cube1)"
     ],
     "language": "python",
     "metadata": {},
     "outputs": []
    },
    {
     "cell_type": "code",
     "collapsed": false,
     "input": [
      "last_cube"
     ],
     "language": "python",
     "metadata": {},
     "outputs": []
    },
    {
     "cell_type": "code",
     "collapsed": false,
     "input": [
      "%reset"
     ],
     "language": "python",
     "metadata": {},
     "outputs": []
    },
    {
     "cell_type": "code",
     "collapsed": false,
     "input": [
      "from ifu_3d_collapse import *"
     ],
     "language": "python",
     "metadata": {},
     "outputs": []
    },
    {
     "cell_type": "code",
     "collapsed": false,
     "input": [
      "print(spectrum)"
     ],
     "language": "python",
     "metadata": {},
     "outputs": []
    },
    {
     "cell_type": "code",
     "collapsed": false,
     "input": [
      "xaxis = np.arange(2040)\n",
      "print(xaxis[::500])"
     ],
     "language": "python",
     "metadata": {},
     "outputs": []
    },
    {
     "cell_type": "code",
     "collapsed": false,
     "input": [],
     "language": "python",
     "metadata": {},
     "outputs": []
    },
    {
     "cell_type": "code",
     "collapsed": false,
     "input": [],
     "language": "python",
     "metadata": {},
     "outputs": []
    },
    {
     "cell_type": "code",
     "collapsed": false,
     "input": [],
     "language": "python",
     "metadata": {},
     "outputs": []
    },
    {
     "cell_type": "code",
     "collapsed": false,
     "input": [],
     "language": "python",
     "metadata": {},
     "outputs": []
    },
    {
     "cell_type": "code",
     "collapsed": false,
     "input": [],
     "language": "python",
     "metadata": {},
     "outputs": [],
     "prompt_number": 193
    },
    {
     "cell_type": "code",
     "collapsed": false,
     "input": [],
     "language": "python",
     "metadata": {},
     "outputs": [],
     "prompt_number": 193
    },
    {
     "cell_type": "code",
     "collapsed": false,
     "input": [],
     "language": "python",
     "metadata": {},
     "outputs": [],
     "prompt_number": 188
    },
    {
     "cell_type": "code",
     "collapsed": false,
     "input": [],
     "language": "python",
     "metadata": {},
     "outputs": [],
     "prompt_number": 193
    },
    {
     "cell_type": "code",
     "collapsed": false,
     "input": [],
     "language": "python",
     "metadata": {},
     "outputs": [],
     "prompt_number": 193
    },
    {
     "cell_type": "code",
     "collapsed": false,
     "input": [],
     "language": "python",
     "metadata": {},
     "outputs": [],
     "prompt_number": 190
    },
    {
     "cell_type": "code",
     "collapsed": false,
     "input": [],
     "language": "python",
     "metadata": {},
     "outputs": [],
     "prompt_number": 193
    },
    {
     "cell_type": "code",
     "collapsed": false,
     "input": [],
     "language": "python",
     "metadata": {},
     "outputs": [],
     "prompt_number": 193
    },
    {
     "cell_type": "code",
     "collapsed": false,
     "input": [
      "print(result.data)\n",
      "print()\n",
      "print(clipped.data)"
     ],
     "language": "python",
     "metadata": {},
     "outputs": [
      {
       "output_type": "stream",
       "stream": "stdout",
       "text": [
        "[[ 0.          0.          0.          0.          0.        ]\n",
        " [ 0.          3.90229071  0.          0.          0.        ]\n",
        " [ 0.          0.          0.          0.          0.        ]\n",
        " [ 0.         -9.02608425  0.          0.          0.        ]\n",
        " [ 0.          0.          0.          0.50614518  0.        ]]\n",
        "\n",
        "[[[ 24.27335379  13.95843364  -0.24317047  11.18823726 -19.24836362]\n",
        "  [ 23.78844404  10.28474936  -2.90788638  10.60302986 -26.77287576]\n",
        "  [ 10.19762497 -32.31410403   9.01980685 -10.53703475   6.13460391]\n",
        "  [ -2.87542202 -16.77873125 -17.64756096  -2.03671776   5.97455888]\n",
        "  [ -1.17463344  12.78429959 -11.60412575  -3.95773051 -22.30967049]]\n",
        "\n",
        " [[ 19.90542512  -4.30860219 -21.89247386  11.96668384  19.24122694]\n",
        "  [ -2.18932505   8.22765343 -16.52388644   4.26288557  16.62295008]\n",
        "  [-18.50241303   5.53625919 -15.29812023  -2.01722272 -15.28342995]\n",
        "  [ 18.35314173 -31.59778253  -0.71037526   6.76628519 -14.76897643]\n",
        "  [  4.2362046   25.59643361  -9.41631819 -13.4432421    4.24765585]]\n",
        "\n",
        " [[ -0.90530249   9.2383049    0.11220924   8.01882235  27.53407077]\n",
        "  [ -8.98271527   3.90229071  21.49693056 -17.02336183  16.30124875]\n",
        "  [ 23.68191634  32.85153679 -21.64323289  -4.81529882  18.07182739]\n",
        "  [-12.35258045  -9.02608425 -13.44520958  11.78512911   6.43614556]\n",
        "  [  7.1051098    1.3414957    1.5336662    0.50614518 -13.34901492]]\n",
        "\n",
        " [[  9.18270948  -5.53227793  11.99661064  19.19298755  -7.25537048]\n",
        "  [ 17.34715355 -10.48984922  28.8296148    5.52808281 -22.92242373]\n",
        "  [ -8.06797182  16.1780312   -2.45241675  -4.98401989  30.73936011]\n",
        "  [ 28.09012171  -6.53593417 -16.93153703  15.23282546   5.90689639]\n",
        "  [-12.63315032  11.54664987  -4.63494588  18.82105624   8.24236676]]\n",
        "\n",
        " [[  2.80902544 -24.79597558 -14.98854836   6.41562178  10.87806781]\n",
        "  [ 18.64972966 -12.85936416   2.4337891    5.21931785   6.08844775]\n",
        "  [ -6.45059789  24.34543928  -7.67077094 -13.43141025   8.7675378 ]\n",
        "  [  2.68918246   2.64641402 -21.65165871   8.30951308 -25.62824484]\n",
        "  [-23.93727479  20.50690896   9.22328245  14.7384285    9.08605981]]]\n"
       ]
      }
     ],
     "prompt_number": 193
    },
    {
     "cell_type": "code",
     "collapsed": false,
     "input": [],
     "language": "python",
     "metadata": {},
     "outputs": []
    }
   ],
   "metadata": {}
  }
 ]
}